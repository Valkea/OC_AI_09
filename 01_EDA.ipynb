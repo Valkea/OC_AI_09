{
 "cells": [
  {
   "cell_type": "markdown",
   "id": "6e00ee97-7595-4929-8daf-b8a698a85794",
   "metadata": {},
   "source": [
    "# Menu <a class=\"anchor\" id=\"menu\"></a>\n",
    "\n",
    "* [1. Les systèmes de recommandation](#intro)\n",
    "* [2. Analyses exploratoires de `articles_metadata.csv`](#articles_metadata)\n",
    "* [3. Analyses exploratoires de `clicks_hour_xxx.csv`](#clicks_hour)\n",
    "* [4. Préparation du jeu de données de travail](#dataset)\n",
    "    * [4.1 Fusion de `articles_metadata.csv` et `clicks_hour_xxx.csv`](#dataset_merge)\n",
    "    * [4.2 Nettoyage du jeu de données](#dataset_clean)\n",
    "    * [4.3 Conception d'une feature de scoring](#dataset_score)"
   ]
  },
  {
   "cell_type": "markdown",
   "id": "f614f7c4-e206-4ace-a37e-2ec2d7ab702a",
   "metadata": {
    "tags": []
   },
   "source": [
    "# Préparatifs "
   ]
  },
  {
   "cell_type": "code",
   "execution_count": 1,
   "id": "1b35bf2f-117f-455d-a295-712a426030c0",
   "metadata": {},
   "outputs": [],
   "source": [
    "import pickle\n",
    "import datetime\n",
    "\n",
    "import pandas as pd\n",
    "import numpy as np\n",
    "\n",
    "import matplotlib.pyplot as plt\n",
    "import seaborn as sns\n",
    "from statsmodels.graphics.gofplots import qqplot\n",
    "from scipy.stats import norm  #, uniform\n",
    "\n",
    "random_seed = 0\n",
    "np.random.seed(random_seed)"
   ]
  },
  {
   "cell_type": "code",
   "execution_count": 2,
   "id": "c58721f9-a984-401a-bf9b-e1e09167c998",
   "metadata": {},
   "outputs": [],
   "source": [
    "def plot_bars(data_, title, labels_modulo=1, labels_rotation=90, show_values=True, log_scale=False, show_grid=False, x_label=None, y_label=\"Nombre d'articles\"):\n",
    "\n",
    "    fig = plt.figure(figsize=(15, 4))\n",
    "    ax = sns.barplot(data=data_)\n",
    "    if show_values:\n",
    "        ax.bar_label(ax.containers[0])\n",
    "    if log_scale:\n",
    "        ax.set_yscale('log')\n",
    "    if show_grid:\n",
    "        plt.grid(visible=True, which='major', axis='y')\n",
    "    new_ticks = [i.get_text() for i in ax.get_xticklabels()]\n",
    "    plt.xticks(range(0, len(new_ticks), labels_modulo), new_ticks[::labels_modulo], rotation=labels_rotation)\n",
    "    plt.ylabel(y_label)\n",
    "    plt.xlabel(x_label)\n",
    "    plt.title(title)\n",
    "    plt.show()"
   ]
  },
  {
   "cell_type": "code",
   "execution_count": 3,
   "id": "a76ced42-c7b1-4b79-8f4d-801e85c2416c",
   "metadata": {
    "tags": []
   },
   "outputs": [],
   "source": [
    "def explore_quantitative(data, col_name):\n",
    "    dt = data[col_name]\n",
    "    print(f'----- UNIVARIATE ANALYSIS for \"{col_name}\" -----\\n',dt.describe(),'\\n', sep='\\n')\n",
    "\n",
    "    fig = plt.figure(figsize=(15, 8))\n",
    "\n",
    "    ax = plt.subplot(2, 2, 1)\n",
    "    sns.boxplot(x=dt[dt.notnull()])\n",
    "    plt.title(f\"Boxplot for '{col_name}'\")\n",
    "\n",
    "    ax = plt.subplot(2, 2, 2)\n",
    "    sns.kdeplot(dt, color='red')\n",
    "    plt.title(f\"Density plot for '{col_name}'\")\n",
    "\n",
    "    ax = plt.subplot(2, 2, 4)\n",
    "    ax.set_title(f\"QQplot for {col_name}\")\n",
    "    qqplot(data[data[col_name].notnull()][col_name], norm, fit=True, line=\"45\", ax=ax)\n",
    "\n",
    "    ###  Missing\n",
    "    total_size = data.shape[0]\n",
    "    total_size_nonull = data[col_name].notnull().sum()\n",
    "    total_size_null = data[col_name].isnull().sum()\n",
    "    percent_v = 100/total_size*total_size_null\n",
    "\n",
    "    ax = plt.subplot(2, 2, 3)\n",
    "    plt.pie(list([total_size_null, total_size_nonull]), labels=[\"\", \"\"], autopct=lambda x: f\"{x:.2f}%\", shadow=False)\n",
    "    plt.title(f\"Distribution between rows with and without '{col_name}' values\")\n",
    "    plt.legend([\"MISSING\"], loc='lower center', bbox_to_anchor=(0, 0))\n",
    "\n",
    "    fig.tight_layout()\n",
    "    plt.show()\n",
    "\n",
    "    print(f\"'{col_name}' is missing {total_size_null} over {total_size} ({percent_v:.2f}%)\")"
   ]
  },
  {
   "cell_type": "markdown",
   "id": "6f416446-56a0-4bef-8ef5-dffdffc4b689",
   "metadata": {},
   "source": [
    "---\n",
    "---\n",
    "# 1. Les sytèmes de recommandation <a class=\"anchor\" id=\"intro\"></a> [⇪](#menu)\n",
    "\n",
    "> Le but des systèmes de recommandation est de chercher des similarités entre utilisateurs ou éléments à recommander (livres, films, articles, vétements...) sur la base d'indicateurs permettant de définir de manière implicite ou explicite le degré de satisfaction lié à ces éléments. Une fois les éléments similaires identifiés, on peut recommander les X premiers ou tirer au hasard dans les X premiers etc.\n",
    "\n",
    "<img src='medias/recommender_matrix.png' width=700>\n",
    "\n",
    "> ### Dans les systèmes de recommandation, on a 3 approches généralement admises:\n",
    "> 1. Collaborative Filtering\n",
    "> 2. Content-based Filtering\n",
    "> 3. Hybrid recommenders\n",
    "\n",
    "<img src='medias/collaborative_vs_content_filtering.png' width=700>\n",
    "\n",
    "> **Collaborative Filtering**<br>\n",
    "> Le filtrage collaboratif est un ensemble de méthodes qui se basent uniquement sur *les interactions entre les utilisateurs et les éléments* qui ont été enregistrées, afin de produire de nouvelles recommandations.<br>\n",
    "> <img src='medias/collaborative_filtering.png' width=700>\n",
    ">\n",
    "> 1. **Memory Based**\n",
    ">    * **User-based or user-user collaborative filtering**<br>\n",
    ">        Dans cette approche, la matrice d'évaluation *(rating matrix)* est utilisée pour trouver des **utilisateurs** similaires sur la base des évaluations qu'ils ont donné.<br>\n",
    ">        L'un des algorithmes possible dans ce cas est le *Centered-KNN* *(KNNWithMeans)*\n",
    ">    * **Item-based or item-item collaborative filtering**<br>\n",
    ">        Dans cette approche, la matrice d'évaluation *(rating matrix)* est utilisée pour trouver des **articles** similaires sur la base des évaluations que leur attribuent les utilisateurs.<br>\n",
    ">        L'un des algorithmes possible dans ce cas est le *Centered-KNN* *(KNNWithMeans)*<br><br>\n",
    "> 2. **Model Based**\n",
    ">    * **Matrix factorization**<br>\n",
    ">        cette approche qui est la principale solution des model based, peut être considéré comme la décomposition d'une grande matrice en un produit de plus petites matrices. Le nombre de ces facteurs peut aller de un à des centaines, voire des milliers.<br>\n",
    ">        Le nombre de facteurs latents est l'un des éléments qui doivent être optimisés pendant la formation du modèle. <br>\n",
    ">        Le nombre de facteurs latents affecte les recommandations d'une manière telle que plus le nombre de facteurs est élevé, plus les recommandations sont personnalisées. Mais un trop grand nombre de facteurs peut conduire à un surajustement du modèle.\n",
    ">\n",
    ">        Il existe plusieurs algorithmes pouvant correspondre à cette approche:\n",
    ">        * SVD / SVD++\n",
    ">        * PCA / NMF\n",
    ">        * Autoencoders (Neural Networks)\n",
    "\n",
    "> **Content-based Filtering**<br>\n",
    "> L'approche basée sur le contenu utilise des informations disponibles *(en plus des scores)* sur les utilisateurs et/ou les articles. Dans ce cas, on utilise donc les caractéristiques des articles pour recommander d'autres articles similaires à ceux que l'utilisateur aime, mais en s'appuyant également sur les actions précédentes, des commentaires, ou d'autres infos disponibles.<br>\n",
    "> <img src='medias/content_filtering.png' width=700>\n",
    "\n",
    "> **Hybrid recommenders**<br>\n",
    "> Un système de recommandation hybride est un type particulier de système de recommandation qui peut être considéré comme la combinaison entre le *Collaborative Filtering* et le *Content-based Filtering*.\n",
    "\n"
   ]
  },
  {
   "cell_type": "markdown",
   "id": "384c5ecf-9c4c-4f6c-ab57-acc2b13de946",
   "metadata": {
    "tags": []
   },
   "source": [
    "---\n",
    "---\n",
    "# 2. Analyses exploratoires de `articles_metadata.csv` <a class=\"anchor\" id=\"articles_metadata\"></a> [⇪](#menu)\n",
    "\n",
    "> articles_metadata.csv - CSV file with metadata information about all (364047) published articles "
   ]
  },
  {
   "cell_type": "code",
   "execution_count": 4,
   "id": "4306fde4-fd12-463a-a149-01637bbdd6fc",
   "metadata": {},
   "outputs": [
    {
     "data": {
      "text/html": [
       "<div>\n",
       "<style scoped>\n",
       "    .dataframe tbody tr th:only-of-type {\n",
       "        vertical-align: middle;\n",
       "    }\n",
       "\n",
       "    .dataframe tbody tr th {\n",
       "        vertical-align: top;\n",
       "    }\n",
       "\n",
       "    .dataframe thead th {\n",
       "        text-align: right;\n",
       "    }\n",
       "</style>\n",
       "<table border=\"1\" class=\"dataframe\">\n",
       "  <thead>\n",
       "    <tr style=\"text-align: right;\">\n",
       "      <th></th>\n",
       "      <th>article_id</th>\n",
       "      <th>category_id</th>\n",
       "      <th>created_at_ts</th>\n",
       "      <th>publisher_id</th>\n",
       "      <th>words_count</th>\n",
       "    </tr>\n",
       "  </thead>\n",
       "  <tbody>\n",
       "    <tr>\n",
       "      <th>181932</th>\n",
       "      <td>181932</td>\n",
       "      <td>301</td>\n",
       "      <td>1507649455000</td>\n",
       "      <td>0</td>\n",
       "      <td>182</td>\n",
       "    </tr>\n",
       "    <tr>\n",
       "      <th>6245</th>\n",
       "      <td>6245</td>\n",
       "      <td>6</td>\n",
       "      <td>1417690563000</td>\n",
       "      <td>0</td>\n",
       "      <td>202</td>\n",
       "    </tr>\n",
       "    <tr>\n",
       "      <th>313837</th>\n",
       "      <td>313837</td>\n",
       "      <td>431</td>\n",
       "      <td>1515781621000</td>\n",
       "      <td>0</td>\n",
       "      <td>235</td>\n",
       "    </tr>\n",
       "    <tr>\n",
       "      <th>171070</th>\n",
       "      <td>171070</td>\n",
       "      <td>299</td>\n",
       "      <td>1459502786000</td>\n",
       "      <td>0</td>\n",
       "      <td>158</td>\n",
       "    </tr>\n",
       "    <tr>\n",
       "      <th>97803</th>\n",
       "      <td>97803</td>\n",
       "      <td>216</td>\n",
       "      <td>1437024112000</td>\n",
       "      <td>0</td>\n",
       "      <td>181</td>\n",
       "    </tr>\n",
       "  </tbody>\n",
       "</table>\n",
       "</div>"
      ],
      "text/plain": [
       "        article_id  category_id  created_at_ts  publisher_id  words_count\n",
       "181932      181932          301  1507649455000             0          182\n",
       "6245          6245            6  1417690563000             0          202\n",
       "313837      313837          431  1515781621000             0          235\n",
       "171070      171070          299  1459502786000             0          158\n",
       "97803        97803          216  1437024112000             0          181"
      ]
     },
     "metadata": {},
     "output_type": "display_data"
    },
    {
     "data": {
      "text/plain": [
       "(364047, 5)"
      ]
     },
     "metadata": {},
     "output_type": "display_data"
    }
   ],
   "source": [
    "data_articles = pd.read_csv('data/news-portal-user-interactions-by-globocom/articles_metadata.csv')\n",
    "display(data_articles.sample(5), data_articles.shape)"
   ]
  },
  {
   "cell_type": "markdown",
   "id": "96ad8b33-553d-4049-952b-5cade379bb98",
   "metadata": {},
   "source": [
    ">#### Ce sont les informations permettant de décrire les articles *(nous n'avons accès ni aux titres ni aux textes des articles)*\n",
    "> - `article_id` est le code d'identification unique de chaque article publié\n",
    "> - `category_id` est le code d'identification unique de la catégorie à laquelle apprtient l'article\n",
    "> - `created_at_ts` est le nombre de millisecondes écoulé entre le 01/01/1970 et la moment où l'article à été publié\n",
    "> - `publisher_id` est le code d'identification unique de l'éditeur de l'article *(j'imagine que c'est prévu pour pouvoir s'ouvrir à d'autres éditeurs si ce n'est pas encore le cas)*\n",
    "> - `words_count` est nombre de mots présents dans l'article\n",
    ">\n",
    "> Ce jeu de données est composé de **364K articles** décrites par **5 variables**"
   ]
  },
  {
   "cell_type": "markdown",
   "id": "49072112-255b-4a85-83d9-134c4e234fd7",
   "metadata": {},
   "source": [
    "## 2.1 Vérifications de base <a class=\"anchor\" id=\"articles_metadata_uni\"></a> [⇪](#menu)"
   ]
  },
  {
   "cell_type": "code",
   "execution_count": 5,
   "id": "04edcca8-dc7b-4171-939e-cb98cd9103df",
   "metadata": {},
   "outputs": [
    {
     "name": "stdout",
     "output_type": "stream",
     "text": [
      "<class 'pandas.core.frame.DataFrame'>\n",
      "RangeIndex: 364047 entries, 0 to 364046\n",
      "Data columns (total 5 columns):\n",
      " #   Column         Non-Null Count   Dtype\n",
      "---  ------         --------------   -----\n",
      " 0   article_id     364047 non-null  int64\n",
      " 1   category_id    364047 non-null  int64\n",
      " 2   created_at_ts  364047 non-null  int64\n",
      " 3   publisher_id   364047 non-null  int64\n",
      " 4   words_count    364047 non-null  int64\n",
      "dtypes: int64(5)\n",
      "memory usage: 13.9 MB\n"
     ]
    }
   ],
   "source": [
    "data_articles.info()"
   ]
  },
  {
   "cell_type": "markdown",
   "id": "1a0eb7b8-1d6c-4cef-809f-038099fff1e6",
   "metadata": {},
   "source": [
    "### Vérifions les valeurs *(min, max, mean etc.)*"
   ]
  },
  {
   "cell_type": "code",
   "execution_count": 6,
   "id": "ee8bdcb6-b56b-452d-b1cf-375bed82ccfa",
   "metadata": {},
   "outputs": [],
   "source": [
    "pd.set_option('float_format', '{:.0f}'.format)"
   ]
  },
  {
   "cell_type": "code",
   "execution_count": 7,
   "id": "195ab424-d2ed-45ff-85b8-05d22076b859",
   "metadata": {},
   "outputs": [
    {
     "data": {
      "text/html": [
       "<div>\n",
       "<style scoped>\n",
       "    .dataframe tbody tr th:only-of-type {\n",
       "        vertical-align: middle;\n",
       "    }\n",
       "\n",
       "    .dataframe tbody tr th {\n",
       "        vertical-align: top;\n",
       "    }\n",
       "\n",
       "    .dataframe thead th {\n",
       "        text-align: right;\n",
       "    }\n",
       "</style>\n",
       "<table border=\"1\" class=\"dataframe\">\n",
       "  <thead>\n",
       "    <tr style=\"text-align: right;\">\n",
       "      <th></th>\n",
       "      <th>count</th>\n",
       "      <th>mean</th>\n",
       "      <th>std</th>\n",
       "      <th>min</th>\n",
       "      <th>25%</th>\n",
       "      <th>50%</th>\n",
       "      <th>75%</th>\n",
       "      <th>max</th>\n",
       "    </tr>\n",
       "  </thead>\n",
       "  <tbody>\n",
       "    <tr>\n",
       "      <th>article_id</th>\n",
       "      <td>364047</td>\n",
       "      <td>182023</td>\n",
       "      <td>105091</td>\n",
       "      <td>0</td>\n",
       "      <td>91012</td>\n",
       "      <td>182023</td>\n",
       "      <td>273034</td>\n",
       "      <td>364046</td>\n",
       "    </tr>\n",
       "    <tr>\n",
       "      <th>category_id</th>\n",
       "      <td>364047</td>\n",
       "      <td>283</td>\n",
       "      <td>137</td>\n",
       "      <td>0</td>\n",
       "      <td>199</td>\n",
       "      <td>301</td>\n",
       "      <td>399</td>\n",
       "      <td>460</td>\n",
       "    </tr>\n",
       "    <tr>\n",
       "      <th>created_at_ts</th>\n",
       "      <td>364047</td>\n",
       "      <td>1474070237328</td>\n",
       "      <td>42930380229</td>\n",
       "      <td>1159355675000</td>\n",
       "      <td>1444924843500</td>\n",
       "      <td>1489422449000</td>\n",
       "      <td>1509890951000</td>\n",
       "      <td>1520943150000</td>\n",
       "    </tr>\n",
       "    <tr>\n",
       "      <th>publisher_id</th>\n",
       "      <td>364047</td>\n",
       "      <td>0</td>\n",
       "      <td>0</td>\n",
       "      <td>0</td>\n",
       "      <td>0</td>\n",
       "      <td>0</td>\n",
       "      <td>0</td>\n",
       "      <td>0</td>\n",
       "    </tr>\n",
       "    <tr>\n",
       "      <th>words_count</th>\n",
       "      <td>364047</td>\n",
       "      <td>191</td>\n",
       "      <td>60</td>\n",
       "      <td>0</td>\n",
       "      <td>159</td>\n",
       "      <td>186</td>\n",
       "      <td>218</td>\n",
       "      <td>6690</td>\n",
       "    </tr>\n",
       "  </tbody>\n",
       "</table>\n",
       "</div>"
      ],
      "text/plain": [
       "               count          mean         std           min           25%  \\\n",
       "article_id    364047        182023      105091             0         91012   \n",
       "category_id   364047           283         137             0           199   \n",
       "created_at_ts 364047 1474070237328 42930380229 1159355675000 1444924843500   \n",
       "publisher_id  364047             0           0             0             0   \n",
       "words_count   364047           191          60             0           159   \n",
       "\n",
       "                        50%           75%           max  \n",
       "article_id           182023        273034        364046  \n",
       "category_id             301           399           460  \n",
       "created_at_ts 1489422449000 1509890951000 1520943150000  \n",
       "publisher_id              0             0             0  \n",
       "words_count             186           218          6690  "
      ]
     },
     "execution_count": 7,
     "metadata": {},
     "output_type": "execute_result"
    }
   ],
   "source": [
    "data_articles.describe(include='number').T"
   ]
  },
  {
   "cell_type": "code",
   "execution_count": 8,
   "id": "1388bd61-d1f0-420c-9cc1-08529e67e3bf",
   "metadata": {},
   "outputs": [],
   "source": [
    "# pd.reset_option('float_format')\n",
    "pd.set_option('float_format', '{:.2f}'.format)"
   ]
  },
  {
   "cell_type": "markdown",
   "id": "b864240e-2f68-4001-9c46-be90ed665b7a",
   "metadata": {},
   "source": [
    ">#### Il se pourrait que l'on ait quelques valeurs aberrantes.\n",
    "> - ⚠️ `created_at_ts` : les dates vont du **27/09/2006 11:14:35 GMT au 13/03/2018 12:12:30 GMT**, alors que le jeu de données est décrit comme allant du  **01/10/2017 au 16/10/2017**. Donc même si l'on considère que les articles peuvent être plus vieux que les click utilisateurs, il est peu probable qu'un article de 2018 trouve légitimment sa place dans notre jeu de données.\n",
    ">\n",
    "> - ⚠️ `words_counts` : la taille des articles varie de **0 à 6690**... Un article de 0 mots n'a aucun sens, et 6690 est très au dessus de la moyenne de 186 mots ou même du 3ème quartile de 218 mots.\n",
    ">\n",
    "\n",
    ">#### En revanches les autres colonnes ne semblent pas présenter de valeurs aberrantes\n",
    "> - `article_id` : chaque article possède bien un ID unique\n",
    "> - `category_id` : on constate qu'il y a 461 catégories d'articles, mais il n'y a pas de raison de croire que c'est un problème.\n",
    "> - `publisher_id` : on constate qu'il y a 1 seul éditeur, mais c'est tout à fait attendu (on peut imaginer que seul l'équipe de Globo.com peut publier sur Globo.com)"
   ]
  },
  {
   "cell_type": "markdown",
   "id": "ee5265bf-3023-405d-8431-88c8aae4a90c",
   "metadata": {},
   "source": [
    "### Doublons"
   ]
  },
  {
   "cell_type": "markdown",
   "id": "c79137bf-2a74-4429-9edd-4e1b2480e3e3",
   "metadata": {},
   "source": [
    "#### Regardons si il y des articles en double sur la base de la colonnes `article_id`"
   ]
  },
  {
   "cell_type": "code",
   "execution_count": 9,
   "id": "4a3d692e-d6ac-4438-86a8-fb8a78dad61e",
   "metadata": {},
   "outputs": [
    {
     "data": {
      "text/plain": [
       "0"
      ]
     },
     "execution_count": 9,
     "metadata": {},
     "output_type": "execute_result"
    }
   ],
   "source": [
    "data_articles.duplicated(subset=['article_id']).sum()"
   ]
  },
  {
   "cell_type": "markdown",
   "id": "28833082-841b-4171-9e90-b40ac72a6752",
   "metadata": {},
   "source": [
    "### Regardons plus en détails la colonne `created_at_ts`"
   ]
  },
  {
   "cell_type": "code",
   "execution_count": 10,
   "id": "c661f05e-b31a-495b-bdb7-ceab77e419ca",
   "metadata": {},
   "outputs": [
    {
     "name": "stdout",
     "output_type": "stream",
     "text": [
      "----- UNIVARIATE ANALYSIS for \"created_at_ts\" -----\n",
      "\n",
      "count          364047.00\n",
      "mean    1474070237328.42\n",
      "std       42930380228.81\n",
      "min     1159355675000.00\n",
      "25%     1444924843500.00\n",
      "50%     1489422449000.00\n",
      "75%     1509890951000.00\n",
      "max     1520943150000.00\n",
      "Name: created_at_ts, dtype: float64\n",
      "\n",
      "\n"
     ]
    },
    {
     "data": {
      "image/png": "[encoded data removed]",
      "text/plain": [
       "<Figure size 1080x576 with 4 Axes>"
      ]
     },
     "metadata": {
      "needs_background": "light"
     },
     "output_type": "display_data"
    },
    {
     "name": "stdout",
     "output_type": "stream",
     "text": [
      "'created_at_ts' is missing 0 over 364047 (0.00%)\n"
     ]
    }
   ],
   "source": [
    "explore_quantitative(data_articles, 'created_at_ts')"
   ]
  },
  {
   "cell_type": "markdown",
   "id": "d50ae98c-a3f8-4f3c-a761-e3cc3fd59b79",
   "metadata": {},
   "source": [
    "### Regardons plus en détails la colonne `words_count`"
   ]
  },
  {
   "cell_type": "code",
   "execution_count": 11,
   "id": "2076aa9e-14e0-4f19-8267-d26f438480ae",
   "metadata": {},
   "outputs": [
    {
     "name": "stdout",
     "output_type": "stream",
     "text": [
      "----- UNIVARIATE ANALYSIS for \"words_count\" -----\n",
      "\n",
      "count   364047.00\n",
      "mean       190.90\n",
      "std         59.50\n",
      "min          0.00\n",
      "25%        159.00\n",
      "50%        186.00\n",
      "75%        218.00\n",
      "max       6690.00\n",
      "Name: words_count, dtype: float64\n",
      "\n",
      "\n"
     ]
    },
    {
     "data": {
      "image/png": "[encoded data removed]",
      "text/plain": [
       "<Figure size 1080x576 with 4 Axes>"
      ]
     },
     "metadata": {
      "needs_background": "light"
     },
     "output_type": "display_data"
    },
    {
     "name": "stdout",
     "output_type": "stream",
     "text": [
      "'words_count' is missing 0 over 364047 (0.00%)\n"
     ]
    }
   ],
   "source": [
    "explore_quantitative(data_articles, 'words_count')"
   ]
  },
  {
   "cell_type": "markdown",
   "id": "b9ba8411-a6ae-4a75-aae5-2c1fdb9b272b",
   "metadata": {
    "tags": []
   },
   "source": [
    "## 2.2 Analyses multivariées <a class=\"anchor\" id=\"articles_metadata_multi\"></a> [⇪](#menu)"
   ]
  },
  {
   "cell_type": "markdown",
   "id": "6f4634e5-0a21-4170-b866-6443285b92ee",
   "metadata": {},
   "source": [
    "### Regardons la repartition des articles dans le temps"
   ]
  },
  {
   "cell_type": "code",
   "execution_count": 12,
   "id": "38c66cf7-6d0b-423b-97e5-02118b7dac8d",
   "metadata": {},
   "outputs": [
    {
     "data": {
      "image/png": "[encoded data removed]",
      "text/plain": [
       "<Figure size 1080x288 with 1 Axes>"
      ]
     },
     "metadata": {
      "needs_background": "light"
     },
     "output_type": "display_data"
    }
   ],
   "source": [
    "selection = data_articles[['article_id', 'created_at_ts']].copy()\n",
    "selection['short_date'] = selection['created_at_ts'].apply(lambda x:datetime.datetime.fromtimestamp(x / 1000).strftime(\"%Y-%m-%d\"))\n",
    "selection = pd.DataFrame(selection.groupby('short_date').size(), columns=['count']).T\n",
    "\n",
    "plot_bars(\n",
    "    selection, \n",
    "    \"Répartition des articles dans le temps (par jours)\", \n",
    "    y_label=\"Nombre d'articles (log scale)\",\n",
    "    labels_modulo=30, show_values=False, log_scale=True, show_grid=True,\n",
    ")"
   ]
  },
  {
   "cell_type": "code",
   "execution_count": 13,
   "id": "358012ad-74f0-45c4-9453-fb8ee9ccfdd8",
   "metadata": {},
   "outputs": [
    {
     "data": {
      "image/png": "[encoded data removed]",
      "text/plain": [
       "<Figure size 1080x288 with 1 Axes>"
      ]
     },
     "metadata": {
      "needs_background": "light"
     },
     "output_type": "display_data"
    }
   ],
   "source": [
    "selection = data_articles[['article_id', 'created_at_ts']].copy()\n",
    "selection['short_date'] = selection['created_at_ts'].apply(lambda x:datetime.datetime.fromtimestamp(x / 1000).strftime(\"%Y-%m\"))\n",
    "selection = pd.DataFrame(selection.groupby('short_date').size(), columns=['count']).T\n",
    "\n",
    "plot_bars(\n",
    "    selection, \n",
    "    \"Répartition des articles dans le temps (par mois)\", \n",
    "    y_label=\"Nombre d'articles (log scale)\",\n",
    "    labels_modulo=2, show_values=False, log_scale=True, show_grid=True,\n",
    ")"
   ]
  },
  {
   "cell_type": "markdown",
   "id": "c766628a-dd60-49e3-b39e-756f408bf7e8",
   "metadata": {},
   "source": [
    "---\n",
    ">#### `TODO`  done ✅ | todo ❌ |\n",
    "> - ❌ Supprimer les articles dont les valeurs sont plus récentes que le plus récent des clicks ?<br>(où vont ils être naturellement éliminés losque l'on ne va retenir que les articles aillant reçu un minimum de clicks ?)\n",
    "> - ❌ Supprimer la colonne `publisher_id` qui ne présente qu'une unique valeur.\n",
    "> - ❌ Supprimer les articles qui ne sont pas utilisés dans le jeu de données clicks_hour.zip"
   ]
  },
  {
   "cell_type": "markdown",
   "id": "da633d8c-9df9-4e3e-8a0c-f4e7c9a6403d",
   "metadata": {
    "tags": []
   },
   "source": [
    "---\n",
    "---\n",
    "# 3. Analyses exploratoires de `clicks_hour_XXX.csv` <a class=\"anchor\" id=\"clicks_hour\"></a> [⇪](#menu)\n",
    "> clicks.zip - Folder with CSV files (one per hour), containing user sessions interactions in the news portal."
   ]
  },
  {
   "cell_type": "markdown",
   "id": "3743b978-d8d0-4605-b61b-6a56f378afc9",
   "metadata": {},
   "source": [
    "## 3.1 Concatenate all clicks CSV files <a class=\"anchor\" id=\"clicks_hour_concat\"></a> [⇪](#menu)\n",
    "\n",
    "clicks.zip - Folder with CSV files (one per hour), containing user sessions interactions in the news portal."
   ]
  },
  {
   "cell_type": "code",
   "execution_count": 14,
   "id": "96d55f29-ae66-4538-bdcb-ccb4cba901d6",
   "metadata": {},
   "outputs": [
    {
     "data": {
      "text/html": [
       "<div>\n",
       "<style scoped>\n",
       "    .dataframe tbody tr th:only-of-type {\n",
       "        vertical-align: middle;\n",
       "    }\n",
       "\n",
       "    .dataframe tbody tr th {\n",
       "        vertical-align: top;\n",
       "    }\n",
       "\n",
       "    .dataframe thead th {\n",
       "        text-align: right;\n",
       "    }\n",
       "</style>\n",
       "<table border=\"1\" class=\"dataframe\">\n",
       "  <thead>\n",
       "    <tr style=\"text-align: right;\">\n",
       "      <th></th>\n",
       "      <th>user_id</th>\n",
       "      <th>session_id</th>\n",
       "      <th>session_start</th>\n",
       "      <th>session_size</th>\n",
       "      <th>click_article_id</th>\n",
       "      <th>click_timestamp</th>\n",
       "      <th>click_environment</th>\n",
       "      <th>click_deviceGroup</th>\n",
       "      <th>click_os</th>\n",
       "      <th>click_country</th>\n",
       "      <th>click_region</th>\n",
       "      <th>click_referrer_type</th>\n",
       "      <th>hour</th>\n",
       "    </tr>\n",
       "  </thead>\n",
       "  <tbody>\n",
       "    <tr>\n",
       "      <th>0</th>\n",
       "      <td>0</td>\n",
       "      <td>1506825423271737</td>\n",
       "      <td>1506825423000</td>\n",
       "      <td>2</td>\n",
       "      <td>157541</td>\n",
       "      <td>1506826828020</td>\n",
       "      <td>4</td>\n",
       "      <td>3</td>\n",
       "      <td>20</td>\n",
       "      <td>1</td>\n",
       "      <td>20</td>\n",
       "      <td>2</td>\n",
       "      <td>0</td>\n",
       "    </tr>\n",
       "    <tr>\n",
       "      <th>1</th>\n",
       "      <td>0</td>\n",
       "      <td>1506825423271737</td>\n",
       "      <td>1506825423000</td>\n",
       "      <td>2</td>\n",
       "      <td>68866</td>\n",
       "      <td>1506826858020</td>\n",
       "      <td>4</td>\n",
       "      <td>3</td>\n",
       "      <td>20</td>\n",
       "      <td>1</td>\n",
       "      <td>20</td>\n",
       "      <td>2</td>\n",
       "      <td>0</td>\n",
       "    </tr>\n",
       "    <tr>\n",
       "      <th>2</th>\n",
       "      <td>1</td>\n",
       "      <td>1506825426267738</td>\n",
       "      <td>1506825426000</td>\n",
       "      <td>2</td>\n",
       "      <td>235840</td>\n",
       "      <td>1506827017951</td>\n",
       "      <td>4</td>\n",
       "      <td>1</td>\n",
       "      <td>17</td>\n",
       "      <td>1</td>\n",
       "      <td>16</td>\n",
       "      <td>2</td>\n",
       "      <td>0</td>\n",
       "    </tr>\n",
       "    <tr>\n",
       "      <th>3</th>\n",
       "      <td>1</td>\n",
       "      <td>1506825426267738</td>\n",
       "      <td>1506825426000</td>\n",
       "      <td>2</td>\n",
       "      <td>96663</td>\n",
       "      <td>1506827047951</td>\n",
       "      <td>4</td>\n",
       "      <td>1</td>\n",
       "      <td>17</td>\n",
       "      <td>1</td>\n",
       "      <td>16</td>\n",
       "      <td>2</td>\n",
       "      <td>0</td>\n",
       "    </tr>\n",
       "    <tr>\n",
       "      <th>4</th>\n",
       "      <td>2</td>\n",
       "      <td>1506825435299739</td>\n",
       "      <td>1506825435000</td>\n",
       "      <td>2</td>\n",
       "      <td>119592</td>\n",
       "      <td>1506827090575</td>\n",
       "      <td>4</td>\n",
       "      <td>1</td>\n",
       "      <td>17</td>\n",
       "      <td>1</td>\n",
       "      <td>24</td>\n",
       "      <td>2</td>\n",
       "      <td>0</td>\n",
       "    </tr>\n",
       "  </tbody>\n",
       "</table>\n",
       "</div>"
      ],
      "text/plain": [
       "  user_id        session_id  session_start session_size click_article_id  \\\n",
       "0       0  1506825423271737  1506825423000            2           157541   \n",
       "1       0  1506825423271737  1506825423000            2            68866   \n",
       "2       1  1506825426267738  1506825426000            2           235840   \n",
       "3       1  1506825426267738  1506825426000            2            96663   \n",
       "4       2  1506825435299739  1506825435000            2           119592   \n",
       "\n",
       "  click_timestamp click_environment click_deviceGroup click_os click_country  \\\n",
       "0   1506826828020                 4                 3       20             1   \n",
       "1   1506826858020                 4                 3       20             1   \n",
       "2   1506827017951                 4                 1       17             1   \n",
       "3   1506827047951                 4                 1       17             1   \n",
       "4   1506827090575                 4                 1       17             1   \n",
       "\n",
       "  click_region click_referrer_type  hour  \n",
       "0           20                   2     0  \n",
       "1           20                   2     0  \n",
       "2           16                   2     0  \n",
       "3           16                   2     0  \n",
       "4           24                   2     0  "
      ]
     },
     "metadata": {},
     "output_type": "display_data"
    },
    {
     "data": {
      "text/plain": [
       "(2988181, 13)"
      ]
     },
     "metadata": {},
     "output_type": "display_data"
    }
   ],
   "source": [
    "datalist = []\n",
    "for i in range(0, 385):\n",
    "    data_tmp = pd.read_csv(f'data/news-portal-user-interactions-by-globocom/clicks/clicks_hour_{i:03}.csv')\n",
    "    data_tmp['hour'] =  i\n",
    "    datalist.append(data_tmp)\n",
    "\n",
    "data_clicks = pd.concat(datalist)\n",
    "display(data_clicks.head(), data_clicks.shape)"
   ]
  },
  {
   "cell_type": "markdown",
   "id": "93bde8cd-d4e7-4fba-9fd3-59e355bd86b2",
   "metadata": {},
   "source": [
    ">#### Ce sont les informations permettant de décrire les interactions utilisateur sur le site Globo.com\n",
    "> - `user_id` est le code d'identification unique de chaque utilisateur du site\n",
    "> - `session_id` est le code d'identification unique de chaque session utilisateur *(chaque session peut avoir plusieurs interactions, donc être présente plusieurs fois)*\n",
    "> - `session_start` est le nombre de millisecondes écoulé entre le 01/01/1970 et la moment où l'utilisateur à commencé sa session sur le site\n",
    "> - `session_size` est le nombre d'interactions enregistrées dans la session associée\n",
    "> - `click_article_d` est le code d'identification unique de l'article auquel mène le click\n",
    "> - `click_timestamp` est le nombre de millisecondes écoulé entre le 01/01/1970 et la moment où l'utilisateur à clické pour visiter l'article associé\n",
    "> - `click_environment` est ❓\n",
    "> - `click_deviceGroup` est ❓\n",
    "> - `click_os` est *probablement un code d'identification lié aux différents operating systems et leurs déclinaisons* ❓\n",
    "> - `click_country` est le code d'identification unique de chaque pays (le 1 semble être le Brézil)\n",
    "> - `click_region` est le code d'identification unique de chaue région du pays associé\n",
    "> - `click_referrer` est *probablement le code d'identification du site d'où vient le click* ❓\n",
    "> - `hour` est l'identifiant du CSV d'origine contenu dans clicks.zip *(clicks_hour_{HOUR}.csv)*\n",
    ">\n",
    "> Ce jeu de données est composé de **299K interactions** décrites par **13 variables**"
   ]
  },
  {
   "cell_type": "markdown",
   "id": "ae4c20ff-624b-4eca-86d1-bff7d48ed7fb",
   "metadata": {},
   "source": [
    "## 3.2 Vérifications de base <a class=\"anchor\" id=\"clicks_hour_uni\"></a> [⇪](#menu)"
   ]
  },
  {
   "cell_type": "code",
   "execution_count": 15,
   "id": "17e58d0c-7a1b-4685-b7fc-caf65101d6ec",
   "metadata": {},
   "outputs": [
    {
     "name": "stdout",
     "output_type": "stream",
     "text": [
      "<class 'pandas.core.frame.DataFrame'>\n",
      "Int64Index: 2988181 entries, 0 to 2568\n",
      "Data columns (total 13 columns):\n",
      " #   Column               Dtype \n",
      "---  ------               ----- \n",
      " 0   user_id              object\n",
      " 1   session_id           object\n",
      " 2   session_start        object\n",
      " 3   session_size         object\n",
      " 4   click_article_id     object\n",
      " 5   click_timestamp      object\n",
      " 6   click_environment    object\n",
      " 7   click_deviceGroup    object\n",
      " 8   click_os             object\n",
      " 9   click_country        object\n",
      " 10  click_region         object\n",
      " 11  click_referrer_type  object\n",
      " 12  hour                 int64 \n",
      "dtypes: int64(1), object(12)\n",
      "memory usage: 319.2+ MB\n"
     ]
    }
   ],
   "source": [
    "data_clicks.info()"
   ]
  },
  {
   "cell_type": "markdown",
   "id": "c3ef9b69-5ad5-4873-9fba-22d56b43c94d",
   "metadata": {},
   "source": [
    "### Ajustons les types de colonnes pour faciliter le travail d'analyse"
   ]
  },
  {
   "cell_type": "code",
   "execution_count": 16,
   "id": "ed03e337-303a-4a67-ae89-140f39a29ef9",
   "metadata": {},
   "outputs": [],
   "source": [
    "#for col in ['user_id', 'session_id', 'click_article_id', 'click_environment', 'click_deviceGroup', 'click_os', 'click_country', 'click_region', 'click_referrer_type']:\n",
    "for col in ['click_environment', 'click_deviceGroup', 'click_os', 'click_country', 'click_region', 'click_referrer_type']:\n",
    "    data_clicks[col] = data_clicks[col].astype('category')\n",
    "    \n",
    "for col in ['user_id', 'session_id', 'click_article_id', 'session_start', 'click_timestamp', 'session_size']:\n",
    "    data_clicks[col] = data_clicks[col].astype('int64')"
   ]
  },
  {
   "cell_type": "code",
   "execution_count": 17,
   "id": "c173ecf1-4f9f-4701-969d-e8ff8082c452",
   "metadata": {},
   "outputs": [
    {
     "name": "stdout",
     "output_type": "stream",
     "text": [
      "<class 'pandas.core.frame.DataFrame'>\n",
      "Int64Index: 2988181 entries, 0 to 2568\n",
      "Data columns (total 13 columns):\n",
      " #   Column               Dtype   \n",
      "---  ------               -----   \n",
      " 0   user_id              int64   \n",
      " 1   session_id           int64   \n",
      " 2   session_start        int64   \n",
      " 3   session_size         int64   \n",
      " 4   click_article_id     int64   \n",
      " 5   click_timestamp      int64   \n",
      " 6   click_environment    category\n",
      " 7   click_deviceGroup    category\n",
      " 8   click_os             category\n",
      " 9   click_country        category\n",
      " 10  click_region         category\n",
      " 11  click_referrer_type  category\n",
      " 12  hour                 int64   \n",
      "dtypes: category(6), int64(7)\n",
      "memory usage: 199.5 MB\n"
     ]
    }
   ],
   "source": [
    "data_clicks.info()"
   ]
  },
  {
   "cell_type": "markdown",
   "id": "b099e5fc-1de0-47e6-85ac-a16ddf98825d",
   "metadata": {},
   "source": [
    "### Vérifions les valeurs *(min, max, mean etc.)*"
   ]
  },
  {
   "cell_type": "code",
   "execution_count": 18,
   "id": "c6035956-883d-48b3-a4dc-9842425de054",
   "metadata": {},
   "outputs": [],
   "source": [
    "pd.set_option('float_format', '{:.0f}'.format)"
   ]
  },
  {
   "cell_type": "code",
   "execution_count": 19,
   "id": "67d93ae3-c682-45f0-8d94-afb7b067fd0d",
   "metadata": {},
   "outputs": [
    {
     "data": {
      "text/html": [
       "<div>\n",
       "<style scoped>\n",
       "    .dataframe tbody tr th:only-of-type {\n",
       "        vertical-align: middle;\n",
       "    }\n",
       "\n",
       "    .dataframe tbody tr th {\n",
       "        vertical-align: top;\n",
       "    }\n",
       "\n",
       "    .dataframe thead th {\n",
       "        text-align: right;\n",
       "    }\n",
       "</style>\n",
       "<table border=\"1\" class=\"dataframe\">\n",
       "  <thead>\n",
       "    <tr style=\"text-align: right;\">\n",
       "      <th></th>\n",
       "      <th>count</th>\n",
       "      <th>mean</th>\n",
       "      <th>std</th>\n",
       "      <th>min</th>\n",
       "      <th>25%</th>\n",
       "      <th>50%</th>\n",
       "      <th>75%</th>\n",
       "      <th>max</th>\n",
       "    </tr>\n",
       "  </thead>\n",
       "  <tbody>\n",
       "    <tr>\n",
       "      <th>user_id</th>\n",
       "      <td>2988181</td>\n",
       "      <td>107948</td>\n",
       "      <td>83648</td>\n",
       "      <td>0</td>\n",
       "      <td>40341</td>\n",
       "      <td>86229</td>\n",
       "      <td>163261</td>\n",
       "      <td>322896</td>\n",
       "    </tr>\n",
       "    <tr>\n",
       "      <th>session_id</th>\n",
       "      <td>2988181</td>\n",
       "      <td>1507472228344485</td>\n",
       "      <td>385524460231</td>\n",
       "      <td>1506825423271737</td>\n",
       "      <td>1507124152253606</td>\n",
       "      <td>1507493340299445</td>\n",
       "      <td>1507749414106993</td>\n",
       "      <td>1508211379189330</td>\n",
       "    </tr>\n",
       "    <tr>\n",
       "      <th>session_start</th>\n",
       "      <td>2988181</td>\n",
       "      <td>1507472228013</td>\n",
       "      <td>385524460</td>\n",
       "      <td>1506825423000</td>\n",
       "      <td>1507124152000</td>\n",
       "      <td>1507493340000</td>\n",
       "      <td>1507749414000</td>\n",
       "      <td>1508211379000</td>\n",
       "    </tr>\n",
       "    <tr>\n",
       "      <th>session_size</th>\n",
       "      <td>2988181</td>\n",
       "      <td>4</td>\n",
       "      <td>4</td>\n",
       "      <td>2</td>\n",
       "      <td>2</td>\n",
       "      <td>3</td>\n",
       "      <td>4</td>\n",
       "      <td>124</td>\n",
       "    </tr>\n",
       "    <tr>\n",
       "      <th>click_article_id</th>\n",
       "      <td>2988181</td>\n",
       "      <td>194923</td>\n",
       "      <td>90768</td>\n",
       "      <td>3</td>\n",
       "      <td>124228</td>\n",
       "      <td>202381</td>\n",
       "      <td>277067</td>\n",
       "      <td>364046</td>\n",
       "    </tr>\n",
       "    <tr>\n",
       "      <th>click_timestamp</th>\n",
       "      <td>2988181</td>\n",
       "      <td>1507474265606</td>\n",
       "      <td>385850960</td>\n",
       "      <td>1506826800026</td>\n",
       "      <td>1507126852854</td>\n",
       "      <td>1507494930481</td>\n",
       "      <td>1507751004601</td>\n",
       "      <td>1510603454886</td>\n",
       "    </tr>\n",
       "    <tr>\n",
       "      <th>hour</th>\n",
       "      <td>2988181</td>\n",
       "      <td>179</td>\n",
       "      <td>107</td>\n",
       "      <td>0</td>\n",
       "      <td>82</td>\n",
       "      <td>185</td>\n",
       "      <td>256</td>\n",
       "      <td>384</td>\n",
       "    </tr>\n",
       "  </tbody>\n",
       "</table>\n",
       "</div>"
      ],
      "text/plain": [
       "                   count             mean          std              min  \\\n",
       "user_id          2988181           107948        83648                0   \n",
       "session_id       2988181 1507472228344485 385524460231 1506825423271737   \n",
       "session_start    2988181    1507472228013    385524460    1506825423000   \n",
       "session_size     2988181                4            4                2   \n",
       "click_article_id 2988181           194923        90768                3   \n",
       "click_timestamp  2988181    1507474265606    385850960    1506826800026   \n",
       "hour             2988181              179          107                0   \n",
       "\n",
       "                              25%              50%              75%  \\\n",
       "user_id                     40341            86229           163261   \n",
       "session_id       1507124152253606 1507493340299445 1507749414106993   \n",
       "session_start       1507124152000    1507493340000    1507749414000   \n",
       "session_size                    2                3                4   \n",
       "click_article_id           124228           202381           277067   \n",
       "click_timestamp     1507126852854    1507494930481    1507751004601   \n",
       "hour                           82              185              256   \n",
       "\n",
       "                              max  \n",
       "user_id                    322896  \n",
       "session_id       1508211379189330  \n",
       "session_start       1508211379000  \n",
       "session_size                  124  \n",
       "click_article_id           364046  \n",
       "click_timestamp     1510603454886  \n",
       "hour                          384  "
      ]
     },
     "execution_count": 19,
     "metadata": {},
     "output_type": "execute_result"
    }
   ],
   "source": [
    "data_clicks.describe(include='number').T"
   ]
  },
  {
   "cell_type": "code",
   "execution_count": 20,
   "id": "764daeb0-8303-4203-86f4-c56dbda06418",
   "metadata": {},
   "outputs": [
    {
     "data": {
      "text/html": [
       "<div>\n",
       "<style scoped>\n",
       "    .dataframe tbody tr th:only-of-type {\n",
       "        vertical-align: middle;\n",
       "    }\n",
       "\n",
       "    .dataframe tbody tr th {\n",
       "        vertical-align: top;\n",
       "    }\n",
       "\n",
       "    .dataframe thead th {\n",
       "        text-align: right;\n",
       "    }\n",
       "</style>\n",
       "<table border=\"1\" class=\"dataframe\">\n",
       "  <thead>\n",
       "    <tr style=\"text-align: right;\">\n",
       "      <th></th>\n",
       "      <th>count</th>\n",
       "      <th>unique</th>\n",
       "      <th>top</th>\n",
       "      <th>freq</th>\n",
       "    </tr>\n",
       "  </thead>\n",
       "  <tbody>\n",
       "    <tr>\n",
       "      <th>click_environment</th>\n",
       "      <td>2988181</td>\n",
       "      <td>3</td>\n",
       "      <td>4</td>\n",
       "      <td>2904478</td>\n",
       "    </tr>\n",
       "    <tr>\n",
       "      <th>click_deviceGroup</th>\n",
       "      <td>2988181</td>\n",
       "      <td>5</td>\n",
       "      <td>1</td>\n",
       "      <td>1823162</td>\n",
       "    </tr>\n",
       "    <tr>\n",
       "      <th>click_os</th>\n",
       "      <td>2988181</td>\n",
       "      <td>8</td>\n",
       "      <td>17</td>\n",
       "      <td>1738138</td>\n",
       "    </tr>\n",
       "    <tr>\n",
       "      <th>click_country</th>\n",
       "      <td>2988181</td>\n",
       "      <td>11</td>\n",
       "      <td>1</td>\n",
       "      <td>2852406</td>\n",
       "    </tr>\n",
       "    <tr>\n",
       "      <th>click_region</th>\n",
       "      <td>2988181</td>\n",
       "      <td>28</td>\n",
       "      <td>25</td>\n",
       "      <td>804985</td>\n",
       "    </tr>\n",
       "    <tr>\n",
       "      <th>click_referrer_type</th>\n",
       "      <td>2988181</td>\n",
       "      <td>7</td>\n",
       "      <td>2</td>\n",
       "      <td>1602601</td>\n",
       "    </tr>\n",
       "  </tbody>\n",
       "</table>\n",
       "</div>"
      ],
      "text/plain": [
       "                       count  unique  top     freq\n",
       "click_environment    2988181       3    4  2904478\n",
       "click_deviceGroup    2988181       5    1  1823162\n",
       "click_os             2988181       8   17  1738138\n",
       "click_country        2988181      11    1  2852406\n",
       "click_region         2988181      28   25   804985\n",
       "click_referrer_type  2988181       7    2  1602601"
      ]
     },
     "execution_count": 20,
     "metadata": {},
     "output_type": "execute_result"
    }
   ],
   "source": [
    "data_clicks.describe(exclude='number').T"
   ]
  },
  {
   "cell_type": "code",
   "execution_count": 21,
   "id": "4167be52-f3f1-4085-9cbd-a3d4dbdfeb27",
   "metadata": {},
   "outputs": [],
   "source": [
    "# pd.reset_option('float_format')\n",
    "pd.set_option('float_format', '{:.2f}'.format)"
   ]
  },
  {
   "cell_type": "markdown",
   "id": "6e0d7132-9b2e-4963-a060-5d816cc98427",
   "metadata": {},
   "source": [
    ">#### Il se pourrait que l'on ait quelques valeurs aberrantes.\n",
    "> * `session_start`: les dates vont du **01/10/2017 02:37:03 GMT au 17/10/2017 03:36:19 GMT**.\n",
    "> * `click_timestamp`: les dates vont du **01/10/2017 03:00:00 GMT au 13/11/2017 20:04:14 GMT**.\n",
    "> <br>⚠️ On a donc une session qui a duré au minimum 27 jours *(17/10 -> 13/11)*.\n",
    "> * `user_id` : certains utilisateurs semblent avoir un nombre de session très au dessus de la moyenne. Est-ce un problème ❓\n",
    "> - `session_size` : la taille des sessions varie de **2 à 124**... 124 semble très au dessus du troisième quartile qui est à 4.\n",
    "\n",
    ">#### En revanches les autres colonnes ne semblent pas présenter de valeurs aberrantes\n",
    "> - `session_id` : la session la plus fréquente (124) correspond au nombre maximum de session_size (124) et le reste semble cohérent.\n",
    "> - `click_article_id` : seuls **46033 des 364047 articles sont utilisés**, mais ça ne pose pas de problème.\n",
    "> - `click_environment` : on a visiblement 3 environnements (web/ios/android ?) pris en compte. Rien d'anormal.\n",
    "> - `click_deviceGroup`, `click_os`, `click_country`, `click_region`, `click_referrer_type` ont toutes des valeurs qui semblent raisonnables même si l'on considère que l'on ne sait pas toujours exactement ce qu'elles représentent.\n"
   ]
  },
  {
   "cell_type": "markdown",
   "id": "0a9e3552-cf71-4ee6-8ef0-5594254212dd",
   "metadata": {},
   "source": [
    "### Regardons plus en détails la colonne `session_start`"
   ]
  },
  {
   "cell_type": "code",
   "execution_count": 22,
   "id": "f95e3f72-7dd0-4389-983a-a3db88f0da9b",
   "metadata": {},
   "outputs": [
    {
     "data": {
      "text/html": [
       "<div>\n",
       "<style scoped>\n",
       "    .dataframe tbody tr th:only-of-type {\n",
       "        vertical-align: middle;\n",
       "    }\n",
       "\n",
       "    .dataframe tbody tr th {\n",
       "        vertical-align: top;\n",
       "    }\n",
       "\n",
       "    .dataframe thead th {\n",
       "        text-align: right;\n",
       "    }\n",
       "</style>\n",
       "<table border=\"1\" class=\"dataframe\">\n",
       "  <thead>\n",
       "    <tr style=\"text-align: right;\">\n",
       "      <th>short_date</th>\n",
       "      <th>2017-10-01</th>\n",
       "      <th>2017-10-02</th>\n",
       "      <th>2017-10-03</th>\n",
       "      <th>2017-10-04</th>\n",
       "      <th>2017-10-05</th>\n",
       "      <th>2017-10-06</th>\n",
       "      <th>2017-10-07</th>\n",
       "      <th>2017-10-08</th>\n",
       "      <th>2017-10-09</th>\n",
       "      <th>2017-10-10</th>\n",
       "      <th>2017-10-11</th>\n",
       "      <th>2017-10-12</th>\n",
       "      <th>2017-10-13</th>\n",
       "      <th>2017-10-14</th>\n",
       "      <th>2017-10-15</th>\n",
       "      <th>2017-10-16</th>\n",
       "      <th>2017-10-17</th>\n",
       "    </tr>\n",
       "  </thead>\n",
       "  <tbody>\n",
       "    <tr>\n",
       "      <th>count</th>\n",
       "      <td>75205.00</td>\n",
       "      <td>290443.00</td>\n",
       "      <td>282762.00</td>\n",
       "      <td>210182.00</td>\n",
       "      <td>190898.00</td>\n",
       "      <td>207027.00</td>\n",
       "      <td>147253.00</td>\n",
       "      <td>104685.00</td>\n",
       "      <td>242356.00</td>\n",
       "      <td>282524.00</td>\n",
       "      <td>242362.00</td>\n",
       "      <td>123316.00</td>\n",
       "      <td>183344.00</td>\n",
       "      <td>99641.00</td>\n",
       "      <td>84054.00</td>\n",
       "      <td>192185.00</td>\n",
       "      <td>29944.00</td>\n",
       "    </tr>\n",
       "    <tr>\n",
       "      <th>count_percent</th>\n",
       "      <td>2.52</td>\n",
       "      <td>9.72</td>\n",
       "      <td>9.46</td>\n",
       "      <td>7.03</td>\n",
       "      <td>6.39</td>\n",
       "      <td>6.93</td>\n",
       "      <td>4.93</td>\n",
       "      <td>3.50</td>\n",
       "      <td>8.11</td>\n",
       "      <td>9.45</td>\n",
       "      <td>8.11</td>\n",
       "      <td>4.13</td>\n",
       "      <td>6.14</td>\n",
       "      <td>3.33</td>\n",
       "      <td>2.81</td>\n",
       "      <td>6.43</td>\n",
       "      <td>1.00</td>\n",
       "    </tr>\n",
       "  </tbody>\n",
       "</table>\n",
       "</div>"
      ],
      "text/plain": [
       "short_date     2017-10-01  2017-10-02  2017-10-03  2017-10-04  2017-10-05  \\\n",
       "count            75205.00   290443.00   282762.00   210182.00   190898.00   \n",
       "count_percent        2.52        9.72        9.46        7.03        6.39   \n",
       "\n",
       "short_date     2017-10-06  2017-10-07  2017-10-08  2017-10-09  2017-10-10  \\\n",
       "count           207027.00   147253.00   104685.00   242356.00   282524.00   \n",
       "count_percent        6.93        4.93        3.50        8.11        9.45   \n",
       "\n",
       "short_date     2017-10-11  2017-10-12  2017-10-13  2017-10-14  2017-10-15  \\\n",
       "count           242362.00   123316.00   183344.00    99641.00    84054.00   \n",
       "count_percent        8.11        4.13        6.14        3.33        2.81   \n",
       "\n",
       "short_date     2017-10-16  2017-10-17  \n",
       "count           192185.00    29944.00  \n",
       "count_percent        6.43        1.00  "
      ]
     },
     "metadata": {},
     "output_type": "display_data"
    },
    {
     "data": {
      "image/png": "[encoded data removed]",
      "text/plain": [
       "<Figure size 1080x288 with 1 Axes>"
      ]
     },
     "metadata": {
      "needs_background": "light"
     },
     "output_type": "display_data"
    }
   ],
   "source": [
    "selection = data_clicks[['session_id', 'session_start']].copy()\n",
    "selection['short_date'] = selection['session_start'].apply(lambda x:datetime.datetime.fromtimestamp(x / 1000).strftime(\"%Y-%m-%d\"))\n",
    "selection = pd.DataFrame(selection.groupby('short_date').size(), columns=['count'])\n",
    "\n",
    "selection[\"count_percent\"] = 100 / selection['count'].sum() * selection\n",
    "display(selection.T)\n",
    "selection = selection[['count']].T\n",
    "\n",
    "plot_bars(\n",
    "    selection, \n",
    "    \"Répartition des sessions dans le temps (par jour)\", \n",
    "     y_label='Nombre de sessions',\n",
    "    labels_modulo=1, show_values=True,\n",
    ")"
   ]
  },
  {
   "cell_type": "markdown",
   "id": "2f8d86a0-b162-4760-a551-2781d3f9e964",
   "metadata": {},
   "source": [
    "### Regardons plus en détails la colonne `click_timestamp`"
   ]
  },
  {
   "cell_type": "code",
   "execution_count": 23,
   "id": "9fc829d9-004d-4640-b650-533c7fc0b27f",
   "metadata": {},
   "outputs": [
    {
     "data": {
      "text/html": [
       "<div>\n",
       "<style scoped>\n",
       "    .dataframe tbody tr th:only-of-type {\n",
       "        vertical-align: middle;\n",
       "    }\n",
       "\n",
       "    .dataframe tbody tr th {\n",
       "        vertical-align: top;\n",
       "    }\n",
       "\n",
       "    .dataframe thead th {\n",
       "        text-align: right;\n",
       "    }\n",
       "</style>\n",
       "<table border=\"1\" class=\"dataframe\">\n",
       "  <thead>\n",
       "    <tr style=\"text-align: right;\">\n",
       "      <th>short_date</th>\n",
       "      <th>2017-10-01</th>\n",
       "      <th>2017-10-02</th>\n",
       "      <th>2017-10-03</th>\n",
       "      <th>2017-10-04</th>\n",
       "      <th>2017-10-05</th>\n",
       "      <th>2017-10-06</th>\n",
       "      <th>2017-10-07</th>\n",
       "      <th>2017-10-08</th>\n",
       "      <th>2017-10-09</th>\n",
       "      <th>2017-10-10</th>\n",
       "      <th>...</th>\n",
       "      <th>2017-10-26</th>\n",
       "      <th>2017-10-27</th>\n",
       "      <th>2017-10-28</th>\n",
       "      <th>2017-10-30</th>\n",
       "      <th>2017-10-31</th>\n",
       "      <th>2017-11-01</th>\n",
       "      <th>2017-11-03</th>\n",
       "      <th>2017-11-04</th>\n",
       "      <th>2017-11-07</th>\n",
       "      <th>2017-11-13</th>\n",
       "    </tr>\n",
       "  </thead>\n",
       "  <tbody>\n",
       "    <tr>\n",
       "      <th>count</th>\n",
       "      <td>72106.00</td>\n",
       "      <td>286952.00</td>\n",
       "      <td>285219.00</td>\n",
       "      <td>210454.00</td>\n",
       "      <td>190165.00</td>\n",
       "      <td>207840.00</td>\n",
       "      <td>147946.00</td>\n",
       "      <td>104423.00</td>\n",
       "      <td>240519.00</td>\n",
       "      <td>283115.00</td>\n",
       "      <td>...</td>\n",
       "      <td>12.00</td>\n",
       "      <td>8.00</td>\n",
       "      <td>2.00</td>\n",
       "      <td>12.00</td>\n",
       "      <td>4.00</td>\n",
       "      <td>6.00</td>\n",
       "      <td>2.00</td>\n",
       "      <td>2.00</td>\n",
       "      <td>2.00</td>\n",
       "      <td>2.00</td>\n",
       "    </tr>\n",
       "    <tr>\n",
       "      <th>count_percent</th>\n",
       "      <td>2.41</td>\n",
       "      <td>9.60</td>\n",
       "      <td>9.54</td>\n",
       "      <td>7.04</td>\n",
       "      <td>6.36</td>\n",
       "      <td>6.96</td>\n",
       "      <td>4.95</td>\n",
       "      <td>3.49</td>\n",
       "      <td>8.05</td>\n",
       "      <td>9.47</td>\n",
       "      <td>...</td>\n",
       "      <td>0.00</td>\n",
       "      <td>0.00</td>\n",
       "      <td>0.00</td>\n",
       "      <td>0.00</td>\n",
       "      <td>0.00</td>\n",
       "      <td>0.00</td>\n",
       "      <td>0.00</td>\n",
       "      <td>0.00</td>\n",
       "      <td>0.00</td>\n",
       "      <td>0.00</td>\n",
       "    </tr>\n",
       "  </tbody>\n",
       "</table>\n",
       "<p>2 rows × 35 columns</p>\n",
       "</div>"
      ],
      "text/plain": [
       "short_date     2017-10-01  2017-10-02  2017-10-03  2017-10-04  2017-10-05  \\\n",
       "count            72106.00   286952.00   285219.00   210454.00   190165.00   \n",
       "count_percent        2.41        9.60        9.54        7.04        6.36   \n",
       "\n",
       "short_date     2017-10-06  2017-10-07  2017-10-08  2017-10-09  2017-10-10  \\\n",
       "count           207840.00   147946.00   104423.00   240519.00   283115.00   \n",
       "count_percent        6.96        4.95        3.49        8.05        9.47   \n",
       "\n",
       "short_date     ...  2017-10-26  2017-10-27  2017-10-28  2017-10-30  \\\n",
       "count          ...       12.00        8.00        2.00       12.00   \n",
       "count_percent  ...        0.00        0.00        0.00        0.00   \n",
       "\n",
       "short_date     2017-10-31  2017-11-01  2017-11-03  2017-11-04  2017-11-07  \\\n",
       "count                4.00        6.00        2.00        2.00        2.00   \n",
       "count_percent        0.00        0.00        0.00        0.00        0.00   \n",
       "\n",
       "short_date     2017-11-13  \n",
       "count                2.00  \n",
       "count_percent        0.00  \n",
       "\n",
       "[2 rows x 35 columns]"
      ]
     },
     "metadata": {},
     "output_type": "display_data"
    },
    {
     "data": {
      "image/png": "[encoded data removed]",
      "text/plain": [
       "<Figure size 1080x288 with 1 Axes>"
      ]
     },
     "metadata": {
      "needs_background": "light"
     },
     "output_type": "display_data"
    }
   ],
   "source": [
    "selection = data_clicks[['session_id', 'click_timestamp']].copy()\n",
    "selection['short_date'] = selection['click_timestamp'].apply(lambda x:datetime.datetime.fromtimestamp(x / 1000).strftime(\"%Y-%m-%d\"))\n",
    "selection = pd.DataFrame(selection.groupby('short_date').size(), columns=['count'])\n",
    "\n",
    "selection[\"count_percent\"] = 100 / selection['count'].sum() * selection\n",
    "display(selection.T)\n",
    "selection = selection[['count']].T\n",
    "\n",
    "plot_bars(\n",
    "    selection, \n",
    "    \"Répartition des clicks dans le temps (par jour)\", \n",
    "    y_label='Nombre de clicks (log scale)',\n",
    "    labels_modulo=1, show_values=True, log_scale=True, show_grid=True, \n",
    ")"
   ]
  },
  {
   "cell_type": "markdown",
   "id": "5cc68d62-451f-4c59-a0bc-d329b32dc249",
   "metadata": {},
   "source": [
    "> #### ⚠️ On note que les dates de clicks s'étendent bien au dela des dates de début de session *(on des clicks presque 1 mois après le dernier début de session enregistré)*"
   ]
  },
  {
   "cell_type": "markdown",
   "id": "c32b53f7-d871-4910-acd3-4db1aefa9721",
   "metadata": {
    "tags": []
   },
   "source": [
    "## 3.3 Analyses multivariées <a class=\"anchor\" id=\"clicks_hour_multi\"></a> [⇪](#menu)"
   ]
  },
  {
   "cell_type": "markdown",
   "id": "174f8f0d-8db9-4610-8471-7fea6843094e",
   "metadata": {},
   "source": [
    "### Regardons le nombre d'articles lus par utilisateurs"
   ]
  },
  {
   "cell_type": "code",
   "execution_count": 24,
   "id": "ed52a949-cd75-43d0-baa9-a665b6791ef0",
   "metadata": {},
   "outputs": [
    {
     "data": {
      "text/html": [
       "<div>\n",
       "<style scoped>\n",
       "    .dataframe tbody tr th:only-of-type {\n",
       "        vertical-align: middle;\n",
       "    }\n",
       "\n",
       "    .dataframe tbody tr th {\n",
       "        vertical-align: top;\n",
       "    }\n",
       "\n",
       "    .dataframe thead th {\n",
       "        text-align: right;\n",
       "    }\n",
       "</style>\n",
       "<table border=\"1\" class=\"dataframe\">\n",
       "  <thead>\n",
       "    <tr style=\"text-align: right;\">\n",
       "      <th>num_articles</th>\n",
       "      <th>2</th>\n",
       "      <th>3</th>\n",
       "      <th>4</th>\n",
       "      <th>5</th>\n",
       "      <th>6</th>\n",
       "      <th>7</th>\n",
       "      <th>8</th>\n",
       "      <th>9</th>\n",
       "      <th>10</th>\n",
       "      <th>11</th>\n",
       "      <th>...</th>\n",
       "      <th>501</th>\n",
       "      <th>502</th>\n",
       "      <th>513</th>\n",
       "      <th>529</th>\n",
       "      <th>722</th>\n",
       "      <th>746</th>\n",
       "      <th>783</th>\n",
       "      <th>900</th>\n",
       "      <th>939</th>\n",
       "      <th>1232</th>\n",
       "    </tr>\n",
       "  </thead>\n",
       "  <tbody>\n",
       "    <tr>\n",
       "      <th>num_users</th>\n",
       "      <td>101428.00</td>\n",
       "      <td>22660.00</td>\n",
       "      <td>38432.00</td>\n",
       "      <td>18070.00</td>\n",
       "      <td>20370.00</td>\n",
       "      <td>13358.00</td>\n",
       "      <td>12780.00</td>\n",
       "      <td>9701.00</td>\n",
       "      <td>8807.00</td>\n",
       "      <td>7143.00</td>\n",
       "      <td>...</td>\n",
       "      <td>1.00</td>\n",
       "      <td>1.00</td>\n",
       "      <td>1.00</td>\n",
       "      <td>1.00</td>\n",
       "      <td>1.00</td>\n",
       "      <td>1.00</td>\n",
       "      <td>1.00</td>\n",
       "      <td>1.00</td>\n",
       "      <td>1.00</td>\n",
       "      <td>1.00</td>\n",
       "    </tr>\n",
       "    <tr>\n",
       "      <th>num_users_percent</th>\n",
       "      <td>31.41</td>\n",
       "      <td>7.02</td>\n",
       "      <td>11.90</td>\n",
       "      <td>5.60</td>\n",
       "      <td>6.31</td>\n",
       "      <td>4.14</td>\n",
       "      <td>3.96</td>\n",
       "      <td>3.00</td>\n",
       "      <td>2.73</td>\n",
       "      <td>2.21</td>\n",
       "      <td>...</td>\n",
       "      <td>0.00</td>\n",
       "      <td>0.00</td>\n",
       "      <td>0.00</td>\n",
       "      <td>0.00</td>\n",
       "      <td>0.00</td>\n",
       "      <td>0.00</td>\n",
       "      <td>0.00</td>\n",
       "      <td>0.00</td>\n",
       "      <td>0.00</td>\n",
       "      <td>0.00</td>\n",
       "    </tr>\n",
       "  </tbody>\n",
       "</table>\n",
       "<p>2 rows × 302 columns</p>\n",
       "</div>"
      ],
      "text/plain": [
       "num_articles           2        3        4        5        6        7     \\\n",
       "num_users         101428.00 22660.00 38432.00 18070.00 20370.00 13358.00   \n",
       "num_users_percent     31.41     7.02    11.90     5.60     6.31     4.14   \n",
       "\n",
       "num_articles          8       9       10      11    ...  501   502   513   \\\n",
       "num_users         12780.00 9701.00 8807.00 7143.00  ...  1.00  1.00  1.00   \n",
       "num_users_percent     3.96    3.00    2.73    2.21  ...  0.00  0.00  0.00   \n",
       "\n",
       "num_articles       529   722   746   783   900   939   1232  \n",
       "num_users          1.00  1.00  1.00  1.00  1.00  1.00  1.00  \n",
       "num_users_percent  0.00  0.00  0.00  0.00  0.00  0.00  0.00  \n",
       "\n",
       "[2 rows x 302 columns]"
      ]
     },
     "metadata": {},
     "output_type": "display_data"
    },
    {
     "data": {
      "image/png": "[encoded data removed]",
      "text/plain": [
       "<Figure size 1080x288 with 1 Axes>"
      ]
     },
     "metadata": {
      "needs_background": "light"
     },
     "output_type": "display_data"
    }
   ],
   "source": [
    "selection = data_clicks[['user_id','click_article_id']].copy()\n",
    "selection = pd.DataFrame(selection.groupby('user_id').size(), columns=['num_articles'])\n",
    "selection = pd.DataFrame(selection.groupby('num_articles').size(), columns=['num_users'])\n",
    "\n",
    "selection[\"num_users_percent\"] = 100 / data_clicks['user_id'].nunique() * selection\n",
    "display(selection.T)\n",
    "selection = selection[['num_users']].T\n",
    "\n",
    "plot_bars(\n",
    "    selection, \n",
    "    \"Répartition des utilisateurs par nombre d'articles lus\", \n",
    "    x_label=\"Articles lus\", y_label=\"Nombre de lecteurs (log scale)\",\n",
    "    labels_modulo=10, show_values=False, log_scale=True, show_grid=True, \n",
    ")"
   ]
  },
  {
   "cell_type": "markdown",
   "id": "a7b5a2d0-83cd-4b7a-9109-20b5b0d11a59",
   "metadata": {},
   "source": [
    "Regardons plus en détail les 25 premiers"
   ]
  },
  {
   "cell_type": "code",
   "execution_count": 25,
   "id": "4e7f11cb-2f58-4971-a8b8-357d9865b3e7",
   "metadata": {},
   "outputs": [
    {
     "data": {
      "text/html": [
       "<div>\n",
       "<style scoped>\n",
       "    .dataframe tbody tr th:only-of-type {\n",
       "        vertical-align: middle;\n",
       "    }\n",
       "\n",
       "    .dataframe tbody tr th {\n",
       "        vertical-align: top;\n",
       "    }\n",
       "\n",
       "    .dataframe thead th {\n",
       "        text-align: right;\n",
       "    }\n",
       "</style>\n",
       "<table border=\"1\" class=\"dataframe\">\n",
       "  <thead>\n",
       "    <tr style=\"text-align: right;\">\n",
       "      <th>num_articles</th>\n",
       "      <th>2</th>\n",
       "      <th>3</th>\n",
       "      <th>4</th>\n",
       "      <th>5</th>\n",
       "      <th>6</th>\n",
       "      <th>7</th>\n",
       "      <th>8</th>\n",
       "      <th>9</th>\n",
       "      <th>10</th>\n",
       "      <th>11</th>\n",
       "      <th>...</th>\n",
       "      <th>17</th>\n",
       "      <th>18</th>\n",
       "      <th>19</th>\n",
       "      <th>20</th>\n",
       "      <th>21</th>\n",
       "      <th>22</th>\n",
       "      <th>23</th>\n",
       "      <th>24</th>\n",
       "      <th>25</th>\n",
       "      <th>26</th>\n",
       "    </tr>\n",
       "  </thead>\n",
       "  <tbody>\n",
       "    <tr>\n",
       "      <th>num_users</th>\n",
       "      <td>101428.00</td>\n",
       "      <td>22660.00</td>\n",
       "      <td>38432.00</td>\n",
       "      <td>18070.00</td>\n",
       "      <td>20370.00</td>\n",
       "      <td>13358.00</td>\n",
       "      <td>12780.00</td>\n",
       "      <td>9701.00</td>\n",
       "      <td>8807.00</td>\n",
       "      <td>7143.00</td>\n",
       "      <td>...</td>\n",
       "      <td>3458.00</td>\n",
       "      <td>3040.00</td>\n",
       "      <td>2755.00</td>\n",
       "      <td>2557.00</td>\n",
       "      <td>2281.00</td>\n",
       "      <td>2120.00</td>\n",
       "      <td>1864.00</td>\n",
       "      <td>1725.00</td>\n",
       "      <td>1554.00</td>\n",
       "      <td>1487.00</td>\n",
       "    </tr>\n",
       "    <tr>\n",
       "      <th>num_users_percent</th>\n",
       "      <td>31.41</td>\n",
       "      <td>7.02</td>\n",
       "      <td>11.90</td>\n",
       "      <td>5.60</td>\n",
       "      <td>6.31</td>\n",
       "      <td>4.14</td>\n",
       "      <td>3.96</td>\n",
       "      <td>3.00</td>\n",
       "      <td>2.73</td>\n",
       "      <td>2.21</td>\n",
       "      <td>...</td>\n",
       "      <td>1.07</td>\n",
       "      <td>0.94</td>\n",
       "      <td>0.85</td>\n",
       "      <td>0.79</td>\n",
       "      <td>0.71</td>\n",
       "      <td>0.66</td>\n",
       "      <td>0.58</td>\n",
       "      <td>0.53</td>\n",
       "      <td>0.48</td>\n",
       "      <td>0.46</td>\n",
       "    </tr>\n",
       "  </tbody>\n",
       "</table>\n",
       "<p>2 rows × 25 columns</p>\n",
       "</div>"
      ],
      "text/plain": [
       "num_articles             2        3        4        5        6        7   \\\n",
       "num_users         101428.00 22660.00 38432.00 18070.00 20370.00 13358.00   \n",
       "num_users_percent     31.41     7.02    11.90     5.60     6.31     4.14   \n",
       "\n",
       "num_articles            8       9       10      11  ...      17      18  \\\n",
       "num_users         12780.00 9701.00 8807.00 7143.00  ... 3458.00 3040.00   \n",
       "num_users_percent     3.96    3.00    2.73    2.21  ...    1.07    0.94   \n",
       "\n",
       "num_articles           19      20      21      22      23      24      25  \\\n",
       "num_users         2755.00 2557.00 2281.00 2120.00 1864.00 1725.00 1554.00   \n",
       "num_users_percent    0.85    0.79    0.71    0.66    0.58    0.53    0.48   \n",
       "\n",
       "num_articles           26  \n",
       "num_users         1487.00  \n",
       "num_users_percent    0.46  \n",
       "\n",
       "[2 rows x 25 columns]"
      ]
     },
     "metadata": {},
     "output_type": "display_data"
    },
    {
     "data": {
      "image/png": "[encoded data removed]",
      "text/plain": [
       "<Figure size 1080x288 with 1 Axes>"
      ]
     },
     "metadata": {
      "needs_background": "light"
     },
     "output_type": "display_data"
    }
   ],
   "source": [
    "selection = data_clicks[['user_id','click_article_id']].copy()\n",
    "selection = pd.DataFrame(selection.groupby('user_id').size(), columns=['num_articles'])\n",
    "selection = pd.DataFrame(selection.groupby('num_articles').size(), columns=['num_users'])[:25]\n",
    "\n",
    "selection[\"num_users_percent\"] = 100 / data_clicks['user_id'].nunique() * selection\n",
    "display(selection.T)\n",
    "selection = selection[['num_users']].T\n",
    "\n",
    "plot_bars(\n",
    "    selection, \n",
    "    \"Répartition des utilisateurs par nombre d'articles lus (TOP 25)\", \n",
    "    x_label=\"Articles lus\", y_label=\"Nombre de lecteurs\",\n",
    "    labels_modulo=1, show_values=True, log_scale=False, show_grid=True, \n",
    ")"
   ]
  },
  {
   "cell_type": "code",
   "execution_count": 26,
   "id": "4608e232-e845-4a8d-b0a2-f1b99254e5bb",
   "metadata": {},
   "outputs": [
    {
     "name": "stdout",
     "output_type": "stream",
     "text": [
      "160377 utilisateurs (49.67%) ont lus plus de 5 articles\n"
     ]
    }
   ],
   "source": [
    "selection = data_clicks[['user_id','click_article_id']].copy()\n",
    "\n",
    "min_reads = 5\n",
    "selection = pd.DataFrame(selection.groupby('user_id').size(), columns=['num_articles'])\n",
    "selection = pd.DataFrame(selection.groupby('num_articles').size(), columns=['num_users'])\n",
    "selection = selection[ selection.index >= min_reads]\n",
    "selection[\"num_users_percent\"] = 100 / data_clicks['user_id'].nunique() * selection\n",
    "\n",
    "print(f\"{selection['num_users'].sum()} utilisateurs ({selection['num_users_percent'].sum():.2f}%) ont lus plus de {min_reads} articles\")"
   ]
  },
  {
   "cell_type": "markdown",
   "id": "d79fa8d4-041e-4786-9e7e-620363859cbd",
   "metadata": {},
   "source": [
    "> * On peut voir que tous les utilisateurs ont lus au moins 2 articles\n",
    "> * On peut également noter que plus de **31% des utilisateurs n'ont lu que 2 articles**... ils ne sont peut être pas pertinents pour faire de la recommandation.\n",
    "> * De même en pourcentage cumulé, plus de **50% des utilisateurs ont lus 4 articles ou moins**...\n",
    ">>\n",
    "> * En pourcentage cumulé, environ **50% des utilisateurs ont lus 5 articles ou plus**...\n",
    "> * En pourcentage cumulé, environ **27% des utilisateurs ont lus 10 articles ou plus**...\n",
    "> * En pourcentage cumulé, environ **2% des utilisateurs ont lus 50 articles ou plus**...\n",
    "> * En pourcentage cumulé, environ **0.35% des utilisateurs ont lus 100 articles ou plus**..."
   ]
  },
  {
   "cell_type": "markdown",
   "id": "388127da-753d-4618-be68-ac354fed4ec7",
   "metadata": {},
   "source": [
    "### Regardons le nombre de lecteurs par article"
   ]
  },
  {
   "cell_type": "code",
   "execution_count": 27,
   "id": "07fe37e8-7759-4ce5-83d1-37466cd67e16",
   "metadata": {},
   "outputs": [
    {
     "data": {
      "text/html": [
       "<div>\n",
       "<style scoped>\n",
       "    .dataframe tbody tr th:only-of-type {\n",
       "        vertical-align: middle;\n",
       "    }\n",
       "\n",
       "    .dataframe tbody tr th {\n",
       "        vertical-align: top;\n",
       "    }\n",
       "\n",
       "    .dataframe thead th {\n",
       "        text-align: right;\n",
       "    }\n",
       "</style>\n",
       "<table border=\"1\" class=\"dataframe\">\n",
       "  <thead>\n",
       "    <tr style=\"text-align: right;\">\n",
       "      <th>total_reads</th>\n",
       "      <th>1</th>\n",
       "      <th>2</th>\n",
       "      <th>3</th>\n",
       "      <th>4</th>\n",
       "      <th>5</th>\n",
       "      <th>6</th>\n",
       "      <th>7</th>\n",
       "      <th>8</th>\n",
       "      <th>9</th>\n",
       "      <th>10</th>\n",
       "      <th>...</th>\n",
       "      <th>19526</th>\n",
       "      <th>20303</th>\n",
       "      <th>21062</th>\n",
       "      <th>21577</th>\n",
       "      <th>21855</th>\n",
       "      <th>23122</th>\n",
       "      <th>23499</th>\n",
       "      <th>23851</th>\n",
       "      <th>28943</th>\n",
       "      <th>37213</th>\n",
       "    </tr>\n",
       "  </thead>\n",
       "  <tbody>\n",
       "    <tr>\n",
       "      <th>num_articles</th>\n",
       "      <td>24811.00</td>\n",
       "      <td>4682.00</td>\n",
       "      <td>2129.00</td>\n",
       "      <td>1315.00</td>\n",
       "      <td>990.00</td>\n",
       "      <td>746.00</td>\n",
       "      <td>621.00</td>\n",
       "      <td>504.00</td>\n",
       "      <td>476.00</td>\n",
       "      <td>384.00</td>\n",
       "      <td>...</td>\n",
       "      <td>1.00</td>\n",
       "      <td>1.00</td>\n",
       "      <td>1.00</td>\n",
       "      <td>1.00</td>\n",
       "      <td>1.00</td>\n",
       "      <td>1.00</td>\n",
       "      <td>1.00</td>\n",
       "      <td>1.00</td>\n",
       "      <td>1.00</td>\n",
       "      <td>1.00</td>\n",
       "    </tr>\n",
       "    <tr>\n",
       "      <th>num_articles_percent</th>\n",
       "      <td>53.90</td>\n",
       "      <td>10.17</td>\n",
       "      <td>4.62</td>\n",
       "      <td>2.86</td>\n",
       "      <td>2.15</td>\n",
       "      <td>1.62</td>\n",
       "      <td>1.35</td>\n",
       "      <td>1.09</td>\n",
       "      <td>1.03</td>\n",
       "      <td>0.83</td>\n",
       "      <td>...</td>\n",
       "      <td>0.00</td>\n",
       "      <td>0.00</td>\n",
       "      <td>0.00</td>\n",
       "      <td>0.00</td>\n",
       "      <td>0.00</td>\n",
       "      <td>0.00</td>\n",
       "      <td>0.00</td>\n",
       "      <td>0.00</td>\n",
       "      <td>0.00</td>\n",
       "      <td>0.00</td>\n",
       "    </tr>\n",
       "  </tbody>\n",
       "</table>\n",
       "<p>2 rows × 1185 columns</p>\n",
       "</div>"
      ],
      "text/plain": [
       "total_reads             1       2       3       4      5      6      7      \\\n",
       "num_articles         24811.00 4682.00 2129.00 1315.00 990.00 746.00 621.00   \n",
       "num_articles_percent    53.90   10.17    4.62    2.86   2.15   1.62   1.35   \n",
       "\n",
       "total_reads           8      9      10     ...  19526  20303  21062  21577  \\\n",
       "num_articles         504.00 476.00 384.00  ...   1.00   1.00   1.00   1.00   \n",
       "num_articles_percent   1.09   1.03   0.83  ...   0.00   0.00   0.00   0.00   \n",
       "\n",
       "total_reads           21855  23122  23499  23851  28943  37213  \n",
       "num_articles           1.00   1.00   1.00   1.00   1.00   1.00  \n",
       "num_articles_percent   0.00   0.00   0.00   0.00   0.00   0.00  \n",
       "\n",
       "[2 rows x 1185 columns]"
      ]
     },
     "metadata": {},
     "output_type": "display_data"
    },
    {
     "data": {
      "image/png": "[encoded data removed]",
      "text/plain": [
       "<Figure size 1080x288 with 1 Axes>"
      ]
     },
     "metadata": {
      "needs_background": "light"
     },
     "output_type": "display_data"
    }
   ],
   "source": [
    "selection = data_clicks[['user_id','click_article_id']].copy()\n",
    "\n",
    "selection = pd.DataFrame(selection.groupby('click_article_id').size(), columns=['total_reads']) # ici on a le nombre de lectures pour chaque article\n",
    "selection = pd.DataFrame(selection.groupby('total_reads').size(), columns=['num_articles']) # ici on a le nombre d'article regroupés par nombre de lectures\n",
    "\n",
    "selection[\"num_articles_percent\"] = 100 / data_clicks['click_article_id'].nunique() * selection\n",
    "display(selection.T)\n",
    "selection = selection[['num_articles']].T\n",
    "\n",
    "plot_bars(\n",
    "    selection, \n",
    "    \"Répartition des articles par nombre de lectures\", \n",
    "    x_label=\"Nombre de lectures\", y_label=\"Nombre d'articles (log scale)\",\n",
    "    labels_modulo=100, show_values=False, log_scale=True, show_grid=True, \n",
    ")"
   ]
  },
  {
   "cell_type": "markdown",
   "id": "58f34946-124c-4987-bbec-ee50a537ce18",
   "metadata": {},
   "source": [
    "Regardons plus en détail les 25 premiers"
   ]
  },
  {
   "cell_type": "code",
   "execution_count": 28,
   "id": "6a8b7870-a89a-4766-961e-24fc0dbe0241",
   "metadata": {},
   "outputs": [
    {
     "data": {
      "text/html": [
       "<div>\n",
       "<style scoped>\n",
       "    .dataframe tbody tr th:only-of-type {\n",
       "        vertical-align: middle;\n",
       "    }\n",
       "\n",
       "    .dataframe tbody tr th {\n",
       "        vertical-align: top;\n",
       "    }\n",
       "\n",
       "    .dataframe thead th {\n",
       "        text-align: right;\n",
       "    }\n",
       "</style>\n",
       "<table border=\"1\" class=\"dataframe\">\n",
       "  <thead>\n",
       "    <tr style=\"text-align: right;\">\n",
       "      <th>total_reads</th>\n",
       "      <th>1</th>\n",
       "      <th>2</th>\n",
       "      <th>3</th>\n",
       "      <th>4</th>\n",
       "      <th>5</th>\n",
       "      <th>6</th>\n",
       "      <th>7</th>\n",
       "      <th>8</th>\n",
       "      <th>9</th>\n",
       "      <th>10</th>\n",
       "      <th>...</th>\n",
       "      <th>16</th>\n",
       "      <th>17</th>\n",
       "      <th>18</th>\n",
       "      <th>19</th>\n",
       "      <th>20</th>\n",
       "      <th>21</th>\n",
       "      <th>22</th>\n",
       "      <th>23</th>\n",
       "      <th>24</th>\n",
       "      <th>25</th>\n",
       "    </tr>\n",
       "  </thead>\n",
       "  <tbody>\n",
       "    <tr>\n",
       "      <th>num_articles</th>\n",
       "      <td>24811.00</td>\n",
       "      <td>4682.00</td>\n",
       "      <td>2129.00</td>\n",
       "      <td>1315.00</td>\n",
       "      <td>990.00</td>\n",
       "      <td>746.00</td>\n",
       "      <td>621.00</td>\n",
       "      <td>504.00</td>\n",
       "      <td>476.00</td>\n",
       "      <td>384.00</td>\n",
       "      <td>...</td>\n",
       "      <td>247.00</td>\n",
       "      <td>232.00</td>\n",
       "      <td>209.00</td>\n",
       "      <td>193.00</td>\n",
       "      <td>175.00</td>\n",
       "      <td>165.00</td>\n",
       "      <td>149.00</td>\n",
       "      <td>160.00</td>\n",
       "      <td>106.00</td>\n",
       "      <td>126.00</td>\n",
       "    </tr>\n",
       "    <tr>\n",
       "      <th>num_articles_percent</th>\n",
       "      <td>53.90</td>\n",
       "      <td>10.17</td>\n",
       "      <td>4.62</td>\n",
       "      <td>2.86</td>\n",
       "      <td>2.15</td>\n",
       "      <td>1.62</td>\n",
       "      <td>1.35</td>\n",
       "      <td>1.09</td>\n",
       "      <td>1.03</td>\n",
       "      <td>0.83</td>\n",
       "      <td>...</td>\n",
       "      <td>0.54</td>\n",
       "      <td>0.50</td>\n",
       "      <td>0.45</td>\n",
       "      <td>0.42</td>\n",
       "      <td>0.38</td>\n",
       "      <td>0.36</td>\n",
       "      <td>0.32</td>\n",
       "      <td>0.35</td>\n",
       "      <td>0.23</td>\n",
       "      <td>0.27</td>\n",
       "    </tr>\n",
       "  </tbody>\n",
       "</table>\n",
       "<p>2 rows × 25 columns</p>\n",
       "</div>"
      ],
      "text/plain": [
       "total_reads                1       2       3       4      5      6      7   \\\n",
       "num_articles         24811.00 4682.00 2129.00 1315.00 990.00 746.00 621.00   \n",
       "num_articles_percent    53.90   10.17    4.62    2.86   2.15   1.62   1.35   \n",
       "\n",
       "total_reads              8      9      10  ...     16     17     18     19  \\\n",
       "num_articles         504.00 476.00 384.00  ... 247.00 232.00 209.00 193.00   \n",
       "num_articles_percent   1.09   1.03   0.83  ...   0.54   0.50   0.45   0.42   \n",
       "\n",
       "total_reads              20     21     22     23     24     25  \n",
       "num_articles         175.00 165.00 149.00 160.00 106.00 126.00  \n",
       "num_articles_percent   0.38   0.36   0.32   0.35   0.23   0.27  \n",
       "\n",
       "[2 rows x 25 columns]"
      ]
     },
     "metadata": {},
     "output_type": "display_data"
    },
    {
     "data": {
      "image/png": "[encoded data removed]",
      "text/plain": [
       "<Figure size 1080x288 with 1 Axes>"
      ]
     },
     "metadata": {
      "needs_background": "light"
     },
     "output_type": "display_data"
    }
   ],
   "source": [
    "selection = data_clicks[['user_id','click_article_id']].copy()\n",
    "\n",
    "selection = pd.DataFrame(selection.groupby('click_article_id').size(), columns=['total_reads']) # ici on a le nombre de lectures pour chaque article\n",
    "selection = pd.DataFrame(selection.groupby('total_reads').size(), columns=['num_articles'])[:25] # ici on a le nombre d'article regroupés par nombre de lectures\n",
    "\n",
    "selection[\"num_articles_percent\"] = 100 / data_clicks['click_article_id'].nunique() * selection\n",
    "display(selection.T)\n",
    "selection = selection[['num_articles']].T\n",
    "\n",
    "plot_bars(\n",
    "    selection, \n",
    "    \"Répartition des articles par nombre de lectures (TOP 25)\", \n",
    "    x_label=\"Nombre de lectures\", y_label=\"Nombre d'articles\",\n",
    "    labels_modulo=1, show_values=True, log_scale=False, show_grid=True, \n",
    ")"
   ]
  },
  {
   "cell_type": "code",
   "execution_count": 29,
   "id": "5f77f2f9-93a3-4ccf-bf53-4a44155deb19",
   "metadata": {},
   "outputs": [
    {
     "name": "stdout",
     "output_type": "stream",
     "text": [
      "13096 articles (28.45%) ont été lus au moins 5 fois\n"
     ]
    }
   ],
   "source": [
    "selection = data_clicks[['user_id','click_article_id']].copy()\n",
    "\n",
    "min_reads = 5\n",
    "selection = pd.DataFrame(selection.groupby('click_article_id').size(), columns=['total_reads']) # ici on a le nombre de lectures pour chaque article\n",
    "selection = pd.DataFrame(selection.groupby('total_reads').size(), columns=['num_articles']) # ici on a le nombre d'article regroupés par nombre de lectures\n",
    "selection = selection[ selection.index >= min_reads]\n",
    "selection[\"num_articles_percent\"] = 100 / data_clicks['click_article_id'].nunique() * selection\n",
    "\n",
    "print(f\"{selection['num_articles'].sum()} articles ({selection['num_articles_percent'].sum():.2f}%) ont été lus au moins {min_reads} fois\")"
   ]
  },
  {
   "cell_type": "code",
   "execution_count": 30,
   "id": "eb30ed34-d12b-43ea-993f-44d999e31603",
   "metadata": {},
   "outputs": [
    {
     "data": {
      "text/html": [
       "<div>\n",
       "<style scoped>\n",
       "    .dataframe tbody tr th:only-of-type {\n",
       "        vertical-align: middle;\n",
       "    }\n",
       "\n",
       "    .dataframe tbody tr th {\n",
       "        vertical-align: top;\n",
       "    }\n",
       "\n",
       "    .dataframe thead th {\n",
       "        text-align: right;\n",
       "    }\n",
       "</style>\n",
       "<table border=\"1\" class=\"dataframe\">\n",
       "  <thead>\n",
       "    <tr style=\"text-align: right;\">\n",
       "      <th></th>\n",
       "      <th>count</th>\n",
       "      <th>mean</th>\n",
       "      <th>std</th>\n",
       "      <th>min</th>\n",
       "      <th>25%</th>\n",
       "      <th>50%</th>\n",
       "      <th>75%</th>\n",
       "      <th>max</th>\n",
       "    </tr>\n",
       "  </thead>\n",
       "  <tbody>\n",
       "    <tr>\n",
       "      <th>total_reads</th>\n",
       "      <td>46033.00</td>\n",
       "      <td>64.91</td>\n",
       "      <td>629.32</td>\n",
       "      <td>1.00</td>\n",
       "      <td>1.00</td>\n",
       "      <td>1.00</td>\n",
       "      <td>6.00</td>\n",
       "      <td>37213.00</td>\n",
       "    </tr>\n",
       "  </tbody>\n",
       "</table>\n",
       "</div>"
      ],
      "text/plain": [
       "               count  mean    std  min  25%  50%  75%      max\n",
       "total_reads 46033.00 64.91 629.32 1.00 1.00 1.00 6.00 37213.00"
      ]
     },
     "metadata": {},
     "output_type": "display_data"
    },
    {
     "name": "stdout",
     "output_type": "stream",
     "text": [
      "Le quartile 0.99 se situe à 1203 articles lus\n"
     ]
    }
   ],
   "source": [
    "selection = data_clicks[['user_id','click_article_id']].copy()\n",
    "selection = pd.DataFrame(selection.groupby('click_article_id').size(), columns=['total_reads']) # ici on a le nombre de lectures pour chaque article\n",
    "display(selection.describe().T)\n",
    "print(f\"Le quartile 0.99 se situe à {int(selection.quantile(0.99))} articles lus\")"
   ]
  },
  {
   "cell_type": "markdown",
   "id": "db3f2133-2973-41ec-979c-d7a0c3cca27b",
   "metadata": {},
   "source": [
    "> * Environ **54% des articles ont été lus une seule fois**...\n",
    "> * En pourcentage cumulé, environ **75% des articles ont été lus 6 fois ou moins**.\n",
    ">>\n",
    "> * En pourcentage cumulé, environ **28% des articles ont été lus 5 fois ou plus**.\n",
    "> * En pourcentage cumulé, environ **21% des articles ont été lus 10 fois ou plus**.\n",
    "> * En pourcentage cumulé, environ **9% des articles ont été lus 50 fois ou plus**.\n",
    "> * En pourcentage cumulé, environ **5% des articles ont été lus 100 fois ou plus**.\n",
    "> * En pourcentage cumulé, environ **1% des articles ont été lus 1000 fois ou plus**."
   ]
  },
  {
   "cell_type": "markdown",
   "id": "c7592d4b-9637-4def-b411-2edb914c27e3",
   "metadata": {},
   "source": [
    "---\n",
    ">#### `TODO`  done ✅ | todo ❌ |\n",
    "> - ❌ Supprimer les sessions dont la taille est atypique *(on supprime ce qui dépasse quartile(0.99))* ❓\n",
    ">>\n",
    "> - ✅ Supprimer les sessions dont les utilisateurs ont lus trop peu d'articles *(moins de 10 ? moins que le nombre d'articles à recommander ?)*<br>*(action: supprimé en section 4.2.2)*\n",
    "> - ❌ Supprimer les sessions dont les utilisateurs ont lus trop d'articles *(on supprime ce qui dépasse quartile(0.99))* ❓\n",
    ">>\n",
    "> - ✅ Supprimer les sessions dont les articles n'ont été lus qu'une seule fois *(53.9%)*<br>*(action: supprimé en section 4.2.1)*\n",
    "> - ❌ Supprimer les sessions dont les articles ont été lus trop souvent *(on supprime ce qui dépasse quartile(0.99) soit 1200 environ)* ❓"
   ]
  },
  {
   "cell_type": "markdown",
   "id": "40cef19c-b7f1-4e00-959a-e9b6f29ceea2",
   "metadata": {},
   "source": [
    "---\n",
    "---\n",
    "# 4. Préparation du jeu de données de travail <a class=\"anchor\" id=\"dataset\"></a> [⇪](#menu)"
   ]
  },
  {
   "cell_type": "markdown",
   "id": "45345cf0-a890-4aa8-9432-73fd6d29e4bd",
   "metadata": {},
   "source": [
    "## 4.1 Fusion de `articles_metadata.csv` et `clicks_hour_xxx.csv` <a class=\"anchor\" id=\"dataset_merge\"></a> [⇪](#menu)"
   ]
  },
  {
   "cell_type": "code",
   "execution_count": 31,
   "id": "513e359b-fb92-42aa-925e-7273f891b435",
   "metadata": {},
   "outputs": [
    {
     "data": {
      "text/html": [
       "<div>\n",
       "<style scoped>\n",
       "    .dataframe tbody tr th:only-of-type {\n",
       "        vertical-align: middle;\n",
       "    }\n",
       "\n",
       "    .dataframe tbody tr th {\n",
       "        vertical-align: top;\n",
       "    }\n",
       "\n",
       "    .dataframe thead th {\n",
       "        text-align: right;\n",
       "    }\n",
       "</style>\n",
       "<table border=\"1\" class=\"dataframe\">\n",
       "  <thead>\n",
       "    <tr style=\"text-align: right;\">\n",
       "      <th></th>\n",
       "      <th>user_id</th>\n",
       "      <th>session_id</th>\n",
       "      <th>session_start</th>\n",
       "      <th>session_size</th>\n",
       "      <th>click_article_id</th>\n",
       "      <th>click_timestamp</th>\n",
       "      <th>click_environment</th>\n",
       "      <th>click_deviceGroup</th>\n",
       "      <th>click_os</th>\n",
       "      <th>click_country</th>\n",
       "      <th>click_region</th>\n",
       "      <th>click_referrer_type</th>\n",
       "      <th>hour</th>\n",
       "      <th>article_id</th>\n",
       "      <th>category_id</th>\n",
       "      <th>created_at_ts</th>\n",
       "      <th>publisher_id</th>\n",
       "      <th>words_count</th>\n",
       "    </tr>\n",
       "  </thead>\n",
       "  <tbody>\n",
       "    <tr>\n",
       "      <th>0</th>\n",
       "      <td>0</td>\n",
       "      <td>1506825423271737</td>\n",
       "      <td>1506825423000</td>\n",
       "      <td>2</td>\n",
       "      <td>157541</td>\n",
       "      <td>1506826828020</td>\n",
       "      <td>4</td>\n",
       "      <td>3</td>\n",
       "      <td>20</td>\n",
       "      <td>1</td>\n",
       "      <td>20</td>\n",
       "      <td>2</td>\n",
       "      <td>0</td>\n",
       "      <td>157541</td>\n",
       "      <td>281</td>\n",
       "      <td>1506800518000</td>\n",
       "      <td>0</td>\n",
       "      <td>280</td>\n",
       "    </tr>\n",
       "    <tr>\n",
       "      <th>1</th>\n",
       "      <td>0</td>\n",
       "      <td>1506825423271737</td>\n",
       "      <td>1506825423000</td>\n",
       "      <td>2</td>\n",
       "      <td>68866</td>\n",
       "      <td>1506826858020</td>\n",
       "      <td>4</td>\n",
       "      <td>3</td>\n",
       "      <td>20</td>\n",
       "      <td>1</td>\n",
       "      <td>20</td>\n",
       "      <td>2</td>\n",
       "      <td>0</td>\n",
       "      <td>68866</td>\n",
       "      <td>136</td>\n",
       "      <td>1506816482000</td>\n",
       "      <td>0</td>\n",
       "      <td>226</td>\n",
       "    </tr>\n",
       "    <tr>\n",
       "      <th>2</th>\n",
       "      <td>1</td>\n",
       "      <td>1506825426267738</td>\n",
       "      <td>1506825426000</td>\n",
       "      <td>2</td>\n",
       "      <td>235840</td>\n",
       "      <td>1506827017951</td>\n",
       "      <td>4</td>\n",
       "      <td>1</td>\n",
       "      <td>17</td>\n",
       "      <td>1</td>\n",
       "      <td>16</td>\n",
       "      <td>2</td>\n",
       "      <td>0</td>\n",
       "      <td>235840</td>\n",
       "      <td>375</td>\n",
       "      <td>1506807839000</td>\n",
       "      <td>0</td>\n",
       "      <td>159</td>\n",
       "    </tr>\n",
       "    <tr>\n",
       "      <th>3</th>\n",
       "      <td>1</td>\n",
       "      <td>1506825426267738</td>\n",
       "      <td>1506825426000</td>\n",
       "      <td>2</td>\n",
       "      <td>96663</td>\n",
       "      <td>1506827047951</td>\n",
       "      <td>4</td>\n",
       "      <td>1</td>\n",
       "      <td>17</td>\n",
       "      <td>1</td>\n",
       "      <td>16</td>\n",
       "      <td>2</td>\n",
       "      <td>0</td>\n",
       "      <td>96663</td>\n",
       "      <td>209</td>\n",
       "      <td>1506788025000</td>\n",
       "      <td>0</td>\n",
       "      <td>206</td>\n",
       "    </tr>\n",
       "    <tr>\n",
       "      <th>4</th>\n",
       "      <td>2</td>\n",
       "      <td>1506825435299739</td>\n",
       "      <td>1506825435000</td>\n",
       "      <td>2</td>\n",
       "      <td>119592</td>\n",
       "      <td>1506827090575</td>\n",
       "      <td>4</td>\n",
       "      <td>1</td>\n",
       "      <td>17</td>\n",
       "      <td>1</td>\n",
       "      <td>24</td>\n",
       "      <td>2</td>\n",
       "      <td>0</td>\n",
       "      <td>119592</td>\n",
       "      <td>247</td>\n",
       "      <td>1506784316000</td>\n",
       "      <td>0</td>\n",
       "      <td>239</td>\n",
       "    </tr>\n",
       "  </tbody>\n",
       "</table>\n",
       "</div>"
      ],
      "text/plain": [
       "   user_id        session_id  session_start  session_size  click_article_id  \\\n",
       "0        0  1506825423271737  1506825423000             2            157541   \n",
       "1        0  1506825423271737  1506825423000             2             68866   \n",
       "2        1  1506825426267738  1506825426000             2            235840   \n",
       "3        1  1506825426267738  1506825426000             2             96663   \n",
       "4        2  1506825435299739  1506825435000             2            119592   \n",
       "\n",
       "   click_timestamp click_environment click_deviceGroup click_os click_country  \\\n",
       "0    1506826828020                 4                 3       20             1   \n",
       "1    1506826858020                 4                 3       20             1   \n",
       "2    1506827017951                 4                 1       17             1   \n",
       "3    1506827047951                 4                 1       17             1   \n",
       "4    1506827090575                 4                 1       17             1   \n",
       "\n",
       "  click_region click_referrer_type  hour  article_id  category_id  \\\n",
       "0           20                   2     0      157541          281   \n",
       "1           20                   2     0       68866          136   \n",
       "2           16                   2     0      235840          375   \n",
       "3           16                   2     0       96663          209   \n",
       "4           24                   2     0      119592          247   \n",
       "\n",
       "   created_at_ts  publisher_id  words_count  \n",
       "0  1506800518000             0          280  \n",
       "1  1506816482000             0          226  \n",
       "2  1506807839000             0          159  \n",
       "3  1506788025000             0          206  \n",
       "4  1506784316000             0          239  "
      ]
     },
     "metadata": {},
     "output_type": "display_data"
    },
    {
     "data": {
      "text/plain": [
       "(2988181, 18)"
      ]
     },
     "metadata": {},
     "output_type": "display_data"
    }
   ],
   "source": [
    "data_merge = pd.merge(data_clicks, data_articles, how='left', left_on='click_article_id', right_on='article_id')\n",
    "display(data_merge.head(), data_merge.shape)"
   ]
  },
  {
   "cell_type": "markdown",
   "id": "45f58c00-c02f-491b-836d-527e59c6ab8c",
   "metadata": {},
   "source": [
    "### Vérifions la taille de la jointure"
   ]
  },
  {
   "cell_type": "code",
   "execution_count": 32,
   "id": "2f8e8ad1-3976-40ca-9839-df16e7673022",
   "metadata": {},
   "outputs": [
    {
     "name": "stdout",
     "output_type": "stream",
     "text": [
      "data_article.shape: (364047, 5) \n",
      "data_clicks.shape: (2988181, 13) \n",
      "data_merge.shape: (2988181, 18)\n"
     ]
    }
   ],
   "source": [
    "print(\"data_article.shape:\", data_articles.shape, \"\\ndata_clicks.shape:\", data_clicks.shape, \"\\ndata_merge.shape:\", data_merge.shape)"
   ]
  },
  {
   "cell_type": "markdown",
   "id": "cd77be4b-c7fa-4f5f-aad3-532de2bf3157",
   "metadata": {},
   "source": [
    "> On a donc bien un dataset_merge qui à le même nombre de lignes que data_clicks et un nombre de colonnes égale à l'ensemble des colonnes des deux datasets"
   ]
  },
  {
   "cell_type": "markdown",
   "id": "12d9827b-ba3c-462d-9ecb-e1e36415b4e0",
   "metadata": {},
   "source": [
    "### Vérifions le contenu de la jointure"
   ]
  },
  {
   "cell_type": "code",
   "execution_count": 33,
   "id": "0843d2d1-2839-492a-afd4-fda4a2db816b",
   "metadata": {},
   "outputs": [],
   "source": [
    "index = 0"
   ]
  },
  {
   "cell_type": "code",
   "execution_count": 34,
   "id": "e8a38651-680b-44b9-a595-6973ddd0cbf6",
   "metadata": {},
   "outputs": [
    {
     "data": {
      "text/html": [
       "<div>\n",
       "<style scoped>\n",
       "    .dataframe tbody tr th:only-of-type {\n",
       "        vertical-align: middle;\n",
       "    }\n",
       "\n",
       "    .dataframe tbody tr th {\n",
       "        vertical-align: top;\n",
       "    }\n",
       "\n",
       "    .dataframe thead th {\n",
       "        text-align: right;\n",
       "    }\n",
       "</style>\n",
       "<table border=\"1\" class=\"dataframe\">\n",
       "  <thead>\n",
       "    <tr style=\"text-align: right;\">\n",
       "      <th></th>\n",
       "      <th>user_id</th>\n",
       "      <th>session_id</th>\n",
       "      <th>session_start</th>\n",
       "      <th>session_size</th>\n",
       "      <th>click_article_id</th>\n",
       "      <th>click_timestamp</th>\n",
       "      <th>click_environment</th>\n",
       "      <th>click_deviceGroup</th>\n",
       "      <th>click_os</th>\n",
       "      <th>click_country</th>\n",
       "      <th>click_region</th>\n",
       "      <th>click_referrer_type</th>\n",
       "      <th>hour</th>\n",
       "      <th>article_id</th>\n",
       "      <th>category_id</th>\n",
       "      <th>created_at_ts</th>\n",
       "      <th>publisher_id</th>\n",
       "      <th>words_count</th>\n",
       "    </tr>\n",
       "  </thead>\n",
       "  <tbody>\n",
       "    <tr>\n",
       "      <th>0</th>\n",
       "      <td>0</td>\n",
       "      <td>1506825423271737</td>\n",
       "      <td>1506825423000</td>\n",
       "      <td>2</td>\n",
       "      <td>157541</td>\n",
       "      <td>1506826828020</td>\n",
       "      <td>4</td>\n",
       "      <td>3</td>\n",
       "      <td>20</td>\n",
       "      <td>1</td>\n",
       "      <td>20</td>\n",
       "      <td>2</td>\n",
       "      <td>0</td>\n",
       "      <td>157541</td>\n",
       "      <td>281</td>\n",
       "      <td>1506800518000</td>\n",
       "      <td>0</td>\n",
       "      <td>280</td>\n",
       "    </tr>\n",
       "  </tbody>\n",
       "</table>\n",
       "</div>"
      ],
      "text/plain": [
       "   user_id        session_id  session_start  session_size  click_article_id  \\\n",
       "0        0  1506825423271737  1506825423000             2            157541   \n",
       "\n",
       "   click_timestamp  click_environment  click_deviceGroup  click_os  \\\n",
       "0    1506826828020                  4                  3        20   \n",
       "\n",
       "   click_country  click_region  click_referrer_type  hour  article_id  \\\n",
       "0              1            20                    2     0      157541   \n",
       "\n",
       "   category_id  created_at_ts  publisher_id  words_count  \n",
       "0          281  1506800518000             0          280  "
      ]
     },
     "execution_count": 34,
     "metadata": {},
     "output_type": "execute_result"
    }
   ],
   "source": [
    "pd.DataFrame(data_merge.iloc[index]).T"
   ]
  },
  {
   "cell_type": "code",
   "execution_count": 35,
   "id": "12ba8885-360f-4bf0-91af-c4b345fb05a6",
   "metadata": {},
   "outputs": [
    {
     "data": {
      "text/html": [
       "<div>\n",
       "<style scoped>\n",
       "    .dataframe tbody tr th:only-of-type {\n",
       "        vertical-align: middle;\n",
       "    }\n",
       "\n",
       "    .dataframe tbody tr th {\n",
       "        vertical-align: top;\n",
       "    }\n",
       "\n",
       "    .dataframe thead th {\n",
       "        text-align: right;\n",
       "    }\n",
       "</style>\n",
       "<table border=\"1\" class=\"dataframe\">\n",
       "  <thead>\n",
       "    <tr style=\"text-align: right;\">\n",
       "      <th></th>\n",
       "      <th>user_id</th>\n",
       "      <th>session_id</th>\n",
       "      <th>session_start</th>\n",
       "      <th>session_size</th>\n",
       "      <th>click_article_id</th>\n",
       "      <th>click_timestamp</th>\n",
       "      <th>click_environment</th>\n",
       "      <th>click_deviceGroup</th>\n",
       "      <th>click_os</th>\n",
       "      <th>click_country</th>\n",
       "      <th>click_region</th>\n",
       "      <th>click_referrer_type</th>\n",
       "      <th>hour</th>\n",
       "    </tr>\n",
       "  </thead>\n",
       "  <tbody>\n",
       "    <tr>\n",
       "      <th>0</th>\n",
       "      <td>0</td>\n",
       "      <td>1506825423271737</td>\n",
       "      <td>1506825423000</td>\n",
       "      <td>2</td>\n",
       "      <td>157541</td>\n",
       "      <td>1506826828020</td>\n",
       "      <td>4</td>\n",
       "      <td>3</td>\n",
       "      <td>20</td>\n",
       "      <td>1</td>\n",
       "      <td>20</td>\n",
       "      <td>2</td>\n",
       "      <td>0</td>\n",
       "    </tr>\n",
       "  </tbody>\n",
       "</table>\n",
       "</div>"
      ],
      "text/plain": [
       "   user_id        session_id  session_start  session_size  click_article_id  \\\n",
       "0        0  1506825423271737  1506825423000             2            157541   \n",
       "\n",
       "   click_timestamp  click_environment  click_deviceGroup  click_os  \\\n",
       "0    1506826828020                  4                  3        20   \n",
       "\n",
       "   click_country  click_region  click_referrer_type  hour  \n",
       "0              1            20                    2     0  "
      ]
     },
     "execution_count": 35,
     "metadata": {},
     "output_type": "execute_result"
    }
   ],
   "source": [
    "pd.DataFrame(data_clicks.iloc[index]).T"
   ]
  },
  {
   "cell_type": "code",
   "execution_count": 36,
   "id": "3da60a3d-00e5-4241-84c5-7da1fae1e1c8",
   "metadata": {},
   "outputs": [
    {
     "data": {
      "text/html": [
       "<div>\n",
       "<style scoped>\n",
       "    .dataframe tbody tr th:only-of-type {\n",
       "        vertical-align: middle;\n",
       "    }\n",
       "\n",
       "    .dataframe tbody tr th {\n",
       "        vertical-align: top;\n",
       "    }\n",
       "\n",
       "    .dataframe thead th {\n",
       "        text-align: right;\n",
       "    }\n",
       "</style>\n",
       "<table border=\"1\" class=\"dataframe\">\n",
       "  <thead>\n",
       "    <tr style=\"text-align: right;\">\n",
       "      <th></th>\n",
       "      <th>article_id</th>\n",
       "      <th>category_id</th>\n",
       "      <th>created_at_ts</th>\n",
       "      <th>publisher_id</th>\n",
       "      <th>words_count</th>\n",
       "    </tr>\n",
       "  </thead>\n",
       "  <tbody>\n",
       "    <tr>\n",
       "      <th>157541</th>\n",
       "      <td>157541</td>\n",
       "      <td>281</td>\n",
       "      <td>1506800518000</td>\n",
       "      <td>0</td>\n",
       "      <td>280</td>\n",
       "    </tr>\n",
       "  </tbody>\n",
       "</table>\n",
       "</div>"
      ],
      "text/plain": [
       "        article_id  category_id  created_at_ts  publisher_id  words_count\n",
       "157541      157541          281  1506800518000             0          280"
      ]
     },
     "execution_count": 36,
     "metadata": {},
     "output_type": "execute_result"
    }
   ],
   "source": [
    "data_articles[ data_articles.article_id == data_clicks.iloc[index].click_article_id ]"
   ]
  },
  {
   "cell_type": "markdown",
   "id": "b33e394e-f731-41dd-8050-b06146631c4b",
   "metadata": {},
   "source": [
    "> Visiblement la jointure s'est bien passée, et on a les bons articles associés aux sessions"
   ]
  },
  {
   "cell_type": "code",
   "execution_count": 37,
   "id": "d672dd65-d96d-44c9-8104-75afd683579a",
   "metadata": {},
   "outputs": [
    {
     "data": {
      "text/html": [
       "<div>\n",
       "<style scoped>\n",
       "    .dataframe tbody tr th:only-of-type {\n",
       "        vertical-align: middle;\n",
       "    }\n",
       "\n",
       "    .dataframe tbody tr th {\n",
       "        vertical-align: top;\n",
       "    }\n",
       "\n",
       "    .dataframe thead th {\n",
       "        text-align: right;\n",
       "    }\n",
       "</style>\n",
       "<table border=\"1\" class=\"dataframe\">\n",
       "  <thead>\n",
       "    <tr style=\"text-align: right;\">\n",
       "      <th></th>\n",
       "      <th>user_id</th>\n",
       "      <th>session_id</th>\n",
       "      <th>session_start</th>\n",
       "      <th>session_size</th>\n",
       "      <th>click_timestamp</th>\n",
       "      <th>click_environment</th>\n",
       "      <th>click_deviceGroup</th>\n",
       "      <th>click_os</th>\n",
       "      <th>click_country</th>\n",
       "      <th>click_region</th>\n",
       "      <th>click_referrer_type</th>\n",
       "      <th>hour</th>\n",
       "      <th>article_id</th>\n",
       "      <th>category_id</th>\n",
       "      <th>created_at_ts</th>\n",
       "      <th>publisher_id</th>\n",
       "      <th>words_count</th>\n",
       "    </tr>\n",
       "  </thead>\n",
       "  <tbody>\n",
       "    <tr>\n",
       "      <th>0</th>\n",
       "      <td>0</td>\n",
       "      <td>1506825423271737</td>\n",
       "      <td>1506825423000</td>\n",
       "      <td>2</td>\n",
       "      <td>1506826828020</td>\n",
       "      <td>4</td>\n",
       "      <td>3</td>\n",
       "      <td>20</td>\n",
       "      <td>1</td>\n",
       "      <td>20</td>\n",
       "      <td>2</td>\n",
       "      <td>0</td>\n",
       "      <td>157541</td>\n",
       "      <td>281</td>\n",
       "      <td>1506800518000</td>\n",
       "      <td>0</td>\n",
       "      <td>280</td>\n",
       "    </tr>\n",
       "  </tbody>\n",
       "</table>\n",
       "</div>"
      ],
      "text/plain": [
       "   user_id        session_id  session_start  session_size  click_timestamp  \\\n",
       "0        0  1506825423271737  1506825423000             2    1506826828020   \n",
       "\n",
       "  click_environment click_deviceGroup click_os click_country click_region  \\\n",
       "0                 4                 3       20             1           20   \n",
       "\n",
       "  click_referrer_type  hour  article_id  category_id  created_at_ts  \\\n",
       "0                   2     0      157541          281  1506800518000   \n",
       "\n",
       "   publisher_id  words_count  \n",
       "0             0          280  "
      ]
     },
     "execution_count": 37,
     "metadata": {},
     "output_type": "execute_result"
    }
   ],
   "source": [
    "data_merge.drop(['click_article_id'], axis=1, inplace=True)\n",
    "data_merge.head(1)"
   ]
  },
  {
   "cell_type": "markdown",
   "id": "4bed121c-8506-4202-827f-ab40e11c406d",
   "metadata": {},
   "source": [
    "## 4.2 Nettoyage du jeu de données <a class=\"anchor\" id=\"dataset_clean\"></a> [⇪](#menu)"
   ]
  },
  {
   "cell_type": "code",
   "execution_count": 38,
   "id": "dc9b7cdb-5fbd-46ed-a9ea-48f78488186e",
   "metadata": {},
   "outputs": [],
   "source": [
    "data_clean = data_merge.copy()"
   ]
  },
  {
   "cell_type": "markdown",
   "id": "1db43152-af22-4c00-bf9c-2a1fd9bd85ad",
   "metadata": {},
   "source": [
    "### 4.2.1 Supprimons les sessions liées aux articles lus une seule fois *(moins de 2 lectures)*"
   ]
  },
  {
   "cell_type": "code",
   "execution_count": 39,
   "id": "ea1ced61-e3d1-4ece-841e-4bf9d27892c4",
   "metadata": {},
   "outputs": [],
   "source": [
    "min_clicks_articles = 5"
   ]
  },
  {
   "cell_type": "code",
   "execution_count": 40,
   "id": "d2dbd958",
   "metadata": {},
   "outputs": [
    {
     "data": {
      "text/plain": [
       "article_id\n",
       "3     1\n",
       "27    1\n",
       "69    1\n",
       "81    2\n",
       "84    1\n",
       "dtype: int64"
      ]
     },
     "execution_count": 40,
     "metadata": {},
     "output_type": "execute_result"
    }
   ],
   "source": [
    "count_articles_clicks = data_clean.groupby(['article_id']).size()\n",
    "count_articles_clicks.head(5)"
   ]
  },
  {
   "cell_type": "code",
   "execution_count": 41,
   "id": "cb8d9424-1ed7-433f-9ef6-889f5d2035c0",
   "metadata": {},
   "outputs": [
    {
     "data": {
      "text/html": [
       "<div>\n",
       "<style scoped>\n",
       "    .dataframe tbody tr th:only-of-type {\n",
       "        vertical-align: middle;\n",
       "    }\n",
       "\n",
       "    .dataframe tbody tr th {\n",
       "        vertical-align: top;\n",
       "    }\n",
       "\n",
       "    .dataframe thead th {\n",
       "        text-align: right;\n",
       "    }\n",
       "</style>\n",
       "<table border=\"1\" class=\"dataframe\">\n",
       "  <thead>\n",
       "    <tr style=\"text-align: right;\">\n",
       "      <th></th>\n",
       "      <th>user_id</th>\n",
       "      <th>session_id</th>\n",
       "      <th>session_start</th>\n",
       "      <th>session_size</th>\n",
       "      <th>click_timestamp</th>\n",
       "      <th>click_environment</th>\n",
       "      <th>click_deviceGroup</th>\n",
       "      <th>click_os</th>\n",
       "      <th>click_country</th>\n",
       "      <th>click_region</th>\n",
       "      <th>click_referrer_type</th>\n",
       "      <th>hour</th>\n",
       "      <th>article_id</th>\n",
       "      <th>category_id</th>\n",
       "      <th>created_at_ts</th>\n",
       "      <th>publisher_id</th>\n",
       "      <th>words_count</th>\n",
       "    </tr>\n",
       "  </thead>\n",
       "  <tbody>\n",
       "    <tr>\n",
       "      <th>1320827</th>\n",
       "      <td>216846</td>\n",
       "      <td>1507373080247102</td>\n",
       "      <td>1507373080000</td>\n",
       "      <td>3</td>\n",
       "      <td>1507373417487</td>\n",
       "      <td>4</td>\n",
       "      <td>3</td>\n",
       "      <td>2</td>\n",
       "      <td>1</td>\n",
       "      <td>13</td>\n",
       "      <td>2</td>\n",
       "      <td>152</td>\n",
       "      <td>158906</td>\n",
       "      <td>281</td>\n",
       "      <td>1507352459000</td>\n",
       "      <td>0</td>\n",
       "      <td>289</td>\n",
       "    </tr>\n",
       "    <tr>\n",
       "      <th>236295</th>\n",
       "      <td>667</td>\n",
       "      <td>1506958710272502</td>\n",
       "      <td>1506958710000</td>\n",
       "      <td>2</td>\n",
       "      <td>1506958769090</td>\n",
       "      <td>4</td>\n",
       "      <td>3</td>\n",
       "      <td>2</td>\n",
       "      <td>1</td>\n",
       "      <td>25</td>\n",
       "      <td>2</td>\n",
       "      <td>37</td>\n",
       "      <td>300470</td>\n",
       "      <td>428</td>\n",
       "      <td>1506943705000</td>\n",
       "      <td>0</td>\n",
       "      <td>203</td>\n",
       "    </tr>\n",
       "    <tr>\n",
       "      <th>1628173</th>\n",
       "      <td>243758</td>\n",
       "      <td>1507559801157490</td>\n",
       "      <td>1507559801000</td>\n",
       "      <td>2</td>\n",
       "      <td>1507559856479</td>\n",
       "      <td>4</td>\n",
       "      <td>1</td>\n",
       "      <td>17</td>\n",
       "      <td>1</td>\n",
       "      <td>13</td>\n",
       "      <td>1</td>\n",
       "      <td>204</td>\n",
       "      <td>255202</td>\n",
       "      <td>389</td>\n",
       "      <td>1507547619000</td>\n",
       "      <td>0</td>\n",
       "      <td>188</td>\n",
       "    </tr>\n",
       "  </tbody>\n",
       "</table>\n",
       "</div>"
      ],
      "text/plain": [
       "         user_id        session_id  session_start  session_size  \\\n",
       "1320827   216846  1507373080247102  1507373080000             3   \n",
       "236295       667  1506958710272502  1506958710000             2   \n",
       "1628173   243758  1507559801157490  1507559801000             2   \n",
       "\n",
       "         click_timestamp click_environment click_deviceGroup click_os  \\\n",
       "1320827    1507373417487                 4                 3        2   \n",
       "236295     1506958769090                 4                 3        2   \n",
       "1628173    1507559856479                 4                 1       17   \n",
       "\n",
       "        click_country click_region click_referrer_type  hour  article_id  \\\n",
       "1320827             1           13                   2   152      158906   \n",
       "236295              1           25                   2    37      300470   \n",
       "1628173             1           13                   1   204      255202   \n",
       "\n",
       "         category_id  created_at_ts  publisher_id  words_count  \n",
       "1320827          281  1507352459000             0          289  \n",
       "236295           428  1506943705000             0          203  \n",
       "1628173          389  1507547619000             0          188  "
      ]
     },
     "metadata": {},
     "output_type": "display_data"
    },
    {
     "data": {
      "text/plain": [
       "(2942359, 17)"
      ]
     },
     "metadata": {},
     "output_type": "display_data"
    },
    {
     "name": "stdout",
     "output_type": "stream",
     "text": [
      "\n",
      "Taille AVANT nettoyage: (2988181, 17) | Taille APRÈS nettoyage: (2942359, 17)\n",
      "Soit une différence de -45822 lignes et 0 colonnes.\n"
     ]
    }
   ],
   "source": [
    "size_before = data_clean.shape\n",
    "\n",
    "select_ids = [k for k,v in count_articles_clicks.iteritems() if v >= min_clicks_articles]\n",
    "data_clean = data_clean[ data_clean.article_id.isin(select_ids) ]\n",
    "display(data_clean.sample(3, random_state=random_seed), data_clean.shape)\n",
    "\n",
    "size_after = data_clean.shape\n",
    "print(f\"\\nTaille AVANT nettoyage: {size_before} | Taille APRÈS nettoyage: {size_after}\\nSoit une différence de {size_after[0]-size_before[0]} lignes et {size_after[1] - size_before[1]} colonnes.\")"
   ]
  },
  {
   "cell_type": "markdown",
   "id": "da6bc787-f108-4a9c-941b-3210af4d3d8e",
   "metadata": {},
   "source": [
    "#### Vérifions que le nettoyage s'est bien passé"
   ]
  },
  {
   "cell_type": "code",
   "execution_count": 42,
   "id": "c2af080b-47a8-42dd-8532-d5b8dde643d1",
   "metadata": {},
   "outputs": [
    {
     "name": "stdout",
     "output_type": "stream",
     "text": [
      "100.00% des articles ont été lus au moins 5 fois\n"
     ]
    }
   ],
   "source": [
    "selection = data_clean[['user_id','article_id']].copy()\n",
    "\n",
    "selection = pd.DataFrame(selection.groupby('article_id').size(), columns=['total_reads']) # ici on a le nombre de lectures pour chaque article\n",
    "selection = pd.DataFrame(selection.groupby('total_reads').size(), columns=['num_articles']) # ici on a le nombre d'article regroupés par nombre de lectures\n",
    "selection = selection[ selection.index >= min_clicks_articles]\n",
    "selection[\"num_articles_percent\"] = 100 / data_clean['article_id'].nunique() * selection\n",
    "\n",
    "print(f\"{selection['num_articles_percent'].sum():.2f}% des articles ont été lus au moins {min_clicks_articles} fois\")"
   ]
  },
  {
   "cell_type": "markdown",
   "id": "26c0f6aa-4306-4cc9-ba06-5bdb703c14d2",
   "metadata": {},
   "source": [
    "### 4.2.2 Supprimons les sessions des utilisateurs peu actifs *(moins de 5 lectures)*"
   ]
  },
  {
   "cell_type": "code",
   "execution_count": 43,
   "id": "7383bf59-477b-46d9-a05b-973de9a94b38",
   "metadata": {},
   "outputs": [],
   "source": [
    "min_clicks_users = 5"
   ]
  },
  {
   "cell_type": "code",
   "execution_count": 44,
   "id": "79970e5f-b149-449a-be9e-58dab6044dc3",
   "metadata": {},
   "outputs": [
    {
     "data": {
      "text/plain": [
       "user_id\n",
       "0     8\n",
       "1    12\n",
       "2     4\n",
       "3    17\n",
       "4     7\n",
       "dtype: int64"
      ]
     },
     "execution_count": 44,
     "metadata": {},
     "output_type": "execute_result"
    }
   ],
   "source": [
    "count_users_clicks = data_clean.groupby(['user_id']).size()\n",
    "count_users_clicks.head(5)"
   ]
  },
  {
   "cell_type": "code",
   "execution_count": 45,
   "id": "0c8135c9-e1f8-4708-ab24-1e89a1d0bd1b",
   "metadata": {},
   "outputs": [
    {
     "data": {
      "text/html": [
       "<div>\n",
       "<style scoped>\n",
       "    .dataframe tbody tr th:only-of-type {\n",
       "        vertical-align: middle;\n",
       "    }\n",
       "\n",
       "    .dataframe tbody tr th {\n",
       "        vertical-align: top;\n",
       "    }\n",
       "\n",
       "    .dataframe thead th {\n",
       "        text-align: right;\n",
       "    }\n",
       "</style>\n",
       "<table border=\"1\" class=\"dataframe\">\n",
       "  <thead>\n",
       "    <tr style=\"text-align: right;\">\n",
       "      <th></th>\n",
       "      <th>user_id</th>\n",
       "      <th>session_id</th>\n",
       "      <th>session_start</th>\n",
       "      <th>session_size</th>\n",
       "      <th>click_timestamp</th>\n",
       "      <th>click_environment</th>\n",
       "      <th>click_deviceGroup</th>\n",
       "      <th>click_os</th>\n",
       "      <th>click_country</th>\n",
       "      <th>click_region</th>\n",
       "      <th>click_referrer_type</th>\n",
       "      <th>hour</th>\n",
       "      <th>article_id</th>\n",
       "      <th>category_id</th>\n",
       "      <th>created_at_ts</th>\n",
       "      <th>publisher_id</th>\n",
       "      <th>words_count</th>\n",
       "      <th>TO_DELETE</th>\n",
       "    </tr>\n",
       "  </thead>\n",
       "  <tbody>\n",
       "    <tr>\n",
       "      <th>0</th>\n",
       "      <td>0</td>\n",
       "      <td>1506825423271737</td>\n",
       "      <td>1506825423000</td>\n",
       "      <td>2</td>\n",
       "      <td>1506826828020</td>\n",
       "      <td>4</td>\n",
       "      <td>3</td>\n",
       "      <td>20</td>\n",
       "      <td>1</td>\n",
       "      <td>20</td>\n",
       "      <td>2</td>\n",
       "      <td>0</td>\n",
       "      <td>157541</td>\n",
       "      <td>281</td>\n",
       "      <td>1506800518000</td>\n",
       "      <td>0</td>\n",
       "      <td>280</td>\n",
       "      <td>False</td>\n",
       "    </tr>\n",
       "    <tr>\n",
       "      <th>1</th>\n",
       "      <td>0</td>\n",
       "      <td>1506825423271737</td>\n",
       "      <td>1506825423000</td>\n",
       "      <td>2</td>\n",
       "      <td>1506826858020</td>\n",
       "      <td>4</td>\n",
       "      <td>3</td>\n",
       "      <td>20</td>\n",
       "      <td>1</td>\n",
       "      <td>20</td>\n",
       "      <td>2</td>\n",
       "      <td>0</td>\n",
       "      <td>68866</td>\n",
       "      <td>136</td>\n",
       "      <td>1506816482000</td>\n",
       "      <td>0</td>\n",
       "      <td>226</td>\n",
       "      <td>False</td>\n",
       "    </tr>\n",
       "    <tr>\n",
       "      <th>2</th>\n",
       "      <td>1</td>\n",
       "      <td>1506825426267738</td>\n",
       "      <td>1506825426000</td>\n",
       "      <td>2</td>\n",
       "      <td>1506827017951</td>\n",
       "      <td>4</td>\n",
       "      <td>1</td>\n",
       "      <td>17</td>\n",
       "      <td>1</td>\n",
       "      <td>16</td>\n",
       "      <td>2</td>\n",
       "      <td>0</td>\n",
       "      <td>235840</td>\n",
       "      <td>375</td>\n",
       "      <td>1506807839000</td>\n",
       "      <td>0</td>\n",
       "      <td>159</td>\n",
       "      <td>False</td>\n",
       "    </tr>\n",
       "    <tr>\n",
       "      <th>3</th>\n",
       "      <td>1</td>\n",
       "      <td>1506825426267738</td>\n",
       "      <td>1506825426000</td>\n",
       "      <td>2</td>\n",
       "      <td>1506827047951</td>\n",
       "      <td>4</td>\n",
       "      <td>1</td>\n",
       "      <td>17</td>\n",
       "      <td>1</td>\n",
       "      <td>16</td>\n",
       "      <td>2</td>\n",
       "      <td>0</td>\n",
       "      <td>96663</td>\n",
       "      <td>209</td>\n",
       "      <td>1506788025000</td>\n",
       "      <td>0</td>\n",
       "      <td>206</td>\n",
       "      <td>False</td>\n",
       "    </tr>\n",
       "    <tr>\n",
       "      <th>4</th>\n",
       "      <td>2</td>\n",
       "      <td>1506825435299739</td>\n",
       "      <td>1506825435000</td>\n",
       "      <td>2</td>\n",
       "      <td>1506827090575</td>\n",
       "      <td>4</td>\n",
       "      <td>1</td>\n",
       "      <td>17</td>\n",
       "      <td>1</td>\n",
       "      <td>24</td>\n",
       "      <td>2</td>\n",
       "      <td>0</td>\n",
       "      <td>119592</td>\n",
       "      <td>247</td>\n",
       "      <td>1506784316000</td>\n",
       "      <td>0</td>\n",
       "      <td>239</td>\n",
       "      <td>True</td>\n",
       "    </tr>\n",
       "  </tbody>\n",
       "</table>\n",
       "</div>"
      ],
      "text/plain": [
       "   user_id        session_id  session_start  session_size  click_timestamp  \\\n",
       "0        0  1506825423271737  1506825423000             2    1506826828020   \n",
       "1        0  1506825423271737  1506825423000             2    1506826858020   \n",
       "2        1  1506825426267738  1506825426000             2    1506827017951   \n",
       "3        1  1506825426267738  1506825426000             2    1506827047951   \n",
       "4        2  1506825435299739  1506825435000             2    1506827090575   \n",
       "\n",
       "  click_environment click_deviceGroup click_os click_country click_region  \\\n",
       "0                 4                 3       20             1           20   \n",
       "1                 4                 3       20             1           20   \n",
       "2                 4                 1       17             1           16   \n",
       "3                 4                 1       17             1           16   \n",
       "4                 4                 1       17             1           24   \n",
       "\n",
       "  click_referrer_type  hour  article_id  category_id  created_at_ts  \\\n",
       "0                   2     0      157541          281  1506800518000   \n",
       "1                   2     0       68866          136  1506816482000   \n",
       "2                   2     0      235840          375  1506807839000   \n",
       "3                   2     0       96663          209  1506788025000   \n",
       "4                   2     0      119592          247  1506784316000   \n",
       "\n",
       "   publisher_id  words_count  TO_DELETE  \n",
       "0             0          280      False  \n",
       "1             0          226      False  \n",
       "2             0          159      False  \n",
       "3             0          206      False  \n",
       "4             0          239       True  "
      ]
     },
     "metadata": {},
     "output_type": "display_data"
    },
    {
     "data": {
      "text/plain": [
       "(2942359, 18)"
      ]
     },
     "metadata": {},
     "output_type": "display_data"
    },
    {
     "name": "stdout",
     "output_type": "stream",
     "text": [
      "\n",
      "Taille AVANT nettoyage: (2942359, 17) | Taille APRÈS nettoyage: (2942359, 18)\n",
      "Soit une différence de 0 lignes et 1 colonnes.\n"
     ]
    }
   ],
   "source": [
    "size_before = data_clean.shape\n",
    "\n",
    "select_ids = [k for k,v in count_users_clicks.iteritems() if v >= min_clicks_users]\n",
    "# data_clean = data_clean[ data_clean.user_id.isin(select_ids) ]\n",
    "data_clean[\"TO_DELETE\"] = ~(data_clean.user_id.isin(select_ids))\n",
    "display(data_clean.head(5), data_clean.shape)\n",
    "\n",
    "size_after = data_clean.shape\n",
    "print(f\"\\nTaille AVANT nettoyage: {size_before} | Taille APRÈS nettoyage: {size_after}\\nSoit une différence de {size_after[0]-size_before[0]} lignes et {size_after[1] - size_before[1]} colonnes.\")"
   ]
  },
  {
   "cell_type": "markdown",
   "id": "f709f1b3-6c2a-47c6-9ffc-fce001bef9dd",
   "metadata": {},
   "source": [
    "#### Vérifions que le marquage s'est bien passé"
   ]
  },
  {
   "cell_type": "code",
   "execution_count": 46,
   "id": "1c46bf8f-c1a8-4503-917b-d87519ed5790",
   "metadata": {},
   "outputs": [
    {
     "name": "stdout",
     "output_type": "stream",
     "text": [
      "158535 utilisateurs (100.00%) ont lus 5 articles ou plus\n"
     ]
    }
   ],
   "source": [
    "selection = data_clean[['user_id','article_id', 'TO_DELETE']].copy()\n",
    "selection_ref = selection[ selection['TO_DELETE'] == False ]\n",
    "\n",
    "selection = pd.DataFrame(selection_ref.groupby('user_id').size(), columns=['num_articles'])\n",
    "selection = pd.DataFrame(selection.groupby('num_articles').size(), columns=['num_users'])\n",
    "selection = selection[ selection.index >= min_clicks_users]\n",
    "selection[\"num_users_percent\"] = 100 / selection_ref['user_id'].nunique() * selection\n",
    "\n",
    "print(f\"{selection['num_users'].sum()} utilisateurs ({selection['num_users_percent'].sum():.2f}%) ont lus {min_clicks_users} articles ou plus\")"
   ]
  },
  {
   "cell_type": "markdown",
   "id": "e4f0c7cd-0299-4b8c-a339-37b3a71f7da2",
   "metadata": {},
   "source": [
    "## 4.3 Conception d'une feature de scoring <a class=\"anchor\" id=\"dataset_score\"></a> [⇪](#menu)"
   ]
  },
  {
   "cell_type": "markdown",
   "id": "f045b40b-60bf-49a1-b84e-e1bac7faaf46",
   "metadata": {},
   "source": [
    "Pour concevoir un score lié à chaque paire utilisateur/news on a plusieurs options:\n",
    "- un score basé sur le nombre de fois que l'utilisateur a consulté la news\n",
    "- un score basé sur le temps écoulé entre 2 clicks (ça veut dire qu'il faut des sessions de 2+ clicks et que l'on ne pourra pas prendre en compte le dernier click)\n",
    "- un score basé sur le temps écoulé entre 2 clicks (voir ci-dessous) et en fonction du nombre de mots dans l'article\n",
    "- un score basé sur la catégorie de l'article (un visiteur qui click plus sur les articles de certaines catégories est plus suceptible de le faire encore)\n",
    "\n",
    "Essayons de construire les 3 scores et on vera ensuite celui qui semble le plus intéressant"
   ]
  },
  {
   "cell_type": "markdown",
   "id": "81d39dca-c793-477e-9575-aa9e39fa4b2a",
   "metadata": {},
   "source": [
    "### 4.3.1 Score basé sur le nombre de visite utilisateur"
   ]
  },
  {
   "cell_type": "code",
   "execution_count": 47,
   "id": "1e429b6c-e3b1-41af-b190-a8ee3945e826",
   "metadata": {},
   "outputs": [
    {
     "data": {
      "text/html": [
       "<div>\n",
       "<style scoped>\n",
       "    .dataframe tbody tr th:only-of-type {\n",
       "        vertical-align: middle;\n",
       "    }\n",
       "\n",
       "    .dataframe tbody tr th {\n",
       "        vertical-align: top;\n",
       "    }\n",
       "\n",
       "    .dataframe thead tr th {\n",
       "        text-align: left;\n",
       "    }\n",
       "</style>\n",
       "<table border=\"1\" class=\"dataframe\">\n",
       "  <thead>\n",
       "    <tr>\n",
       "      <th>user_id</th>\n",
       "      <th colspan=\"8\" halign=\"left\">0</th>\n",
       "      <th colspan=\"2\" halign=\"left\">1</th>\n",
       "      <th>...</th>\n",
       "      <th colspan=\"5\" halign=\"left\">322732</th>\n",
       "      <th colspan=\"5\" halign=\"left\">322823</th>\n",
       "    </tr>\n",
       "    <tr>\n",
       "      <th>article_id</th>\n",
       "      <th>68866</th>\n",
       "      <th>87205</th>\n",
       "      <th>87224</th>\n",
       "      <th>96755</th>\n",
       "      <th>157541</th>\n",
       "      <th>160158</th>\n",
       "      <th>233470</th>\n",
       "      <th>313996</th>\n",
       "      <th>36162</th>\n",
       "      <th>59758</th>\n",
       "      <th>...</th>\n",
       "      <th>156279</th>\n",
       "      <th>205824</th>\n",
       "      <th>209122</th>\n",
       "      <th>211442</th>\n",
       "      <th>284470</th>\n",
       "      <th>39894</th>\n",
       "      <th>277107</th>\n",
       "      <th>308117</th>\n",
       "      <th>342473</th>\n",
       "      <th>352979</th>\n",
       "    </tr>\n",
       "  </thead>\n",
       "  <tbody>\n",
       "    <tr>\n",
       "      <th>score</th>\n",
       "      <td>1</td>\n",
       "      <td>1</td>\n",
       "      <td>1</td>\n",
       "      <td>1</td>\n",
       "      <td>1</td>\n",
       "      <td>1</td>\n",
       "      <td>1</td>\n",
       "      <td>1</td>\n",
       "      <td>1</td>\n",
       "      <td>1</td>\n",
       "      <td>...</td>\n",
       "      <td>1</td>\n",
       "      <td>1</td>\n",
       "      <td>1</td>\n",
       "      <td>1</td>\n",
       "      <td>1</td>\n",
       "      <td>1</td>\n",
       "      <td>1</td>\n",
       "      <td>1</td>\n",
       "      <td>1</td>\n",
       "      <td>1</td>\n",
       "    </tr>\n",
       "  </tbody>\n",
       "</table>\n",
       "<p>1 rows × 2488481 columns</p>\n",
       "</div>"
      ],
      "text/plain": [
       "user_id    0                                                       1       \\\n",
       "article_id 68866  87205  87224  96755  157541 160158 233470 313996 36162    \n",
       "score           1      1      1      1      1      1      1      1      1   \n",
       "\n",
       "user_id            ... 322732                             322823         \\\n",
       "article_id 59758   ... 156279 205824 209122 211442 284470 39894  277107   \n",
       "score           1  ...      1      1      1      1      1      1      1   \n",
       "\n",
       "user_id                          \n",
       "article_id 308117 342473 352979  \n",
       "score           1      1      1  \n",
       "\n",
       "[1 rows x 2488481 columns]"
      ]
     },
     "execution_count": 47,
     "metadata": {},
     "output_type": "execute_result"
    }
   ],
   "source": [
    "selection = data_clean[['user_id', 'article_id', 'TO_DELETE']].copy()\n",
    "selection = selection[ selection['TO_DELETE'] == False ]\n",
    "selection = pd.DataFrame(selection.groupby(['user_id', 'article_id']).size(), columns=['score'])\n",
    "selection.T"
   ]
  },
  {
   "cell_type": "code",
   "execution_count": 48,
   "id": "9b87bf93-d4b1-4319-b354-2bd3c9b003d5",
   "metadata": {},
   "outputs": [
    {
     "data": {
      "text/html": [
       "<div>\n",
       "<style scoped>\n",
       "    .dataframe tbody tr th:only-of-type {\n",
       "        vertical-align: middle;\n",
       "    }\n",
       "\n",
       "    .dataframe tbody tr th {\n",
       "        vertical-align: top;\n",
       "    }\n",
       "\n",
       "    .dataframe thead th {\n",
       "        text-align: right;\n",
       "    }\n",
       "</style>\n",
       "<table border=\"1\" class=\"dataframe\">\n",
       "  <thead>\n",
       "    <tr style=\"text-align: right;\">\n",
       "      <th></th>\n",
       "      <th>user_id</th>\n",
       "      <th>session_id</th>\n",
       "      <th>session_start</th>\n",
       "      <th>session_size</th>\n",
       "      <th>click_timestamp</th>\n",
       "      <th>click_environment</th>\n",
       "      <th>click_deviceGroup</th>\n",
       "      <th>click_os</th>\n",
       "      <th>click_country</th>\n",
       "      <th>click_region</th>\n",
       "      <th>click_referrer_type</th>\n",
       "      <th>hour</th>\n",
       "      <th>article_id</th>\n",
       "      <th>category_id</th>\n",
       "      <th>created_at_ts</th>\n",
       "      <th>publisher_id</th>\n",
       "      <th>words_count</th>\n",
       "      <th>score</th>\n",
       "    </tr>\n",
       "  </thead>\n",
       "  <tbody>\n",
       "    <tr>\n",
       "      <th>1443972</th>\n",
       "      <td>681</td>\n",
       "      <td>1507475777380625</td>\n",
       "      <td>1507475777000</td>\n",
       "      <td>11</td>\n",
       "      <td>1507477378267</td>\n",
       "      <td>4</td>\n",
       "      <td>4</td>\n",
       "      <td>20</td>\n",
       "      <td>1</td>\n",
       "      <td>20</td>\n",
       "      <td>1</td>\n",
       "      <td>180</td>\n",
       "      <td>341288</td>\n",
       "      <td>438</td>\n",
       "      <td>1507464948000</td>\n",
       "      <td>0</td>\n",
       "      <td>231</td>\n",
       "      <td>1.00</td>\n",
       "    </tr>\n",
       "    <tr>\n",
       "      <th>1250579</th>\n",
       "      <td>58907</td>\n",
       "      <td>1507332587243342</td>\n",
       "      <td>1507332587000</td>\n",
       "      <td>3</td>\n",
       "      <td>1507332600841</td>\n",
       "      <td>4</td>\n",
       "      <td>1</td>\n",
       "      <td>17</td>\n",
       "      <td>1</td>\n",
       "      <td>24</td>\n",
       "      <td>2</td>\n",
       "      <td>140</td>\n",
       "      <td>63737</td>\n",
       "      <td>133</td>\n",
       "      <td>1507281959000</td>\n",
       "      <td>0</td>\n",
       "      <td>131</td>\n",
       "      <td>1.00</td>\n",
       "    </tr>\n",
       "    <tr>\n",
       "      <th>2484665</th>\n",
       "      <td>28315</td>\n",
       "      <td>1507910451189004</td>\n",
       "      <td>1507910451000</td>\n",
       "      <td>3</td>\n",
       "      <td>1507910493599</td>\n",
       "      <td>4</td>\n",
       "      <td>1</td>\n",
       "      <td>17</td>\n",
       "      <td>1</td>\n",
       "      <td>21</td>\n",
       "      <td>2</td>\n",
       "      <td>301</td>\n",
       "      <td>236566</td>\n",
       "      <td>375</td>\n",
       "      <td>1507892201000</td>\n",
       "      <td>0</td>\n",
       "      <td>192</td>\n",
       "      <td>1.00</td>\n",
       "    </tr>\n",
       "  </tbody>\n",
       "</table>\n",
       "</div>"
      ],
      "text/plain": [
       "         user_id        session_id  session_start  session_size  \\\n",
       "1443972      681  1507475777380625  1507475777000            11   \n",
       "1250579    58907  1507332587243342  1507332587000             3   \n",
       "2484665    28315  1507910451189004  1507910451000             3   \n",
       "\n",
       "         click_timestamp click_environment click_deviceGroup click_os  \\\n",
       "1443972    1507477378267                 4                 4       20   \n",
       "1250579    1507332600841                 4                 1       17   \n",
       "2484665    1507910493599                 4                 1       17   \n",
       "\n",
       "        click_country click_region click_referrer_type  hour  article_id  \\\n",
       "1443972             1           20                   1   180      341288   \n",
       "1250579             1           24                   2   140       63737   \n",
       "2484665             1           21                   2   301      236566   \n",
       "\n",
       "         category_id  created_at_ts  publisher_id  words_count  score  \n",
       "1443972          438  1507464948000             0          231   1.00  \n",
       "1250579          133  1507281959000             0          131   1.00  \n",
       "2484665          375  1507892201000             0          192   1.00  "
      ]
     },
     "metadata": {},
     "output_type": "display_data"
    },
    {
     "data": {
      "text/plain": [
       "(2524552, 18)"
      ]
     },
     "metadata": {},
     "output_type": "display_data"
    }
   ],
   "source": [
    "data_score1 = pd.merge(data_clean, selection, how='left', on=['user_id','article_id'])\n",
    "data_score1 = data_score1[ data_score1['TO_DELETE'] == False ]\n",
    "data_score1.drop('TO_DELETE', axis=1, inplace=True)\n",
    "display(data_score1.sample(3, random_state=random_seed), data_score1.shape)"
   ]
  },
  {
   "cell_type": "code",
   "execution_count": 49,
   "id": "6ee262f1-adee-42ea-9a82-43d24ff59d8f",
   "metadata": {},
   "outputs": [
    {
     "data": {
      "text/html": [
       "<div>\n",
       "<style scoped>\n",
       "    .dataframe tbody tr th:only-of-type {\n",
       "        vertical-align: middle;\n",
       "    }\n",
       "\n",
       "    .dataframe tbody tr th {\n",
       "        vertical-align: top;\n",
       "    }\n",
       "\n",
       "    .dataframe thead th {\n",
       "        text-align: right;\n",
       "    }\n",
       "</style>\n",
       "<table border=\"1\" class=\"dataframe\">\n",
       "  <thead>\n",
       "    <tr style=\"text-align: right;\">\n",
       "      <th>score</th>\n",
       "      <th>1.00</th>\n",
       "      <th>2.00</th>\n",
       "      <th>3.00</th>\n",
       "      <th>4.00</th>\n",
       "      <th>5.00</th>\n",
       "      <th>6.00</th>\n",
       "      <th>7.00</th>\n",
       "      <th>8.00</th>\n",
       "      <th>9.00</th>\n",
       "      <th>10.00</th>\n",
       "      <th>12.00</th>\n",
       "      <th>13.00</th>\n",
       "      <th>16.00</th>\n",
       "      <th>17.00</th>\n",
       "      <th>30.00</th>\n",
       "      <th>31.00</th>\n",
       "      <th>33.00</th>\n",
       "    </tr>\n",
       "  </thead>\n",
       "  <tbody>\n",
       "    <tr>\n",
       "      <th>count</th>\n",
       "      <td>2455910.00</td>\n",
       "      <td>60472.00</td>\n",
       "      <td>5409.00</td>\n",
       "      <td>1312.00</td>\n",
       "      <td>475.00</td>\n",
       "      <td>252.00</td>\n",
       "      <td>154.00</td>\n",
       "      <td>112.00</td>\n",
       "      <td>63.00</td>\n",
       "      <td>70.00</td>\n",
       "      <td>36.00</td>\n",
       "      <td>78.00</td>\n",
       "      <td>32.00</td>\n",
       "      <td>17.00</td>\n",
       "      <td>30.00</td>\n",
       "      <td>31.00</td>\n",
       "      <td>99.00</td>\n",
       "    </tr>\n",
       "    <tr>\n",
       "      <th>count_percent</th>\n",
       "      <td>97.28</td>\n",
       "      <td>2.40</td>\n",
       "      <td>0.21</td>\n",
       "      <td>0.05</td>\n",
       "      <td>0.02</td>\n",
       "      <td>0.01</td>\n",
       "      <td>0.01</td>\n",
       "      <td>0.00</td>\n",
       "      <td>0.00</td>\n",
       "      <td>0.00</td>\n",
       "      <td>0.00</td>\n",
       "      <td>0.00</td>\n",
       "      <td>0.00</td>\n",
       "      <td>0.00</td>\n",
       "      <td>0.00</td>\n",
       "      <td>0.00</td>\n",
       "      <td>0.00</td>\n",
       "    </tr>\n",
       "  </tbody>\n",
       "</table>\n",
       "</div>"
      ],
      "text/plain": [
       "score              1.00     2.00    3.00    4.00   5.00   6.00   7.00   8.00   \\\n",
       "count         2455910.00 60472.00 5409.00 1312.00 475.00 252.00 154.00 112.00   \n",
       "count_percent      97.28     2.40    0.21    0.05   0.02   0.01   0.01   0.00   \n",
       "\n",
       "score          9.00   10.00  12.00  13.00  16.00  17.00  30.00  31.00  33.00  \n",
       "count          63.00  70.00  36.00  78.00  32.00  17.00  30.00  31.00  99.00  \n",
       "count_percent   0.00   0.00   0.00   0.00   0.00   0.00   0.00   0.00   0.00  "
      ]
     },
     "metadata": {},
     "output_type": "display_data"
    },
    {
     "data": {
      "image/png": "[encoded data removed]",
      "text/plain": [
       "<Figure size 1080x288 with 1 Axes>"
      ]
     },
     "metadata": {
      "needs_background": "light"
     },
     "output_type": "display_data"
    }
   ],
   "source": [
    "selection = data_score1[['session_id', 'score']].copy()\n",
    "selection = pd.DataFrame(selection.groupby('score').size(), columns=['count'])\n",
    "\n",
    "selection[\"count_percent\"] = 100 / data_score1.shape[0] * selection\n",
    "display(selection.T)\n",
    "selection = selection[['count']].T\n",
    "\n",
    "plot_bars(\n",
    "    selection, \n",
    "    \"Répartition des scores par articles (ce score étant le nombre de fois ou l'utilisateur à ouvert l'article)\", \n",
    "    x_label=\"Score\", y_label=\"Nombre d'articles (log scale)\",\n",
    "    labels_modulo=1, show_values=True, log_scale=True, show_grid=True, \n",
    ")"
   ]
  },
  {
   "cell_type": "code",
   "execution_count": 50,
   "id": "49d75df6-defc-45d7-a1ba-3769da34db65",
   "metadata": {},
   "outputs": [
    {
     "data": {
      "text/html": [
       "<div>\n",
       "<style scoped>\n",
       "    .dataframe tbody tr th:only-of-type {\n",
       "        vertical-align: middle;\n",
       "    }\n",
       "\n",
       "    .dataframe tbody tr th {\n",
       "        vertical-align: top;\n",
       "    }\n",
       "\n",
       "    .dataframe thead th {\n",
       "        text-align: right;\n",
       "    }\n",
       "</style>\n",
       "<table border=\"1\" class=\"dataframe\">\n",
       "  <thead>\n",
       "    <tr style=\"text-align: right;\">\n",
       "      <th></th>\n",
       "      <th>count</th>\n",
       "      <th>mean</th>\n",
       "      <th>std</th>\n",
       "      <th>min</th>\n",
       "      <th>25%</th>\n",
       "      <th>50%</th>\n",
       "      <th>75%</th>\n",
       "      <th>max</th>\n",
       "    </tr>\n",
       "  </thead>\n",
       "  <tbody>\n",
       "    <tr>\n",
       "      <th>score</th>\n",
       "      <td>2524552.00</td>\n",
       "      <td>1.03</td>\n",
       "      <td>0.35</td>\n",
       "      <td>1.00</td>\n",
       "      <td>1.00</td>\n",
       "      <td>1.00</td>\n",
       "      <td>1.00</td>\n",
       "      <td>33.00</td>\n",
       "    </tr>\n",
       "  </tbody>\n",
       "</table>\n",
       "</div>"
      ],
      "text/plain": [
       "           count  mean  std  min  25%  50%  75%   max\n",
       "score 2524552.00  1.03 0.35 1.00 1.00 1.00 1.00 33.00"
      ]
     },
     "execution_count": 50,
     "metadata": {},
     "output_type": "execute_result"
    }
   ],
   "source": [
    "pd.DataFrame(data_score1.score.describe()).T"
   ]
  },
  {
   "cell_type": "markdown",
   "id": "a04d0dee-54ad-4fb1-9c28-c0463b6e1a56",
   "metadata": {},
   "source": [
    "> ⚠️ Vu sa répartition, ce score ne semble pas très utile... *(plus de 97% des articles ont été visités une seule fois et ont donc un score de 1)*"
   ]
  },
  {
   "cell_type": "markdown",
   "id": "c7afef0f-c4eb-4131-8bcc-c6cff0b94c9d",
   "metadata": {},
   "source": [
    "### 4.3.2 Score basé sur le temps écoulé entre deux articles d'une même session\n",
    "*(il faut des sessions de 2 articles mini, et le dernier sera perdu car on a pas de temps de cloture des sessions)*"
   ]
  },
  {
   "cell_type": "code",
   "execution_count": null,
   "id": "59c6cc40-b234-463b-9ba2-2ca967d1c591",
   "metadata": {},
   "outputs": [],
   "source": [
    "data_clean.head(1)"
   ]
  },
  {
   "cell_type": "code",
   "execution_count": null,
   "id": "271c0f0f-ea24-4ff8-b115-b1e576e11a95",
   "metadata": {},
   "outputs": [],
   "source": [
    "data_clean[ data_clean.session_id == 1506825426267738 ]"
   ]
  },
  {
   "cell_type": "code",
   "execution_count": null,
   "id": "c729c861-955f-4a65-b445-5c639d6c0583",
   "metadata": {},
   "outputs": [],
   "source": [
    "data_merge[ data_merge.session_id == 1506825426267738 ]"
   ]
  },
  {
   "cell_type": "code",
   "execution_count": null,
   "id": "a3a3cdf8-e084-44c9-866f-77a12bc558ed",
   "metadata": {},
   "outputs": [],
   "source": [
    "selection = data_clean[['session_id', 'session_start', 'session_size', 'click_timestamp']].copy()\n",
    "selection = pd.DataFrame(selection.groupby(['session_id', 'session_size', 'session_start', 'click_timestamp']))\n",
    "selection"
   ]
  },
  {
   "cell_type": "code",
   "execution_count": null,
   "id": "d7cbebff-517a-4d2f-be4b-08a185b8c8d5",
   "metadata": {},
   "outputs": [],
   "source": [
    "for i, x in selection.iteritems():\n",
    "    print(x)\n",
    "    if i > 2 :\n",
    "        break"
   ]
  },
  {
   "cell_type": "code",
   "execution_count": null,
   "id": "74a26488-8348-4d12-a0ed-97ec2633f165",
   "metadata": {},
   "outputs": [],
   "source": []
  },
  {
   "cell_type": "code",
   "execution_count": null,
   "id": "061b5af6-6423-4cf4-8bec-ba5a26f534cf",
   "metadata": {},
   "outputs": [],
   "source": []
  },
  {
   "cell_type": "code",
   "execution_count": null,
   "id": "f6359c2d-b356-426e-b3b7-174c8e51fac9",
   "metadata": {},
   "outputs": [],
   "source": []
  },
  {
   "cell_type": "code",
   "execution_count": null,
   "id": "a384ea45-4cb9-4337-a462-fe927b1d7ddd",
   "metadata": {},
   "outputs": [],
   "source": []
  },
  {
   "cell_type": "code",
   "execution_count": null,
   "id": "b1674140-ed7e-490f-89f5-c86083eb6ed3",
   "metadata": {},
   "outputs": [],
   "source": []
  },
  {
   "cell_type": "code",
   "execution_count": null,
   "id": "62b20d73-4ace-4014-9dab-c14bca7400ab",
   "metadata": {},
   "outputs": [],
   "source": []
  },
  {
   "cell_type": "code",
   "execution_count": null,
   "id": "0be89866-67f8-4086-bc34-cf4586628297",
   "metadata": {},
   "outputs": [],
   "source": []
  },
  {
   "cell_type": "code",
   "execution_count": null,
   "id": "14657f56-5030-43e9-bce7-31881251fbd1",
   "metadata": {},
   "outputs": [],
   "source": []
  },
  {
   "cell_type": "code",
   "execution_count": null,
   "id": "48f0364a-c1ac-48b1-89d8-25bfa0c3dbad",
   "metadata": {},
   "outputs": [],
   "source": []
  },
  {
   "cell_type": "code",
   "execution_count": null,
   "id": "9861b9c9-0ae9-480b-b6fe-3a0be94db67f",
   "metadata": {},
   "outputs": [],
   "source": []
  },
  {
   "cell_type": "code",
   "execution_count": null,
   "id": "66133c7b-130d-4ccb-afd7-64bcfb5d1f0f",
   "metadata": {},
   "outputs": [],
   "source": []
  },
  {
   "cell_type": "code",
   "execution_count": null,
   "id": "20efb34f-e020-4a50-9845-663b799388f1",
   "metadata": {},
   "outputs": [],
   "source": []
  },
  {
   "cell_type": "markdown",
   "id": "5ec453db-25e8-4e92-b125-250c036c3ce6",
   "metadata": {},
   "source": [
    "### ???"
   ]
  },
  {
   "cell_type": "code",
   "execution_count": null,
   "id": "256e665e-e233-43f5-9a01-752bbb6bd305",
   "metadata": {},
   "outputs": [],
   "source": [
    "selection = data_clicks.session_size.value_counts()\n",
    "print(data_clicks.shape)\n",
    "selection = 100 / data_clicks.shape[0] * selection\n",
    "selection = pd.DataFrame(selection).sort_index().T\n",
    "selection\n",
    "plot_bars(selection, \"Répartition des tailles de sessions\", labels_modulo=1, show_values=False)"
   ]
  },
  {
   "cell_type": "code",
   "execution_count": null,
   "id": "0af75b04-c0a2-4d88-9ac7-13b7e044b917",
   "metadata": {},
   "outputs": [],
   "source": []
  },
  {
   "cell_type": "code",
   "execution_count": null,
   "id": "c6b73838-cd65-46ce-9cbd-71e66fb30680",
   "metadata": {},
   "outputs": [],
   "source": [
    "data_clicks[ data_clicks.user_id == 2 ]"
   ]
  },
  {
   "cell_type": "code",
   "execution_count": null,
   "id": "2ccc2f9d-70bc-4bbd-842a-55f0f189460e",
   "metadata": {},
   "outputs": [],
   "source": []
  },
  {
   "cell_type": "markdown",
   "id": "a2e53024-2142-4c4d-8ac3-b27f0fbc6238",
   "metadata": {},
   "source": [
    "* Quelle est le nombre moyen de sessions par utilisateurs ?\n",
    "* Quelle est le nombre moyen d'interactions par session ?\n",
    "* Combien d'articles sont 'relus' ?\n",
    "* "
   ]
  },
  {
   "cell_type": "code",
   "execution_count": null,
   "id": "279482af-a0a1-4dae-9ef7-cebf77b2554a",
   "metadata": {},
   "outputs": [],
   "source": []
  },
  {
   "cell_type": "code",
   "execution_count": null,
   "id": "9035231d-39a9-4d32-89d3-17baa29c9a70",
   "metadata": {},
   "outputs": [],
   "source": []
  },
  {
   "cell_type": "code",
   "execution_count": null,
   "id": "633275f0-787f-4bad-bc39-3980cff4c68f",
   "metadata": {},
   "outputs": [],
   "source": []
  },
  {
   "cell_type": "code",
   "execution_count": null,
   "id": "0d85d0b5-6f0b-4ef4-a539-f6fe3909b337",
   "metadata": {},
   "outputs": [],
   "source": []
  },
  {
   "cell_type": "markdown",
   "id": "9192f3aa-2d43-4246-8844-3385273119da",
   "metadata": {},
   "source": [
    "## Load clicks sample (1 Hour - id=000)"
   ]
  },
  {
   "cell_type": "code",
   "execution_count": null,
   "id": "de21e591-00ad-4ccd-aa17-5462f674673d",
   "metadata": {},
   "outputs": [],
   "source": [
    "data_clicks_1H = pd.read_csv('data/news-portal-user-interactions-by-globocom/clicks_sample.csv')\n",
    "display(data_clicks_1H.head(), data_clicks_1H.shape)"
   ]
  },
  {
   "cell_type": "code",
   "execution_count": null,
   "id": "be9c61d2-d56d-4722-a9e0-4b635fcafa8d",
   "metadata": {},
   "outputs": [],
   "source": [
    "data_clicks_1H.describe(include='all')"
   ]
  },
  {
   "cell_type": "code",
   "execution_count": null,
   "id": "b525391a-4c15-49ee-a045-125c99b67281",
   "metadata": {},
   "outputs": [],
   "source": []
  },
  {
   "cell_type": "code",
   "execution_count": null,
   "id": "7c39f79d-1f36-4a10-bdc1-6c1ed502f28f",
   "metadata": {},
   "outputs": [],
   "source": []
  },
  {
   "cell_type": "markdown",
   "id": "d6813f11-08fd-4c00-b711-9e0963e31213",
   "metadata": {},
   "source": [
    "## Load the Articles' Embedding\n",
    "\n",
    "articles_embeddings.pickle Pickle (Python 3) of a NumPy matrix containing the Article Content Embeddings (250-dimensional vectors), trained upon articles' text and metadata by the CHAMELEON's ACR module (see paper for details) for 364047 published articles.\n",
    "P.s. The full text of news articles could not be provided due to license restrictions, but those embeddings can be used by Neural Networks to represent their content. See this paper for a t-SNE visualization of these embeddings, colored by category."
   ]
  },
  {
   "cell_type": "code",
   "execution_count": null,
   "id": "bedc9f3e-1576-42b5-90c0-151c12ff3947",
   "metadata": {},
   "outputs": [],
   "source": [
    "file = open('data/news-portal-user-interactions-by-globocom/articles_embeddings.pickle',\"rb\")\n",
    "article_embedding = pickle.load(file)"
   ]
  },
  {
   "cell_type": "code",
   "execution_count": null,
   "id": "808895d8-4acd-4fab-892a-586c7db47e6e",
   "metadata": {},
   "outputs": [],
   "source": [
    "article_embedding"
   ]
  },
  {
   "cell_type": "code",
   "execution_count": null,
   "id": "c11ac165-398c-481b-999d-8f897683a9d4",
   "metadata": {},
   "outputs": [],
   "source": [
    "article_embedding.shape"
   ]
  },
  {
   "cell_type": "code",
   "execution_count": null,
   "id": "5c7a274c-2138-4653-a527-373a40c232d4",
   "metadata": {},
   "outputs": [],
   "source": []
  }
 ],
 "metadata": {
  "kernelspec": {
   "display_name": "venvP5",
   "language": "python",
   "name": "venvp5"
  },
  "language_info": {
   "codemirror_mode": {
    "name": "ipython",
    "version": 3
   },
   "file_extension": ".py",
   "mimetype": "text/x-python",
   "name": "python",
   "nbconvert_exporter": "python",
   "pygments_lexer": "ipython3",
   "version": "3.8.10"
  }
 },
 "nbformat": 4,
 "nbformat_minor": 5
}
