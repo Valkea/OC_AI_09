{
 "cells": [
  {
   "cell_type": "markdown",
   "id": "32f4e861-0323-4e85-92f6-017820ef4326",
   "metadata": {},
   "source": [
    "# Menu <a class=\"anchor\" id=\"menu\"></a>\n",
    "\n",
    "* [1. Candidate generation](#candidates)\n",
    "    * [1.1 Modèle baseline *(random recommendations)*](#candidates_baseline)\n",
    "    * [1.2 Collaborative Filtering](#candidates_collaborative_filtering)\n",
    "    * [1.3 Content Based Filtering](#candidates_content_based_filtering)\n",
    "    * [1.4 Quelques variantes](#candidates_others)\n",
    "    * [1.5 Revue des scores](#candidates_scores)\n",
    "* [2. Préparons le modèle Hybrid à déployer](#prepare_hybrid)"
   ]
  },
  {
   "cell_type": "markdown",
   "id": "536b8006-7d0a-443c-85d5-2d0f58fec36d",
   "metadata": {
    "tags": []
   },
   "source": [
    "# Préparatifs "
   ]
  },
  {
   "cell_type": "code",
   "execution_count": 1,
   "id": "93abafbe-0ac7-40b0-ade8-96c53aab4356",
   "metadata": {},
   "outputs": [
    {
     "name": "stderr",
     "output_type": "stream",
     "text": [
      "/home/valkea/Dev/OpenClassrooms/Projets_AI/P9/venvP9/lib/python3.8/site-packages/tqdm/auto.py:22: TqdmWarning: IProgress not found. Please update jupyter and ipywidgets. See https://ipywidgets.readthedocs.io/en/stable/user_install.html\n",
      "  from .autonotebook import tqdm as notebook_tqdm\n"
     ]
    }
   ],
   "source": [
    "import math\n",
    "import time\n",
    "import pickle \n",
    "import random\n",
    "import joblib\n",
    "import pathlib\n",
    "import multiprocessing\n",
    "from multiprocessing import Pool\n",
    "from collections import defaultdict\n",
    "\n",
    "import pandas as pd\n",
    "import numpy as np\n",
    "from numpy.linalg import norm\n",
    "\n",
    "import scipy.sparse as sparse\n",
    "from sklearn.metrics.pairwise import cosine_similarity\n",
    "\n",
    "import implicit\n",
    "from implicit.nearest_neighbours import bm25_weight\n",
    "from implicit import evaluation\n",
    "\n",
    "import ml_metrics as metrics\n",
    "\n",
    "random_seed = 0\n",
    "np.random.seed(random_seed)"
   ]
  },
  {
   "cell_type": "code",
   "execution_count": 2,
   "id": "ca81082c-df01-4957-a342-1f1065d0f7ba",
   "metadata": {},
   "outputs": [
    {
     "data": {
      "text/html": [
       "<div>\n",
       "<style scoped>\n",
       "    .dataframe tbody tr th:only-of-type {\n",
       "        vertical-align: middle;\n",
       "    }\n",
       "\n",
       "    .dataframe tbody tr th {\n",
       "        vertical-align: top;\n",
       "    }\n",
       "\n",
       "    .dataframe thead th {\n",
       "        text-align: right;\n",
       "    }\n",
       "</style>\n",
       "<table border=\"1\" class=\"dataframe\">\n",
       "  <thead>\n",
       "    <tr style=\"text-align: right;\">\n",
       "      <th></th>\n",
       "      <th>mean_cosine_similarity</th>\n",
       "      <th>precision@k</th>\n",
       "      <th>map@k</th>\n",
       "      <th>ndcg@k</th>\n",
       "      <th>training_time</th>\n",
       "    </tr>\n",
       "    <tr>\n",
       "      <th>model_name</th>\n",
       "      <th></th>\n",
       "      <th></th>\n",
       "      <th></th>\n",
       "      <th></th>\n",
       "      <th></th>\n",
       "    </tr>\n",
       "  </thead>\n",
       "  <tbody>\n",
       "  </tbody>\n",
       "</table>\n",
       "</div>"
      ],
      "text/plain": [
       "Empty DataFrame\n",
       "Columns: [mean_cosine_similarity, precision@k, map@k, ndcg@k, training_time]\n",
       "Index: []"
      ]
     },
     "execution_count": 2,
     "metadata": {},
     "output_type": "execute_result"
    }
   ],
   "source": [
    "scores_df = pd.DataFrame([], columns=['model_name', 'mean_cosine_similarity', 'precision@k', 'map@k', 'ndcg@k', 'training_time'])\n",
    "scores_df.set_index('model_name', inplace=True)\n",
    "scores_df.head()"
   ]
  },
  {
   "cell_type": "markdown",
   "id": "cad39195-a13c-4fef-b6db-357ba86c628d",
   "metadata": {},
   "source": [
    "### Chargeons les jeux de données `training` et `validation`"
   ]
  },
  {
   "cell_type": "code",
   "execution_count": 3,
   "id": "da144555-b437-4d9f-b42d-60de186a8588",
   "metadata": {},
   "outputs": [
    {
     "data": {
      "text/html": [
       "<div>\n",
       "<style scoped>\n",
       "    .dataframe tbody tr th:only-of-type {\n",
       "        vertical-align: middle;\n",
       "    }\n",
       "\n",
       "    .dataframe tbody tr th {\n",
       "        vertical-align: top;\n",
       "    }\n",
       "\n",
       "    .dataframe thead th {\n",
       "        text-align: right;\n",
       "    }\n",
       "</style>\n",
       "<table border=\"1\" class=\"dataframe\">\n",
       "  <thead>\n",
       "    <tr style=\"text-align: right;\">\n",
       "      <th></th>\n",
       "      <th>user_id</th>\n",
       "      <th>article_id</th>\n",
       "      <th>category_id</th>\n",
       "      <th>score</th>\n",
       "    </tr>\n",
       "  </thead>\n",
       "  <tbody>\n",
       "    <tr>\n",
       "      <th>0</th>\n",
       "      <td>59</td>\n",
       "      <td>234853</td>\n",
       "      <td>375</td>\n",
       "      <td>-0.328045</td>\n",
       "    </tr>\n",
       "    <tr>\n",
       "      <th>1</th>\n",
       "      <td>79</td>\n",
       "      <td>159359</td>\n",
       "      <td>281</td>\n",
       "      <td>-0.327253</td>\n",
       "    </tr>\n",
       "    <tr>\n",
       "      <th>2</th>\n",
       "      <td>154</td>\n",
       "      <td>96663</td>\n",
       "      <td>209</td>\n",
       "      <td>-0.363316</td>\n",
       "    </tr>\n",
       "  </tbody>\n",
       "</table>\n",
       "</div>"
      ],
      "text/plain": [
       "   user_id  article_id  category_id     score\n",
       "0       59      234853          375 -0.328045\n",
       "1       79      159359          281 -0.327253\n",
       "2      154       96663          209 -0.363316"
      ]
     },
     "metadata": {},
     "output_type": "display_data"
    },
    {
     "data": {
      "text/plain": [
       "(1577295, 4)"
      ]
     },
     "metadata": {},
     "output_type": "display_data"
    }
   ],
   "source": [
    "data_train = pd.read_csv('data/data_train.csv')\n",
    "display(data_train.head(3), data_train.shape)"
   ]
  },
  {
   "cell_type": "code",
   "execution_count": 4,
   "id": "44a3e34b-21f9-4a36-b5fb-e5542943278f",
   "metadata": {},
   "outputs": [
    {
     "data": {
      "text/html": [
       "<div>\n",
       "<style scoped>\n",
       "    .dataframe tbody tr th:only-of-type {\n",
       "        vertical-align: middle;\n",
       "    }\n",
       "\n",
       "    .dataframe tbody tr th {\n",
       "        vertical-align: top;\n",
       "    }\n",
       "\n",
       "    .dataframe thead th {\n",
       "        text-align: right;\n",
       "    }\n",
       "</style>\n",
       "<table border=\"1\" class=\"dataframe\">\n",
       "  <thead>\n",
       "    <tr style=\"text-align: right;\">\n",
       "      <th></th>\n",
       "      <th>user_id</th>\n",
       "      <th>article_id</th>\n",
       "      <th>category_id</th>\n",
       "      <th>score</th>\n",
       "    </tr>\n",
       "  </thead>\n",
       "  <tbody>\n",
       "    <tr>\n",
       "      <th>0</th>\n",
       "      <td>279777</td>\n",
       "      <td>96210</td>\n",
       "      <td>209</td>\n",
       "      <td>-0.387729</td>\n",
       "    </tr>\n",
       "    <tr>\n",
       "      <th>1</th>\n",
       "      <td>29634</td>\n",
       "      <td>284773</td>\n",
       "      <td>412</td>\n",
       "      <td>-0.209496</td>\n",
       "    </tr>\n",
       "    <tr>\n",
       "      <th>2</th>\n",
       "      <td>55</td>\n",
       "      <td>162605</td>\n",
       "      <td>281</td>\n",
       "      <td>0.213075</td>\n",
       "    </tr>\n",
       "  </tbody>\n",
       "</table>\n",
       "</div>"
      ],
      "text/plain": [
       "   user_id  article_id  category_id     score\n",
       "0   279777       96210          209 -0.387729\n",
       "1    29634      284773          412 -0.209496\n",
       "2       55      162605          281  0.213075"
      ]
     },
     "metadata": {},
     "output_type": "display_data"
    },
    {
     "data": {
      "text/plain": [
       "(241105, 4)"
      ]
     },
     "metadata": {},
     "output_type": "display_data"
    }
   ],
   "source": [
    "data_valid = pd.read_csv('data/data_valid.csv')\n",
    "display(data_valid.head(3), data_valid.shape)"
   ]
  },
  {
   "cell_type": "code",
   "execution_count": 5,
   "id": "b3a2fd16-9860-4bdf-8df5-cc7a4139f646",
   "metadata": {},
   "outputs": [
    {
     "data": {
      "text/plain": [
       "(297141, 84041)"
      ]
     },
     "execution_count": 5,
     "metadata": {},
     "output_type": "execute_result"
    }
   ],
   "source": [
    "data_train.user_id.nunique(), data_valid.user_id.nunique()"
   ]
  },
  {
   "cell_type": "markdown",
   "id": "416444ef-df6f-4eca-a295-d64aabbb4efc",
   "metadata": {},
   "source": [
    "### Préparons une sparse matrix pour entrainer nos algorithmes de collaborative filtering"
   ]
  },
  {
   "cell_type": "markdown",
   "id": "90fdb022-640e-4091-aa6a-8b990459b934",
   "metadata": {},
   "source": [
    "On va convertir nos user_id et article_id en categorical poiur réduire la taille des sparse matrix, mais pour nous assurer que les deux jeux de données (train & valid) on des index raccords entre les users et les articles, nous allons d'abord les rassembler pour produire et extraire les nouveaux index\n",
    "\n",
    "#### Rassemblons les deux jeux de données pour produire et extraires les nouveaux index"
   ]
  },
  {
   "cell_type": "code",
   "execution_count": 6,
   "id": "c473ba61-941c-43b5-9d88-82d59d3241ab",
   "metadata": {},
   "outputs": [],
   "source": [
    "data_full = pd.concat([data_train, data_valid], axis=0)\n",
    "data_full.shape, data_train.shape, data_valid.shape\n",
    "\n",
    "data_full['user_cat'] = data_full['user_id'].astype('category').cat.codes\n",
    "data_full['article_cat'] = data_full['article_id'].astype('category').cat.codes\n",
    "\n",
    "num_rows = data_full.user_cat.max()+1\n",
    "num_cols = data_full.article_cat.max()+1"
   ]
  },
  {
   "cell_type": "markdown",
   "id": "c909e225-b68e-48d4-821c-b646540e9314",
   "metadata": {},
   "source": [
    "#### Préparons des lookup lists pour retrouver facilement la correspondance entre les `user_id` / `user_cat` et `article_id` / `article_cat`"
   ]
  },
  {
   "cell_type": "code",
   "execution_count": 7,
   "id": "6b6be666-37ce-4b4a-95ee-dd746aa109ec",
   "metadata": {},
   "outputs": [],
   "source": [
    "user_lookup_id_cat = pd.DataFrame(data_full.groupby('user_id')['user_cat'].apply(lambda x: list(x)[0])).to_dict()\n",
    "user_lookup_cat_id = pd.DataFrame(data_full.groupby('user_cat')['user_id'].apply(lambda x: list(x)[0])).to_dict()"
   ]
  },
  {
   "cell_type": "code",
   "execution_count": 8,
   "id": "8a2a0cb3-9773-4912-94b4-15f46b427392",
   "metadata": {},
   "outputs": [],
   "source": [
    "article_lookup_id_cat = pd.DataFrame(data_full.groupby('article_id')['article_cat'].apply(lambda x: list(x)[0])).to_dict()\n",
    "article_lookup_cat_id = pd.DataFrame(data_full.groupby('article_cat')['article_id'].apply(lambda x: list(x)[0])).to_dict()"
   ]
  },
  {
   "cell_type": "markdown",
   "id": "764b0c4b-c5f9-4aa9-b29d-c4656d5a8b57",
   "metadata": {},
   "source": [
    "#### Ajoutons les nouveaux index `user_cat` et `article_cat` aux jeux de données `data_train` et `data_valid`"
   ]
  },
  {
   "cell_type": "code",
   "execution_count": 9,
   "id": "06c91c32-a6a4-421d-b69d-41352087c1e8",
   "metadata": {},
   "outputs": [],
   "source": [
    "data_train['user_cat'] = data_train.user_id.apply(lambda x: user_lookup_id_cat['user_cat'][x])\n",
    "data_valid['user_cat'] = data_valid.user_id.apply(lambda x: user_lookup_id_cat['user_cat'][x])"
   ]
  },
  {
   "cell_type": "code",
   "execution_count": 10,
   "id": "a997b65f-efb9-4291-954d-e68108b69249",
   "metadata": {},
   "outputs": [],
   "source": [
    "data_train['article_cat'] = data_train.article_id.apply(lambda x: article_lookup_id_cat['article_cat'][x])\n",
    "data_valid['article_cat'] = data_valid.article_id.apply(lambda x: article_lookup_id_cat['article_cat'][x])"
   ]
  },
  {
   "cell_type": "markdown",
   "id": "772ec240-6c12-428a-b4eb-ee5000588dea",
   "metadata": {},
   "source": [
    "#### Préparons à présent les sparse matrix sur la base de ces nouvelles colonnes `user_cat` et `article_cat` *(qui sont plus compactes que user_id et article_id)*"
   ]
  },
  {
   "cell_type": "code",
   "execution_count": 11,
   "id": "2b9c8204-5020-47e7-b8a6-8cb880116baf",
   "metadata": {},
   "outputs": [
    {
     "data": {
      "text/plain": [
       "(297141, 32595)"
      ]
     },
     "metadata": {},
     "output_type": "display_data"
    },
    {
     "data": {
      "text/plain": [
       "(297141, 32595)"
      ]
     },
     "metadata": {},
     "output_type": "display_data"
    }
   ],
   "source": [
    "train_sparse_user_item = sparse.csr_matrix((data_train['score'].astype(float), (data_train['user_cat'], data_train['article_cat'])), shape=(num_rows, num_cols))\n",
    "display(train_sparse_user_item.shape)\n",
    "\n",
    "valid_sparse_user_item = sparse.csr_matrix((data_valid['score'].astype(float), (data_valid['user_cat'], data_valid['article_cat'])), shape=(num_rows, num_cols))\n",
    "display(valid_sparse_user_item.shape)"
   ]
  },
  {
   "cell_type": "code",
   "execution_count": null,
   "id": "27a92215-a779-4e6c-a1cd-32da230af2ab",
   "metadata": {},
   "outputs": [],
   "source": []
  },
  {
   "cell_type": "raw",
   "id": "f2fd9b19-1085-4596-be55-66dde10db24d",
   "metadata": {},
   "source": [
    "sparse_user_item.eliminate_zeros()\n",
    "sparse_user_item.data = np.ones(len(sparse_user_item.data))\n",
    "display(sparse_user_item.shape)"
   ]
  },
  {
   "cell_type": "markdown",
   "id": "47cac9e4-95f4-47c1-a3b9-a5bdf0de5b7e",
   "metadata": {},
   "source": [
    "### Chargons les embeddings"
   ]
  },
  {
   "cell_type": "code",
   "execution_count": 12,
   "id": "ede8ce6e-3345-4a28-8d28-b0921f0bb3bb",
   "metadata": {},
   "outputs": [],
   "source": [
    "file = open('data/news-portal-user-interactions-by-globocom/articles_embeddings.pickle',\"rb\")\n",
    "article_embedding = pickle.load(file)"
   ]
  },
  {
   "cell_type": "code",
   "execution_count": 13,
   "id": "5a882fa2-99bc-4093-b048-f23687abf86f",
   "metadata": {},
   "outputs": [
    {
     "data": {
      "text/plain": [
       "array([[-0.16118301, -0.95723313, -0.13794445, ..., -0.231686  ,\n",
       "         0.5974159 ,  0.40962312],\n",
       "       [-0.52321565, -0.974058  ,  0.73860806, ...,  0.18282819,\n",
       "         0.39708954, -0.83436364],\n",
       "       [-0.61961854, -0.9729604 , -0.20736018, ..., -0.44758022,\n",
       "         0.8059317 , -0.28528407],\n",
       "       [-0.7408434 , -0.97574896,  0.39169782, ..., -0.5378381 ,\n",
       "         0.24354108, -0.8853287 ],\n",
       "       [-0.2790515 , -0.97231525,  0.68537366, ..., -0.42406067,\n",
       "         0.18548405, -0.5802922 ]], dtype=float32)"
      ]
     },
     "metadata": {},
     "output_type": "display_data"
    },
    {
     "data": {
      "text/plain": [
       "(364047, 250)"
      ]
     },
     "metadata": {},
     "output_type": "display_data"
    }
   ],
   "source": [
    "display(article_embedding[:5], article_embedding.shape)"
   ]
  },
  {
   "cell_type": "code",
   "execution_count": null,
   "id": "c1ae2e41-ca62-46ed-980b-d9b9e5c354de",
   "metadata": {},
   "outputs": [],
   "source": []
  },
  {
   "cell_type": "markdown",
   "id": "ea4ce87e-dd1b-4bae-a885-22e349aa7f5c",
   "metadata": {},
   "source": [
    "## Définissons des fonctions d'évaluation pour nos modèles"
   ]
  },
  {
   "cell_type": "markdown",
   "id": "18a9d735-b03c-4182-9273-7802c170e655",
   "metadata": {},
   "source": [
    "### D'abord des functions pour évaluer des métriques classiques de recommender systesm *(map@k, precision@k, recall@k, ndcg@k...)*"
   ]
  },
  {
   "cell_type": "markdown",
   "id": "66f310ab-998f-44f3-990c-ac7ca3acf60e",
   "metadata": {},
   "source": [
    "> **Nous devons nous rappeler que la recommandation n'est pas une prédiction.**<br>\n",
    "> S'appuyer sur des métriques ML pour déterminer la performance d'un système de recommandation n'est pas suffisant.<br>\n",
    "> Seul **le retour des utilisateurs apporte des résultats valables et c'est pourquoi les tests A/B devraient toujours être priviligiés**.\n",
    "\n",
    "> Dans la mesure ou notre jeu de données **ne dispose pas de scores explicites**, et où nous voulons **également évaluer le model de Content-Based Filtering** *(qui n'utilise pas de scores)* il ne parrait pas souhaitable d'utiliser des métrique du type `MAE` ou `RMSE`. Mais nous pourrions donc nous tourner vers la `MAP@K`, le`nDCCG`, la `Precision@k`, le `Recall@K`."
   ]
  },
  {
   "cell_type": "code",
   "execution_count": 14,
   "id": "8e5193cf-028e-41c6-9812-285ff2f1c98a",
   "metadata": {},
   "outputs": [],
   "source": [
    "def evaluate_collaborative_filtering(train_sparse, valid_sparse, reco_size, model=None, rec_function=None, sample_size=None):\n",
    "    \n",
    "    user_cats, article_cats = valid_sparse_user_item.nonzero()\n",
    "    user_cats_unique = pd.DataFrame(user_cats, columns=['cat']).groupby('cat').first()\n",
    "    user_cats_unique = list(user_cats_unique.index)\n",
    "    \n",
    "    if sample_size is not None and len(user_cats_unique) > sample_size:\n",
    "        user_cats_unique = user_cats_unique[:sample_size]\n",
    "        \n",
    "    print(\"Number of users in the validation set: \", len(user_cats_unique))\n",
    "    \n",
    "    # --- Get y_reco\n",
    "    if model is not None:\n",
    "        y_reco, _ = model.recommend(user_cats_unique, train_sparse[user_cats_unique], N=reco_size, filter_already_liked_items=True)\n",
    "    if rec_function is not None:\n",
    "        y_reco = rec_function(user_cats_unique, None, train_sparse, valid_sparse, reco_size)\n",
    "    \n",
    "    # --- Get y_true\n",
    "    d = defaultdict(list)\n",
    "    for user_cat, article_cat in zip(user_cats, article_cats):\n",
    "        d[user_cat].append(article_cat)\n",
    "    y_true = [d[x] for x in d]\n",
    "    \n",
    "    if sample_size is not None and len(user_cats) > sample_size:\n",
    "        y_true = y_true[:sample_size]\n",
    "    \n",
    "    return metrics.mapk(y_true, y_reco)"
   ]
  },
  {
   "cell_type": "markdown",
   "id": "78aada43-06b8-482b-ba90-3efd39a75a39",
   "metadata": {},
   "source": [
    "### Ensuite, puisque nous disposons d'embeddings pour tout nos articles, nous pourrions également tenter de créer une métrique basé sur leur similarité\n",
    "\n",
    "> Nous pourrions comparer l'embedding moyen des articles lus APRÈS *(donc les interactions contenues dans data_valid)* avec l'embedding moyen des article recommandés.\n",
    ">>\n",
    "> Cette métrique ne nous indiquera pas si l'on a effectivement recommandé des articles lus par l'utilisateur, mais pourra nous indiquer à quel point le sujet des articles recommandés est proche de ceux lus."
   ]
  },
  {
   "cell_type": "code",
   "execution_count": 15,
   "id": "beaf3e5b-48cb-4bef-b42d-639faf4bac16",
   "metadata": {},
   "outputs": [],
   "source": [
    "def get_mean_cosine_similarity(data_ref, train_df, valid_df, reco_model, reco_size = 5, top_users=None):\n",
    "\n",
    "    # --- for each user, get the ids of the articles he/she has read\n",
    "    select = data_ref.groupby('user_cat')['article_id'].apply(list).reset_index(name='article_ids')\n",
    "    \n",
    "    # --- remove user if he/she has only one article in the data_ref (probably data_valid)\n",
    "    select = select[select.article_ids.map(len) > 1]\n",
    "\n",
    "    # --- crop selection if specified\n",
    "    if top_users is not None:\n",
    "        select = select[:top_users]\n",
    "        \n",
    "    # print(\"users_ids:\", select.user_id)\n",
    "\n",
    "    # --- for each user, compute the mean embedding vectors of the articles he/she has read\n",
    "    select['read_mean_embedding'] = select.apply(lambda x : article_embedding[np.array(x[1])].mean(axis=0), axis=1)\n",
    "\n",
    "    # --- for each user, make recommendations\n",
    "    user_cats = select['user_cat'].values\n",
    "    select['reco_article_ids'] = reco_model(user_cats, select.read_mean_embedding, train_df, valid_df, reco_size)\n",
    "\n",
    "    # --- for each user, compute the mean embedding vectors of the recommended articles\n",
    "    select['reco_mean_embedding'] = select['reco_article_ids'].apply(lambda x : article_embedding[np.array(x)].mean(axis=0))\n",
    "\n",
    "    # --- for each user, compute the cosine similarity between the read_mean_embedding and the pred_mean_embedding\n",
    "    select['cosine'] = select.apply(lambda x: cosine_similarity(x['read_mean_embedding'].reshape(1, -1), x['reco_mean_embedding'].reshape(1, -1))[0][0], axis=1)\n",
    "\n",
    "    # --- reset the index column\n",
    "    select = select.set_index('user_cat')\n",
    "\n",
    "    # --- Compute & return overall mean cosine similarity\n",
    "    return select.cosine.mean(), select"
   ]
  },
  {
   "cell_type": "markdown",
   "id": "b9e3ea03-179b-4383-902f-2780afad57ce",
   "metadata": {},
   "source": [
    "### Calculons également la cosine_similarity entre le data_train et le data_valid *(pour chaque utilisateur, puis la moyenne)*\n",
    "#### pour voir a quel point les lectures du training set sont alignées avec les lectures du validation set par les mêmes utilisateurs..."
   ]
  },
  {
   "cell_type": "code",
   "execution_count": 16,
   "id": "1980c5ac-57db-4f88-a0c1-bab41853e59a",
   "metadata": {},
   "outputs": [
    {
     "name": "stdout",
     "output_type": "stream",
     "text": [
      "\n",
      "mean_cosine_similarity (de 1 à -1) entre 'viewed_in_train' & 'viewed_in_valid' = 0.64\n"
     ]
    }
   ],
   "source": [
    "def get_train_valid_similarity( data_t, data_v ):\n",
    "\n",
    "    select = pd.DataFrame()\n",
    "    \n",
    "    # --- select the validation user_ids\n",
    "    user_idx = data_v.user_id.unique()\n",
    "    \n",
    "    # --- for each user, get the ids of the articles he/she has read in the TRAINING set et le VALIDATION set\n",
    "    select['article_ids_train'] = data_t[data_t.user_id.isin(user_idx)].groupby('user_id')['article_id'].apply(list)\n",
    "    select['article_ids_valid'] = data_v[data_v.user_id.isin(user_idx)].groupby('user_id')['article_id'].apply(list)\n",
    "    \n",
    "    # --- remove user_id with only 1 article either the TRAINING or the VALIDATION set\n",
    "    select = select[select['article_ids_train'].map(len) > 1]\n",
    "    select = select[select['article_ids_valid'].map(len) > 1]\n",
    "    select.dropna(axis=0, inplace=True)\n",
    "    \n",
    "    # --- for each user, compute the mean embedding vectors of the articles he/she has read\n",
    "    select['mean_embedding_train'] = select['article_ids_train'].apply(lambda x : article_embedding[x].mean(axis=0))\n",
    "    select['mean_embedding_valid'] = select['article_ids_valid'].apply(lambda x : article_embedding[x].mean(axis=0))\n",
    "\n",
    "    # --- for each user, compute the cosine similarity between the user's mean_embeddings in the TRAINING set and in the VALIDATION set\n",
    "    select['cosine'] = select.apply(lambda x: cosine_similarity(x['mean_embedding_train'].reshape(1, -1), x['mean_embedding_valid'].reshape(1, -1))[0][0], axis=1)\n",
    "\n",
    "    # --- Compute & return overall mean cosine similarity\n",
    "    return select.cosine.mean(), select\n",
    "\n",
    "cosine_train_valid, cosine_train_valid_df = get_train_valid_similarity(data_train, data_valid)\n",
    "\n",
    "print(f\"\\nmean_cosine_similarity (de 1 à -1) entre 'viewed_in_train' & 'viewed_in_valid' = {cosine_train_valid:.2f}\")"
   ]
  },
  {
   "cell_type": "code",
   "execution_count": 17,
   "id": "d585dd11-a739-4766-a626-6be260fbe62d",
   "metadata": {},
   "outputs": [
    {
     "data": {
      "text/html": [
       "<div>\n",
       "<style scoped>\n",
       "    .dataframe tbody tr th:only-of-type {\n",
       "        vertical-align: middle;\n",
       "    }\n",
       "\n",
       "    .dataframe tbody tr th {\n",
       "        vertical-align: top;\n",
       "    }\n",
       "\n",
       "    .dataframe thead th {\n",
       "        text-align: right;\n",
       "    }\n",
       "</style>\n",
       "<table border=\"1\" class=\"dataframe\">\n",
       "  <thead>\n",
       "    <tr style=\"text-align: right;\">\n",
       "      <th></th>\n",
       "      <th>article_ids_train</th>\n",
       "      <th>article_ids_valid</th>\n",
       "      <th>mean_embedding_train</th>\n",
       "      <th>mean_embedding_valid</th>\n",
       "      <th>cosine</th>\n",
       "    </tr>\n",
       "    <tr>\n",
       "      <th>user_id</th>\n",
       "      <th></th>\n",
       "      <th></th>\n",
       "      <th></th>\n",
       "      <th></th>\n",
       "      <th></th>\n",
       "    </tr>\n",
       "  </thead>\n",
       "  <tbody>\n",
       "    <tr>\n",
       "      <th>5</th>\n",
       "      <td>[168868, 156543, 284664, 156672, 59929, 160974...</td>\n",
       "      <td>[225010, 69353, 161872, 205845, 57748, 157815,...</td>\n",
       "      <td>[-0.17539436, -0.9664814, -0.0456632, -0.30515...</td>\n",
       "      <td>[-0.024590481, -0.9645934, -0.06022447, -0.023...</td>\n",
       "      <td>0.917003</td>\n",
       "    </tr>\n",
       "    <tr>\n",
       "      <th>7</th>\n",
       "      <td>[235840, 156624, 123757, 64409, 336221, 183176]</td>\n",
       "      <td>[199474, 87223, 352979, 284470, 36162, 156279]</td>\n",
       "      <td>[-0.32671222, -0.97076577, -0.31606814, -0.361...</td>\n",
       "      <td>[-0.11400774, -0.96468645, -0.32728586, -0.201...</td>\n",
       "      <td>0.739961</td>\n",
       "    </tr>\n",
       "    <tr>\n",
       "      <th>8</th>\n",
       "      <td>[332114, 284847, 272660, 273464, 313504, 23513...</td>\n",
       "      <td>[331116, 96141, 234481]</td>\n",
       "      <td>[-0.47689843, -0.9678452, -0.2180024, -0.47295...</td>\n",
       "      <td>[-0.32962552, -0.97033435, 0.20547153, -0.0870...</td>\n",
       "      <td>0.741852</td>\n",
       "    </tr>\n",
       "  </tbody>\n",
       "</table>\n",
       "</div>"
      ],
      "text/plain": [
       "                                         article_ids_train  \\\n",
       "user_id                                                      \n",
       "5        [168868, 156543, 284664, 156672, 59929, 160974...   \n",
       "7          [235840, 156624, 123757, 64409, 336221, 183176]   \n",
       "8        [332114, 284847, 272660, 273464, 313504, 23513...   \n",
       "\n",
       "                                         article_ids_valid  \\\n",
       "user_id                                                      \n",
       "5        [225010, 69353, 161872, 205845, 57748, 157815,...   \n",
       "7           [199474, 87223, 352979, 284470, 36162, 156279]   \n",
       "8                                  [331116, 96141, 234481]   \n",
       "\n",
       "                                      mean_embedding_train  \\\n",
       "user_id                                                      \n",
       "5        [-0.17539436, -0.9664814, -0.0456632, -0.30515...   \n",
       "7        [-0.32671222, -0.97076577, -0.31606814, -0.361...   \n",
       "8        [-0.47689843, -0.9678452, -0.2180024, -0.47295...   \n",
       "\n",
       "                                      mean_embedding_valid    cosine  \n",
       "user_id                                                               \n",
       "5        [-0.024590481, -0.9645934, -0.06022447, -0.023...  0.917003  \n",
       "7        [-0.11400774, -0.96468645, -0.32728586, -0.201...  0.739961  \n",
       "8        [-0.32962552, -0.97033435, 0.20547153, -0.0870...  0.741852  "
      ]
     },
     "execution_count": 17,
     "metadata": {},
     "output_type": "execute_result"
    }
   ],
   "source": [
    "cosine_train_valid_df.head(3)"
   ]
  },
  {
   "cell_type": "markdown",
   "id": "ac00460b-6aa7-4645-8bed-19740e6f9d21",
   "metadata": {},
   "source": [
    "---\n",
    "---\n",
    "# 1. Candidate generation <a class=\"anchor\" id=\"candidates\"></a> [⇪](#menu)"
   ]
  },
  {
   "cell_type": "code",
   "execution_count": 18,
   "id": "88416710-997f-4360-9c87-c21e06c5e9b7",
   "metadata": {},
   "outputs": [],
   "source": [
    "reco_size = 5"
   ]
  },
  {
   "cell_type": "markdown",
   "id": "50a81578-f942-4529-adef-fc6d197b593a",
   "metadata": {},
   "source": [
    "## 1.1 Modèle baseline *(random recommendations)* <a class=\"anchor\" id=\"candidates_baseline\"></a> [⇪](#menu)\n",
    "#### Établissons une baseline en utilisant nos functions d'évaluations sur un modèle faisant des recommendations au hasard"
   ]
  },
  {
   "cell_type": "code",
   "execution_count": 19,
   "id": "86eed51b-cc02-44c6-acef-a662fee85e06",
   "metadata": {},
   "outputs": [],
   "source": [
    "model_name = \"Baseline model - Random\""
   ]
  },
  {
   "cell_type": "code",
   "execution_count": 20,
   "id": "55b8d2a0-1cc7-483b-b550-4994d5c59993",
   "metadata": {},
   "outputs": [],
   "source": [
    "def reco_random(user_cats, mean_embeddings, train_df, valid_df, reco_size):\n",
    "    # --- ensure to get the same random matrix for reproductibility\n",
    "    np.random.seed(random_seed)\n",
    "    \n",
    "    # --- set 5 random article_id for each users\n",
    "    return list(np.random.randint(len(article_embedding), size=(len(user_cats), reco_size)))"
   ]
  },
  {
   "cell_type": "markdown",
   "id": "d7cececd-2100-4251-b8b9-ee90c4d301e5",
   "metadata": {},
   "source": [
    "### D'abord avec notre function d'évaluation classique qui évalue la `map@k`"
   ]
  },
  {
   "cell_type": "markdown",
   "id": "47fbc54d-210f-44a7-9637-eb7955edf7e1",
   "metadata": {},
   "source": [
    "#### Pour tout le jeu de données"
   ]
  },
  {
   "cell_type": "code",
   "execution_count": 21,
   "id": "0bd2607e-49a8-4748-a475-da2620efd598",
   "metadata": {},
   "outputs": [
    {
     "name": "stdout",
     "output_type": "stream",
     "text": [
      "Number of users in the validation set:  84041\n",
      "Mean Average Precision @ 5 (ALL users): 0.0000025781\n"
     ]
    }
   ],
   "source": [
    "map_k = evaluate_collaborative_filtering(train_sparse_user_item, valid_sparse_user_item, reco_size, rec_function=reco_random)\n",
    "print(f\"Mean Average Precision @ {reco_size} (ALL users): {map_k:.10f}\")"
   ]
  },
  {
   "cell_type": "markdown",
   "id": "a998885a-fca8-4584-b28a-08a7f987da5f",
   "metadata": {},
   "source": [
    "#### Pour les 1000 premiers utilisateurs *(car j'ai du mal à calculer le score sur l'ensemble du jeu de données avec le Content Based Filtering)*"
   ]
  },
  {
   "cell_type": "code",
   "execution_count": 22,
   "id": "edcf88f7-e7c3-40c7-97f2-d7b33b38fa8c",
   "metadata": {},
   "outputs": [
    {
     "name": "stdout",
     "output_type": "stream",
     "text": [
      "Number of users in the validation set:  1000\n",
      "Mean Average Precision @ 5 (first 1000 users): 0.0000000000\n"
     ]
    }
   ],
   "source": [
    "map_k = evaluate_collaborative_filtering(train_sparse_user_item, valid_sparse_user_item, reco_size, rec_function=reco_random, sample_size=1000)\n",
    "print(f\"Mean Average Precision @ {reco_size} (first 1000 users): {map_k:.10f}\")\n",
    "scores_df.at[model_name,'map@k'] = map_k"
   ]
  },
  {
   "cell_type": "markdown",
   "id": "8fd621b4-d035-419b-a914-4927d0bc982f",
   "metadata": {},
   "source": [
    "### Ensuite avec notre métrique maisons la `mean_cosine_similarity`"
   ]
  },
  {
   "cell_type": "markdown",
   "id": "574abbfb-ef28-4217-854d-fa54a1cd949a",
   "metadata": {},
   "source": [
    "#### Pour tout le jeu de données"
   ]
  },
  {
   "cell_type": "code",
   "execution_count": 23,
   "id": "8a404405-4633-4b19-bb62-89061143e361",
   "metadata": {},
   "outputs": [
    {
     "data": {
      "text/html": [
       "<div>\n",
       "<style scoped>\n",
       "    .dataframe tbody tr th:only-of-type {\n",
       "        vertical-align: middle;\n",
       "    }\n",
       "\n",
       "    .dataframe tbody tr th {\n",
       "        vertical-align: top;\n",
       "    }\n",
       "\n",
       "    .dataframe thead th {\n",
       "        text-align: right;\n",
       "    }\n",
       "</style>\n",
       "<table border=\"1\" class=\"dataframe\">\n",
       "  <thead>\n",
       "    <tr style=\"text-align: right;\">\n",
       "      <th></th>\n",
       "      <th>article_ids</th>\n",
       "      <th>read_mean_embedding</th>\n",
       "      <th>reco_article_ids</th>\n",
       "      <th>reco_mean_embedding</th>\n",
       "      <th>cosine</th>\n",
       "    </tr>\n",
       "    <tr>\n",
       "      <th>user_cat</th>\n",
       "      <th></th>\n",
       "      <th></th>\n",
       "      <th></th>\n",
       "      <th></th>\n",
       "      <th></th>\n",
       "    </tr>\n",
       "  </thead>\n",
       "  <tbody>\n",
       "    <tr>\n",
       "      <th>5</th>\n",
       "      <td>[225010, 69353, 161872, 205845, 57748, 157815,...</td>\n",
       "      <td>[-0.024590481, -0.9645934, -0.06022447, -0.023...</td>\n",
       "      <td>[305711, 117952, 152315, 358083, 359783]</td>\n",
       "      <td>[-0.15132096, -0.956843, 0.125719, -0.27082413...</td>\n",
       "      <td>0.557499</td>\n",
       "    </tr>\n",
       "    <tr>\n",
       "      <th>7</th>\n",
       "      <td>[199474, 87223, 352979, 284470, 36162, 156279]</td>\n",
       "      <td>[-0.11400774, -0.96468645, -0.32728586, -0.201...</td>\n",
       "      <td>[304137, 122579, 86293, 211543, 212038]</td>\n",
       "      <td>[-0.4073767, -0.959381, -0.1800201, -0.0457417...</td>\n",
       "      <td>0.672065</td>\n",
       "    </tr>\n",
       "    <tr>\n",
       "      <th>8</th>\n",
       "      <td>[331116, 96141, 234481]</td>\n",
       "      <td>[-0.32962552, -0.97033435, 0.20547153, -0.0870...</td>\n",
       "      <td>[310744, 170584, 314764, 80186, 17089]</td>\n",
       "      <td>[-0.4528594, -0.96688926, 0.4099636, -0.472056...</td>\n",
       "      <td>0.585191</td>\n",
       "    </tr>\n",
       "    <tr>\n",
       "      <th>10</th>\n",
       "      <td>[196588, 193449, 195689, 65991, 100931, 58556,...</td>\n",
       "      <td>[-0.23681411, -0.96241695, -0.08872973, -0.346...</td>\n",
       "      <td>[150055, 220760, 363345, 255653, 82457]</td>\n",
       "      <td>[-0.3074916, -0.96819973, 0.09544015, -0.04938...</td>\n",
       "      <td>0.642696</td>\n",
       "    </tr>\n",
       "    <tr>\n",
       "      <th>11</th>\n",
       "      <td>[208582, 96877, 195177, 205824]</td>\n",
       "      <td>[-0.15431535, -0.9709704, 0.069619074, 0.13036...</td>\n",
       "      <td>[329843, 332752, 7877, 346110, 73135]</td>\n",
       "      <td>[0.16090424, -0.96745205, -0.013877422, -0.109...</td>\n",
       "      <td>0.418073</td>\n",
       "    </tr>\n",
       "  </tbody>\n",
       "</table>\n",
       "</div>"
      ],
      "text/plain": [
       "                                                article_ids  \\\n",
       "user_cat                                                      \n",
       "5         [225010, 69353, 161872, 205845, 57748, 157815,...   \n",
       "7            [199474, 87223, 352979, 284470, 36162, 156279]   \n",
       "8                                   [331116, 96141, 234481]   \n",
       "10        [196588, 193449, 195689, 65991, 100931, 58556,...   \n",
       "11                          [208582, 96877, 195177, 205824]   \n",
       "\n",
       "                                        read_mean_embedding  \\\n",
       "user_cat                                                      \n",
       "5         [-0.024590481, -0.9645934, -0.06022447, -0.023...   \n",
       "7         [-0.11400774, -0.96468645, -0.32728586, -0.201...   \n",
       "8         [-0.32962552, -0.97033435, 0.20547153, -0.0870...   \n",
       "10        [-0.23681411, -0.96241695, -0.08872973, -0.346...   \n",
       "11        [-0.15431535, -0.9709704, 0.069619074, 0.13036...   \n",
       "\n",
       "                                  reco_article_ids  \\\n",
       "user_cat                                             \n",
       "5         [305711, 117952, 152315, 358083, 359783]   \n",
       "7          [304137, 122579, 86293, 211543, 212038]   \n",
       "8           [310744, 170584, 314764, 80186, 17089]   \n",
       "10         [150055, 220760, 363345, 255653, 82457]   \n",
       "11           [329843, 332752, 7877, 346110, 73135]   \n",
       "\n",
       "                                        reco_mean_embedding    cosine  \n",
       "user_cat                                                               \n",
       "5         [-0.15132096, -0.956843, 0.125719, -0.27082413...  0.557499  \n",
       "7         [-0.4073767, -0.959381, -0.1800201, -0.0457417...  0.672065  \n",
       "8         [-0.4528594, -0.96688926, 0.4099636, -0.472056...  0.585191  \n",
       "10        [-0.3074916, -0.96819973, 0.09544015, -0.04938...  0.642696  \n",
       "11        [0.16090424, -0.96745205, -0.013877422, -0.109...  0.418073  "
      ]
     },
     "metadata": {},
     "output_type": "display_data"
    },
    {
     "data": {
      "text/plain": [
       "(46638, 5)"
      ]
     },
     "metadata": {},
     "output_type": "display_data"
    },
    {
     "name": "stdout",
     "output_type": "stream",
     "text": [
      "\n",
      "mean_cosine_similarity: 0.46 (sachant que la cosine similarity va de 1 à -1)\n"
     ]
    }
   ],
   "source": [
    "MCS, MCS_df = get_mean_cosine_similarity(data_valid, train_sparse_user_item, valid_sparse_user_item, reco_random, 5)\n",
    "display(MCS_df.head(), MCS_df.shape)\n",
    "print(f\"\\nmean_cosine_similarity: {MCS:.2f} (sachant que la cosine similarity va de 1 à -1)\")"
   ]
  },
  {
   "cell_type": "markdown",
   "id": "0c859dae-1c21-4be4-80e9-deb60a9383af",
   "metadata": {},
   "source": [
    "#### Pour les 1000 premiers utilisateurs *(car j'ai du mal à calculer le score sur l'ensemble du jeu de données avec le Content Based Filtering)*"
   ]
  },
  {
   "cell_type": "code",
   "execution_count": 24,
   "id": "13c634f5-55c7-4dbe-9fac-67fb2206800d",
   "metadata": {},
   "outputs": [
    {
     "name": "stdout",
     "output_type": "stream",
     "text": [
      "\n",
      "mean_cosine_similarity: 0.48 (sachant que la cosine similarity va de 1 à -1)\n"
     ]
    }
   ],
   "source": [
    "MCS, MCS_df = get_mean_cosine_similarity(data_valid, train_sparse_user_item, valid_sparse_user_item, reco_random, 5, 1000)\n",
    "print(f\"\\nmean_cosine_similarity: {MCS:.2f} (sachant que la cosine similarity va de 1 à -1)\")\n",
    "\n",
    "scores_df.at[model_name,'mean_cosine_similarity'] = MCS\n",
    "scores_df.at[model_name,'training_time'] = 0"
   ]
  },
  {
   "cell_type": "markdown",
   "id": "f3a84e69-176e-4416-bc60-f9ceada65afa",
   "metadata": {},
   "source": [
    "#### Vérifions la distribution des cosine_similarity calculés"
   ]
  },
  {
   "cell_type": "code",
   "execution_count": 25,
   "id": "347fed2a-75ce-484c-aef6-7411f59a2681",
   "metadata": {},
   "outputs": [
    {
     "data": {
      "text/html": [
       "<div>\n",
       "<style scoped>\n",
       "    .dataframe tbody tr th:only-of-type {\n",
       "        vertical-align: middle;\n",
       "    }\n",
       "\n",
       "    .dataframe tbody tr th {\n",
       "        vertical-align: top;\n",
       "    }\n",
       "\n",
       "    .dataframe thead th {\n",
       "        text-align: right;\n",
       "    }\n",
       "</style>\n",
       "<table border=\"1\" class=\"dataframe\">\n",
       "  <thead>\n",
       "    <tr style=\"text-align: right;\">\n",
       "      <th></th>\n",
       "      <th>count</th>\n",
       "      <th>mean</th>\n",
       "      <th>std</th>\n",
       "      <th>min</th>\n",
       "      <th>25%</th>\n",
       "      <th>50%</th>\n",
       "      <th>75%</th>\n",
       "      <th>max</th>\n",
       "    </tr>\n",
       "  </thead>\n",
       "  <tbody>\n",
       "    <tr>\n",
       "      <th>cosine</th>\n",
       "      <td>1000.0</td>\n",
       "      <td>0.482212</td>\n",
       "      <td>0.13109</td>\n",
       "      <td>0.04751</td>\n",
       "      <td>0.394346</td>\n",
       "      <td>0.495873</td>\n",
       "      <td>0.57634</td>\n",
       "      <td>0.826292</td>\n",
       "    </tr>\n",
       "  </tbody>\n",
       "</table>\n",
       "</div>"
      ],
      "text/plain": [
       "         count      mean      std      min       25%       50%      75%  \\\n",
       "cosine  1000.0  0.482212  0.13109  0.04751  0.394346  0.495873  0.57634   \n",
       "\n",
       "             max  \n",
       "cosine  0.826292  "
      ]
     },
     "execution_count": 25,
     "metadata": {},
     "output_type": "execute_result"
    }
   ],
   "source": [
    "MCS_df.describe().T"
   ]
  },
  {
   "cell_type": "markdown",
   "id": "6eaf69f5-582a-4268-94b0-1b21e538007f",
   "metadata": {},
   "source": [
    "#### Comparons"
   ]
  },
  {
   "cell_type": "code",
   "execution_count": 26,
   "id": "4350ad22-8d0c-4a02-9817-4b0efd25d525",
   "metadata": {},
   "outputs": [
    {
     "data": {
      "text/html": [
       "<div>\n",
       "<style scoped>\n",
       "    .dataframe tbody tr th:only-of-type {\n",
       "        vertical-align: middle;\n",
       "    }\n",
       "\n",
       "    .dataframe tbody tr th {\n",
       "        vertical-align: top;\n",
       "    }\n",
       "\n",
       "    .dataframe thead th {\n",
       "        text-align: right;\n",
       "    }\n",
       "</style>\n",
       "<table border=\"1\" class=\"dataframe\">\n",
       "  <thead>\n",
       "    <tr style=\"text-align: right;\">\n",
       "      <th></th>\n",
       "      <th>mean_cosine_similarity</th>\n",
       "      <th>precision@k</th>\n",
       "      <th>map@k</th>\n",
       "      <th>ndcg@k</th>\n",
       "      <th>training_time</th>\n",
       "    </tr>\n",
       "    <tr>\n",
       "      <th>model_name</th>\n",
       "      <th></th>\n",
       "      <th></th>\n",
       "      <th></th>\n",
       "      <th></th>\n",
       "      <th></th>\n",
       "    </tr>\n",
       "  </thead>\n",
       "  <tbody>\n",
       "    <tr>\n",
       "      <th>Baseline model - Random</th>\n",
       "      <td>0.482212</td>\n",
       "      <td>NaN</td>\n",
       "      <td>0.0</td>\n",
       "      <td>NaN</td>\n",
       "      <td>0</td>\n",
       "    </tr>\n",
       "  </tbody>\n",
       "</table>\n",
       "</div>"
      ],
      "text/plain": [
       "                        mean_cosine_similarity precision@k map@k ndcg@k  \\\n",
       "model_name                                                                \n",
       "Baseline model - Random               0.482212         NaN   0.0    NaN   \n",
       "\n",
       "                        training_time  \n",
       "model_name                             \n",
       "Baseline model - Random             0  "
      ]
     },
     "execution_count": 26,
     "metadata": {},
     "output_type": "execute_result"
    }
   ],
   "source": [
    "scores_df"
   ]
  },
  {
   "cell_type": "markdown",
   "id": "4bf5b93a-6fe0-49ea-84a8-df68be85face",
   "metadata": {},
   "source": [
    "## 1.2 Collaborative Filtering <a class=\"anchor\" id=\"candidates_collaborative_filtering\"></a> [⇪](#menu)"
   ]
  },
  {
   "cell_type": "markdown",
   "id": "d023be47-84a1-434c-8352-b708c38bd2c8",
   "metadata": {},
   "source": [
    "### Entrainons un premier modèle pour calculer les embeddings utilisateurs et faire des recommandations"
   ]
  },
  {
   "cell_type": "code",
   "execution_count": 27,
   "id": "5954c15b-a174-4d0f-b992-6bb1b42c4869",
   "metadata": {},
   "outputs": [
    {
     "name": "stderr",
     "output_type": "stream",
     "text": [
      "100%|█████████████████████████████████████████████████████████████████████████████████████████████████████████████████████████████████████████████████████████████████████████████████████████████| 50/50 [02:53<00:00,  3.48s/it]\n"
     ]
    }
   ],
   "source": [
    "model_als = implicit.als.AlternatingLeastSquares(\n",
    "    factors=32, \n",
    "    regularization=0.05, \n",
    "    iterations=50,\n",
    "    alpha=40\n",
    ")\n",
    "\n",
    "model_name = model_als.__class__.__name__\n",
    "t0 = time.perf_counter()\n",
    "model_als.fit(train_sparse_user_item)\n",
    "scores_df.at[model_name,'training_time'] = time.perf_counter() - t0"
   ]
  },
  {
   "cell_type": "markdown",
   "id": "6e16ab0b-60e6-4490-8394-04ef968b4767",
   "metadata": {},
   "source": [
    "### Testons une `recommandation sur la base d'un ou plusieurs utilisateurs`"
   ]
  },
  {
   "cell_type": "code",
   "execution_count": 28,
   "id": "787ff9cf-1733-403f-9651-73434567581c",
   "metadata": {},
   "outputs": [
    {
     "name": "stdout",
     "output_type": "stream",
     "text": [
      "\n",
      " --- Liste d'articles candidats pour l'utilisateur 59 --- \n",
      "\n",
      "catCode:      19109 \t article_id:     205832 \t score: 0.8304542899131775\n",
      "catCode:      30708 \t article_id:     338340 \t score: 0.6440849900245667\n",
      "catCode:      17180 \t article_id:     183176 \t score: 0.5998055338859558\n",
      "catCode:      27868 \t article_id:     301030 \t score: 0.4979507029056549\n",
      "catCode:      24745 \t article_id:     271551 \t score: 0.4867483377456665\n",
      "\n",
      " --- Liste d'articles candidats pour l'utilisateur 1024 --- \n",
      "\n",
      "catCode:      11936 \t article_id:     119592 \t score: 0.7890013456344604\n",
      "catCode:      27777 \t article_id:     300470 \t score: 0.48075515031814575\n",
      "catCode:      26102 \t article_id:     284985 \t score: 0.42145442962646484\n",
      "catCode:      21773 \t article_id:     235132 \t score: 0.40347716212272644\n",
      "catCode:       9423 \t article_id:      96755 \t score: 0.39373087882995605\n"
     ]
    }
   ],
   "source": [
    "# Make recommendations for the first 10 users in the dataset\n",
    "user_ids = [59, 1024] # liste d'ID utilisateurs\n",
    "user_cat = [ user_lookup_id_cat['user_cat'][x] for x in user_ids ]\n",
    "\n",
    "codes, scores = model_als.recommend(user_cat, valid_sparse_user_item[user_cat], N=reco_size, filter_already_liked_items=True) \n",
    "\n",
    "for i, user_id in enumerate(user_ids):\n",
    "    print(f\"\\n --- Liste d'articles candidats pour l'utilisateur {user_id} --- \\n\")\n",
    "    \n",
    "    for cat, score in zip(codes[i], scores[i]):\n",
    "        idx = article_lookup_cat_id['article_id'][cat]\n",
    "        print(f\"catCode: {cat:10} \\t article_id: {idx:10} \\t score: {score}\")"
   ]
  },
  {
   "cell_type": "markdown",
   "id": "97bb4f59-700b-4235-a1d4-8ebd761e2a64",
   "metadata": {},
   "source": [
    "### Testons une `recommandation sur la base d'un article` *(ce n'est pas le but d'un Collaborative Filtering, mais on peut le faire alors autant l'essayer)*"
   ]
  },
  {
   "cell_type": "code",
   "execution_count": 29,
   "id": "53bdf732-546e-45d7-8e1a-91125f59a3b2",
   "metadata": {},
   "outputs": [
    {
     "name": "stdout",
     "output_type": "stream",
     "text": [
      "\n",
      " --- Liste d'articles candidats sur la base de l'article 162605 --- \n",
      "\n",
      "catCode:      24620 \t article_id:     270674 \t score: 0.76\n",
      "catCode:       5123 \t article_id:      58079 \t score: 0.71\n",
      "catCode:       1716 \t article_id:      20986 \t score: 0.70\n",
      "catCode:       9309 \t article_id:      96242 \t score: 0.69\n",
      "catCode:      24832 \t article_id:     272177 \t score: 0.67\n"
     ]
    }
   ],
   "source": [
    "article_id = 162605\n",
    "article_cat = article_lookup_id_cat['article_cat'][article_id]\n",
    "reco_size = 5\n",
    "\n",
    "# Get similar items.\n",
    "codes, scores = model_als.similar_items(article_cat, N=reco_size , filter_items=[article_cat])\n",
    "\n",
    "print(f\"\\n --- Liste d'articles candidats sur la base de l'article {article_id} --- \\n\")\n",
    "for cat, score in zip(codes, scores):\n",
    "    idx = article_lookup_cat_id['article_id'][cat]\n",
    "    print(f\"catCode: {cat:10} \\t article_id: {idx:10} \\t score: {score:.2f}\")"
   ]
  },
  {
   "cell_type": "markdown",
   "id": "7bc71569-2104-407d-b66e-dd085bb0ec66",
   "metadata": {},
   "source": [
    "### Evaluons le modèle"
   ]
  },
  {
   "cell_type": "markdown",
   "id": "43965753-74c8-4e03-88de-8db2f812a76e",
   "metadata": {},
   "source": [
    "#### Regardons la precision@k"
   ]
  },
  {
   "cell_type": "code",
   "execution_count": 30,
   "id": "95e38e5a-794d-400f-a450-0c9755623c3a",
   "metadata": {},
   "outputs": [
    {
     "name": "stderr",
     "output_type": "stream",
     "text": [
      "100%|█████████████████████████████████████████████████████████████████████████████████████████████████████████████████████████████████████████████████████████████████████████████████████| 84041/84041 [00:27<00:00, 3105.20it/s]"
     ]
    },
    {
     "name": "stdout",
     "output_type": "stream",
     "text": [
      "0.0013341106891679667\n"
     ]
    },
    {
     "name": "stderr",
     "output_type": "stream",
     "text": [
      "\n"
     ]
    }
   ],
   "source": [
    "precision_k = evaluation.precision_at_k(model_als, train_sparse_user_item, valid_sparse_user_item, K=5, show_progress=True, num_threads=1)\n",
    "print(precision_k)\n",
    "scores_df.at[model_name,'precision@k'] = precision_k"
   ]
  },
  {
   "cell_type": "markdown",
   "id": "d05f9586-1ec5-4c3c-949b-c170a3da0572",
   "metadata": {},
   "source": [
    "#### Regardons le MAP@k"
   ]
  },
  {
   "cell_type": "code",
   "execution_count": 31,
   "id": "5f10b1cb-a369-4576-9e58-6eab60085356",
   "metadata": {},
   "outputs": [
    {
     "name": "stderr",
     "output_type": "stream",
     "text": [
      "100%|█████████████████████████████████████████████████████████████████████████████████████████████████████████████████████████████████████████████████████████████████████████████████████| 84041/84041 [00:28<00:00, 2960.21it/s]"
     ]
    },
    {
     "name": "stdout",
     "output_type": "stream",
     "text": [
      "0.00046911626468033467\n"
     ]
    },
    {
     "name": "stderr",
     "output_type": "stream",
     "text": [
      "\n"
     ]
    }
   ],
   "source": [
    "map_k = evaluation.mean_average_precision_at_k(model_als, train_sparse_user_item, valid_sparse_user_item, K=5, show_progress=True, num_threads=1)\n",
    "print(map_k)\n",
    "scores_df.at[model_name,'map@k'] = map_k"
   ]
  },
  {
   "cell_type": "code",
   "execution_count": 32,
   "id": "e1b81811-742c-44a1-9bb7-96ef2ebc4429",
   "metadata": {},
   "outputs": [
    {
     "name": "stdout",
     "output_type": "stream",
     "text": [
      "Number of users in the validation set:  84041\n",
      "Mean Average Precision @ 5 (ALL users): 0.0004336859\n"
     ]
    }
   ],
   "source": [
    "map_k = evaluate_collaborative_filtering(train_sparse_user_item, valid_sparse_user_item, reco_size, model=model_als)\n",
    "print(f\"Mean Average Precision @ {reco_size} (ALL users): {map_k:.10f}\")\n",
    "scores_df.at[model_name,'map@k'] = map_k"
   ]
  },
  {
   "cell_type": "code",
   "execution_count": 33,
   "id": "c452ce06-f70f-4a0d-a415-a58048a44c69",
   "metadata": {},
   "outputs": [
    {
     "name": "stdout",
     "output_type": "stream",
     "text": [
      "Number of users in the validation set:  1000\n",
      "Mean Average Precision @ 5 (first 1000 users): 0.0012638889\n"
     ]
    }
   ],
   "source": [
    "map_k = evaluate_collaborative_filtering(train_sparse_user_item, valid_sparse_user_item, reco_size, model=model_als, sample_size=1000)\n",
    "print(f\"Mean Average Precision @ {reco_size} (first 1000 users): {map_k:.10f}\")\n",
    "scores_df.at[model_name,'map@k'] = map_k"
   ]
  },
  {
   "cell_type": "markdown",
   "id": "73fa378c-e8f0-455e-b93f-bf9bcacabb9f",
   "metadata": {},
   "source": [
    "#### Regardons le nDCG@k"
   ]
  },
  {
   "cell_type": "code",
   "execution_count": 34,
   "id": "b5b0c310-8fe4-4207-b6a9-183096bb73eb",
   "metadata": {},
   "outputs": [
    {
     "name": "stderr",
     "output_type": "stream",
     "text": [
      "100%|█████████████████████████████████████████████████████████████████████████████████████████████████████████████████████████████████████████████████████████████████████████████████████| 84041/84041 [00:27<00:00, 3035.49it/s]"
     ]
    },
    {
     "name": "stdout",
     "output_type": "stream",
     "text": [
      "0.0008290986634778479\n"
     ]
    },
    {
     "name": "stderr",
     "output_type": "stream",
     "text": [
      "\n"
     ]
    }
   ],
   "source": [
    "ndcg_k = evaluation.ndcg_at_k(model_als, train_sparse_user_item, valid_sparse_user_item, K=5, show_progress=True, num_threads=1)\n",
    "print(ndcg_k)\n",
    "scores_df.at[model_name,'ndcg@k'] = ndcg_k"
   ]
  },
  {
   "cell_type": "markdown",
   "id": "bae77db9-80c7-453a-8cba-03bd64c6da41",
   "metadata": {},
   "source": [
    "#### Calculons la cosine similarity moyenne sur le jeu de validation"
   ]
  },
  {
   "cell_type": "code",
   "execution_count": 35,
   "id": "0aedf032-8fdc-4490-af98-4279f2291619",
   "metadata": {},
   "outputs": [],
   "source": [
    "def lookup_articles_from_cat(cat):\n",
    "    try:\n",
    "        return article_lookup_cat_id['article_id'][cat]\n",
    "    except KeyError:\n",
    "        return -1"
   ]
  },
  {
   "cell_type": "code",
   "execution_count": 36,
   "id": "f45bd598-7093-443b-aef4-8ccfcdbddf89",
   "metadata": {},
   "outputs": [],
   "source": [
    "def reco_collaborative_filtering_als(user_cats, mean_embeddings, train_df, valid_df, reco_size):\n",
    "    \n",
    "    apply_numpy2 = lambda x : list(map(lookup_articles_from_cat, x))\n",
    "    apply_numpy = lambda x : list(map(apply_numpy2,x))\n",
    "    \n",
    "    reco_codes, reco_score = model_als.recommend(user_cats, train_df[user_cats], N=reco_size, filter_already_liked_items=True) \n",
    "    \n",
    "    return apply_numpy(reco_codes)"
   ]
  },
  {
   "cell_type": "markdown",
   "id": "bd6d4d8e-8c7a-4c92-b0b9-39b7abec4271",
   "metadata": {},
   "source": [
    "#### Pour tout le jeu de données"
   ]
  },
  {
   "cell_type": "code",
   "execution_count": 37,
   "id": "95607f9a-29c8-4024-8128-c4ae849d4226",
   "metadata": {},
   "outputs": [
    {
     "data": {
      "text/html": [
       "<div>\n",
       "<style scoped>\n",
       "    .dataframe tbody tr th:only-of-type {\n",
       "        vertical-align: middle;\n",
       "    }\n",
       "\n",
       "    .dataframe tbody tr th {\n",
       "        vertical-align: top;\n",
       "    }\n",
       "\n",
       "    .dataframe thead th {\n",
       "        text-align: right;\n",
       "    }\n",
       "</style>\n",
       "<table border=\"1\" class=\"dataframe\">\n",
       "  <thead>\n",
       "    <tr style=\"text-align: right;\">\n",
       "      <th></th>\n",
       "      <th>article_ids</th>\n",
       "      <th>read_mean_embedding</th>\n",
       "      <th>reco_article_ids</th>\n",
       "      <th>reco_mean_embedding</th>\n",
       "      <th>cosine</th>\n",
       "    </tr>\n",
       "    <tr>\n",
       "      <th>user_cat</th>\n",
       "      <th></th>\n",
       "      <th></th>\n",
       "      <th></th>\n",
       "      <th></th>\n",
       "      <th></th>\n",
       "    </tr>\n",
       "  </thead>\n",
       "  <tbody>\n",
       "    <tr>\n",
       "      <th>5</th>\n",
       "      <td>[225010, 69353, 161872, 205845, 57748, 157815,...</td>\n",
       "      <td>[-0.024590481, -0.9645934, -0.06022447, -0.023...</td>\n",
       "      <td>[159762, 87224, 160417, 348112, 272143]</td>\n",
       "      <td>[0.12820084, -0.95545244, -0.35669723, 0.30308...</td>\n",
       "      <td>0.696167</td>\n",
       "    </tr>\n",
       "    <tr>\n",
       "      <th>7</th>\n",
       "      <td>[199474, 87223, 352979, 284470, 36162, 156279]</td>\n",
       "      <td>[-0.11400774, -0.96468645, -0.32728586, -0.201...</td>\n",
       "      <td>[234269, 276946, 313431, 156964, 284096]</td>\n",
       "      <td>[-0.35225737, -0.96553135, 0.12719159, -0.5250...</td>\n",
       "      <td>0.628867</td>\n",
       "    </tr>\n",
       "    <tr>\n",
       "      <th>8</th>\n",
       "      <td>[331116, 96141, 234481]</td>\n",
       "      <td>[-0.32962552, -0.97033435, 0.20547153, -0.0870...</td>\n",
       "      <td>[162655, 336223, 129434, 234267, 160417]</td>\n",
       "      <td>[-0.08875456, -0.96332186, -0.39567924, -0.081...</td>\n",
       "      <td>0.550770</td>\n",
       "    </tr>\n",
       "    <tr>\n",
       "      <th>10</th>\n",
       "      <td>[196588, 193449, 195689, 65991, 100931, 58556,...</td>\n",
       "      <td>[-0.23681411, -0.96241695, -0.08872973, -0.346...</td>\n",
       "      <td>[162655, 288320, 133160, 161506, 160974]</td>\n",
       "      <td>[-0.24611911, -0.9719448, 0.07801429, -0.39519...</td>\n",
       "      <td>0.623157</td>\n",
       "    </tr>\n",
       "    <tr>\n",
       "      <th>11</th>\n",
       "      <td>[208582, 96877, 195177, 205824]</td>\n",
       "      <td>[-0.15431535, -0.9709704, 0.069619074, 0.13036...</td>\n",
       "      <td>[31836, 235854, 235616, 225055, 288320]</td>\n",
       "      <td>[-0.50144756, -0.96772325, 0.03878497, -0.3950...</td>\n",
       "      <td>0.627404</td>\n",
       "    </tr>\n",
       "  </tbody>\n",
       "</table>\n",
       "</div>"
      ],
      "text/plain": [
       "                                                article_ids  \\\n",
       "user_cat                                                      \n",
       "5         [225010, 69353, 161872, 205845, 57748, 157815,...   \n",
       "7            [199474, 87223, 352979, 284470, 36162, 156279]   \n",
       "8                                   [331116, 96141, 234481]   \n",
       "10        [196588, 193449, 195689, 65991, 100931, 58556,...   \n",
       "11                          [208582, 96877, 195177, 205824]   \n",
       "\n",
       "                                        read_mean_embedding  \\\n",
       "user_cat                                                      \n",
       "5         [-0.024590481, -0.9645934, -0.06022447, -0.023...   \n",
       "7         [-0.11400774, -0.96468645, -0.32728586, -0.201...   \n",
       "8         [-0.32962552, -0.97033435, 0.20547153, -0.0870...   \n",
       "10        [-0.23681411, -0.96241695, -0.08872973, -0.346...   \n",
       "11        [-0.15431535, -0.9709704, 0.069619074, 0.13036...   \n",
       "\n",
       "                                  reco_article_ids  \\\n",
       "user_cat                                             \n",
       "5          [159762, 87224, 160417, 348112, 272143]   \n",
       "7         [234269, 276946, 313431, 156964, 284096]   \n",
       "8         [162655, 336223, 129434, 234267, 160417]   \n",
       "10        [162655, 288320, 133160, 161506, 160974]   \n",
       "11         [31836, 235854, 235616, 225055, 288320]   \n",
       "\n",
       "                                        reco_mean_embedding    cosine  \n",
       "user_cat                                                               \n",
       "5         [0.12820084, -0.95545244, -0.35669723, 0.30308...  0.696167  \n",
       "7         [-0.35225737, -0.96553135, 0.12719159, -0.5250...  0.628867  \n",
       "8         [-0.08875456, -0.96332186, -0.39567924, -0.081...  0.550770  \n",
       "10        [-0.24611911, -0.9719448, 0.07801429, -0.39519...  0.623157  \n",
       "11        [-0.50144756, -0.96772325, 0.03878497, -0.3950...  0.627404  "
      ]
     },
     "metadata": {},
     "output_type": "display_data"
    },
    {
     "data": {
      "text/plain": [
       "(46638, 5)"
      ]
     },
     "metadata": {},
     "output_type": "display_data"
    },
    {
     "name": "stdout",
     "output_type": "stream",
     "text": [
      "\n",
      "mean_cosine_similarity: 0.54 (sachant que la cosine similarity va de 1 à -1)\n"
     ]
    }
   ],
   "source": [
    "MCS, MCS_df = get_mean_cosine_similarity(data_valid, train_sparse_user_item, valid_sparse_user_item, reco_collaborative_filtering_als, 5)\n",
    "\n",
    "display(MCS_df.head(), MCS_df.shape)\n",
    "print(f\"\\nmean_cosine_similarity: {MCS:.2f} (sachant que la cosine similarity va de 1 à -1)\")"
   ]
  },
  {
   "cell_type": "markdown",
   "id": "55b82b72-3972-4254-8fad-16ffaedcc210",
   "metadata": {},
   "source": [
    "#### Pour les 1000 premiers utilisateurs *(car j'ai du mal à calculer le score sur l'ensemble du jeu de données avec le Content Based Filtering)*"
   ]
  },
  {
   "cell_type": "code",
   "execution_count": 38,
   "id": "908cc4b8-3ef6-4797-b44d-638f25d3050a",
   "metadata": {},
   "outputs": [
    {
     "name": "stdout",
     "output_type": "stream",
     "text": [
      "\n",
      "mean_cosine_similarity: 0.57 (sachant que la cosine similarity va de 1 à -1)\n"
     ]
    }
   ],
   "source": [
    "MCS1, MCS1_df = get_mean_cosine_similarity(data_valid, train_sparse_user_item, valid_sparse_user_item, reco_collaborative_filtering_als, 5, 1000)\n",
    "print(f\"\\nmean_cosine_similarity: {MCS1:.2f} (sachant que la cosine similarity va de 1 à -1)\")\n",
    "scores_df.at[model_name,'mean_cosine_similarity'] = MCS1"
   ]
  },
  {
   "cell_type": "markdown",
   "id": "dce135ca-1671-44ce-9644-40c8c27c0010",
   "metadata": {},
   "source": [
    "#### Comparons"
   ]
  },
  {
   "cell_type": "code",
   "execution_count": 39,
   "id": "5f1f0586-94c4-421d-9e29-ef4e925dfd3e",
   "metadata": {},
   "outputs": [
    {
     "data": {
      "text/html": [
       "<div>\n",
       "<style scoped>\n",
       "    .dataframe tbody tr th:only-of-type {\n",
       "        vertical-align: middle;\n",
       "    }\n",
       "\n",
       "    .dataframe tbody tr th {\n",
       "        vertical-align: top;\n",
       "    }\n",
       "\n",
       "    .dataframe thead th {\n",
       "        text-align: right;\n",
       "    }\n",
       "</style>\n",
       "<table border=\"1\" class=\"dataframe\">\n",
       "  <thead>\n",
       "    <tr style=\"text-align: right;\">\n",
       "      <th></th>\n",
       "      <th>mean_cosine_similarity</th>\n",
       "      <th>precision@k</th>\n",
       "      <th>map@k</th>\n",
       "      <th>ndcg@k</th>\n",
       "      <th>training_time</th>\n",
       "    </tr>\n",
       "    <tr>\n",
       "      <th>model_name</th>\n",
       "      <th></th>\n",
       "      <th></th>\n",
       "      <th></th>\n",
       "      <th></th>\n",
       "      <th></th>\n",
       "    </tr>\n",
       "  </thead>\n",
       "  <tbody>\n",
       "    <tr>\n",
       "      <th>Baseline model - Random</th>\n",
       "      <td>0.482212</td>\n",
       "      <td>NaN</td>\n",
       "      <td>0.0</td>\n",
       "      <td>NaN</td>\n",
       "      <td>0</td>\n",
       "    </tr>\n",
       "    <tr>\n",
       "      <th>AlternatingLeastSquares</th>\n",
       "      <td>0.566565</td>\n",
       "      <td>0.001334</td>\n",
       "      <td>0.001264</td>\n",
       "      <td>0.000829</td>\n",
       "      <td>174.144516</td>\n",
       "    </tr>\n",
       "  </tbody>\n",
       "</table>\n",
       "</div>"
      ],
      "text/plain": [
       "                        mean_cosine_similarity precision@k     map@k  \\\n",
       "model_name                                                             \n",
       "Baseline model - Random               0.482212         NaN       0.0   \n",
       "AlternatingLeastSquares               0.566565    0.001334  0.001264   \n",
       "\n",
       "                           ndcg@k training_time  \n",
       "model_name                                       \n",
       "Baseline model - Random       NaN             0  \n",
       "AlternatingLeastSquares  0.000829    174.144516  "
      ]
     },
     "execution_count": 39,
     "metadata": {},
     "output_type": "execute_result"
    }
   ],
   "source": [
    "scores_df"
   ]
  },
  {
   "cell_type": "markdown",
   "id": "8465203b-0c05-4f60-9607-2b78f6ab942d",
   "metadata": {},
   "source": [
    "## 1.3 Content Based Filtering <a class=\"anchor\" id=\"candidates_content_based_filtering\"></a> [⇪](#menu)"
   ]
  },
  {
   "cell_type": "markdown",
   "id": "e756a876-7dab-46ae-93e3-31d2014d6715",
   "metadata": {},
   "source": [
    "articles_embeddings.pickle Pickle (Python 3) of a NumPy matrix containing the Article Content Embeddings (250-dimensional vectors), trained upon articles' text and metadata by the CHAMELEON's ACR module (see paper for details) for 364047 published articles.\n",
    "P.s. The full text of news articles could not be provided due to license restrictions, but those embeddings can be used by Neural Networks to represent their content. See this paper for a t-SNE visualization of these embeddings, colored by category."
   ]
  },
  {
   "cell_type": "markdown",
   "id": "24ee5380-5f3f-4d02-bf01-2f66ff4c669f",
   "metadata": {},
   "source": [
    "### Trouvons l'embedding moyen des articles lus par un utilisateur donnée"
   ]
  },
  {
   "cell_type": "code",
   "execution_count": 40,
   "id": "58772731-0d5a-4bc1-af62-aa6a52f7418c",
   "metadata": {},
   "outputs": [
    {
     "name": "stdout",
     "output_type": "stream",
     "text": [
      "Articles utilisés dans le mean embedding: [288440 337441 202476 250043 284583]\n"
     ]
    }
   ],
   "source": [
    "user_id = 20137\n",
    "history_size = 5\n",
    "\n",
    "def get_mean_vector(articles_idx):\n",
    "    apply_numpy = lambda x : article_embedding[x].mean(axis=0)\n",
    "    return apply_numpy(articles_idx)            \n",
    "\n",
    "user_articles_idx = data_train[data_train.user_id == user_id]['article_id']\n",
    "last_articles_idx = user_articles_idx.iloc[-history_size:].values #.sort_values('click_timestamp')\n",
    "mean_vector = get_mean_vector(last_articles_idx)\n",
    "\n",
    "print(f\"Articles utilisés dans le mean embedding: {last_articles_idx}\")"
   ]
  },
  {
   "cell_type": "markdown",
   "id": "121247b4-6ce3-4463-864d-c57f2a0acfeb",
   "metadata": {},
   "source": [
    "### Calculons la similarité de cet embedding avec les embeddings des articles présents dans note fichier"
   ]
  },
  {
   "cell_type": "code",
   "execution_count": 41,
   "id": "fd8ffb0d-d5a9-4821-a020-26d74530fabf",
   "metadata": {},
   "outputs": [
    {
     "name": "stdout",
     "output_type": "stream",
     "text": [
      "Cosine Similarity: [0.32582363 0.2783536  0.31348327 ... 0.38568467 0.2742523  0.42668363] (364047,)\n"
     ]
    }
   ],
   "source": [
    "def get_cosine(article_embedding, mean_vector, user_articles_idx=None):\n",
    "    \n",
    "    A = article_embedding.copy()\n",
    "    B = mean_vector\n",
    "\n",
    "    # --- Assurons nous de ne pas recommander les article déjà lus par cet utilisateur\n",
    "    if user_articles_idx is not None:\n",
    "        A[user_articles_idx] = -B # je donne aux articles lus un embedding inverse de celui que l'on cible\n",
    " \n",
    "    # --- Calculons la cosine similarity entre l'embedding moyen de l'utilisateur et les articles connus\n",
    "    return np.dot(A,B)/(norm(A, axis=1)*norm(B))\n",
    "\n",
    "# --- Calculons la cosine similarity entre l'embedding moyen de l'utilisateur et les articles connus\n",
    "cosine = get_cosine(article_embedding, mean_vector, user_articles_idx)\n",
    "print(\"Cosine Similarity:\", cosine, cosine.shape)"
   ]
  },
  {
   "cell_type": "markdown",
   "id": "4bc7c0e5-3dfd-4a49-b255-9e83484af804",
   "metadata": {},
   "source": [
    "### Recommandons 5 articles à l'utilisateur"
   ]
  },
  {
   "cell_type": "code",
   "execution_count": 42,
   "id": "c09a9825-0b89-45e3-ad6f-e3c3d562fc3e",
   "metadata": {},
   "outputs": [
    {
     "data": {
      "text/html": [
       "<div>\n",
       "<style scoped>\n",
       "    .dataframe tbody tr th:only-of-type {\n",
       "        vertical-align: middle;\n",
       "    }\n",
       "\n",
       "    .dataframe tbody tr th {\n",
       "        vertical-align: top;\n",
       "    }\n",
       "\n",
       "    .dataframe thead th {\n",
       "        text-align: right;\n",
       "    }\n",
       "</style>\n",
       "<table border=\"1\" class=\"dataframe\">\n",
       "  <thead>\n",
       "    <tr style=\"text-align: right;\">\n",
       "      <th></th>\n",
       "      <th>article_id</th>\n",
       "      <th>cosine_sim</th>\n",
       "    </tr>\n",
       "  </thead>\n",
       "  <tbody>\n",
       "    <tr>\n",
       "      <th>0</th>\n",
       "      <td>284768</td>\n",
       "      <td>0.830968</td>\n",
       "    </tr>\n",
       "    <tr>\n",
       "      <th>1</th>\n",
       "      <td>345593</td>\n",
       "      <td>0.821919</td>\n",
       "    </tr>\n",
       "    <tr>\n",
       "      <th>2</th>\n",
       "      <td>285424</td>\n",
       "      <td>0.821205</td>\n",
       "    </tr>\n",
       "    <tr>\n",
       "      <th>3</th>\n",
       "      <td>345566</td>\n",
       "      <td>0.818335</td>\n",
       "    </tr>\n",
       "    <tr>\n",
       "      <th>4</th>\n",
       "      <td>283576</td>\n",
       "      <td>0.816523</td>\n",
       "    </tr>\n",
       "  </tbody>\n",
       "</table>\n",
       "</div>"
      ],
      "text/plain": [
       "   article_id  cosine_sim\n",
       "0      284768    0.830968\n",
       "1      345593    0.821919\n",
       "2      285424    0.821205\n",
       "3      345566    0.818335\n",
       "4      283576    0.816523"
      ]
     },
     "execution_count": 42,
     "metadata": {},
     "output_type": "execute_result"
    }
   ],
   "source": [
    "def recommend_articles(cosine, reco_size=5):\n",
    "\n",
    "    cos = pd.DataFrame(cosine, columns=['cosine_sim'])\n",
    "    selection = cos.sort_values('cosine_sim', ascending=False)[:reco_size]\n",
    "    selection.reset_index(inplace=True)\n",
    "    selection.rename(columns={'index':'article_id'}, inplace=True)\n",
    "    return selection\n",
    "\n",
    "reco = recommend_articles(cosine, 5)\n",
    "reco"
   ]
  },
  {
   "cell_type": "markdown",
   "id": "b7e8c518-a529-4525-b41d-95d90eceda67",
   "metadata": {},
   "source": [
    "### Comparons avec les articles consultés par cet utilisateur dans le validation_set"
   ]
  },
  {
   "cell_type": "code",
   "execution_count": 43,
   "id": "f3a35220-61ce-49f0-b228-9a28a2dae237",
   "metadata": {},
   "outputs": [],
   "source": [
    "mean_vector_recommended = get_mean_vector(reco.article_id)"
   ]
  },
  {
   "cell_type": "code",
   "execution_count": 44,
   "id": "d6ed69f1-33bc-4eec-b289-59593d8a8642",
   "metadata": {},
   "outputs": [],
   "source": [
    "viewed = data_valid[data_valid.user_id == user_id]['article_id'].values\n",
    "mean_vector_viewed = get_mean_vector(viewed)"
   ]
  },
  {
   "cell_type": "markdown",
   "id": "02cda967-9481-43e3-bcaa-b8b1ee7fe043",
   "metadata": {},
   "source": [
    "#### Similarité entre les articles lus dans le `valid_set` et les articles prédis"
   ]
  },
  {
   "cell_type": "code",
   "execution_count": 45,
   "id": "7722f7d1-44aa-46cf-b481-e2ca4bbbd9b3",
   "metadata": {},
   "outputs": [
    {
     "name": "stdout",
     "output_type": "stream",
     "text": [
      "Cosine Similarity: 0.71754134\n"
     ]
    }
   ],
   "source": [
    "def get_cosine_similarity(A, B):\n",
    "    return np.dot(A,B)/(norm(A)*norm(B))\n",
    "\n",
    "cosine_similarity_score = get_cosine_similarity(mean_vector_recommended, mean_vector_viewed)\n",
    "print(\"Cosine Similarity:\", cosine_similarity_score)"
   ]
  },
  {
   "cell_type": "markdown",
   "id": "da39fb3c-3608-4e6a-9014-84f17ac57af7",
   "metadata": {},
   "source": [
    "#### Similarité entre les articles lus dans le `train_set` et les articles lus dans le `valid_set`"
   ]
  },
  {
   "cell_type": "code",
   "execution_count": 46,
   "id": "aeca73cf-904d-488f-803a-61cb905d0718",
   "metadata": {},
   "outputs": [
    {
     "name": "stdout",
     "output_type": "stream",
     "text": [
      "Cosine Similarity: 0.7984939\n"
     ]
    }
   ],
   "source": [
    "cosine_similarity_score = get_cosine_similarity(mean_vector, mean_vector_viewed)\n",
    "print(\"Cosine Similarity:\", cosine_similarity_score)"
   ]
  },
  {
   "cell_type": "markdown",
   "id": "02f4e7fe-e62c-4f6f-84c1-50ea3c7414ea",
   "metadata": {},
   "source": [
    "#### Calculons la cosine similarity moyenne et la map@k "
   ]
  },
  {
   "cell_type": "code",
   "execution_count": 47,
   "id": "3a3eb6f8-dd1a-4467-9999-1fb1baa058d7",
   "metadata": {},
   "outputs": [],
   "source": [
    "def get_content_based_recommendations( user_id, reco_size=5, histo_size=None ):\n",
    "    #print(user_id)\n",
    "    \n",
    "    # --- Compute viewed mean_embedding\n",
    "    if histo_size is not None:\n",
    "        viewed_train = data_train[data_train.user_id == user_id]['article_id'].iloc[-histo_size:]\n",
    "    else:\n",
    "        viewed_train = data_train[data_train.user_id == user_id]['article_id']\n",
    "    if len(viewed_train) < 1: return []\n",
    "    mean_vector_viewed_train = get_mean_vector(viewed_train.values)\n",
    "    \n",
    "    # --- Compute cosine similarity the mean of the viewed articles and the rest\n",
    "    A = article_embedding.copy()\n",
    "    B = mean_vector_viewed_train\n",
    "    A[viewed_train.values] = -B # discard read articles\n",
    "    cosine = cosine_similarity(A, B.reshape(1, -1))\n",
    "    \n",
    "    recommendations =  recommend_articles(cosine, reco_size)\n",
    "    return recommendations"
   ]
  },
  {
   "cell_type": "code",
   "execution_count": 48,
   "id": "1a56e80b-590d-49d9-a5ef-08ad28df942b",
   "metadata": {},
   "outputs": [
    {
     "name": "stdout",
     "output_type": "stream",
     "text": [
      "CPU times: user 157 ms, sys: 160 ms, total: 317 ms\n",
      "Wall time: 5min 21s\n"
     ]
    }
   ],
   "source": [
    "%%time\n",
    "\n",
    "def f(user_id):\n",
    "    \n",
    "    # --- Get recommendations\n",
    "    reco =  get_content_based_recommendations(user_id, reco_size, None)\n",
    "    mean_vector_reco = get_mean_vector(reco.article_id)\n",
    "    \n",
    "    # --- Compute viewed mean_embedding VALID\n",
    "    viewed_valid = data_valid[data_valid.user_id == user_id]['article_id']\n",
    "    if len(viewed_valid) < 1: return -1, [], []\n",
    "    mean_vector_viewed_valid = get_mean_vector(viewed_valid.values)\n",
    "    \n",
    "    # --- Compute similarities\n",
    "    cosine_similarity_pred_viewed = cosine_similarity(mean_vector_reco.reshape(1, -1), mean_vector_viewed_valid.reshape(1, -1))\n",
    "    \n",
    "    # --- Return values\n",
    "    return (cosine_similarity_pred_viewed[0][0], list(viewed_valid.values), list(reco.article_id))\n",
    "    \n",
    "results = []\n",
    "user_ids = np.sort(data_valid.user_id.unique())\n",
    "\n",
    "with Pool(multiprocessing.cpu_count()) as p:\n",
    "    results.append(p.map(f, user_ids[:1000]))"
   ]
  },
  {
   "cell_type": "code",
   "execution_count": 49,
   "id": "869a3863-97fd-4e55-98c9-0d91467e5daa",
   "metadata": {},
   "outputs": [
    {
     "name": "stdout",
     "output_type": "stream",
     "text": [
      "\n",
      "mean_cosine_similarity (de 1 à -1) entre 'recommended' & 'viewed_in_valid' = 0.58 (que l'on compare donc avec les 0.57 du Collaborative Filtering ALS)\n"
     ]
    }
   ],
   "source": [
    "mean_cosine_similarity = np.array([x for x,y,z in results[0]]).mean()\n",
    "mean_cosine_similarity\n",
    "\n",
    "print(f\"\\nmean_cosine_similarity (de 1 à -1) entre 'recommended' & 'viewed_in_valid' = {mean_cosine_similarity:.2f} (que l'on compare donc avec les 0.57 du Collaborative Filtering ALS)\")\n",
    "\n",
    "model_name = \"Content Based Filtering\"\n",
    "scores_df.at[model_name,'mean_cosine_similarity'] = mean_cosine_similarity\n",
    "scores_df.at[model_name,'training_time'] = 0"
   ]
  },
  {
   "cell_type": "code",
   "execution_count": 50,
   "id": "51bffd5e-f131-4a23-a42b-659dd712a83d",
   "metadata": {},
   "outputs": [
    {
     "name": "stdout",
     "output_type": "stream",
     "text": [
      "Mean Average Precision @ 5 (first 1000 users): 0.0002066667\n"
     ]
    }
   ],
   "source": [
    "y_true = [y for x,y,z in results[0]]\n",
    "y_reco = [z for x,y,z in results[0]]\n",
    "map_k = metrics.mapk(y_true, y_reco, k=reco_size)\n",
    "\n",
    "print(f\"Mean Average Precision @ {reco_size} (first 1000 users): {map_k:.10f}\")\n",
    "scores_df.at[model_name,'map@k'] = map_k"
   ]
  },
  {
   "cell_type": "markdown",
   "id": "05d1e2ad-8730-4255-a4ee-f540e4b61962",
   "metadata": {},
   "source": [
    "#### Comparons"
   ]
  },
  {
   "cell_type": "code",
   "execution_count": 51,
   "id": "9c38c51d-ea14-4783-928e-ae49cace17f0",
   "metadata": {},
   "outputs": [
    {
     "data": {
      "text/html": [
       "<div>\n",
       "<style scoped>\n",
       "    .dataframe tbody tr th:only-of-type {\n",
       "        vertical-align: middle;\n",
       "    }\n",
       "\n",
       "    .dataframe tbody tr th {\n",
       "        vertical-align: top;\n",
       "    }\n",
       "\n",
       "    .dataframe thead th {\n",
       "        text-align: right;\n",
       "    }\n",
       "</style>\n",
       "<table border=\"1\" class=\"dataframe\">\n",
       "  <thead>\n",
       "    <tr style=\"text-align: right;\">\n",
       "      <th></th>\n",
       "      <th>mean_cosine_similarity</th>\n",
       "      <th>precision@k</th>\n",
       "      <th>map@k</th>\n",
       "      <th>ndcg@k</th>\n",
       "      <th>training_time</th>\n",
       "    </tr>\n",
       "    <tr>\n",
       "      <th>model_name</th>\n",
       "      <th></th>\n",
       "      <th></th>\n",
       "      <th></th>\n",
       "      <th></th>\n",
       "      <th></th>\n",
       "    </tr>\n",
       "  </thead>\n",
       "  <tbody>\n",
       "    <tr>\n",
       "      <th>Baseline model - Random</th>\n",
       "      <td>0.482212</td>\n",
       "      <td>NaN</td>\n",
       "      <td>0.0</td>\n",
       "      <td>NaN</td>\n",
       "      <td>0</td>\n",
       "    </tr>\n",
       "    <tr>\n",
       "      <th>AlternatingLeastSquares</th>\n",
       "      <td>0.566565</td>\n",
       "      <td>0.001334</td>\n",
       "      <td>0.001264</td>\n",
       "      <td>0.000829</td>\n",
       "      <td>174.144516</td>\n",
       "    </tr>\n",
       "    <tr>\n",
       "      <th>Content Based Filtering</th>\n",
       "      <td>0.576889</td>\n",
       "      <td>NaN</td>\n",
       "      <td>0.000207</td>\n",
       "      <td>NaN</td>\n",
       "      <td>0</td>\n",
       "    </tr>\n",
       "  </tbody>\n",
       "</table>\n",
       "</div>"
      ],
      "text/plain": [
       "                        mean_cosine_similarity precision@k     map@k  \\\n",
       "model_name                                                             \n",
       "Baseline model - Random               0.482212         NaN       0.0   \n",
       "AlternatingLeastSquares               0.566565    0.001334  0.001264   \n",
       "Content Based Filtering               0.576889         NaN  0.000207   \n",
       "\n",
       "                           ndcg@k training_time  \n",
       "model_name                                       \n",
       "Baseline model - Random       NaN             0  \n",
       "AlternatingLeastSquares  0.000829    174.144516  \n",
       "Content Based Filtering       NaN             0  "
      ]
     },
     "execution_count": 51,
     "metadata": {},
     "output_type": "execute_result"
    }
   ],
   "source": [
    "scores_df"
   ]
  },
  {
   "cell_type": "markdown",
   "id": "54e4f3cb-6598-4b85-9e1a-66c2c5bac4e3",
   "metadata": {},
   "source": [
    "> #### Si l'on se fie au score moyen de similarité entre les recommandations et ce qui a été effectivemet lu (dans le validation set), le `Collaborative filtering` semble plus précis.\n",
    "> Mais ce n'est pas le seul élément à prendre en compte *(d'autant que cette mesure n'est pas très significative)*.\n",
    "\n",
    "> `Collaborative Filtering`:\n",
    "> * plus en accord avec ce qui est dans le validation set par les utilisateurs,\n",
    "> * plus rapide,\n",
    "> * limité aux articles visités.<br>\n",
    "\n",
    "> `Content Based Filtering`:\n",
    "> * plus lent *(du moins je n'ai pas réussi à le rendre rapide)*,\n",
    "> * moins prévis *(mais je n'ai pu évaluer que les 100 premiers utlisateurs)*\n",
    "> * peut recommander n'importe quel article dont on a l'embedding, y compris ceux jamais visités par un utilisateur.\n",
    "\n",
    "> Dans les deux cas, les modèles employés ne permettent pas de prendre en compte des features supplémentaires comme par exemple la catégorie de l'article etc. *(Il faudrait un Collaborative Filtering en DNN)*\n",
    "\n",
    "> L'idéal est donc probablement d'utiliser une combinaison des deux approches; le Collaboravie filtering pour être le plus proche possible des intérêts de l'utilisateur, et le Content Based Filtering pour apporter de la diversité sans pour autant trop s'éloigner des sujets de prédilection de l'utilisateur."
   ]
  },
  {
   "cell_type": "code",
   "execution_count": null,
   "id": "414eb6a2-7e87-440a-9b1c-e5b75147a0b8",
   "metadata": {},
   "outputs": [],
   "source": []
  },
  {
   "cell_type": "markdown",
   "id": "f75fc06f-26d4-47b5-a82a-668d07a2e631",
   "metadata": {},
   "source": [
    "## 1.4 Essayons quelques variantes <a class=\"anchor\" id=\"candidates_others\"></a> [⇪](#menu)"
   ]
  },
  {
   "cell_type": "markdown",
   "id": "f4436b63-88d0-466f-8f52-93c0a04a615e",
   "metadata": {},
   "source": [
    "### AlternatingLeastSquares avec BM25"
   ]
  },
  {
   "cell_type": "markdown",
   "id": "05d9e733-106f-4eea-a982-c90338648e51",
   "metadata": {},
   "source": [
    "#### Entrainons un premier modèle pour calculer les embeddings utilisateurs et faire des recommandations\n",
    "> Utilisons un système permettant d'essayer de rééquilibrer les notes implicites *(pour éviter de donner trop d'importance aux articles qui ont un très gros ratio temps de lecture / nombre de mots)*"
   ]
  },
  {
   "cell_type": "code",
   "execution_count": 52,
   "id": "91fd2a2a-87c7-4b63-af7d-72be1c7edabb",
   "metadata": {},
   "outputs": [
    {
     "data": {
      "text/plain": [
       "(297141, 32595)"
      ]
     },
     "metadata": {},
     "output_type": "display_data"
    },
    {
     "data": {
      "text/plain": [
       "(297141, 32595)"
      ]
     },
     "metadata": {},
     "output_type": "display_data"
    }
   ],
   "source": [
    "train_sparse_user_item_bm25 = bm25_weight(train_sparse_user_item, K1=100, B=0.9).tocsr() # Implicit veut des matrices [user x item]\n",
    "valid_sparse_user_item_bm25 = bm25_weight(valid_sparse_user_item, K1=100, B=0.9).tocsr() # Implicit veut des matrices [user x item]\n",
    "\n",
    "display(train_sparse_user_item_bm25.shape)\n",
    "display(valid_sparse_user_item_bm25.shape)"
   ]
  },
  {
   "cell_type": "code",
   "execution_count": 53,
   "id": "96009963-69c8-4a4e-89cd-50161ebfc389",
   "metadata": {},
   "outputs": [
    {
     "name": "stderr",
     "output_type": "stream",
     "text": [
      "100%|█████████████████████████████████████████████████████████████████████████████████████████████████████████████████████████████████████████████████████████████████████████████████████████████| 50/50 [01:25<00:00,  1.71s/it]\n"
     ]
    }
   ],
   "source": [
    "model_bm25 = implicit.als.AlternatingLeastSquares(\n",
    "    factors=32, \n",
    "    regularization=0.05, \n",
    "    iterations=50,\n",
    "    alpha=40\n",
    ")\n",
    "\n",
    "model_name = f\"{model_bm25.__class__.__name__}_with_BM25\"\n",
    "t0 = time.perf_counter()\n",
    "model_bm25.fit(train_sparse_user_item_bm25)\n",
    "scores_df.at[model_name,'training_time'] = time.perf_counter() - t0"
   ]
  },
  {
   "cell_type": "markdown",
   "id": "ca45a8de-b224-4d0e-8f41-f3c53eb53160",
   "metadata": {},
   "source": [
    "#### Calculons la cosine similarity moyenne sur le jeu de validation"
   ]
  },
  {
   "cell_type": "code",
   "execution_count": 54,
   "id": "145e7957-ce38-4518-9fce-201f4398c9aa",
   "metadata": {},
   "outputs": [],
   "source": [
    "def reco_collaborative_filtering_bm25(user_cats, mean_embeddings, train_df, valid_df, reco_size):\n",
    "    \n",
    "    apply_numpy2 = lambda x : list(map(lookup_articles_from_cat, x))\n",
    "    apply_numpy = lambda x : list(map(apply_numpy2,x))\n",
    "    \n",
    "    reco_codes, reco_score = model_bm25.recommend(user_cats, train_df[user_cats], N=reco_size, filter_already_liked_items=True) \n",
    "    \n",
    "    return apply_numpy(reco_codes)"
   ]
  },
  {
   "cell_type": "markdown",
   "id": "be292da3-fc25-4db5-aadb-3b095aea0427",
   "metadata": {},
   "source": [
    "Pour tout le jeu de données"
   ]
  },
  {
   "cell_type": "code",
   "execution_count": 55,
   "id": "225af2aa-0bc9-4a96-b8b0-03d124a8ea59",
   "metadata": {},
   "outputs": [
    {
     "name": "stdout",
     "output_type": "stream",
     "text": [
      "\n",
      "mean_cosine_similarity: 0.49 (sachant que la cosine similarity va de 1 à -1)\n"
     ]
    }
   ],
   "source": [
    "MCS1als, MCS1als_df = get_mean_cosine_similarity(data_valid, train_sparse_user_item_bm25, valid_sparse_user_item_bm25, reco_collaborative_filtering_bm25, 5)\n",
    "print(f\"\\nmean_cosine_similarity: {MCS1als:.2f} (sachant que la cosine similarity va de 1 à -1)\")"
   ]
  },
  {
   "cell_type": "markdown",
   "id": "af23d3a3-7337-4925-9830-3b2e05591245",
   "metadata": {},
   "source": [
    "Pour les 1000 premiers utilisateurs *(car j'ai du mal à calculer le score sur l'ensemble du jeu de données avec le Content Based Filtering)*"
   ]
  },
  {
   "cell_type": "code",
   "execution_count": 56,
   "id": "9de1b1c6-ab92-4028-91c9-b8bcbc4cd781",
   "metadata": {},
   "outputs": [
    {
     "name": "stdout",
     "output_type": "stream",
     "text": [
      "\n",
      "mean_cosine_similarity: 0.51 (sachant que la cosine similarity va de 1 à -1)\n"
     ]
    }
   ],
   "source": [
    "MCS1als, MCS1als_df = get_mean_cosine_similarity(data_valid, train_sparse_user_item_bm25, valid_sparse_user_item_bm25, reco_collaborative_filtering_bm25, 5, 1000)\n",
    "print(f\"\\nmean_cosine_similarity: {MCS1als:.2f} (sachant que la cosine similarity va de 1 à -1)\")\n",
    "scores_df.at[model_name,'mean_cosine_similarity'] = MCS1als"
   ]
  },
  {
   "cell_type": "markdown",
   "id": "b731b449-e72f-4346-a4bd-2be898d8a315",
   "metadata": {},
   "source": [
    "#### Regardons la precision@k"
   ]
  },
  {
   "cell_type": "code",
   "execution_count": 57,
   "id": "327350d2-2111-4598-bb4c-ae7956aa89d0",
   "metadata": {},
   "outputs": [
    {
     "name": "stderr",
     "output_type": "stream",
     "text": [
      "100%|█████████████████████████████████████████████████████████████████████████████████████████████████████████████████████████████████████████████████████████████████████████████████████| 84041/84041 [00:27<00:00, 3067.91it/s]"
     ]
    },
    {
     "name": "stdout",
     "output_type": "stream",
     "text": [
      "5.252404288062861e-06\n"
     ]
    },
    {
     "name": "stderr",
     "output_type": "stream",
     "text": [
      "\n"
     ]
    }
   ],
   "source": [
    "precision_k = evaluation.precision_at_k(model_bm25, train_sparse_user_item_bm25, valid_sparse_user_item_bm25, K=5, show_progress=True, num_threads=1)\n",
    "print(precision_k)\n",
    "scores_df.at[model_name,'precision@k'] = precision_k"
   ]
  },
  {
   "cell_type": "markdown",
   "id": "9b02506f-2a10-4f1f-aad8-7532aeb66d3b",
   "metadata": {},
   "source": [
    "#### Regardons le MAP@k"
   ]
  },
  {
   "cell_type": "code",
   "execution_count": 58,
   "id": "07f0dc35-212d-434a-b1ca-15e7b30c4030",
   "metadata": {},
   "outputs": [
    {
     "name": "stderr",
     "output_type": "stream",
     "text": [
      "100%|█████████████████████████████████████████████████████████████████████████████████████████████████████████████████████████████████████████████████████████████████████████████████████| 84041/84041 [00:28<00:00, 2954.88it/s]"
     ]
    },
    {
     "name": "stdout",
     "output_type": "stream",
     "text": [
      "Mean Average Precision @ 5 (ALL users): 0.0000004760\n"
     ]
    },
    {
     "name": "stderr",
     "output_type": "stream",
     "text": [
      "\n"
     ]
    }
   ],
   "source": [
    "map_k = evaluation.mean_average_precision_at_k(model_bm25, train_sparse_user_item_bm25, valid_sparse_user_item_bm25, K=5, show_progress=True, num_threads=1)\n",
    "print(f\"Mean Average Precision @ {reco_size} (ALL users): {map_k:.10f}\")"
   ]
  },
  {
   "cell_type": "code",
   "execution_count": 59,
   "id": "878bfd66-4fbc-4e3d-920f-0eee5dfd9807",
   "metadata": {},
   "outputs": [
    {
     "name": "stdout",
     "output_type": "stream",
     "text": [
      "Number of users in the validation set:  84041\n",
      "Mean Average Precision @ 5 (ALL users): 0.0000003400\n"
     ]
    }
   ],
   "source": [
    "map_k = evaluate_collaborative_filtering(train_sparse_user_item_bm25, valid_sparse_user_item_bm25, reco_size, model=model_bm25)\n",
    "print(f\"Mean Average Precision @ {reco_size} (ALL users): {map_k:.10f}\")"
   ]
  },
  {
   "cell_type": "code",
   "execution_count": 60,
   "id": "3c0ae4f6-422e-4c79-b5d6-af3af22a67a6",
   "metadata": {},
   "outputs": [
    {
     "name": "stdout",
     "output_type": "stream",
     "text": [
      "Number of users in the validation set:  1000\n",
      "Mean Average Precision @ 5 (first 1000 users): 0.0000000000\n"
     ]
    }
   ],
   "source": [
    "map_k = evaluate_collaborative_filtering(train_sparse_user_item_bm25, valid_sparse_user_item_bm25, reco_size, model=model_bm25, sample_size=1000)\n",
    "print(f\"Mean Average Precision @ {reco_size} (first 1000 users): {map_k:.10f}\")\n",
    "scores_df.at[model_name,'map@k'] = map_k"
   ]
  },
  {
   "cell_type": "markdown",
   "id": "da89c57d-140e-492d-b5d2-35096f066dcf",
   "metadata": {},
   "source": [
    "#### Regardons le nDCG@k"
   ]
  },
  {
   "cell_type": "code",
   "execution_count": 61,
   "id": "dd199c53-579a-4360-b0aa-98e2a9aae5c2",
   "metadata": {},
   "outputs": [
    {
     "name": "stderr",
     "output_type": "stream",
     "text": [
      "100%|█████████████████████████████████████████████████████████████████████████████████████████████████████████████████████████████████████████████████████████████████████████████████████| 84041/84041 [00:27<00:00, 3018.75it/s]"
     ]
    },
    {
     "name": "stdout",
     "output_type": "stream",
     "text": [
      "1.5612031926362345e-06\n"
     ]
    },
    {
     "name": "stderr",
     "output_type": "stream",
     "text": [
      "\n"
     ]
    }
   ],
   "source": [
    "ndcg_k = evaluation.ndcg_at_k(model_bm25, train_sparse_user_item_bm25, valid_sparse_user_item_bm25, K=5, show_progress=True, num_threads=1)\n",
    "print(ndcg_k)\n",
    "scores_df.at[model_name,'ndcg@k'] = ndcg_k"
   ]
  },
  {
   "cell_type": "markdown",
   "id": "1b13f776-cca1-4afc-8a3a-853395112ea2",
   "metadata": {},
   "source": [
    "#### Comparons"
   ]
  },
  {
   "cell_type": "code",
   "execution_count": 62,
   "id": "cb3d5eca-9be8-4225-9a05-96e99298d2c2",
   "metadata": {},
   "outputs": [
    {
     "data": {
      "text/html": [
       "<div>\n",
       "<style scoped>\n",
       "    .dataframe tbody tr th:only-of-type {\n",
       "        vertical-align: middle;\n",
       "    }\n",
       "\n",
       "    .dataframe tbody tr th {\n",
       "        vertical-align: top;\n",
       "    }\n",
       "\n",
       "    .dataframe thead th {\n",
       "        text-align: right;\n",
       "    }\n",
       "</style>\n",
       "<table border=\"1\" class=\"dataframe\">\n",
       "  <thead>\n",
       "    <tr style=\"text-align: right;\">\n",
       "      <th></th>\n",
       "      <th>mean_cosine_similarity</th>\n",
       "      <th>precision@k</th>\n",
       "      <th>map@k</th>\n",
       "      <th>ndcg@k</th>\n",
       "      <th>training_time</th>\n",
       "    </tr>\n",
       "    <tr>\n",
       "      <th>model_name</th>\n",
       "      <th></th>\n",
       "      <th></th>\n",
       "      <th></th>\n",
       "      <th></th>\n",
       "      <th></th>\n",
       "    </tr>\n",
       "  </thead>\n",
       "  <tbody>\n",
       "    <tr>\n",
       "      <th>Baseline model - Random</th>\n",
       "      <td>0.482212</td>\n",
       "      <td>NaN</td>\n",
       "      <td>0.0</td>\n",
       "      <td>NaN</td>\n",
       "      <td>0</td>\n",
       "    </tr>\n",
       "    <tr>\n",
       "      <th>AlternatingLeastSquares</th>\n",
       "      <td>0.566565</td>\n",
       "      <td>0.001334</td>\n",
       "      <td>0.001264</td>\n",
       "      <td>0.000829</td>\n",
       "      <td>174.144516</td>\n",
       "    </tr>\n",
       "    <tr>\n",
       "      <th>Content Based Filtering</th>\n",
       "      <td>0.576889</td>\n",
       "      <td>NaN</td>\n",
       "      <td>0.000207</td>\n",
       "      <td>NaN</td>\n",
       "      <td>0</td>\n",
       "    </tr>\n",
       "    <tr>\n",
       "      <th>AlternatingLeastSquares_with_BM25</th>\n",
       "      <td>0.510579</td>\n",
       "      <td>0.000005</td>\n",
       "      <td>0.0</td>\n",
       "      <td>0.000002</td>\n",
       "      <td>85.808545</td>\n",
       "    </tr>\n",
       "  </tbody>\n",
       "</table>\n",
       "</div>"
      ],
      "text/plain": [
       "                                  mean_cosine_similarity precision@k  \\\n",
       "model_name                                                             \n",
       "Baseline model - Random                         0.482212         NaN   \n",
       "AlternatingLeastSquares                         0.566565    0.001334   \n",
       "Content Based Filtering                         0.576889         NaN   \n",
       "AlternatingLeastSquares_with_BM25               0.510579    0.000005   \n",
       "\n",
       "                                      map@k    ndcg@k training_time  \n",
       "model_name                                                           \n",
       "Baseline model - Random                 0.0       NaN             0  \n",
       "AlternatingLeastSquares            0.001264  0.000829    174.144516  \n",
       "Content Based Filtering            0.000207       NaN             0  \n",
       "AlternatingLeastSquares_with_BM25       0.0  0.000002     85.808545  "
      ]
     },
     "execution_count": 62,
     "metadata": {},
     "output_type": "execute_result"
    }
   ],
   "source": [
    "scores_df"
   ]
  },
  {
   "cell_type": "markdown",
   "id": "c67c40d1-5059-484e-a059-2542cd7259eb",
   "metadata": {},
   "source": [
    "### Logistic Matrix Factorization"
   ]
  },
  {
   "cell_type": "markdown",
   "id": "45bda053-afb7-4c41-bad6-9eb761792ea9",
   "metadata": {},
   "source": [
    "#### Entrainons un premier modèle pour calculer les embeddings utilisateurs et faire des recommandations"
   ]
  },
  {
   "cell_type": "code",
   "execution_count": 63,
   "id": "321cde86-e795-4836-8fb1-df2a52396f7f",
   "metadata": {},
   "outputs": [
    {
     "name": "stderr",
     "output_type": "stream",
     "text": [
      "100%|█████████████████████████████████████████████████████████████████████████████████████████████████████████████████████████████████████████████████████████████████████████████████████████████| 50/50 [00:29<00:00,  1.71it/s]\n"
     ]
    }
   ],
   "source": [
    "model_lmf = implicit.cpu.lmf.LogisticMatrixFactorization(\n",
    "    factors=32,\n",
    "    learning_rate=0.05,\n",
    "    regularization=0.05, \n",
    "    iterations=50,\n",
    ")\n",
    "\n",
    "model_name = model_lmf.__class__.__name__\n",
    "t0 = time.perf_counter()\n",
    "model_lmf.fit(train_sparse_user_item)\n",
    "scores_df.at[model_name,'training_time'] = time.perf_counter() - t0"
   ]
  },
  {
   "cell_type": "markdown",
   "id": "56328f76-e081-4e14-807a-ce8f82b62e81",
   "metadata": {},
   "source": [
    "#### Calculons la cosine similarity moyenne sur le jeu de validation"
   ]
  },
  {
   "cell_type": "code",
   "execution_count": 64,
   "id": "73e4e560-b351-4ac3-8422-7dc833353049",
   "metadata": {},
   "outputs": [],
   "source": [
    "def reco_collaborative_filtering_lmf(user_cats, mean_embeddings, train_df, valid_df, reco_size):\n",
    "    \n",
    "    apply_numpy2 = lambda x : list(map(lookup_articles_from_cat, x))\n",
    "    apply_numpy = lambda x : list(map(apply_numpy2,x))\n",
    "    \n",
    "    reco_codes, reco_score = model_lmf.recommend(user_cats, train_df[user_cats], N=reco_size, filter_already_liked_items=True) \n",
    "    \n",
    "    return apply_numpy(reco_codes)"
   ]
  },
  {
   "cell_type": "markdown",
   "id": "80318bd3-e09b-4e95-b0d4-91ad995333ac",
   "metadata": {},
   "source": [
    "Pour tout le jeu de données"
   ]
  },
  {
   "cell_type": "code",
   "execution_count": 65,
   "id": "55deca8f-3524-4d26-961a-4e858bd9c165",
   "metadata": {},
   "outputs": [
    {
     "name": "stdout",
     "output_type": "stream",
     "text": [
      "\n",
      "mean_cosine_similarity: 0.53 (sachant que la cosine similarity va de 1 à -1)\n"
     ]
    }
   ],
   "source": [
    "MCS1lmf, MCS1lmf_df = get_mean_cosine_similarity(data_valid, train_sparse_user_item, valid_sparse_user_item, reco_collaborative_filtering_lmf, 5)\n",
    "print(f\"\\nmean_cosine_similarity: {MCS1lmf:.2f} (sachant que la cosine similarity va de 1 à -1)\")"
   ]
  },
  {
   "cell_type": "markdown",
   "id": "1145d305-6934-4395-8828-d80fd5b10929",
   "metadata": {},
   "source": [
    "Pour les 1000 premiers utilisateurs *(car j'ai du mal à calculer le score sur l'ensemble du jeu de données avec le Content Based Filtering)*"
   ]
  },
  {
   "cell_type": "code",
   "execution_count": 66,
   "id": "ce532e21-4091-4261-b270-15439e9571c0",
   "metadata": {},
   "outputs": [
    {
     "name": "stdout",
     "output_type": "stream",
     "text": [
      "\n",
      "mean_cosine_similarity: 0.56 (sachant que la cosine similarity va de 1 à -1)\n"
     ]
    }
   ],
   "source": [
    "MCS1lmf, MCS1lmf_df = get_mean_cosine_similarity(data_valid, train_sparse_user_item, valid_sparse_user_item, reco_collaborative_filtering_lmf, 5, 1000)\n",
    "print(f\"\\nmean_cosine_similarity: {MCS1lmf:.2f} (sachant que la cosine similarity va de 1 à -1)\")\n",
    "scores_df.at[model_name,'mean_cosine_similarity'] = MCS1lmf"
   ]
  },
  {
   "cell_type": "markdown",
   "id": "c219e902-f0f1-4bff-9551-1ea05931e2f6",
   "metadata": {},
   "source": [
    "#### Regardons la precision@k"
   ]
  },
  {
   "cell_type": "code",
   "execution_count": 67,
   "id": "4646fcbc-7ecd-4548-8f09-83e87d6a327b",
   "metadata": {},
   "outputs": [
    {
     "name": "stderr",
     "output_type": "stream",
     "text": [
      "100%|█████████████████████████████████████████████████████████████████████████████████████████████████████████████████████████████████████████████████████████████████████████████████████| 84041/84041 [00:27<00:00, 3074.99it/s]"
     ]
    },
    {
     "name": "stdout",
     "output_type": "stream",
     "text": [
      "0.0003466586830121488\n"
     ]
    },
    {
     "name": "stderr",
     "output_type": "stream",
     "text": [
      "\n"
     ]
    }
   ],
   "source": [
    "precision_k = evaluation.precision_at_k(model_lmf, train_sparse_user_item, valid_sparse_user_item, K=5, show_progress=True, num_threads=1)\n",
    "print(precision_k)\n",
    "scores_df.at[model_name,'precision@k'] = precision_k"
   ]
  },
  {
   "cell_type": "markdown",
   "id": "06cf28a9-e719-48cf-8a08-5a64974715f4",
   "metadata": {},
   "source": [
    "#### Regardons le MAP@k"
   ]
  },
  {
   "cell_type": "code",
   "execution_count": 68,
   "id": "fadc42b3-d947-42e5-9f97-561810ece91a",
   "metadata": {},
   "outputs": [
    {
     "name": "stderr",
     "output_type": "stream",
     "text": [
      "100%|█████████████████████████████████████████████████████████████████████████████████████████████████████████████████████████████████████████████████████████████████████████████████████| 84041/84041 [00:28<00:00, 2990.84it/s]"
     ]
    },
    {
     "name": "stdout",
     "output_type": "stream",
     "text": [
      "Mean Average Precision @ 5 (ALL users): 0.0001665193\n"
     ]
    },
    {
     "name": "stderr",
     "output_type": "stream",
     "text": [
      "\n"
     ]
    }
   ],
   "source": [
    "map_k = evaluation.mean_average_precision_at_k(model_lmf, train_sparse_user_item, valid_sparse_user_item, K=5, show_progress=True, num_threads=1)\n",
    "print(f\"Mean Average Precision @ {reco_size} (ALL users): {map_k:.10f}\")"
   ]
  },
  {
   "cell_type": "code",
   "execution_count": 69,
   "id": "2adc8def-312a-4352-99d9-c8b00a044937",
   "metadata": {},
   "outputs": [
    {
     "name": "stdout",
     "output_type": "stream",
     "text": [
      "Number of users in the validation set:  84041\n",
      "Mean Average Precision @ 5 (ALL users): 0.0001550341\n"
     ]
    }
   ],
   "source": [
    "map_k = evaluate_collaborative_filtering(train_sparse_user_item, valid_sparse_user_item, reco_size, model=model_lmf)\n",
    "print(f\"Mean Average Precision @ {reco_size} (ALL users): {map_k:.10f}\")"
   ]
  },
  {
   "cell_type": "code",
   "execution_count": 70,
   "id": "c8dfbdef-b122-4a2c-8ede-91cf1220ff10",
   "metadata": {},
   "outputs": [
    {
     "name": "stdout",
     "output_type": "stream",
     "text": [
      "Number of users in the validation set:  1000\n",
      "Mean Average Precision @ 5 (first 1000 users): 0.0001333333\n"
     ]
    }
   ],
   "source": [
    "map_k = evaluate_collaborative_filtering(train_sparse_user_item, valid_sparse_user_item, reco_size, model=model_lmf, sample_size=1000)\n",
    "print(f\"Mean Average Precision @ {reco_size} (first 1000 users): {map_k:.10f}\")\n",
    "scores_df.at[model_name,'map@k'] = map_k"
   ]
  },
  {
   "cell_type": "markdown",
   "id": "a4a742b0-0ffc-4ad0-95bf-6d28e987ac18",
   "metadata": {},
   "source": [
    "#### Regardons le nDCG@k"
   ]
  },
  {
   "cell_type": "code",
   "execution_count": 71,
   "id": "a6fc4d15-d68a-4a8b-a4ed-1e18bf9d7c78",
   "metadata": {},
   "outputs": [
    {
     "name": "stderr",
     "output_type": "stream",
     "text": [
      "100%|█████████████████████████████████████████████████████████████████████████████████████████████████████████████████████████████████████████████████████████████████████████████████████| 84041/84041 [00:28<00:00, 2920.11it/s]"
     ]
    },
    {
     "name": "stdout",
     "output_type": "stream",
     "text": [
      "0.00025521698425853373\n"
     ]
    },
    {
     "name": "stderr",
     "output_type": "stream",
     "text": [
      "\n"
     ]
    }
   ],
   "source": [
    "ndcg_k = evaluation.ndcg_at_k(model_lmf, train_sparse_user_item, valid_sparse_user_item, K=5, show_progress=True, num_threads=1)\n",
    "print(ndcg_k)\n",
    "scores_df.at[model_name,'ndcg@k'] = ndcg_k"
   ]
  },
  {
   "cell_type": "markdown",
   "id": "5df914eb-1de2-462a-90d3-0d82edd85d2f",
   "metadata": {},
   "source": [
    "#### Comparons"
   ]
  },
  {
   "cell_type": "code",
   "execution_count": 72,
   "id": "624ccc78-e181-465e-b5cb-9c0c28ba6d50",
   "metadata": {},
   "outputs": [
    {
     "data": {
      "text/html": [
       "<div>\n",
       "<style scoped>\n",
       "    .dataframe tbody tr th:only-of-type {\n",
       "        vertical-align: middle;\n",
       "    }\n",
       "\n",
       "    .dataframe tbody tr th {\n",
       "        vertical-align: top;\n",
       "    }\n",
       "\n",
       "    .dataframe thead th {\n",
       "        text-align: right;\n",
       "    }\n",
       "</style>\n",
       "<table border=\"1\" class=\"dataframe\">\n",
       "  <thead>\n",
       "    <tr style=\"text-align: right;\">\n",
       "      <th></th>\n",
       "      <th>mean_cosine_similarity</th>\n",
       "      <th>precision@k</th>\n",
       "      <th>map@k</th>\n",
       "      <th>ndcg@k</th>\n",
       "      <th>training_time</th>\n",
       "    </tr>\n",
       "    <tr>\n",
       "      <th>model_name</th>\n",
       "      <th></th>\n",
       "      <th></th>\n",
       "      <th></th>\n",
       "      <th></th>\n",
       "      <th></th>\n",
       "    </tr>\n",
       "  </thead>\n",
       "  <tbody>\n",
       "    <tr>\n",
       "      <th>Baseline model - Random</th>\n",
       "      <td>0.482212</td>\n",
       "      <td>NaN</td>\n",
       "      <td>0.0</td>\n",
       "      <td>NaN</td>\n",
       "      <td>0</td>\n",
       "    </tr>\n",
       "    <tr>\n",
       "      <th>AlternatingLeastSquares</th>\n",
       "      <td>0.566565</td>\n",
       "      <td>0.001334</td>\n",
       "      <td>0.001264</td>\n",
       "      <td>0.000829</td>\n",
       "      <td>174.144516</td>\n",
       "    </tr>\n",
       "    <tr>\n",
       "      <th>Content Based Filtering</th>\n",
       "      <td>0.576889</td>\n",
       "      <td>NaN</td>\n",
       "      <td>0.000207</td>\n",
       "      <td>NaN</td>\n",
       "      <td>0</td>\n",
       "    </tr>\n",
       "    <tr>\n",
       "      <th>AlternatingLeastSquares_with_BM25</th>\n",
       "      <td>0.510579</td>\n",
       "      <td>0.000005</td>\n",
       "      <td>0.0</td>\n",
       "      <td>0.000002</td>\n",
       "      <td>85.808545</td>\n",
       "    </tr>\n",
       "    <tr>\n",
       "      <th>LogisticMatrixFactorization</th>\n",
       "      <td>0.561812</td>\n",
       "      <td>0.000347</td>\n",
       "      <td>0.000133</td>\n",
       "      <td>0.000255</td>\n",
       "      <td>29.764094</td>\n",
       "    </tr>\n",
       "  </tbody>\n",
       "</table>\n",
       "</div>"
      ],
      "text/plain": [
       "                                  mean_cosine_similarity precision@k  \\\n",
       "model_name                                                             \n",
       "Baseline model - Random                         0.482212         NaN   \n",
       "AlternatingLeastSquares                         0.566565    0.001334   \n",
       "Content Based Filtering                         0.576889         NaN   \n",
       "AlternatingLeastSquares_with_BM25               0.510579    0.000005   \n",
       "LogisticMatrixFactorization                     0.561812    0.000347   \n",
       "\n",
       "                                      map@k    ndcg@k training_time  \n",
       "model_name                                                           \n",
       "Baseline model - Random                 0.0       NaN             0  \n",
       "AlternatingLeastSquares            0.001264  0.000829    174.144516  \n",
       "Content Based Filtering            0.000207       NaN             0  \n",
       "AlternatingLeastSquares_with_BM25       0.0  0.000002     85.808545  \n",
       "LogisticMatrixFactorization        0.000133  0.000255     29.764094  "
      ]
     },
     "execution_count": 72,
     "metadata": {},
     "output_type": "execute_result"
    }
   ],
   "source": [
    "scores_df"
   ]
  },
  {
   "cell_type": "markdown",
   "id": "d127dc70-45bc-46a2-91b8-7fb328a7a094",
   "metadata": {},
   "source": [
    "### Bayesian Personalized Ranking"
   ]
  },
  {
   "cell_type": "markdown",
   "id": "e7c45cb5-208b-452c-8393-4ff3b8c2aa78",
   "metadata": {},
   "source": [
    "#### Entrainons un premier modèle pour calculer les embeddings utilisateurs et faire des recommandations"
   ]
  },
  {
   "cell_type": "code",
   "execution_count": 73,
   "id": "a7e140ce-903f-4ca5-bac6-d326b90796cf",
   "metadata": {},
   "outputs": [
    {
     "name": "stderr",
     "output_type": "stream",
     "text": [
      "100%|████████████████████████████████████████████████████████████████████████████████████████████████████████████████████████████████████████████████████████████| 50/50 [00:09<00:00,  5.45it/s, train_auc=88.20%, skipped=4.24%]\n"
     ]
    }
   ],
   "source": [
    "model_bpr = implicit.cpu.bpr.BayesianPersonalizedRanking(\n",
    "    factors=32,\n",
    "    learning_rate=0.05,\n",
    "    regularization=0.05, \n",
    "    iterations=50,\n",
    ")\n",
    "\n",
    "model_name = model_bpr.__class__.__name__\n",
    "t0 = time.perf_counter()\n",
    "model_bpr.fit(train_sparse_user_item)\n",
    "scores_df.at[model_name,'training_time'] = time.perf_counter() - t0"
   ]
  },
  {
   "cell_type": "markdown",
   "id": "76bed91f-b765-449c-91d4-b570d7a90a91",
   "metadata": {},
   "source": [
    "#### Calculons la cosine similarity moyenne sur le jeu de validation"
   ]
  },
  {
   "cell_type": "code",
   "execution_count": 74,
   "id": "410eac79-e97f-4eb3-b979-e33d818d43ed",
   "metadata": {},
   "outputs": [],
   "source": [
    "def reco_collaborative_filtering_bpr(user_cats, mean_embeddings, train_df, valid_df, reco_size):\n",
    "    \n",
    "    apply_numpy2 = lambda x : list(map(lookup_articles_from_cat, x))\n",
    "    apply_numpy = lambda x : list(map(apply_numpy2,x))\n",
    "    \n",
    "    reco_codes, reco_score = model_bpr.recommend(user_cats, train_df[user_cats], N=reco_size, filter_already_liked_items=True) \n",
    "    \n",
    "    return apply_numpy(reco_codes)"
   ]
  },
  {
   "cell_type": "markdown",
   "id": "607f7872-0706-48be-8eba-b4c915fecc96",
   "metadata": {},
   "source": [
    "Pour tout le jeu de données"
   ]
  },
  {
   "cell_type": "code",
   "execution_count": 75,
   "id": "2d013f5a-f08e-4433-b2b1-083674bf34a6",
   "metadata": {},
   "outputs": [
    {
     "name": "stdout",
     "output_type": "stream",
     "text": [
      "\n",
      "mean_cosine_similarity: 0.56 (sachant que la cosine similarity va de 1 à -1)\n"
     ]
    }
   ],
   "source": [
    "MCS1bpr, MCS1bpr_df = get_mean_cosine_similarity(data_valid, train_sparse_user_item, valid_sparse_user_item, reco_collaborative_filtering_bpr, 5)\n",
    "print(f\"\\nmean_cosine_similarity: {MCS1bpr:.2f} (sachant que la cosine similarity va de 1 à -1)\")"
   ]
  },
  {
   "cell_type": "markdown",
   "id": "91514693-ed37-4cd5-bd96-dea29205de64",
   "metadata": {},
   "source": [
    "Pour les 1000 premiers utilisateurs *(car j'ai du mal à calculer le score sur l'ensemble du jeu de données avec le Content Based Filtering)*"
   ]
  },
  {
   "cell_type": "code",
   "execution_count": 76,
   "id": "69739914-5a80-40d8-b875-faf584309d7d",
   "metadata": {},
   "outputs": [
    {
     "name": "stdout",
     "output_type": "stream",
     "text": [
      "\n",
      "mean_cosine_similarity: 0.60 (sachant que la cosine similarity va de 1 à -1)\n"
     ]
    }
   ],
   "source": [
    "MCS1bpr, MCS1bpr_df = get_mean_cosine_similarity(data_valid, train_sparse_user_item, valid_sparse_user_item, reco_collaborative_filtering_bpr, 5, 1000)\n",
    "print(f\"\\nmean_cosine_similarity: {MCS1bpr:.2f} (sachant que la cosine similarity va de 1 à -1)\")\n",
    "scores_df.at[model_name,'mean_cosine_similarity'] = MCS1bpr"
   ]
  },
  {
   "cell_type": "markdown",
   "id": "9ae48562-da24-4acf-8f30-84869f9ed5df",
   "metadata": {},
   "source": [
    "#### Regardons la precision@k"
   ]
  },
  {
   "cell_type": "code",
   "execution_count": 77,
   "id": "aa1c25aa-57ad-42b6-8687-b0fbc8189393",
   "metadata": {},
   "outputs": [
    {
     "name": "stderr",
     "output_type": "stream",
     "text": [
      "100%|█████████████████████████████████████████████████████████████████████████████████████████████████████████████████████████████████████████████████████████████████████████████████████| 84041/84041 [00:28<00:00, 2979.60it/s]"
     ]
    },
    {
     "name": "stdout",
     "output_type": "stream",
     "text": [
      "0.000604026493127229\n"
     ]
    },
    {
     "name": "stderr",
     "output_type": "stream",
     "text": [
      "\n"
     ]
    }
   ],
   "source": [
    "precision_k = evaluation.precision_at_k(model_bpr, train_sparse_user_item, valid_sparse_user_item, K=5, show_progress=True, num_threads=1)\n",
    "print(precision_k)\n",
    "scores_df.at[model_name,'precision@k'] = precision_k"
   ]
  },
  {
   "cell_type": "markdown",
   "id": "67f79f31-12e2-4cac-b6ce-92d04e187dfe",
   "metadata": {},
   "source": [
    "#### Regardons le MAP@k"
   ]
  },
  {
   "cell_type": "code",
   "execution_count": 78,
   "id": "ceaa93e3-6678-426f-b1c6-32b9a6c79132",
   "metadata": {},
   "outputs": [
    {
     "name": "stderr",
     "output_type": "stream",
     "text": [
      "100%|█████████████████████████████████████████████████████████████████████████████████████████████████████████████████████████████████████████████████████████████████████████████████████| 84041/84041 [00:27<00:00, 3023.48it/s]"
     ]
    },
    {
     "name": "stdout",
     "output_type": "stream",
     "text": [
      "Mean Average Precision @ 5 (ALL users): 0.0002209702\n"
     ]
    },
    {
     "name": "stderr",
     "output_type": "stream",
     "text": [
      "\n"
     ]
    }
   ],
   "source": [
    "map_k = evaluation.mean_average_precision_at_k(model_bpr, train_sparse_user_item, valid_sparse_user_item, K=5, show_progress=True, num_threads=1)\n",
    "print(f\"Mean Average Precision @ {reco_size} (ALL users): {map_k:.10f}\")"
   ]
  },
  {
   "cell_type": "code",
   "execution_count": 79,
   "id": "91ed645c-118c-4034-8b52-80c02f27738c",
   "metadata": {},
   "outputs": [
    {
     "name": "stdout",
     "output_type": "stream",
     "text": [
      "Number of users in the validation set:  84041\n",
      "Mean Average Precision @ 5 (ALL users): 0.0001550341\n"
     ]
    }
   ],
   "source": [
    "map_k = evaluate_collaborative_filtering(train_sparse_user_item, valid_sparse_user_item, reco_size, model=model_lmf)\n",
    "print(f\"Mean Average Precision @ {reco_size} (ALL users): {map_k:.10f}\")"
   ]
  },
  {
   "cell_type": "code",
   "execution_count": 80,
   "id": "80bd2e94-6097-4843-9f61-b4950261d3be",
   "metadata": {},
   "outputs": [
    {
     "name": "stdout",
     "output_type": "stream",
     "text": [
      "Number of users in the validation set:  1000\n",
      "Mean Average Precision @ 5 (first 1000 users): 0.0001333333\n"
     ]
    }
   ],
   "source": [
    "map_k = evaluate_collaborative_filtering(train_sparse_user_item, valid_sparse_user_item, reco_size, model=model_lmf, sample_size=1000)\n",
    "print(f\"Mean Average Precision @ {reco_size} (first 1000 users): {map_k:.10f}\")\n",
    "scores_df.at[model_name,'map@k'] = map_k"
   ]
  },
  {
   "cell_type": "markdown",
   "id": "0671c3d1-9d82-416e-bc2d-c9afabe74f07",
   "metadata": {},
   "source": [
    "#### Regardons le nDCG@k"
   ]
  },
  {
   "cell_type": "code",
   "execution_count": 81,
   "id": "efdc53f0-055d-4afc-a87e-9f3c72ce1840",
   "metadata": {},
   "outputs": [
    {
     "name": "stderr",
     "output_type": "stream",
     "text": [
      "100%|█████████████████████████████████████████████████████████████████████████████████████████████████████████████████████████████████████████████████████████████████████████████████████| 84041/84041 [00:28<00:00, 2959.88it/s]"
     ]
    },
    {
     "name": "stdout",
     "output_type": "stream",
     "text": [
      "0.0003790179052857171\n"
     ]
    },
    {
     "name": "stderr",
     "output_type": "stream",
     "text": [
      "\n"
     ]
    }
   ],
   "source": [
    "ndcg_k = evaluation.ndcg_at_k(model_bpr, train_sparse_user_item, valid_sparse_user_item, K=5, show_progress=True, num_threads=1)\n",
    "print(ndcg_k)\n",
    "scores_df.at[model_name,'ndcg@k'] = ndcg_k"
   ]
  },
  {
   "cell_type": "markdown",
   "id": "62c27fdd-5731-43dd-9fcf-8ccbd9f7bc7f",
   "metadata": {},
   "source": [
    "#### Comparons"
   ]
  },
  {
   "cell_type": "code",
   "execution_count": 82,
   "id": "d04a7811-726b-43b6-bcf8-1a16c60117e0",
   "metadata": {},
   "outputs": [
    {
     "data": {
      "text/html": [
       "<div>\n",
       "<style scoped>\n",
       "    .dataframe tbody tr th:only-of-type {\n",
       "        vertical-align: middle;\n",
       "    }\n",
       "\n",
       "    .dataframe tbody tr th {\n",
       "        vertical-align: top;\n",
       "    }\n",
       "\n",
       "    .dataframe thead th {\n",
       "        text-align: right;\n",
       "    }\n",
       "</style>\n",
       "<table border=\"1\" class=\"dataframe\">\n",
       "  <thead>\n",
       "    <tr style=\"text-align: right;\">\n",
       "      <th></th>\n",
       "      <th>mean_cosine_similarity</th>\n",
       "      <th>precision@k</th>\n",
       "      <th>map@k</th>\n",
       "      <th>ndcg@k</th>\n",
       "      <th>training_time</th>\n",
       "    </tr>\n",
       "    <tr>\n",
       "      <th>model_name</th>\n",
       "      <th></th>\n",
       "      <th></th>\n",
       "      <th></th>\n",
       "      <th></th>\n",
       "      <th></th>\n",
       "    </tr>\n",
       "  </thead>\n",
       "  <tbody>\n",
       "    <tr>\n",
       "      <th>Baseline model - Random</th>\n",
       "      <td>0.482212</td>\n",
       "      <td>NaN</td>\n",
       "      <td>0.0</td>\n",
       "      <td>NaN</td>\n",
       "      <td>0</td>\n",
       "    </tr>\n",
       "    <tr>\n",
       "      <th>AlternatingLeastSquares</th>\n",
       "      <td>0.566565</td>\n",
       "      <td>0.001334</td>\n",
       "      <td>0.001264</td>\n",
       "      <td>0.000829</td>\n",
       "      <td>174.144516</td>\n",
       "    </tr>\n",
       "    <tr>\n",
       "      <th>Content Based Filtering</th>\n",
       "      <td>0.576889</td>\n",
       "      <td>NaN</td>\n",
       "      <td>0.000207</td>\n",
       "      <td>NaN</td>\n",
       "      <td>0</td>\n",
       "    </tr>\n",
       "    <tr>\n",
       "      <th>AlternatingLeastSquares_with_BM25</th>\n",
       "      <td>0.510579</td>\n",
       "      <td>0.000005</td>\n",
       "      <td>0.0</td>\n",
       "      <td>0.000002</td>\n",
       "      <td>85.808545</td>\n",
       "    </tr>\n",
       "    <tr>\n",
       "      <th>LogisticMatrixFactorization</th>\n",
       "      <td>0.561812</td>\n",
       "      <td>0.000347</td>\n",
       "      <td>0.000133</td>\n",
       "      <td>0.000255</td>\n",
       "      <td>29.764094</td>\n",
       "    </tr>\n",
       "    <tr>\n",
       "      <th>BayesianPersonalizedRanking</th>\n",
       "      <td>0.596146</td>\n",
       "      <td>0.000604</td>\n",
       "      <td>0.000133</td>\n",
       "      <td>0.000379</td>\n",
       "      <td>9.348099</td>\n",
       "    </tr>\n",
       "  </tbody>\n",
       "</table>\n",
       "</div>"
      ],
      "text/plain": [
       "                                  mean_cosine_similarity precision@k  \\\n",
       "model_name                                                             \n",
       "Baseline model - Random                         0.482212         NaN   \n",
       "AlternatingLeastSquares                         0.566565    0.001334   \n",
       "Content Based Filtering                         0.576889         NaN   \n",
       "AlternatingLeastSquares_with_BM25               0.510579    0.000005   \n",
       "LogisticMatrixFactorization                     0.561812    0.000347   \n",
       "BayesianPersonalizedRanking                     0.596146    0.000604   \n",
       "\n",
       "                                      map@k    ndcg@k training_time  \n",
       "model_name                                                           \n",
       "Baseline model - Random                 0.0       NaN             0  \n",
       "AlternatingLeastSquares            0.001264  0.000829    174.144516  \n",
       "Content Based Filtering            0.000207       NaN             0  \n",
       "AlternatingLeastSquares_with_BM25       0.0  0.000002     85.808545  \n",
       "LogisticMatrixFactorization        0.000133  0.000255     29.764094  \n",
       "BayesianPersonalizedRanking        0.000133  0.000379      9.348099  "
      ]
     },
     "execution_count": 82,
     "metadata": {},
     "output_type": "execute_result"
    }
   ],
   "source": [
    "scores_df"
   ]
  },
  {
   "cell_type": "markdown",
   "id": "028d380f-1015-470f-9279-8d9f868cd2c7",
   "metadata": {},
   "source": [
    "### Nearest Neighbour - Item Item Recommender"
   ]
  },
  {
   "cell_type": "markdown",
   "id": "0b180bcc-1a52-4f3e-b900-a4c19c516973",
   "metadata": {},
   "source": [
    "#### Entrainons un premier modèle pour calculer les embeddings utilisateurs et faire des recommandations"
   ]
  },
  {
   "cell_type": "code",
   "execution_count": 83,
   "id": "39f4d645-4307-49a0-b788-755c33cc48f0",
   "metadata": {},
   "outputs": [
    {
     "name": "stderr",
     "output_type": "stream",
     "text": [
      "100%|████████████████████████████████████████████████████████████████████████████████████████████████████████████████████████████████████████████████████████████████████████████████████| 32595/32595 [00:00<00:00, 82143.61it/s]\n"
     ]
    }
   ],
   "source": [
    "model_iir = implicit.nearest_neighbours.ItemItemRecommender()\n",
    "\n",
    "model_name = model_iir.__class__.__name__\n",
    "t0 = time.perf_counter()\n",
    "model_iir.fit(train_sparse_user_item)\n",
    "scores_df.at[model_name,'training_time'] = time.perf_counter() - t0"
   ]
  },
  {
   "cell_type": "markdown",
   "id": "c2d44cd6-8f58-4a43-944c-d912957316a7",
   "metadata": {},
   "source": [
    "#### Calculons la cosine similarity moyenne sur le jeu de validation"
   ]
  },
  {
   "cell_type": "code",
   "execution_count": 84,
   "id": "473472a7-4d5a-4465-a44d-cf02b96fd030",
   "metadata": {},
   "outputs": [],
   "source": [
    "def reco_collaborative_filtering_iir(user_cats, mean_embeddings, train_df, valid_df, reco_size):\n",
    "    \n",
    "    apply_numpy2 = lambda x : list(map(lookup_articles_from_cat, x))\n",
    "    apply_numpy = lambda x : list(map(apply_numpy2,x))\n",
    "    \n",
    "    reco_codes, reco_score = model_iir.recommend(user_cats, train_df[user_cats], N=reco_size, filter_already_liked_items=True) \n",
    "    \n",
    "    return apply_numpy(reco_codes)"
   ]
  },
  {
   "cell_type": "markdown",
   "id": "21b4b35b-6fb9-4ce5-b1b7-18034d7be721",
   "metadata": {},
   "source": [
    "Pour tout le jeu de données"
   ]
  },
  {
   "cell_type": "code",
   "execution_count": 85,
   "id": "5a6c0ae7-2d87-43f5-a711-142b9d88a0a4",
   "metadata": {
    "tags": []
   },
   "outputs": [
    {
     "name": "stdout",
     "output_type": "stream",
     "text": [
      "\n",
      "mean_cosine_similarity: 0.55 (sachant que la cosine similarity va de 1 à -1)\n"
     ]
    }
   ],
   "source": [
    "MCS1iir, MCS1iir_df = get_mean_cosine_similarity(data_valid, train_sparse_user_item, valid_sparse_user_item, reco_collaborative_filtering_iir, 5)\n",
    "print(f\"\\nmean_cosine_similarity: {MCS1iir:.2f} (sachant que la cosine similarity va de 1 à -1)\")"
   ]
  },
  {
   "cell_type": "markdown",
   "id": "b1a8974c-559c-4c02-9fb6-d072246a5d3a",
   "metadata": {},
   "source": [
    "Pour les 1000 premiers utilisateurs *(car j'ai du mal à calculer le score sur l'ensemble du jeu de données avec le Content Based Filtering)*"
   ]
  },
  {
   "cell_type": "code",
   "execution_count": 86,
   "id": "d45a6f0e-37b2-4123-b713-8d987e843396",
   "metadata": {},
   "outputs": [
    {
     "name": "stdout",
     "output_type": "stream",
     "text": [
      "\n",
      "mean_cosine_similarity: 0.57 (sachant que la cosine similarity va de 1 à -1)\n"
     ]
    }
   ],
   "source": [
    "MCS1iir, MCS1iir_df = get_mean_cosine_similarity(data_valid, train_sparse_user_item, valid_sparse_user_item, reco_collaborative_filtering_iir, 5, 1000)\n",
    "print(f\"\\nmean_cosine_similarity: {MCS1iir:.2f} (sachant que la cosine similarity va de 1 à -1)\")\n",
    "scores_df.at[model_name,'mean_cosine_similarity'] = MCS1iir"
   ]
  },
  {
   "cell_type": "markdown",
   "id": "cbcf5f5d-86f3-428f-b13e-2d45ed2fa6e6",
   "metadata": {},
   "source": [
    "#### Regardons la precision@k"
   ]
  },
  {
   "cell_type": "code",
   "execution_count": 87,
   "id": "04d1b72c-e4b0-41bd-b7d5-0197b88fb665",
   "metadata": {},
   "outputs": [
    {
     "name": "stderr",
     "output_type": "stream",
     "text": [
      "100%|█████████████████████████████████████████████████████████████████████████████████████████████████████████████████████████████████████████████████████████████████████████████████████| 84041/84041 [00:09<00:00, 8706.91it/s]"
     ]
    },
    {
     "name": "stdout",
     "output_type": "stream",
     "text": [
      "0.001129266921933515\n"
     ]
    },
    {
     "name": "stderr",
     "output_type": "stream",
     "text": [
      "\n"
     ]
    }
   ],
   "source": [
    "precision_k = evaluation.precision_at_k(model_iir, train_sparse_user_item, valid_sparse_user_item, K=5, show_progress=True, num_threads=1)\n",
    "print(precision_k)\n",
    "scores_df.at[model_name,'precision@k'] = precision_k"
   ]
  },
  {
   "cell_type": "markdown",
   "id": "0b600577-d623-4d4e-82b9-a7ad4810d68a",
   "metadata": {},
   "source": [
    "#### Regardons le MAP@k"
   ]
  },
  {
   "cell_type": "code",
   "execution_count": 88,
   "id": "f34edf89-3457-4b06-9898-2c125a2f5c35",
   "metadata": {},
   "outputs": [
    {
     "name": "stderr",
     "output_type": "stream",
     "text": [
      "100%|█████████████████████████████████████████████████████████████████████████████████████████████████████████████████████████████████████████████████████████████████████████████████████| 84041/84041 [00:09<00:00, 8503.17it/s]"
     ]
    },
    {
     "name": "stdout",
     "output_type": "stream",
     "text": [
      "Mean Average Precision @ 5 (ALL users): 0.0005748054\n"
     ]
    },
    {
     "name": "stderr",
     "output_type": "stream",
     "text": [
      "\n"
     ]
    }
   ],
   "source": [
    "map_k = evaluation.mean_average_precision_at_k(model_iir, train_sparse_user_item, valid_sparse_user_item, K=5, show_progress=True, num_threads=1)\n",
    "print(f\"Mean Average Precision @ {reco_size} (ALL users): {map_k:.10f}\")"
   ]
  },
  {
   "cell_type": "code",
   "execution_count": 89,
   "id": "88abcd30-48c6-4f10-bedc-be8c33f83edc",
   "metadata": {},
   "outputs": [
    {
     "name": "stdout",
     "output_type": "stream",
     "text": [
      "Number of users in the validation set:  84041\n",
      "Mean Average Precision @ 5 (ALL users): 0.0005555859\n"
     ]
    }
   ],
   "source": [
    "map_k = evaluate_collaborative_filtering(train_sparse_user_item, valid_sparse_user_item, reco_size, model=model_iir)\n",
    "print(f\"Mean Average Precision @ {reco_size} (ALL users): {map_k:.10f}\")"
   ]
  },
  {
   "cell_type": "code",
   "execution_count": 90,
   "id": "946637a6-9e8e-4bf9-90bd-6555541bbb68",
   "metadata": {},
   "outputs": [
    {
     "name": "stdout",
     "output_type": "stream",
     "text": [
      "Number of users in the validation set:  1000\n",
      "Mean Average Precision @ 5 (first 1000 users): 0.0015638889\n"
     ]
    }
   ],
   "source": [
    "map_k = evaluate_collaborative_filtering(train_sparse_user_item, valid_sparse_user_item, reco_size, model=model_iir, sample_size=1000)\n",
    "print(f\"Mean Average Precision @ {reco_size} (first 1000 users): {map_k:.10f}\")\n",
    "scores_df.at[model_name,'map@k'] = map_k"
   ]
  },
  {
   "cell_type": "markdown",
   "id": "f65ee16c-21e3-4705-a971-671f9a93fd75",
   "metadata": {},
   "source": [
    "#### Regardons le nDCG@k"
   ]
  },
  {
   "cell_type": "code",
   "execution_count": 91,
   "id": "2027d7b8-233f-4227-8da5-3c83787e6530",
   "metadata": {},
   "outputs": [
    {
     "name": "stderr",
     "output_type": "stream",
     "text": [
      "100%|█████████████████████████████████████████████████████████████████████████████████████████████████████████████████████████████████████████████████████████████████████████████████████| 84041/84041 [00:09<00:00, 8638.40it/s]"
     ]
    },
    {
     "name": "stdout",
     "output_type": "stream",
     "text": [
      "0.0008696595131266373\n"
     ]
    },
    {
     "name": "stderr",
     "output_type": "stream",
     "text": [
      "\n"
     ]
    }
   ],
   "source": [
    "ndcg_k = evaluation.ndcg_at_k(model_iir, train_sparse_user_item, valid_sparse_user_item, K=5, show_progress=True, num_threads=1)\n",
    "print(ndcg_k)\n",
    "scores_df.at[model_name,'ndcg@k'] = ndcg_k"
   ]
  },
  {
   "cell_type": "markdown",
   "id": "d62becde-2837-400a-870a-0bdb40c1a369",
   "metadata": {},
   "source": [
    "#### Comparons"
   ]
  },
  {
   "cell_type": "code",
   "execution_count": 92,
   "id": "021dd355-ec50-4167-b267-eb0456d9506a",
   "metadata": {},
   "outputs": [
    {
     "data": {
      "text/html": [
       "<div>\n",
       "<style scoped>\n",
       "    .dataframe tbody tr th:only-of-type {\n",
       "        vertical-align: middle;\n",
       "    }\n",
       "\n",
       "    .dataframe tbody tr th {\n",
       "        vertical-align: top;\n",
       "    }\n",
       "\n",
       "    .dataframe thead th {\n",
       "        text-align: right;\n",
       "    }\n",
       "</style>\n",
       "<table border=\"1\" class=\"dataframe\">\n",
       "  <thead>\n",
       "    <tr style=\"text-align: right;\">\n",
       "      <th></th>\n",
       "      <th>mean_cosine_similarity</th>\n",
       "      <th>precision@k</th>\n",
       "      <th>map@k</th>\n",
       "      <th>ndcg@k</th>\n",
       "      <th>training_time</th>\n",
       "    </tr>\n",
       "    <tr>\n",
       "      <th>model_name</th>\n",
       "      <th></th>\n",
       "      <th></th>\n",
       "      <th></th>\n",
       "      <th></th>\n",
       "      <th></th>\n",
       "    </tr>\n",
       "  </thead>\n",
       "  <tbody>\n",
       "    <tr>\n",
       "      <th>Baseline model - Random</th>\n",
       "      <td>0.482212</td>\n",
       "      <td>NaN</td>\n",
       "      <td>0.0</td>\n",
       "      <td>NaN</td>\n",
       "      <td>0</td>\n",
       "    </tr>\n",
       "    <tr>\n",
       "      <th>AlternatingLeastSquares</th>\n",
       "      <td>0.566565</td>\n",
       "      <td>0.001334</td>\n",
       "      <td>0.001264</td>\n",
       "      <td>0.000829</td>\n",
       "      <td>174.144516</td>\n",
       "    </tr>\n",
       "    <tr>\n",
       "      <th>Content Based Filtering</th>\n",
       "      <td>0.576889</td>\n",
       "      <td>NaN</td>\n",
       "      <td>0.000207</td>\n",
       "      <td>NaN</td>\n",
       "      <td>0</td>\n",
       "    </tr>\n",
       "    <tr>\n",
       "      <th>AlternatingLeastSquares_with_BM25</th>\n",
       "      <td>0.510579</td>\n",
       "      <td>0.000005</td>\n",
       "      <td>0.0</td>\n",
       "      <td>0.000002</td>\n",
       "      <td>85.808545</td>\n",
       "    </tr>\n",
       "    <tr>\n",
       "      <th>LogisticMatrixFactorization</th>\n",
       "      <td>0.561812</td>\n",
       "      <td>0.000347</td>\n",
       "      <td>0.000133</td>\n",
       "      <td>0.000255</td>\n",
       "      <td>29.764094</td>\n",
       "    </tr>\n",
       "    <tr>\n",
       "      <th>BayesianPersonalizedRanking</th>\n",
       "      <td>0.596146</td>\n",
       "      <td>0.000604</td>\n",
       "      <td>0.000133</td>\n",
       "      <td>0.000379</td>\n",
       "      <td>9.348099</td>\n",
       "    </tr>\n",
       "    <tr>\n",
       "      <th>ItemItemRecommender</th>\n",
       "      <td>0.573461</td>\n",
       "      <td>0.001129</td>\n",
       "      <td>0.001564</td>\n",
       "      <td>0.00087</td>\n",
       "      <td>0.489394</td>\n",
       "    </tr>\n",
       "  </tbody>\n",
       "</table>\n",
       "</div>"
      ],
      "text/plain": [
       "                                  mean_cosine_similarity precision@k  \\\n",
       "model_name                                                             \n",
       "Baseline model - Random                         0.482212         NaN   \n",
       "AlternatingLeastSquares                         0.566565    0.001334   \n",
       "Content Based Filtering                         0.576889         NaN   \n",
       "AlternatingLeastSquares_with_BM25               0.510579    0.000005   \n",
       "LogisticMatrixFactorization                     0.561812    0.000347   \n",
       "BayesianPersonalizedRanking                     0.596146    0.000604   \n",
       "ItemItemRecommender                             0.573461    0.001129   \n",
       "\n",
       "                                      map@k    ndcg@k training_time  \n",
       "model_name                                                           \n",
       "Baseline model - Random                 0.0       NaN             0  \n",
       "AlternatingLeastSquares            0.001264  0.000829    174.144516  \n",
       "Content Based Filtering            0.000207       NaN             0  \n",
       "AlternatingLeastSquares_with_BM25       0.0  0.000002     85.808545  \n",
       "LogisticMatrixFactorization        0.000133  0.000255     29.764094  \n",
       "BayesianPersonalizedRanking        0.000133  0.000379      9.348099  \n",
       "ItemItemRecommender                0.001564   0.00087      0.489394  "
      ]
     },
     "execution_count": 92,
     "metadata": {},
     "output_type": "execute_result"
    }
   ],
   "source": [
    "scores_df"
   ]
  },
  {
   "cell_type": "code",
   "execution_count": null,
   "id": "01a098b4-9641-49cb-8fb3-7946d34dc2c0",
   "metadata": {},
   "outputs": [],
   "source": []
  },
  {
   "cell_type": "markdown",
   "id": "5955ade7-cd80-4fff-82ed-1b5d236dd03a",
   "metadata": {},
   "source": [
    "### Content Based Filtering basé sur le dernier article lu uniquement"
   ]
  },
  {
   "cell_type": "code",
   "execution_count": 93,
   "id": "225947f5-01ba-410b-a597-d7b9fab0b8ba",
   "metadata": {},
   "outputs": [
    {
     "name": "stdout",
     "output_type": "stream",
     "text": [
      "CPU times: user 128 ms, sys: 171 ms, total: 299 ms\n",
      "Wall time: 5min 12s\n"
     ]
    }
   ],
   "source": [
    "%%time\n",
    "def f(user_id):\n",
    "    \n",
    "    histo_size = 1\n",
    "    \n",
    "    # --- Get recommendations\n",
    "    reco =  get_content_based_recommendations(user_id, reco_size, histo_size)\n",
    "    mean_vector_reco = get_mean_vector(reco.article_id)\n",
    "    \n",
    "    # --- Compute viewed mean_embedding VALID\n",
    "    viewed_valid = data_valid[data_valid.user_id == user_id]['article_id']\n",
    "    if len(viewed_valid) < 1: return -1, [], []\n",
    "    mean_vector_viewed_valid = get_mean_vector(viewed_valid.values)\n",
    "    \n",
    "    # --- Compute similarities\n",
    "    cosine_similarity_pred_viewed = cosine_similarity(mean_vector_reco.reshape(1, -1), mean_vector_viewed_valid.reshape(1, -1))\n",
    "    \n",
    "    # --- Return values\n",
    "    return (cosine_similarity_pred_viewed[0][0], list(viewed_valid.values), list(reco.article_id))\n",
    "    \n",
    "results = []\n",
    "user_ids = np.sort(data_valid.user_id.unique())\n",
    "\n",
    "with Pool(multiprocessing.cpu_count()) as p:\n",
    "    results.append(p.map(f, user_ids[:1000]))"
   ]
  },
  {
   "cell_type": "code",
   "execution_count": 94,
   "id": "b0af4c2c-bef9-4135-abf0-5c989538d367",
   "metadata": {},
   "outputs": [
    {
     "name": "stdout",
     "output_type": "stream",
     "text": [
      "\n",
      "mean_cosine_similarity (de 1 à -1) entre 'recommended' & 'viewed_in_valid' = 0.41 (que l'on compare donc avec les 0.57 du Collaborative Filtering ALS)\n"
     ]
    }
   ],
   "source": [
    "mean_cosine_similarity = np.array([x for x,y,z in results[0]]).mean()\n",
    "mean_cosine_similarity\n",
    "\n",
    "print(f\"\\nmean_cosine_similarity (de 1 à -1) entre 'recommended' & 'viewed_in_valid' = {mean_cosine_similarity:.2f} (que l'on compare donc avec les 0.57 du Collaborative Filtering ALS)\")\n",
    "\n",
    "model_name = \"Content Based Filtering based on last read article\"\n",
    "scores_df.at[model_name,'mean_cosine_similarity'] = mean_cosine_similarity\n",
    "scores_df.at[model_name,'training_time'] = 0"
   ]
  },
  {
   "cell_type": "code",
   "execution_count": 95,
   "id": "f2a552be-4b37-4eb9-a925-c1775942acf3",
   "metadata": {},
   "outputs": [
    {
     "name": "stdout",
     "output_type": "stream",
     "text": [
      "Mean Average Precision @ 5 (first 1000 users): 0.0006000000\n"
     ]
    }
   ],
   "source": [
    "y_true = [y for x,y,z in results[0]]\n",
    "y_reco = [z for x,y,z in results[0]]\n",
    "map_k = metrics.mapk(y_true, y_reco, k=reco_size)\n",
    "\n",
    "print(f\"Mean Average Precision @ {reco_size} (first 1000 users): {map_k:.10f}\")\n",
    "scores_df.at[model_name,'map@k'] = map_k"
   ]
  },
  {
   "cell_type": "markdown",
   "id": "c1cc5209-ce59-48d7-ade8-aa6b63f529bf",
   "metadata": {},
   "source": [
    "### Content Based Filtering basé sur les 5 derniers articles lus uniquement"
   ]
  },
  {
   "cell_type": "code",
   "execution_count": 96,
   "id": "d9915fc7-8dfd-4982-ab07-58af4717f8fc",
   "metadata": {},
   "outputs": [
    {
     "name": "stdout",
     "output_type": "stream",
     "text": [
      "CPU times: user 195 ms, sys: 218 ms, total: 413 ms\n",
      "Wall time: 5min 7s\n"
     ]
    }
   ],
   "source": [
    "%%time\n",
    "def f(user_id):\n",
    "    \n",
    "    histo_size = 5\n",
    "    \n",
    "    # --- Get recommendations\n",
    "    reco =  get_content_based_recommendations(user_id, reco_size, histo_size)\n",
    "    mean_vector_reco = get_mean_vector(reco.article_id)\n",
    "    \n",
    "    # --- Compute viewed mean_embedding VALID\n",
    "    viewed_valid = data_valid[data_valid.user_id == user_id]['article_id']\n",
    "    if len(viewed_valid) < 1: return -1, [], []\n",
    "    mean_vector_viewed_valid = get_mean_vector(viewed_valid.values)\n",
    "    \n",
    "    # --- Compute similarities\n",
    "    cosine_similarity_pred_viewed = cosine_similarity(mean_vector_reco.reshape(1, -1), mean_vector_viewed_valid.reshape(1, -1))\n",
    "    \n",
    "    # --- Return values\n",
    "    return (cosine_similarity_pred_viewed[0][0], list(viewed_valid.values), list(reco.article_id))\n",
    "    \n",
    "results = []\n",
    "user_ids = np.sort(data_valid.user_id.unique())\n",
    "\n",
    "with Pool(multiprocessing.cpu_count()) as p:\n",
    "    results.append(p.map(f, user_ids[:1000]))"
   ]
  },
  {
   "cell_type": "code",
   "execution_count": 97,
   "id": "ee9f9603-e27e-4b7b-b304-4255c3873e05",
   "metadata": {},
   "outputs": [
    {
     "name": "stdout",
     "output_type": "stream",
     "text": [
      "\n",
      "mean_cosine_similarity (de 1 à -1) entre 'recommended' & 'viewed_in_valid' = 0.52 (que l'on compare donc avec les 0.57 du Collaborative Filtering ALS)\n"
     ]
    }
   ],
   "source": [
    "mean_cosine_similarity = np.array([x for x,y,z in results[0]]).mean()\n",
    "mean_cosine_similarity\n",
    "\n",
    "print(f\"\\nmean_cosine_similarity (de 1 à -1) entre 'recommended' & 'viewed_in_valid' = {mean_cosine_similarity:.2f} (que l'on compare donc avec les 0.57 du Collaborative Filtering ALS)\")\n",
    "\n",
    "model_name = \"Content Based Filtering based on 5 last read articles\"\n",
    "scores_df.at[model_name,'mean_cosine_similarity'] = mean_cosine_similarity\n",
    "scores_df.at[model_name,'training_time'] = 0"
   ]
  },
  {
   "cell_type": "code",
   "execution_count": 98,
   "id": "db37b6b4-c07a-465d-9204-f13f1f5b8590",
   "metadata": {},
   "outputs": [
    {
     "name": "stdout",
     "output_type": "stream",
     "text": [
      "Mean Average Precision @ 5 (first 1000 users): 0.0000000000\n"
     ]
    }
   ],
   "source": [
    "y_true = [y for x,y,z in results[0]]\n",
    "y_reco = [z for x,y,z in results[0]]\n",
    "map_k = metrics.mapk(y_true, y_reco, k=reco_size)\n",
    "\n",
    "print(f\"Mean Average Precision @ {reco_size} (first 1000 users): {map_k:.10f}\")\n",
    "scores_df.at[model_name,'map@k'] = map_k"
   ]
  },
  {
   "cell_type": "markdown",
   "id": "7efb2c3b-c3a5-43d5-bccd-c9c365e6d62d",
   "metadata": {},
   "source": [
    "## 1.5 Revue des scores <a class=\"anchor\" id=\"candidates_scores\"></a> [⇪](#menu)"
   ]
  },
  {
   "cell_type": "code",
   "execution_count": 99,
   "id": "2611f3aa-aabe-40b8-b2ad-8fccf424f9f3",
   "metadata": {},
   "outputs": [
    {
     "data": {
      "text/html": [
       "<div>\n",
       "<style scoped>\n",
       "    .dataframe tbody tr th:only-of-type {\n",
       "        vertical-align: middle;\n",
       "    }\n",
       "\n",
       "    .dataframe tbody tr th {\n",
       "        vertical-align: top;\n",
       "    }\n",
       "\n",
       "    .dataframe thead th {\n",
       "        text-align: right;\n",
       "    }\n",
       "</style>\n",
       "<table border=\"1\" class=\"dataframe\">\n",
       "  <thead>\n",
       "    <tr style=\"text-align: right;\">\n",
       "      <th></th>\n",
       "      <th>mean_cosine_similarity</th>\n",
       "      <th>precision@k</th>\n",
       "      <th>map@k</th>\n",
       "      <th>ndcg@k</th>\n",
       "      <th>training_time</th>\n",
       "    </tr>\n",
       "    <tr>\n",
       "      <th>model_name</th>\n",
       "      <th></th>\n",
       "      <th></th>\n",
       "      <th></th>\n",
       "      <th></th>\n",
       "      <th></th>\n",
       "    </tr>\n",
       "  </thead>\n",
       "  <tbody>\n",
       "    <tr>\n",
       "      <th>Baseline model - Random</th>\n",
       "      <td>0.482212</td>\n",
       "      <td>NaN</td>\n",
       "      <td>0.0</td>\n",
       "      <td>NaN</td>\n",
       "      <td>0</td>\n",
       "    </tr>\n",
       "    <tr>\n",
       "      <th>AlternatingLeastSquares</th>\n",
       "      <td>0.566565</td>\n",
       "      <td>0.001334</td>\n",
       "      <td>0.001264</td>\n",
       "      <td>0.000829</td>\n",
       "      <td>174.144516</td>\n",
       "    </tr>\n",
       "    <tr>\n",
       "      <th>Content Based Filtering</th>\n",
       "      <td>0.576889</td>\n",
       "      <td>NaN</td>\n",
       "      <td>0.000207</td>\n",
       "      <td>NaN</td>\n",
       "      <td>0</td>\n",
       "    </tr>\n",
       "    <tr>\n",
       "      <th>AlternatingLeastSquares_with_BM25</th>\n",
       "      <td>0.510579</td>\n",
       "      <td>0.000005</td>\n",
       "      <td>0.0</td>\n",
       "      <td>0.000002</td>\n",
       "      <td>85.808545</td>\n",
       "    </tr>\n",
       "    <tr>\n",
       "      <th>LogisticMatrixFactorization</th>\n",
       "      <td>0.561812</td>\n",
       "      <td>0.000347</td>\n",
       "      <td>0.000133</td>\n",
       "      <td>0.000255</td>\n",
       "      <td>29.764094</td>\n",
       "    </tr>\n",
       "    <tr>\n",
       "      <th>BayesianPersonalizedRanking</th>\n",
       "      <td>0.596146</td>\n",
       "      <td>0.000604</td>\n",
       "      <td>0.000133</td>\n",
       "      <td>0.000379</td>\n",
       "      <td>9.348099</td>\n",
       "    </tr>\n",
       "    <tr>\n",
       "      <th>ItemItemRecommender</th>\n",
       "      <td>0.573461</td>\n",
       "      <td>0.001129</td>\n",
       "      <td>0.001564</td>\n",
       "      <td>0.00087</td>\n",
       "      <td>0.489394</td>\n",
       "    </tr>\n",
       "    <tr>\n",
       "      <th>Content Based Filtering based on last read article</th>\n",
       "      <td>0.412783</td>\n",
       "      <td>NaN</td>\n",
       "      <td>0.0006</td>\n",
       "      <td>NaN</td>\n",
       "      <td>0</td>\n",
       "    </tr>\n",
       "    <tr>\n",
       "      <th>Content Based Filtering based on 5 last read articles</th>\n",
       "      <td>0.518529</td>\n",
       "      <td>NaN</td>\n",
       "      <td>0.0</td>\n",
       "      <td>NaN</td>\n",
       "      <td>0</td>\n",
       "    </tr>\n",
       "  </tbody>\n",
       "</table>\n",
       "</div>"
      ],
      "text/plain": [
       "                                                   mean_cosine_similarity  \\\n",
       "model_name                                                                  \n",
       "Baseline model - Random                                          0.482212   \n",
       "AlternatingLeastSquares                                          0.566565   \n",
       "Content Based Filtering                                          0.576889   \n",
       "AlternatingLeastSquares_with_BM25                                0.510579   \n",
       "LogisticMatrixFactorization                                      0.561812   \n",
       "BayesianPersonalizedRanking                                      0.596146   \n",
       "ItemItemRecommender                                              0.573461   \n",
       "Content Based Filtering based on last read article               0.412783   \n",
       "Content Based Filtering based on 5 last read ar...               0.518529   \n",
       "\n",
       "                                                   precision@k     map@k  \\\n",
       "model_name                                                                 \n",
       "Baseline model - Random                                    NaN       0.0   \n",
       "AlternatingLeastSquares                               0.001334  0.001264   \n",
       "Content Based Filtering                                    NaN  0.000207   \n",
       "AlternatingLeastSquares_with_BM25                     0.000005       0.0   \n",
       "LogisticMatrixFactorization                           0.000347  0.000133   \n",
       "BayesianPersonalizedRanking                           0.000604  0.000133   \n",
       "ItemItemRecommender                                   0.001129  0.001564   \n",
       "Content Based Filtering based on last read article         NaN    0.0006   \n",
       "Content Based Filtering based on 5 last read ar...         NaN       0.0   \n",
       "\n",
       "                                                      ndcg@k training_time  \n",
       "model_name                                                                  \n",
       "Baseline model - Random                                  NaN             0  \n",
       "AlternatingLeastSquares                             0.000829    174.144516  \n",
       "Content Based Filtering                                  NaN             0  \n",
       "AlternatingLeastSquares_with_BM25                   0.000002     85.808545  \n",
       "LogisticMatrixFactorization                         0.000255     29.764094  \n",
       "BayesianPersonalizedRanking                         0.000379      9.348099  \n",
       "ItemItemRecommender                                  0.00087      0.489394  \n",
       "Content Based Filtering based on last read article       NaN             0  \n",
       "Content Based Filtering based on 5 last read ar...       NaN             0  "
      ]
     },
     "execution_count": 99,
     "metadata": {},
     "output_type": "execute_result"
    }
   ],
   "source": [
    "scores_df"
   ]
  },
  {
   "cell_type": "markdown",
   "id": "5406e5ac-6f16-4cef-a570-68276e8ad40a",
   "metadata": {},
   "source": [
    "---\n",
    "---\n",
    "# 2. Préparons le modèle Hybrid à déployer <a class=\"anchor\" id=\"prepare_hybrid\"></a> [⇪](#menu)"
   ]
  },
  {
   "cell_type": "markdown",
   "id": "baef5849-ef2f-4f26-bfc0-77950ff6bfd9",
   "metadata": {},
   "source": [
    "### Sauvegardons le modèle choisi"
   ]
  },
  {
   "cell_type": "code",
   "execution_count": null,
   "id": "e672702d-2908-4e7b-adc4-2488c6b5f167",
   "metadata": {},
   "outputs": [],
   "source": [
    "joblib.dump((model_als, train_sparse_user_item, article_lookup, user_lookup), pathlib.Path('azure_function','data','collaborative_recommender.pkl'))"
   ]
  },
  {
   "cell_type": "code",
   "execution_count": null,
   "id": "84735226-edd1-43f2-af5f-43a00388c24b",
   "metadata": {},
   "outputs": [],
   "source": [
    "joblib.dump((article_embedding, data_train), pathlib.Path('azure_function','data','content_based_recommender.pkl'))"
   ]
  },
  {
   "cell_type": "markdown",
   "id": "28a9ddf4-26e5-4eb0-9cb7-b0efa5d76b12",
   "metadata": {},
   "source": [
    "### Chargeons le modèle exporté"
   ]
  },
  {
   "cell_type": "code",
   "execution_count": null,
   "id": "12d80694-1957-4ecd-9a3b-f5db23c43711",
   "metadata": {},
   "outputs": [],
   "source": [
    "(reco_als, sparse_matrix, article_lookup, user_lookup) = joblib.load(pathlib.Path('azure_function','data','collaborative_recommender.pkl'))\n",
    "(article_embedding, data_train) = joblib.load(pathlib.Path('azure_function','data','content_based_recommender.pkl'))"
   ]
  },
  {
   "cell_type": "code",
   "execution_count": null,
   "id": "cab35b12-2e6d-492f-a9b6-329549c248d7",
   "metadata": {},
   "outputs": [],
   "source": [
    "user_id = 299017"
   ]
  },
  {
   "cell_type": "markdown",
   "id": "00b197e4-6e5e-45cf-afff-1b9466b3a3cc",
   "metadata": {},
   "source": [
    "### Préparons une fonction de recommandation pour le Collaborative filtering"
   ]
  },
  {
   "cell_type": "code",
   "execution_count": null,
   "id": "1ebed2a4-a4ab-4b58-abbe-937586feb9b5",
   "metadata": {},
   "outputs": [],
   "source": [
    "def get_collaborative_recommendations( user_id, reco_size ):\n",
    "    \n",
    "    user_codes = lookup_users(user_id)\n",
    "    codes, scores = reco_als.recommend(user_codes, sparse_matrix[user_codes], N=reco_size, filter_already_liked_items=True)\n",
    "    recommendations = pd.DataFrame(np.vstack((codes, scores)).T, columns=['article_id', 'score'])\n",
    "    recommendations['article_id'] = recommendations['article_id'].apply(lambda x: lookup_articles(x))\n",
    "    return recommendations\n",
    "\n",
    "candidates_collaborative_filtering = get_collaborative_recommendations(user_id, 5)\n",
    "candidates_collaborative_filtering"
   ]
  },
  {
   "cell_type": "markdown",
   "id": "70063520-7dbb-4973-8944-5294aef6dbc1",
   "metadata": {},
   "source": [
    "### Préparons une fonction de recommandation pour le Content Based Filtering"
   ]
  },
  {
   "cell_type": "code",
   "execution_count": null,
   "id": "9466a454-c839-4980-a443-238bd21a8d46",
   "metadata": {},
   "outputs": [],
   "source": [
    "def get_content_based_recommendations( user_id, reco_size=5 ):\n",
    "    print(user_id)\n",
    "    \n",
    "    # --- Compute viewed mean_embedding\n",
    "    viewed_train = data_train[data_train.user_id == user_id]['article_id']\n",
    "    # if len(viewed_train) < 1: return\n",
    "    mean_vector_viewed_train = get_mean_vector(viewed_train.values)\n",
    "    \n",
    "    # --- Compute cosine similarity the mean of the viewed articles and the rest\n",
    "    A = article_embedding.copy()\n",
    "    B = mean_vector_viewed_train\n",
    "    A[viewed_train.values] = -B # Cancel already read articles\n",
    "    cosine = cosine_similarity(A, B.reshape(1, -1))\n",
    "    \n",
    "    recommendations =  recommend_articles(cosine, reco_size)\n",
    "    return recommendations\n",
    "    \n",
    "candidates_content_based_filtering = get_content_based_recommendations(user_id, 5)\n",
    "candidates_content_based_filtering"
   ]
  },
  {
   "cell_type": "markdown",
   "id": "bba1e27e-1dc1-495d-82e8-4f166d81491f",
   "metadata": {},
   "source": [
    "### Préparons une fonction de recommandation unissant le Collaborative Filtering et le Content Based Filtering"
   ]
  },
  {
   "cell_type": "code",
   "execution_count": null,
   "id": "6256c909-0e30-4458-86be-b5ede9548e7d",
   "metadata": {},
   "outputs": [],
   "source": [
    "def get_reco( user_id, reco_size ):\n",
    "    \n",
    "    # Get Collaborative Filtering Recommendations\n",
    "    candidates_collaborative_filtering = get_collaborative_recommendations(user_id, reco_size)\n",
    "    \n",
    "    # Get Content Based Recommendations\n",
    "    candidates_content_based_filtering = get_content_based_recommendations(user_id, reco_size)\n",
    "    \n",
    "    # Select some of them at random\n",
    "    cf_size, cbf_size = math.floor(reco_size/2), math.ceil(reco_size/2)  # 1/2 vs 1/2 avec priorité cbf\n",
    "    #cf_size, cbf_size = round(reco_size/3*1), round(reco_size/3*2)  # 1/3 vs 2/3\n",
    "    p_cf = candidates_collaborative_filtering.sample(cf_size)\n",
    "    p_cbf = candidates_content_based_filtering.sample(cbf_size)\n",
    "    \n",
    "    # Return the selected articles_id\n",
    "    return np.concatenate((p_cf['article_id'].values, p_cbf['article_id'].values)). astype(int)\n",
    "\n",
    "get_reco( user_id, 5 )"
   ]
  },
  {
   "cell_type": "code",
   "execution_count": null,
   "id": "8544f8f2-f9e0-44c6-841a-75d57fac1240",
   "metadata": {},
   "outputs": [],
   "source": []
  },
  {
   "cell_type": "code",
   "execution_count": null,
   "id": "deb5c7dd-6014-445e-918c-e53d63722094",
   "metadata": {},
   "outputs": [],
   "source": []
  },
  {
   "cell_type": "code",
   "execution_count": null,
   "id": "ab1ffc30-a3c2-4c0f-8518-4f1c47314c3a",
   "metadata": {},
   "outputs": [],
   "source": []
  },
  {
   "cell_type": "markdown",
   "id": "3e8bafa9-1642-4569-9e94-3bc9a04543a3",
   "metadata": {},
   "source": [
    "---\n",
    "---\n",
    "### Quelques préparatifs pour la présentation"
   ]
  },
  {
   "cell_type": "code",
   "execution_count": 101,
   "id": "bf2a411e-3f8a-472f-b204-9d940184c46c",
   "metadata": {},
   "outputs": [
    {
     "data": {
      "text/html": [
       "<div>\n",
       "<style scoped>\n",
       "    .dataframe tbody tr th:only-of-type {\n",
       "        vertical-align: middle;\n",
       "    }\n",
       "\n",
       "    .dataframe tbody tr th {\n",
       "        vertical-align: top;\n",
       "    }\n",
       "\n",
       "    .dataframe thead th {\n",
       "        text-align: right;\n",
       "    }\n",
       "</style>\n",
       "<table border=\"1\" class=\"dataframe\">\n",
       "  <thead>\n",
       "    <tr style=\"text-align: right;\">\n",
       "      <th></th>\n",
       "      <th>mean_cosine_similarity</th>\n",
       "      <th>precision@k</th>\n",
       "      <th>map@k</th>\n",
       "      <th>ndcg@k</th>\n",
       "      <th>training_time</th>\n",
       "    </tr>\n",
       "    <tr>\n",
       "      <th>model_name</th>\n",
       "      <th></th>\n",
       "      <th></th>\n",
       "      <th></th>\n",
       "      <th></th>\n",
       "      <th></th>\n",
       "    </tr>\n",
       "  </thead>\n",
       "  <tbody>\n",
       "    <tr>\n",
       "      <th>Baseline model - Random</th>\n",
       "      <td>0.482212</td>\n",
       "      <td>NaN</td>\n",
       "      <td>0.0</td>\n",
       "      <td>NaN</td>\n",
       "      <td>0</td>\n",
       "    </tr>\n",
       "    <tr>\n",
       "      <th>AlternatingLeastSquares</th>\n",
       "      <td>0.566565</td>\n",
       "      <td>0.001334</td>\n",
       "      <td>0.001264</td>\n",
       "      <td>0.000829</td>\n",
       "      <td>174.144516</td>\n",
       "    </tr>\n",
       "    <tr>\n",
       "      <th>Content Based Filtering</th>\n",
       "      <td>0.576889</td>\n",
       "      <td>NaN</td>\n",
       "      <td>0.000207</td>\n",
       "      <td>NaN</td>\n",
       "      <td>0</td>\n",
       "    </tr>\n",
       "    <tr>\n",
       "      <th>AlternatingLeastSquares_with_BM25</th>\n",
       "      <td>0.510579</td>\n",
       "      <td>0.000005</td>\n",
       "      <td>0.0</td>\n",
       "      <td>0.000002</td>\n",
       "      <td>85.808545</td>\n",
       "    </tr>\n",
       "    <tr>\n",
       "      <th>LogisticMatrixFactorization</th>\n",
       "      <td>0.561812</td>\n",
       "      <td>0.000347</td>\n",
       "      <td>0.000133</td>\n",
       "      <td>0.000255</td>\n",
       "      <td>29.764094</td>\n",
       "    </tr>\n",
       "    <tr>\n",
       "      <th>BayesianPersonalizedRanking</th>\n",
       "      <td>0.596146</td>\n",
       "      <td>0.000604</td>\n",
       "      <td>0.000133</td>\n",
       "      <td>0.000379</td>\n",
       "      <td>9.348099</td>\n",
       "    </tr>\n",
       "    <tr>\n",
       "      <th>ItemItemRecommender</th>\n",
       "      <td>0.573461</td>\n",
       "      <td>0.001129</td>\n",
       "      <td>0.001564</td>\n",
       "      <td>0.00087</td>\n",
       "      <td>0.489394</td>\n",
       "    </tr>\n",
       "    <tr>\n",
       "      <th>Content Based Filtering based on last read article</th>\n",
       "      <td>0.412783</td>\n",
       "      <td>NaN</td>\n",
       "      <td>0.0006</td>\n",
       "      <td>NaN</td>\n",
       "      <td>0</td>\n",
       "    </tr>\n",
       "    <tr>\n",
       "      <th>Content Based Filtering based on 5 last read articles</th>\n",
       "      <td>0.518529</td>\n",
       "      <td>NaN</td>\n",
       "      <td>0.0</td>\n",
       "      <td>NaN</td>\n",
       "      <td>0</td>\n",
       "    </tr>\n",
       "  </tbody>\n",
       "</table>\n",
       "</div>"
      ],
      "text/plain": [
       "                                                   mean_cosine_similarity  \\\n",
       "model_name                                                                  \n",
       "Baseline model - Random                                          0.482212   \n",
       "AlternatingLeastSquares                                          0.566565   \n",
       "Content Based Filtering                                          0.576889   \n",
       "AlternatingLeastSquares_with_BM25                                0.510579   \n",
       "LogisticMatrixFactorization                                      0.561812   \n",
       "BayesianPersonalizedRanking                                      0.596146   \n",
       "ItemItemRecommender                                              0.573461   \n",
       "Content Based Filtering based on last read article               0.412783   \n",
       "Content Based Filtering based on 5 last read ar...               0.518529   \n",
       "\n",
       "                                                   precision@k     map@k  \\\n",
       "model_name                                                                 \n",
       "Baseline model - Random                                    NaN       0.0   \n",
       "AlternatingLeastSquares                               0.001334  0.001264   \n",
       "Content Based Filtering                                    NaN  0.000207   \n",
       "AlternatingLeastSquares_with_BM25                     0.000005       0.0   \n",
       "LogisticMatrixFactorization                           0.000347  0.000133   \n",
       "BayesianPersonalizedRanking                           0.000604  0.000133   \n",
       "ItemItemRecommender                                   0.001129  0.001564   \n",
       "Content Based Filtering based on last read article         NaN    0.0006   \n",
       "Content Based Filtering based on 5 last read ar...         NaN       0.0   \n",
       "\n",
       "                                                      ndcg@k training_time  \n",
       "model_name                                                                  \n",
       "Baseline model - Random                                  NaN             0  \n",
       "AlternatingLeastSquares                             0.000829    174.144516  \n",
       "Content Based Filtering                                  NaN             0  \n",
       "AlternatingLeastSquares_with_BM25                   0.000002     85.808545  \n",
       "LogisticMatrixFactorization                         0.000255     29.764094  \n",
       "BayesianPersonalizedRanking                         0.000379      9.348099  \n",
       "ItemItemRecommender                                  0.00087      0.489394  \n",
       "Content Based Filtering based on last read article       NaN             0  \n",
       "Content Based Filtering based on 5 last read ar...       NaN             0  "
      ]
     },
     "execution_count": 101,
     "metadata": {},
     "output_type": "execute_result"
    }
   ],
   "source": [
    "scores_df"
   ]
  },
  {
   "cell_type": "code",
   "execution_count": 102,
   "id": "f52770d3-32f0-49bc-ae52-29ba71010d57",
   "metadata": {},
   "outputs": [
    {
     "data": {
      "text/html": [
       "<div>\n",
       "<style scoped>\n",
       "    .dataframe tbody tr th:only-of-type {\n",
       "        vertical-align: middle;\n",
       "    }\n",
       "\n",
       "    .dataframe tbody tr th {\n",
       "        vertical-align: top;\n",
       "    }\n",
       "\n",
       "    .dataframe thead th {\n",
       "        text-align: right;\n",
       "    }\n",
       "</style>\n",
       "<table border=\"1\" class=\"dataframe\">\n",
       "  <thead>\n",
       "    <tr style=\"text-align: right;\">\n",
       "      <th></th>\n",
       "      <th>mean_cosine_similarity</th>\n",
       "      <th>precision@k</th>\n",
       "      <th>map@k</th>\n",
       "      <th>ndcg@k</th>\n",
       "      <th>training_time</th>\n",
       "    </tr>\n",
       "    <tr>\n",
       "      <th>model_name</th>\n",
       "      <th></th>\n",
       "      <th></th>\n",
       "      <th></th>\n",
       "      <th></th>\n",
       "      <th></th>\n",
       "    </tr>\n",
       "  </thead>\n",
       "  <tbody>\n",
       "    <tr>\n",
       "      <th>Baseline model - Random</th>\n",
       "      <td>0.482212</td>\n",
       "      <td>NaN</td>\n",
       "      <td>0.0</td>\n",
       "      <td>NaN</td>\n",
       "      <td>0</td>\n",
       "    </tr>\n",
       "  </tbody>\n",
       "</table>\n",
       "</div>"
      ],
      "text/plain": [
       "                        mean_cosine_similarity precision@k map@k ndcg@k  \\\n",
       "model_name                                                                \n",
       "Baseline model - Random               0.482212         NaN   0.0    NaN   \n",
       "\n",
       "                        training_time  \n",
       "model_name                             \n",
       "Baseline model - Random             0  "
      ]
     },
     "execution_count": 102,
     "metadata": {},
     "output_type": "execute_result"
    }
   ],
   "source": [
    "scores_df[ scores_df.index.str.contains('Random')]"
   ]
  },
  {
   "cell_type": "code",
   "execution_count": 103,
   "id": "51506de1-f9e6-4729-b6f2-f5dd869807ab",
   "metadata": {},
   "outputs": [
    {
     "data": {
      "text/html": [
       "<div>\n",
       "<style scoped>\n",
       "    .dataframe tbody tr th:only-of-type {\n",
       "        vertical-align: middle;\n",
       "    }\n",
       "\n",
       "    .dataframe tbody tr th {\n",
       "        vertical-align: top;\n",
       "    }\n",
       "\n",
       "    .dataframe thead th {\n",
       "        text-align: right;\n",
       "    }\n",
       "</style>\n",
       "<table border=\"1\" class=\"dataframe\">\n",
       "  <thead>\n",
       "    <tr style=\"text-align: right;\">\n",
       "      <th></th>\n",
       "      <th>mean_cosine_similarity</th>\n",
       "      <th>precision@k</th>\n",
       "      <th>map@k</th>\n",
       "      <th>ndcg@k</th>\n",
       "      <th>training_time</th>\n",
       "    </tr>\n",
       "    <tr>\n",
       "      <th>model_name</th>\n",
       "      <th></th>\n",
       "      <th></th>\n",
       "      <th></th>\n",
       "      <th></th>\n",
       "      <th></th>\n",
       "    </tr>\n",
       "  </thead>\n",
       "  <tbody>\n",
       "    <tr>\n",
       "      <th>Baseline model - Random</th>\n",
       "      <td>0.482212</td>\n",
       "      <td>NaN</td>\n",
       "      <td>0.0</td>\n",
       "      <td>NaN</td>\n",
       "      <td>0</td>\n",
       "    </tr>\n",
       "    <tr>\n",
       "      <th>Content Based Filtering</th>\n",
       "      <td>0.576889</td>\n",
       "      <td>NaN</td>\n",
       "      <td>0.000207</td>\n",
       "      <td>NaN</td>\n",
       "      <td>0</td>\n",
       "    </tr>\n",
       "    <tr>\n",
       "      <th>Content Based Filtering based on last read article</th>\n",
       "      <td>0.412783</td>\n",
       "      <td>NaN</td>\n",
       "      <td>0.0006</td>\n",
       "      <td>NaN</td>\n",
       "      <td>0</td>\n",
       "    </tr>\n",
       "    <tr>\n",
       "      <th>Content Based Filtering based on 5 last read articles</th>\n",
       "      <td>0.518529</td>\n",
       "      <td>NaN</td>\n",
       "      <td>0.0</td>\n",
       "      <td>NaN</td>\n",
       "      <td>0</td>\n",
       "    </tr>\n",
       "  </tbody>\n",
       "</table>\n",
       "</div>"
      ],
      "text/plain": [
       "                                                   mean_cosine_similarity  \\\n",
       "model_name                                                                  \n",
       "Baseline model - Random                                          0.482212   \n",
       "Content Based Filtering                                          0.576889   \n",
       "Content Based Filtering based on last read article               0.412783   \n",
       "Content Based Filtering based on 5 last read ar...               0.518529   \n",
       "\n",
       "                                                   precision@k     map@k  \\\n",
       "model_name                                                                 \n",
       "Baseline model - Random                                    NaN       0.0   \n",
       "Content Based Filtering                                    NaN  0.000207   \n",
       "Content Based Filtering based on last read article         NaN    0.0006   \n",
       "Content Based Filtering based on 5 last read ar...         NaN       0.0   \n",
       "\n",
       "                                                   ndcg@k training_time  \n",
       "model_name                                                               \n",
       "Baseline model - Random                               NaN             0  \n",
       "Content Based Filtering                               NaN             0  \n",
       "Content Based Filtering based on last read article    NaN             0  \n",
       "Content Based Filtering based on 5 last read ar...    NaN             0  "
      ]
     },
     "execution_count": 103,
     "metadata": {},
     "output_type": "execute_result"
    }
   ],
   "source": [
    "scores_df[ (scores_df.index.str.contains('Based')) | (scores_df.index.str.contains('Random'))]"
   ]
  },
  {
   "cell_type": "code",
   "execution_count": 106,
   "id": "58519686-d169-4ebc-917e-6479ac3ee6dc",
   "metadata": {},
   "outputs": [
    {
     "data": {
      "text/html": [
       "<div>\n",
       "<style scoped>\n",
       "    .dataframe tbody tr th:only-of-type {\n",
       "        vertical-align: middle;\n",
       "    }\n",
       "\n",
       "    .dataframe tbody tr th {\n",
       "        vertical-align: top;\n",
       "    }\n",
       "\n",
       "    .dataframe thead th {\n",
       "        text-align: right;\n",
       "    }\n",
       "</style>\n",
       "<table border=\"1\" class=\"dataframe\">\n",
       "  <thead>\n",
       "    <tr style=\"text-align: right;\">\n",
       "      <th></th>\n",
       "      <th>mean_cosine_similarity</th>\n",
       "      <th>precision@k</th>\n",
       "      <th>map@k</th>\n",
       "      <th>ndcg@k</th>\n",
       "      <th>training_time</th>\n",
       "    </tr>\n",
       "    <tr>\n",
       "      <th>model_name</th>\n",
       "      <th></th>\n",
       "      <th></th>\n",
       "      <th></th>\n",
       "      <th></th>\n",
       "      <th></th>\n",
       "    </tr>\n",
       "  </thead>\n",
       "  <tbody>\n",
       "    <tr>\n",
       "      <th>Baseline model - Random</th>\n",
       "      <td>0.482212</td>\n",
       "      <td>NaN</td>\n",
       "      <td>0.0</td>\n",
       "      <td>NaN</td>\n",
       "      <td>0</td>\n",
       "    </tr>\n",
       "    <tr>\n",
       "      <th>AlternatingLeastSquares</th>\n",
       "      <td>0.566565</td>\n",
       "      <td>0.001334</td>\n",
       "      <td>0.001264</td>\n",
       "      <td>0.000829</td>\n",
       "      <td>174.144516</td>\n",
       "    </tr>\n",
       "    <tr>\n",
       "      <th>AlternatingLeastSquares_with_BM25</th>\n",
       "      <td>0.510579</td>\n",
       "      <td>0.000005</td>\n",
       "      <td>0.0</td>\n",
       "      <td>0.000002</td>\n",
       "      <td>85.808545</td>\n",
       "    </tr>\n",
       "    <tr>\n",
       "      <th>LogisticMatrixFactorization</th>\n",
       "      <td>0.561812</td>\n",
       "      <td>0.000347</td>\n",
       "      <td>0.000133</td>\n",
       "      <td>0.000255</td>\n",
       "      <td>29.764094</td>\n",
       "    </tr>\n",
       "    <tr>\n",
       "      <th>BayesianPersonalizedRanking</th>\n",
       "      <td>0.596146</td>\n",
       "      <td>0.000604</td>\n",
       "      <td>0.000133</td>\n",
       "      <td>0.000379</td>\n",
       "      <td>9.348099</td>\n",
       "    </tr>\n",
       "    <tr>\n",
       "      <th>ItemItemRecommender</th>\n",
       "      <td>0.573461</td>\n",
       "      <td>0.001129</td>\n",
       "      <td>0.001564</td>\n",
       "      <td>0.00087</td>\n",
       "      <td>0.489394</td>\n",
       "    </tr>\n",
       "    <tr>\n",
       "      <th>Content Based Filtering based on last read article</th>\n",
       "      <td>0.412783</td>\n",
       "      <td>NaN</td>\n",
       "      <td>0.0006</td>\n",
       "      <td>NaN</td>\n",
       "      <td>0</td>\n",
       "    </tr>\n",
       "  </tbody>\n",
       "</table>\n",
       "</div>"
      ],
      "text/plain": [
       "                                                   mean_cosine_similarity  \\\n",
       "model_name                                                                  \n",
       "Baseline model - Random                                          0.482212   \n",
       "AlternatingLeastSquares                                          0.566565   \n",
       "AlternatingLeastSquares_with_BM25                                0.510579   \n",
       "LogisticMatrixFactorization                                      0.561812   \n",
       "BayesianPersonalizedRanking                                      0.596146   \n",
       "ItemItemRecommender                                              0.573461   \n",
       "Content Based Filtering based on last read article               0.412783   \n",
       "\n",
       "                                                   precision@k     map@k  \\\n",
       "model_name                                                                 \n",
       "Baseline model - Random                                    NaN       0.0   \n",
       "AlternatingLeastSquares                               0.001334  0.001264   \n",
       "AlternatingLeastSquares_with_BM25                     0.000005       0.0   \n",
       "LogisticMatrixFactorization                           0.000347  0.000133   \n",
       "BayesianPersonalizedRanking                           0.000604  0.000133   \n",
       "ItemItemRecommender                                   0.001129  0.001564   \n",
       "Content Based Filtering based on last read article         NaN    0.0006   \n",
       "\n",
       "                                                      ndcg@k training_time  \n",
       "model_name                                                                  \n",
       "Baseline model - Random                                  NaN             0  \n",
       "AlternatingLeastSquares                             0.000829    174.144516  \n",
       "AlternatingLeastSquares_with_BM25                   0.000002     85.808545  \n",
       "LogisticMatrixFactorization                         0.000255     29.764094  \n",
       "BayesianPersonalizedRanking                         0.000379      9.348099  \n",
       "ItemItemRecommender                                  0.00087      0.489394  \n",
       "Content Based Filtering based on last read article       NaN             0  "
      ]
     },
     "execution_count": 106,
     "metadata": {},
     "output_type": "execute_result"
    }
   ],
   "source": [
    "scores_df[ (~scores_df.index.str.contains('Based')) | (scores_df.index.str.contains('Random')) | (scores_df.index.str.contains('on last read article'))]"
   ]
  },
  {
   "cell_type": "code",
   "execution_count": null,
   "id": "f3e43dcf-93e8-47db-8b4e-00d4c268ca9b",
   "metadata": {},
   "outputs": [],
   "source": [
    "X = scores_df.copy()\n",
    "X.rename(index={\n",
    "    'Content Based Filtering - Random': 'Content Based Filtering [random]',\n",
    "    'Content Based Filtering': 'Content Based Filtering [full history]',\n",
    "    'Content Based Filtering based on last read article': 'Content Based Filtering [last article]'\n",
    "}, inplace=True)\n",
    "X"
   ]
  },
  {
   "cell_type": "code",
   "execution_count": null,
   "id": "37a5c040-9b13-4c48-9745-c89cb8050dc0",
   "metadata": {},
   "outputs": [],
   "source": [
    "X.index = pd.Categorical(X.index, [\n",
    "    'Content Based Filtering [random]',\n",
    "    'Content Based Filtering [full history]',\n",
    "    'Content Based Filtering [last article]',\n",
    "    'AlternatingLeastSquares_with_BM25',\n",
    "    'AlternatingLeastSquares',\n",
    "    'LogisticMatrixFactorization',\n",
    "    'BayesianPersonalizedRanking',\n",
    "    'ItemItemRecommender',\n",
    "])\n",
    "\n",
    "X.sort_index()"
   ]
  },
  {
   "cell_type": "code",
   "execution_count": null,
   "id": "dc3250f1-be6b-40f3-ad2e-6146c9eb9c27",
   "metadata": {},
   "outputs": [],
   "source": []
  }
 ],
 "metadata": {
  "kernelspec": {
   "display_name": "venvP9",
   "language": "python",
   "name": "venvp9"
  },
  "language_info": {
   "codemirror_mode": {
    "name": "ipython",
    "version": 3
   },
   "file_extension": ".py",
   "mimetype": "text/x-python",
   "name": "python",
   "nbconvert_exporter": "python",
   "pygments_lexer": "ipython3",
   "version": "3.8.10"
  }
 },
 "nbformat": 4,
 "nbformat_minor": 5
}
