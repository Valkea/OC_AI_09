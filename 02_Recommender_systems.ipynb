{
 "cells": [
  {
   "cell_type": "code",
   "execution_count": 1,
   "id": "93abafbe-0ac7-40b0-ade8-96c53aab4356",
   "metadata": {},
   "outputs": [
    {
     "name": "stderr",
     "output_type": "stream",
     "text": [
      "/home/valkea/Dev/OpenClassrooms/Projets_AI/P9/venvP9/lib/python3.8/site-packages/tqdm/auto.py:22: TqdmWarning: IProgress not found. Please update jupyter and ipywidgets. See https://ipywidgets.readthedocs.io/en/stable/user_install.html\n",
      "  from .autonotebook import tqdm as notebook_tqdm\n"
     ]
    }
   ],
   "source": [
    "import time\n",
    "import pickle \n",
    "import random\n",
    "\n",
    "import pandas as pd\n",
    "import numpy as np\n",
    "from numpy.linalg import norm\n",
    "\n",
    "import scipy.sparse as sparse\n",
    "from sklearn.metrics.pairwise import cosine_similarity\n",
    "\n",
    "import implicit\n",
    "from implicit.nearest_neighbours import bm25_weight\n",
    "from implicit import evaluation\n",
    "\n",
    "import ml_metrics\n",
    "\n",
    "random_seed = 0\n",
    "np.random.seed(random_seed)"
   ]
  },
  {
   "cell_type": "code",
   "execution_count": 2,
   "id": "ca81082c-df01-4957-a342-1f1065d0f7ba",
   "metadata": {},
   "outputs": [
    {
     "data": {
      "text/html": [
       "<div>\n",
       "<style scoped>\n",
       "    .dataframe tbody tr th:only-of-type {\n",
       "        vertical-align: middle;\n",
       "    }\n",
       "\n",
       "    .dataframe tbody tr th {\n",
       "        vertical-align: top;\n",
       "    }\n",
       "\n",
       "    .dataframe thead th {\n",
       "        text-align: right;\n",
       "    }\n",
       "</style>\n",
       "<table border=\"1\" class=\"dataframe\">\n",
       "  <thead>\n",
       "    <tr style=\"text-align: right;\">\n",
       "      <th></th>\n",
       "      <th>mean_cosine_similarity</th>\n",
       "      <th>precision@k</th>\n",
       "      <th>map@k</th>\n",
       "      <th>ndcg@k</th>\n",
       "      <th>training_time</th>\n",
       "    </tr>\n",
       "    <tr>\n",
       "      <th>model_name</th>\n",
       "      <th></th>\n",
       "      <th></th>\n",
       "      <th></th>\n",
       "      <th></th>\n",
       "      <th></th>\n",
       "    </tr>\n",
       "  </thead>\n",
       "  <tbody>\n",
       "  </tbody>\n",
       "</table>\n",
       "</div>"
      ],
      "text/plain": [
       "Empty DataFrame\n",
       "Columns: [mean_cosine_similarity, precision@k, map@k, ndcg@k, training_time]\n",
       "Index: []"
      ]
     },
     "execution_count": 2,
     "metadata": {},
     "output_type": "execute_result"
    }
   ],
   "source": [
    "scores_df = pd.DataFrame([], columns=['model_name', 'mean_cosine_similarity', 'precision@k', 'map@k', 'ndcg@k', 'training_time'])\n",
    "scores_df.set_index('model_name', inplace=True)\n",
    "scores_df.head()"
   ]
  },
  {
   "cell_type": "markdown",
   "id": "cad39195-a13c-4fef-b6db-357ba86c628d",
   "metadata": {},
   "source": [
    "### Chargeons les jeux de données `training` et `validation`"
   ]
  },
  {
   "cell_type": "code",
   "execution_count": 3,
   "id": "da144555-b437-4d9f-b42d-60de186a8588",
   "metadata": {},
   "outputs": [
    {
     "data": {
      "text/html": [
       "<div>\n",
       "<style scoped>\n",
       "    .dataframe tbody tr th:only-of-type {\n",
       "        vertical-align: middle;\n",
       "    }\n",
       "\n",
       "    .dataframe tbody tr th {\n",
       "        vertical-align: top;\n",
       "    }\n",
       "\n",
       "    .dataframe thead th {\n",
       "        text-align: right;\n",
       "    }\n",
       "</style>\n",
       "<table border=\"1\" class=\"dataframe\">\n",
       "  <thead>\n",
       "    <tr style=\"text-align: right;\">\n",
       "      <th></th>\n",
       "      <th>user_id</th>\n",
       "      <th>article_id</th>\n",
       "      <th>score</th>\n",
       "    </tr>\n",
       "  </thead>\n",
       "  <tbody>\n",
       "    <tr>\n",
       "      <th>0</th>\n",
       "      <td>59</td>\n",
       "      <td>234853</td>\n",
       "      <td>0.214286</td>\n",
       "    </tr>\n",
       "    <tr>\n",
       "      <th>1</th>\n",
       "      <td>79</td>\n",
       "      <td>159359</td>\n",
       "      <td>0.215827</td>\n",
       "    </tr>\n",
       "    <tr>\n",
       "      <th>2</th>\n",
       "      <td>154</td>\n",
       "      <td>96663</td>\n",
       "      <td>0.145631</td>\n",
       "    </tr>\n",
       "  </tbody>\n",
       "</table>\n",
       "</div>"
      ],
      "text/plain": [
       "   user_id  article_id     score\n",
       "0       59      234853  0.214286\n",
       "1       79      159359  0.215827\n",
       "2      154       96663  0.145631"
      ]
     },
     "metadata": {},
     "output_type": "display_data"
    },
    {
     "data": {
      "text/plain": [
       "(1577295, 3)"
      ]
     },
     "metadata": {},
     "output_type": "display_data"
    }
   ],
   "source": [
    "data_train = pd.read_csv('data/data_train.csv')\n",
    "display(data_train.head(3), data_train.shape)"
   ]
  },
  {
   "cell_type": "code",
   "execution_count": 4,
   "id": "44a3e34b-21f9-4a36-b5fb-e5542943278f",
   "metadata": {},
   "outputs": [
    {
     "data": {
      "text/html": [
       "<div>\n",
       "<style scoped>\n",
       "    .dataframe tbody tr th:only-of-type {\n",
       "        vertical-align: middle;\n",
       "    }\n",
       "\n",
       "    .dataframe tbody tr th {\n",
       "        vertical-align: top;\n",
       "    }\n",
       "\n",
       "    .dataframe thead th {\n",
       "        text-align: right;\n",
       "    }\n",
       "</style>\n",
       "<table border=\"1\" class=\"dataframe\">\n",
       "  <thead>\n",
       "    <tr style=\"text-align: right;\">\n",
       "      <th></th>\n",
       "      <th>user_id</th>\n",
       "      <th>article_id</th>\n",
       "      <th>score</th>\n",
       "    </tr>\n",
       "  </thead>\n",
       "  <tbody>\n",
       "    <tr>\n",
       "      <th>0</th>\n",
       "      <td>279777</td>\n",
       "      <td>96210</td>\n",
       "      <td>0.109489</td>\n",
       "    </tr>\n",
       "    <tr>\n",
       "      <th>1</th>\n",
       "      <td>29634</td>\n",
       "      <td>284773</td>\n",
       "      <td>0.469863</td>\n",
       "    </tr>\n",
       "    <tr>\n",
       "      <th>2</th>\n",
       "      <td>55</td>\n",
       "      <td>162605</td>\n",
       "      <td>1.324273</td>\n",
       "    </tr>\n",
       "  </tbody>\n",
       "</table>\n",
       "</div>"
      ],
      "text/plain": [
       "   user_id  article_id     score\n",
       "0   279777       96210  0.109489\n",
       "1    29634      284773  0.469863\n",
       "2       55      162605  1.324273"
      ]
     },
     "metadata": {},
     "output_type": "display_data"
    },
    {
     "data": {
      "text/plain": [
       "(241105, 3)"
      ]
     },
     "metadata": {},
     "output_type": "display_data"
    }
   ],
   "source": [
    "data_valid = pd.read_csv('data/data_valid.csv')\n",
    "display(data_valid.head(3), data_valid.shape)"
   ]
  },
  {
   "cell_type": "markdown",
   "id": "47cac9e4-95f4-47c1-a3b9-a5bdf0de5b7e",
   "metadata": {},
   "source": [
    "### Chargons les embeddings"
   ]
  },
  {
   "cell_type": "code",
   "execution_count": 5,
   "id": "ede8ce6e-3345-4a28-8d28-b0921f0bb3bb",
   "metadata": {},
   "outputs": [],
   "source": [
    "file = open('data/news-portal-user-interactions-by-globocom/articles_embeddings.pickle',\"rb\")\n",
    "article_embedding = pickle.load(file)"
   ]
  },
  {
   "cell_type": "code",
   "execution_count": 6,
   "id": "5a882fa2-99bc-4093-b048-f23687abf86f",
   "metadata": {},
   "outputs": [
    {
     "data": {
      "text/plain": [
       "array([[-0.16118301, -0.95723313, -0.13794445, ..., -0.231686  ,\n",
       "         0.5974159 ,  0.40962312],\n",
       "       [-0.52321565, -0.974058  ,  0.73860806, ...,  0.18282819,\n",
       "         0.39708954, -0.83436364],\n",
       "       [-0.61961854, -0.9729604 , -0.20736018, ..., -0.44758022,\n",
       "         0.8059317 , -0.28528407],\n",
       "       [-0.7408434 , -0.97574896,  0.39169782, ..., -0.5378381 ,\n",
       "         0.24354108, -0.8853287 ],\n",
       "       [-0.2790515 , -0.97231525,  0.68537366, ..., -0.42406067,\n",
       "         0.18548405, -0.5802922 ]], dtype=float32)"
      ]
     },
     "metadata": {},
     "output_type": "display_data"
    },
    {
     "data": {
      "text/plain": [
       "(364047, 250)"
      ]
     },
     "metadata": {},
     "output_type": "display_data"
    }
   ],
   "source": [
    "display(article_embedding[:5], article_embedding.shape)"
   ]
  },
  {
   "cell_type": "markdown",
   "id": "ac00460b-6aa7-4645-8bed-19740e6f9d21",
   "metadata": {},
   "source": [
    "# 1. Candidate generation"
   ]
  },
  {
   "cell_type": "markdown",
   "id": "4bf5b93a-6fe0-49ea-84a8-df68be85face",
   "metadata": {},
   "source": [
    "## 1.1 Collaborative Filtering"
   ]
  },
  {
   "cell_type": "markdown",
   "id": "f91970ea-b255-476b-baa8-a6848a5c9db2",
   "metadata": {},
   "source": [
    "### Préparons une sparse matrix pour entrainer nos algorithmes de collaborative filtering"
   ]
  },
  {
   "cell_type": "code",
   "execution_count": 7,
   "id": "308c5a47-bca5-446e-882c-dac681c6f40d",
   "metadata": {},
   "outputs": [
    {
     "data": {
      "text/plain": [
       "(297141, 28002)"
      ]
     },
     "metadata": {},
     "output_type": "display_data"
    },
    {
     "data": {
      "text/plain": [
       "(84041, 7576)"
      ]
     },
     "metadata": {},
     "output_type": "display_data"
    }
   ],
   "source": [
    "# --- Train ---\n",
    "data_train['user_cat_code'] = data_train['user_id'].astype('category').cat.codes\n",
    "data_train['article_cat_code'] = data_train['article_id'].astype('category').cat.codes\n",
    "\n",
    "# train_sparse_item_user = sparse.csr_matrix((data_train['score'].astype(float), (data_train['article_cat_code'], data_train['user_cat_code'])))\n",
    "train_sparse_user_item = sparse.csr_matrix((data_train['score'].astype(float), (data_train['user_cat_code'], data_train['article_cat_code'])))\n",
    "display(train_sparse_user_item.shape)\n",
    "\n",
    "# --- Validation ---\n",
    "data_valid['user_cat_code'] = data_valid['user_id'].astype('category').cat.codes\n",
    "data_valid['article_cat_code'] = data_valid['article_id'].astype('category').cat.codes\n",
    "\n",
    "# valid_sparse_item_user = sparse.csr_matrix((data_valid['score'].astype(float), (data_valid['article_cat_code'], data_valid['user_cat_code'])))\n",
    "valid_sparse_user_item = sparse.csr_matrix((data_valid['score'].astype(float), (data_valid['user_cat_code'], data_valid['article_cat_code'])))\n",
    "\n",
    "display(valid_sparse_user_item.shape)"
   ]
  },
  {
   "cell_type": "raw",
   "id": "77108fa9-5c0e-4999-a4d7-659c825c2db8",
   "metadata": {},
   "source": [
    "sparse_user_item.eliminate_zeros()\n",
    "sparse_user_item.data = np.ones(len(sparse_user_item.data))\n",
    "display(sparse_user_item.shape)"
   ]
  },
  {
   "cell_type": "markdown",
   "id": "a8cbd670-c24e-42b7-856a-1e77bcaf4d6c",
   "metadata": {},
   "source": [
    "### Utilisons un système permettant de rééquilibrer les notes implicites *(pour éviter de donner trop d'importance aux articles qui ont un très gros ratio `temps de lecture` / `nombre de mots`)*"
   ]
  },
  {
   "cell_type": "code",
   "execution_count": 8,
   "id": "79f89018-ccf8-4885-9bd4-c0bcc826e733",
   "metadata": {},
   "outputs": [
    {
     "data": {
      "text/plain": [
       "(297141, 28002)"
      ]
     },
     "metadata": {},
     "output_type": "display_data"
    },
    {
     "data": {
      "text/plain": [
       "(84041, 7576)"
      ]
     },
     "metadata": {},
     "output_type": "display_data"
    }
   ],
   "source": [
    "# train_sparse_item_user_bm25 = bm25_weight(sparse_item_user, K1=100, B=0.9).tocsr()\n",
    "train_sparse_user_item_bm25 = bm25_weight(train_sparse_user_item, K1=100, B=0.9).tocsr() # Implicit veut des matrices [user x item]\n",
    "valid_sparse_user_item_bm25 = bm25_weight(valid_sparse_user_item, K1=100, B=0.9).tocsr() # Implicit veut des matrices [user x item]\n",
    "\n",
    "display(train_sparse_user_item_bm25.shape)\n",
    "display(valid_sparse_user_item_bm25.shape)"
   ]
  },
  {
   "cell_type": "markdown",
   "id": "d023be47-84a1-434c-8352-b708c38bd2c8",
   "metadata": {},
   "source": [
    "### Entrainons un premier modèle pour calculer les embeddings utilisateurs et faire des recommandations"
   ]
  },
  {
   "cell_type": "code",
   "execution_count": 9,
   "id": "5954c15b-a174-4d0f-b992-6bb1b42c4869",
   "metadata": {},
   "outputs": [
    {
     "name": "stderr",
     "output_type": "stream",
     "text": [
      "100%|█████████████████████████████████████████████████████████████████████████████████████████████████████████████████████████████████████████████████████████████████████████████████████████████| 50/50 [03:38<00:00,  4.37s/it]\n"
     ]
    }
   ],
   "source": [
    "model_bm25 = implicit.als.AlternatingLeastSquares(\n",
    "    factors=32, \n",
    "    regularization=0.05, \n",
    "    iterations=50,\n",
    "    alpha=40\n",
    ")\n",
    "\n",
    "model_name = f\"{model_bm25.__class__.__name__}_with_BM25\"\n",
    "t0 = time.perf_counter()\n",
    "model_bm25.fit(train_sparse_user_item)\n",
    "scores_df.at[model_name,'training_time'] = time.perf_counter() - t0"
   ]
  },
  {
   "cell_type": "markdown",
   "id": "6e16ab0b-60e6-4490-8394-04ef968b4767",
   "metadata": {},
   "source": [
    "### Testons une `recommandation sur la base d'un ou plusieurs utilisateurs`"
   ]
  },
  {
   "cell_type": "code",
   "execution_count": 10,
   "id": "787ff9cf-1733-403f-9651-73434567581c",
   "metadata": {},
   "outputs": [
    {
     "name": "stdout",
     "output_type": "stream",
     "text": [
      "\n",
      " --- Liste d'articles candidats pour l'utilisateur 59 --- \n",
      "\n",
      "catCode:       9556 \t article_id:     108854 \t score: 0.43\n",
      "catCode:       5718 \t article_id:      68866 \t score: 0.37\n",
      "catCode:      13935 \t article_id:     168868 \t score: 0.35\n",
      "catCode:      10394 \t article_id:     119592 \t score: 0.35\n",
      "catCode:       8217 \t article_id:      96663 \t score: 0.32\n",
      "\n",
      " --- Liste d'articles candidats pour l'utilisateur 1024 --- \n",
      "\n",
      "catCode:      26186 \t article_id:     336221 \t score: 0.50\n",
      "catCode:      18722 \t article_id:     234698 \t score: 0.48\n",
      "catCode:       8014 \t article_id:      95716 \t score: 0.39\n",
      "catCode:      18926 \t article_id:     235870 \t score: 0.38\n",
      "catCode:      26187 \t article_id:     336223 \t score: 0.38\n"
     ]
    }
   ],
   "source": [
    "# Make recommendations for the first 10 users in the dataset\n",
    "userids = [59, 1024] # liste d'ID utilisateurs\n",
    "rec_size = 5\n",
    "\n",
    "codes, scores = model_bm25.recommend(userids, valid_sparse_user_item_bm25[userids], N=rec_size, filter_already_liked_items=True) \n",
    "\n",
    "for i, user_id in enumerate(userids):\n",
    "    print(f\"\\n --- Liste d'articles candidats pour l'utilisateur {user_id} --- \\n\")\n",
    "    \n",
    "    for code, score in zip(codes[i], scores[i]):\n",
    "        idx = data_train[data_train.article_cat_code==code]['article_id'].iloc[0]\n",
    "        print(f\"catCode: {code:10} \\t article_id: {idx:10} \\t score: {score:.2f}\")"
   ]
  },
  {
   "cell_type": "markdown",
   "id": "97bb4f59-700b-4235-a1d4-8ebd761e2a64",
   "metadata": {},
   "source": [
    "### Testons une `recommandation sur la base d'un article` *(ce n'est pas le but d'un Collaborative Filtering, mais on peut le faire alors autant l'essayer)*"
   ]
  },
  {
   "cell_type": "code",
   "execution_count": 11,
   "id": "53bdf732-546e-45d7-8e1a-91125f59a3b2",
   "metadata": {},
   "outputs": [
    {
     "name": "stdout",
     "output_type": "stream",
     "text": [
      "\n",
      " --- Liste d'articles candidats sur la base de l'article 162605 --- \n",
      "\n",
      "catCode:       6359 \t article_id:      74112 \t score: 0.93\n",
      "catCode:      13314 \t article_id:     162107 \t score: 0.82\n",
      "catCode:      22526 \t article_id:     285045 \t score: 0.79\n",
      "catCode:       9266 \t article_id:     106664 \t score: 0.71\n",
      "catCode:      13000 \t article_id:     159197 \t score: 0.71\n"
     ]
    }
   ],
   "source": [
    "article_id = 162605\n",
    "article_code = data_train[data_train.article_id == article_id]['article_cat_code'].iloc[0]\n",
    "rec_size = 5\n",
    "\n",
    "# Get similar items.\n",
    "codes, scores = model_bm25.similar_items(article_code, N=rec_size , filter_items=[article_code])\n",
    "\n",
    "print(f\"\\n --- Liste d'articles candidats sur la base de l'article {article_id} --- \\n\")\n",
    "for code, score in zip(codes, scores):\n",
    "    idx = data_train[data_train.article_cat_code==code]['article_id'].iloc[0]\n",
    "    print(f\"catCode: {code:10} \\t article_id: {idx:10} \\t score: {score:.2f}\")"
   ]
  },
  {
   "cell_type": "markdown",
   "id": "7bc71569-2104-407d-b66e-dd085bb0ec66",
   "metadata": {},
   "source": [
    "### Evaluons le modèle\n",
    "\n",
    "> **Nous devons nous rappeler que la recommandation n'est pas une prédiction.**<br>\n",
    "> S'appuyer sur des métriques ML pour déterminer la performance d'un système de recommandation n'est pas suffisant.<br>\n",
    "> Seul **le retour des utilisateurs apporte des résultats valables et c'est pourquoi les tests A/B devraient toujours être priviligiés**."
   ]
  },
  {
   "cell_type": "markdown",
   "id": "8e1f9407-e2c0-41ff-b73d-08cd7fa61319",
   "metadata": {},
   "source": [
    "- Dans la mesure ou notre jeu de données **ne dispose pas de scores explicites**, il ne parrait pas souhaitable d'utiliser des métrique du type `MAE` ou `RMSE`.\n",
    "- Dans la mesure ou l'on **ne cherche pas particulièrement à obtenir un ordre précis**, il ne parrait pas souhaitable d'utiliser des métriques de ranking comme le `MAP@K` ou le `nDCCG`.\n",
    "- Nous pourrions donc nous tourner vers la `Precision@k`, le `Recall@K` et donc le `F1@k`, mais il est probable que ce ne soit pas très représentatif."
   ]
  },
  {
   "cell_type": "markdown",
   "id": "43965753-74c8-4e03-88de-8db2f812a76e",
   "metadata": {},
   "source": [
    "#### Regardons la precision@k"
   ]
  },
  {
   "cell_type": "code",
   "execution_count": 12,
   "id": "95e38e5a-794d-400f-a450-0c9755623c3a",
   "metadata": {},
   "outputs": [
    {
     "name": "stderr",
     "output_type": "stream",
     "text": [
      "100%|█████████████████████████████████████████████████████████████████████████████████████████████████████████████████████████████████████████████████████████████████████████████████████| 84041/84041 [00:24<00:00, 3453.41it/s]"
     ]
    },
    {
     "name": "stdout",
     "output_type": "stream",
     "text": [
      "0.00015757212864188583\n"
     ]
    },
    {
     "name": "stderr",
     "output_type": "stream",
     "text": [
      "\n"
     ]
    }
   ],
   "source": [
    "precision_k = evaluation.precision_at_k(model_bm25, train_sparse_user_item_bm25, valid_sparse_user_item_bm25, K=5, show_progress=True, num_threads=1)\n",
    "print(precision_k)\n",
    "scores_df.at[model_name,'precision@k'] = precision_k"
   ]
  },
  {
   "cell_type": "markdown",
   "id": "129e99bd-499e-423b-b1f2-2509df2a2397",
   "metadata": {},
   "source": [
    "> Le probleme c'est même si c'est l'une des métriques disponible les plus adaptée, elle reste peu adaptée à notre problème...<br>\n",
    "> Ici `Precision = (# of top k recommendations that are relevant)/(# of items that are recommended)`<br>\n",
    "> Mais malgré un nombre d'article assez large, on ne recommande que 5 articles et les utilisateurs ont un historique assez faible dans notre jeu de données. Donc les chances de recommander un article parmi 5 qui a effectivement été lu ensuite par l'utilisateur sont vraiment faible."
   ]
  },
  {
   "cell_type": "markdown",
   "id": "d05f9586-1ec5-4c3c-949b-c170a3da0572",
   "metadata": {},
   "source": [
    "#### Regardons le MAP@k"
   ]
  },
  {
   "cell_type": "code",
   "execution_count": 13,
   "id": "5f10b1cb-a369-4576-9e58-6eab60085356",
   "metadata": {},
   "outputs": [
    {
     "name": "stderr",
     "output_type": "stream",
     "text": [
      "100%|█████████████████████████████████████████████████████████████████████████████████████████████████████████████████████████████████████████████████████████████████████████████████████| 84041/84041 [00:24<00:00, 3457.78it/s]"
     ]
    },
    {
     "name": "stdout",
     "output_type": "stream",
     "text": [
      "5.749508507091116e-05\n"
     ]
    },
    {
     "name": "stderr",
     "output_type": "stream",
     "text": [
      "\n"
     ]
    }
   ],
   "source": [
    "map_k = evaluation.mean_average_precision_at_k(model_bm25, train_sparse_user_item_bm25, valid_sparse_user_item_bm25, K=5, show_progress=True, num_threads=1)\n",
    "print(map_k)\n",
    "scores_df.at[model_name,'map@k'] = map_k"
   ]
  },
  {
   "cell_type": "markdown",
   "id": "73fa378c-e8f0-455e-b93f-bf9bcacabb9f",
   "metadata": {},
   "source": [
    "#### Regardons le nDCG@k"
   ]
  },
  {
   "cell_type": "code",
   "execution_count": 14,
   "id": "b5b0c310-8fe4-4207-b6a9-183096bb73eb",
   "metadata": {},
   "outputs": [
    {
     "name": "stderr",
     "output_type": "stream",
     "text": [
      "100%|█████████████████████████████████████████████████████████████████████████████████████████████████████████████████████████████████████████████████████████████████████████████████████| 84041/84041 [00:23<00:00, 3516.78it/s]"
     ]
    },
    {
     "name": "stdout",
     "output_type": "stream",
     "text": [
      "9.955403366734356e-05\n"
     ]
    },
    {
     "name": "stderr",
     "output_type": "stream",
     "text": [
      "\n"
     ]
    }
   ],
   "source": [
    "ndcg_k = evaluation.ndcg_at_k(model_bm25, train_sparse_user_item_bm25, valid_sparse_user_item_bm25, K=5, show_progress=True, num_threads=1)\n",
    "print(ndcg_k)\n",
    "scores_df.at[model_name,'ndcg@k'] = ndcg_k"
   ]
  },
  {
   "cell_type": "markdown",
   "id": "c01db85d-f7a2-4e7d-89bf-fd863cfb1786",
   "metadata": {},
   "source": [
    "### Construisons une métrique sur mesure\n",
    "\n",
    "Pour avoir une idée une métrique utilsable pour comparer nos différents modèles, nous pourrions comparer l'embedding moyen des articles lus APRÈS *(donc les actions contenues dans data_valid)* avec l'embedding moyen des article recommandés ET avec l'embedding moyen des articles recommandés."
   ]
  },
  {
   "cell_type": "markdown",
   "id": "bae77db9-80c7-453a-8cba-03bd64c6da41",
   "metadata": {},
   "source": [
    "#### Calculons la cosine similarity moyenne sur le jeu de validation"
   ]
  },
  {
   "cell_type": "raw",
   "id": "7556fc02-8b07-44e5-a2c5-431a0fb6b96d",
   "metadata": {},
   "source": [
    "select = data_valid.groupby('user_id')['article_id'].apply(list).reset_index(name='article_ids')\n",
    "select = select.set_index('user_id')\n",
    "select"
   ]
  },
  {
   "cell_type": "code",
   "execution_count": 15,
   "id": "f6a01343-bb8e-4428-b101-479ef563f55c",
   "metadata": {},
   "outputs": [],
   "source": [
    "article_lookup = pd.DataFrame(data_train.groupby('article_cat_code')['article_id'].apply(lambda x: list(x)[0])).to_dict()\n",
    "\n",
    "def lookup_articles(x):\n",
    "    try:\n",
    "        return article_lookup['article_id'][x]\n",
    "    except Exception:\n",
    "        return -1"
   ]
  },
  {
   "cell_type": "code",
   "execution_count": 16,
   "id": "e52c4fcc-cb56-4cc1-a007-7ed2b1514d0c",
   "metadata": {},
   "outputs": [],
   "source": [
    "def get_mean_cosine_similarity(data_ref, reco_ref, reco_model, reco_size = 5, top_users=None):\n",
    "\n",
    "    # --- for each user, get the ids of the articles he/she has read\n",
    "    select = data_ref.groupby('user_id')['article_id'].apply(list).reset_index(name='article_ids')\n",
    "    select = select[select.article_ids.map(len) > 1]\n",
    "    if top_users is not None:\n",
    "        select = select[:top_users]\n",
    "\n",
    "    # --- for each user, compute the mean embedding vectors of the articles he/she has read\n",
    "    select['read_mean_embedding'] = select.apply(lambda x : article_embedding[np.array(x[1])].mean(axis=0), axis=1)\n",
    "\n",
    "    # --- for each user, make recommendations\n",
    "    select['reco_article_ids'] = reco_model(select.index, select.read_mean_embedding, reco_ref, reco_size)\n",
    "\n",
    "    # --- for each user, compute the mean embedding vectors of the recommended articles\n",
    "    select['reco_mean_embedding'] = select['reco_article_ids'].apply(lambda x : article_embedding[np.array(x)].mean(axis=0))\n",
    "\n",
    "    # --- for each user, compute the cosine similarity between the read_mean_embedding and the pred_mean_embedding\n",
    "    select['cosine'] = select.apply(lambda x: cosine_similarity(x['read_mean_embedding'].reshape(1, -1), x['reco_mean_embedding'].reshape(1, -1))[0][0], axis=1)\n",
    "\n",
    "    # --- reset the index column\n",
    "    select = select.set_index('user_id')\n",
    "\n",
    "    # --- Compute & return overall mean cosine similarity\n",
    "    return select.cosine.mean(), select"
   ]
  },
  {
   "cell_type": "code",
   "execution_count": 17,
   "id": "f45bd598-7093-443b-aef4-8ccfcdbddf89",
   "metadata": {},
   "outputs": [],
   "source": [
    "def reco_collaborative_filtering_bm25(user_ids, mean_embeddings, reco_ref, reco_size):\n",
    "    \n",
    "    apply_numpy2 = lambda x : list(map(lookup_articles,x))\n",
    "    apply_numpy = lambda x : list(map(apply_numpy2,x))\n",
    "    \n",
    "    reco_codes, reco_score = model_bm25.recommend(user_ids, reco_ref[user_ids], N=reco_size, filter_already_liked_items=True) \n",
    "    return apply_numpy(reco_codes)"
   ]
  },
  {
   "cell_type": "markdown",
   "id": "bd6d4d8e-8c7a-4c92-b0b9-39b7abec4271",
   "metadata": {},
   "source": [
    "#### Pour tout le jeu de données"
   ]
  },
  {
   "cell_type": "code",
   "execution_count": 18,
   "id": "6d83da4c-7368-4f8a-b504-16ccdbda3eb7",
   "metadata": {},
   "outputs": [
    {
     "data": {
      "text/html": [
       "<div>\n",
       "<style scoped>\n",
       "    .dataframe tbody tr th:only-of-type {\n",
       "        vertical-align: middle;\n",
       "    }\n",
       "\n",
       "    .dataframe tbody tr th {\n",
       "        vertical-align: top;\n",
       "    }\n",
       "\n",
       "    .dataframe thead th {\n",
       "        text-align: right;\n",
       "    }\n",
       "</style>\n",
       "<table border=\"1\" class=\"dataframe\">\n",
       "  <thead>\n",
       "    <tr style=\"text-align: right;\">\n",
       "      <th></th>\n",
       "      <th>article_ids</th>\n",
       "      <th>read_mean_embedding</th>\n",
       "      <th>reco_article_ids</th>\n",
       "      <th>reco_mean_embedding</th>\n",
       "      <th>cosine</th>\n",
       "    </tr>\n",
       "    <tr>\n",
       "      <th>user_id</th>\n",
       "      <th></th>\n",
       "      <th></th>\n",
       "      <th></th>\n",
       "      <th></th>\n",
       "      <th></th>\n",
       "    </tr>\n",
       "  </thead>\n",
       "  <tbody>\n",
       "    <tr>\n",
       "      <th>5</th>\n",
       "      <td>[225010, 69353, 161872, 205845, 57748, 157815,...</td>\n",
       "      <td>[-0.024590481, -0.9645934, -0.06022447, -0.023...</td>\n",
       "      <td>[119592, 96663, 160474, 284463, 108854]</td>\n",
       "      <td>[-0.43367648, -0.96880037, -0.12601939, -0.163...</td>\n",
       "      <td>0.718369</td>\n",
       "    </tr>\n",
       "    <tr>\n",
       "      <th>7</th>\n",
       "      <td>[199474, 87223, 352979, 284470, 36162, 156279]</td>\n",
       "      <td>[-0.11400774, -0.96468645, -0.32728586, -0.201...</td>\n",
       "      <td>[336499, 336223, 271261, 87224, 225019]</td>\n",
       "      <td>[-0.21747354, -0.9656499, -0.51685613, -0.3808...</td>\n",
       "      <td>0.692803</td>\n",
       "    </tr>\n",
       "    <tr>\n",
       "      <th>8</th>\n",
       "      <td>[331116, 96141, 234481]</td>\n",
       "      <td>[-0.32962552, -0.97033435, 0.20547153, -0.0870...</td>\n",
       "      <td>[284096, 348113, 160417, 161191, 352902]</td>\n",
       "      <td>[-0.2786653, -0.96174604, -0.08292996, -0.0697...</td>\n",
       "      <td>0.687489</td>\n",
       "    </tr>\n",
       "    <tr>\n",
       "      <th>10</th>\n",
       "      <td>[196588, 193449, 195689, 65991, 100931, 58556,...</td>\n",
       "      <td>[-0.23681411, -0.96241695, -0.08872973, -0.346...</td>\n",
       "      <td>[234698, 336221, 156964, 64409, 235870]</td>\n",
       "      <td>[-0.17372157, -0.9607512, -0.47276193, -0.2004...</td>\n",
       "      <td>0.715739</td>\n",
       "    </tr>\n",
       "    <tr>\n",
       "      <th>11</th>\n",
       "      <td>[208582, 96877, 195177, 205824]</td>\n",
       "      <td>[-0.15431535, -0.9709704, 0.069619074, 0.13036...</td>\n",
       "      <td>[336223, 272660, 129434, 59057, 336220]</td>\n",
       "      <td>[-0.29166535, -0.9653824, -0.52180314, -0.4616...</td>\n",
       "      <td>0.413324</td>\n",
       "    </tr>\n",
       "  </tbody>\n",
       "</table>\n",
       "</div>"
      ],
      "text/plain": [
       "                                               article_ids  \\\n",
       "user_id                                                      \n",
       "5        [225010, 69353, 161872, 205845, 57748, 157815,...   \n",
       "7           [199474, 87223, 352979, 284470, 36162, 156279]   \n",
       "8                                  [331116, 96141, 234481]   \n",
       "10       [196588, 193449, 195689, 65991, 100931, 58556,...   \n",
       "11                         [208582, 96877, 195177, 205824]   \n",
       "\n",
       "                                       read_mean_embedding  \\\n",
       "user_id                                                      \n",
       "5        [-0.024590481, -0.9645934, -0.06022447, -0.023...   \n",
       "7        [-0.11400774, -0.96468645, -0.32728586, -0.201...   \n",
       "8        [-0.32962552, -0.97033435, 0.20547153, -0.0870...   \n",
       "10       [-0.23681411, -0.96241695, -0.08872973, -0.346...   \n",
       "11       [-0.15431535, -0.9709704, 0.069619074, 0.13036...   \n",
       "\n",
       "                                 reco_article_ids  \\\n",
       "user_id                                             \n",
       "5         [119592, 96663, 160474, 284463, 108854]   \n",
       "7         [336499, 336223, 271261, 87224, 225019]   \n",
       "8        [284096, 348113, 160417, 161191, 352902]   \n",
       "10        [234698, 336221, 156964, 64409, 235870]   \n",
       "11        [336223, 272660, 129434, 59057, 336220]   \n",
       "\n",
       "                                       reco_mean_embedding    cosine  \n",
       "user_id                                                               \n",
       "5        [-0.43367648, -0.96880037, -0.12601939, -0.163...  0.718369  \n",
       "7        [-0.21747354, -0.9656499, -0.51685613, -0.3808...  0.692803  \n",
       "8        [-0.2786653, -0.96174604, -0.08292996, -0.0697...  0.687489  \n",
       "10       [-0.17372157, -0.9607512, -0.47276193, -0.2004...  0.715739  \n",
       "11       [-0.29166535, -0.9653824, -0.52180314, -0.4616...  0.413324  "
      ]
     },
     "metadata": {},
     "output_type": "display_data"
    },
    {
     "data": {
      "text/plain": [
       "(46638, 5)"
      ]
     },
     "metadata": {},
     "output_type": "display_data"
    },
    {
     "name": "stdout",
     "output_type": "stream",
     "text": [
      "\n",
      "mean_cosine_similarity: 0.51 (sachant que la cosine similarity va de 1 à -1)\n"
     ]
    }
   ],
   "source": [
    "MCS, MCS_df = get_mean_cosine_similarity(data_valid, valid_sparse_user_item_bm25, reco_collaborative_filtering_bm25, 5)\n",
    "\n",
    "display(MCS_df.head(), MCS_df.shape)\n",
    "print(f\"\\nmean_cosine_similarity: {MCS:.2f} (sachant que la cosine similarity va de 1 à -1)\")"
   ]
  },
  {
   "cell_type": "markdown",
   "id": "55b82b72-3972-4254-8fad-16ffaedcc210",
   "metadata": {},
   "source": [
    "#### Pour les 1000 premiers utilisateurs *(car j'ai du mal à calculer le score sur l'ensemble du jeu de données avec le Content Based Filtering)*"
   ]
  },
  {
   "cell_type": "code",
   "execution_count": 19,
   "id": "908cc4b8-3ef6-4797-b44d-638f25d3050a",
   "metadata": {},
   "outputs": [
    {
     "name": "stdout",
     "output_type": "stream",
     "text": [
      "\n",
      "mean_cosine_similarity: 0.55 (sachant que la cosine similarity va de 1 à -1)\n"
     ]
    }
   ],
   "source": [
    "MCS1, MCS1_df = get_mean_cosine_similarity(data_valid, valid_sparse_user_item_bm25, reco_collaborative_filtering_bm25, 5, 1000)\n",
    "print(f\"\\nmean_cosine_similarity: {MCS1:.2f} (sachant que la cosine similarity va de 1 à -1)\")\n",
    "scores_df.at[model_name,'mean_cosine_similarity'] = MCS1"
   ]
  },
  {
   "cell_type": "markdown",
   "id": "dce135ca-1671-44ce-9644-40c8c27c0010",
   "metadata": {},
   "source": [
    "#### Comparons"
   ]
  },
  {
   "cell_type": "code",
   "execution_count": 20,
   "id": "5863b264-1bcc-413d-a02e-18f4f242a4e4",
   "metadata": {},
   "outputs": [
    {
     "data": {
      "text/html": [
       "<div>\n",
       "<style scoped>\n",
       "    .dataframe tbody tr th:only-of-type {\n",
       "        vertical-align: middle;\n",
       "    }\n",
       "\n",
       "    .dataframe tbody tr th {\n",
       "        vertical-align: top;\n",
       "    }\n",
       "\n",
       "    .dataframe thead th {\n",
       "        text-align: right;\n",
       "    }\n",
       "</style>\n",
       "<table border=\"1\" class=\"dataframe\">\n",
       "  <thead>\n",
       "    <tr style=\"text-align: right;\">\n",
       "      <th></th>\n",
       "      <th>mean_cosine_similarity</th>\n",
       "      <th>precision@k</th>\n",
       "      <th>map@k</th>\n",
       "      <th>ndcg@k</th>\n",
       "      <th>training_time</th>\n",
       "    </tr>\n",
       "    <tr>\n",
       "      <th>model_name</th>\n",
       "      <th></th>\n",
       "      <th></th>\n",
       "      <th></th>\n",
       "      <th></th>\n",
       "      <th></th>\n",
       "    </tr>\n",
       "  </thead>\n",
       "  <tbody>\n",
       "    <tr>\n",
       "      <th>AlternatingLeastSquares_with_BM25</th>\n",
       "      <td>0.546562</td>\n",
       "      <td>0.000158</td>\n",
       "      <td>0.000057</td>\n",
       "      <td>0.0001</td>\n",
       "      <td>218.431039</td>\n",
       "    </tr>\n",
       "  </tbody>\n",
       "</table>\n",
       "</div>"
      ],
      "text/plain": [
       "                                  mean_cosine_similarity precision@k  \\\n",
       "model_name                                                             \n",
       "AlternatingLeastSquares_with_BM25               0.546562    0.000158   \n",
       "\n",
       "                                      map@k  ndcg@k training_time  \n",
       "model_name                                                         \n",
       "AlternatingLeastSquares_with_BM25  0.000057  0.0001    218.431039  "
      ]
     },
     "execution_count": 20,
     "metadata": {},
     "output_type": "execute_result"
    }
   ],
   "source": [
    "scores_df"
   ]
  },
  {
   "cell_type": "markdown",
   "id": "8465203b-0c05-4f60-9607-2b78f6ab942d",
   "metadata": {},
   "source": [
    "## 1.2 Content Based Filtering"
   ]
  },
  {
   "cell_type": "markdown",
   "id": "e756a876-7dab-46ae-93e3-31d2014d6715",
   "metadata": {},
   "source": [
    "articles_embeddings.pickle Pickle (Python 3) of a NumPy matrix containing the Article Content Embeddings (250-dimensional vectors), trained upon articles' text and metadata by the CHAMELEON's ACR module (see paper for details) for 364047 published articles.\n",
    "P.s. The full text of news articles could not be provided due to license restrictions, but those embeddings can be used by Neural Networks to represent their content. See this paper for a t-SNE visualization of these embeddings, colored by category."
   ]
  },
  {
   "cell_type": "markdown",
   "id": "24ee5380-5f3f-4d02-bf01-2f66ff4c669f",
   "metadata": {},
   "source": [
    "### Trouvons l'embedding moyen des articles lus par un utilisateur donnée"
   ]
  },
  {
   "cell_type": "code",
   "execution_count": 21,
   "id": "58772731-0d5a-4bc1-af62-aa6a52f7418c",
   "metadata": {},
   "outputs": [
    {
     "name": "stdout",
     "output_type": "stream",
     "text": [
      "Articles utilisés dans le mean embedding: [288440 337441 202476 250043 284583]\n"
     ]
    }
   ],
   "source": [
    "user_id = 20137\n",
    "history_size = 5\n",
    "\n",
    "def get_mean_vector(articles_idx):\n",
    "    apply_numpy = lambda x : article_embedding[x].mean(axis=0)\n",
    "    return apply_numpy(articles_idx)            \n",
    "\n",
    "user_articles_idx = data_train[data_train.user_id == user_id]['article_id']\n",
    "last_articles_idx = user_articles_idx.iloc[-history_size:].values #.sort_values('click_timestamp')\n",
    "mean_vector = get_mean_vector(last_articles_idx)\n",
    "\n",
    "print(f\"Articles utilisés dans le mean embedding: {last_articles_idx}\")"
   ]
  },
  {
   "cell_type": "markdown",
   "id": "121247b4-6ce3-4463-864d-c57f2a0acfeb",
   "metadata": {},
   "source": [
    "### Calculons la similarité de cet embedding avec les embeddings des articles présents dans note fichier"
   ]
  },
  {
   "cell_type": "code",
   "execution_count": 22,
   "id": "fd8ffb0d-d5a9-4821-a020-26d74530fabf",
   "metadata": {},
   "outputs": [
    {
     "name": "stdout",
     "output_type": "stream",
     "text": [
      "Cosine Similarity: [0.32582363 0.2783536  0.31348327 ... 0.38568467 0.2742523  0.42668363] (364047,)\n"
     ]
    }
   ],
   "source": [
    "def get_cosine(article_embedding, mean_vector, user_articles_idx=None):\n",
    "    \n",
    "    A = article_embedding.copy()\n",
    "    B = mean_vector\n",
    "\n",
    "    # --- Assurons nous de ne pas recommander les article déjà lus par cet utilisateur\n",
    "    if user_articles_idx is not None:\n",
    "        A[user_articles_idx] = -B # je donne aux articles lus un embedding inverse de celui que l'on cible\n",
    " \n",
    "    # --- Calculons la cosine similarity entre l'embedding moyen de l'utilisateur et les articles connus\n",
    "    return np.dot(A,B)/(norm(A, axis=1)*norm(B))\n",
    "\n",
    "# --- Calculons la cosine similarity entre l'embedding moyen de l'utilisateur et les articles connus\n",
    "cosine = get_cosine(article_embedding, mean_vector, user_articles_idx)\n",
    "print(\"Cosine Similarity:\", cosine, cosine.shape)"
   ]
  },
  {
   "cell_type": "markdown",
   "id": "4bc7c0e5-3dfd-4a49-b255-9e83484af804",
   "metadata": {},
   "source": [
    "### Recommandons 5 articles à l'utilisateur"
   ]
  },
  {
   "cell_type": "code",
   "execution_count": 23,
   "id": "c09a9825-0b89-45e3-ad6f-e3c3d562fc3e",
   "metadata": {},
   "outputs": [
    {
     "data": {
      "text/html": [
       "<div>\n",
       "<style scoped>\n",
       "    .dataframe tbody tr th:only-of-type {\n",
       "        vertical-align: middle;\n",
       "    }\n",
       "\n",
       "    .dataframe tbody tr th {\n",
       "        vertical-align: top;\n",
       "    }\n",
       "\n",
       "    .dataframe thead th {\n",
       "        text-align: right;\n",
       "    }\n",
       "</style>\n",
       "<table border=\"1\" class=\"dataframe\">\n",
       "  <thead>\n",
       "    <tr style=\"text-align: right;\">\n",
       "      <th></th>\n",
       "      <th>article_id</th>\n",
       "      <th>cosine_sim</th>\n",
       "    </tr>\n",
       "  </thead>\n",
       "  <tbody>\n",
       "    <tr>\n",
       "      <th>0</th>\n",
       "      <td>284768</td>\n",
       "      <td>0.830968</td>\n",
       "    </tr>\n",
       "    <tr>\n",
       "      <th>1</th>\n",
       "      <td>345593</td>\n",
       "      <td>0.821919</td>\n",
       "    </tr>\n",
       "    <tr>\n",
       "      <th>2</th>\n",
       "      <td>285424</td>\n",
       "      <td>0.821205</td>\n",
       "    </tr>\n",
       "    <tr>\n",
       "      <th>3</th>\n",
       "      <td>345566</td>\n",
       "      <td>0.818335</td>\n",
       "    </tr>\n",
       "    <tr>\n",
       "      <th>4</th>\n",
       "      <td>283576</td>\n",
       "      <td>0.816523</td>\n",
       "    </tr>\n",
       "  </tbody>\n",
       "</table>\n",
       "</div>"
      ],
      "text/plain": [
       "   article_id  cosine_sim\n",
       "0      284768    0.830968\n",
       "1      345593    0.821919\n",
       "2      285424    0.821205\n",
       "3      345566    0.818335\n",
       "4      283576    0.816523"
      ]
     },
     "execution_count": 23,
     "metadata": {},
     "output_type": "execute_result"
    }
   ],
   "source": [
    "def recommend_articles(cosine, pred_size=5):\n",
    "    cos = pd.DataFrame(cosine, columns=['cosine_sim'])\n",
    "    selection = cos.sort_values('cosine_sim', ascending=False)[:pred_size]\n",
    "    selection.reset_index(inplace=True)\n",
    "    selection.rename(columns={'index':'article_id'}, inplace=True)\n",
    "    return selection\n",
    "\n",
    "reco = recommend_articles(cosine, 5)\n",
    "reco"
   ]
  },
  {
   "cell_type": "markdown",
   "id": "b7e8c518-a529-4525-b41d-95d90eceda67",
   "metadata": {},
   "source": [
    "### Comparons avec les articles consultés par cet utilisateur dans le validation_set"
   ]
  },
  {
   "cell_type": "code",
   "execution_count": 24,
   "id": "f3a35220-61ce-49f0-b228-9a28a2dae237",
   "metadata": {},
   "outputs": [],
   "source": [
    "mean_vector_recommended = get_mean_vector(reco.article_id)"
   ]
  },
  {
   "cell_type": "code",
   "execution_count": 25,
   "id": "d6ed69f1-33bc-4eec-b289-59593d8a8642",
   "metadata": {},
   "outputs": [],
   "source": [
    "viewed = data_valid[data_valid.user_id == user_id]['article_id'].values\n",
    "mean_vector_viewed = get_mean_vector(viewed)"
   ]
  },
  {
   "cell_type": "markdown",
   "id": "02cda967-9481-43e3-bcaa-b8b1ee7fe043",
   "metadata": {},
   "source": [
    "#### Similarité entre les articles lus dans le `valid_set` et les articles prédis"
   ]
  },
  {
   "cell_type": "code",
   "execution_count": 26,
   "id": "7722f7d1-44aa-46cf-b481-e2ca4bbbd9b3",
   "metadata": {},
   "outputs": [
    {
     "name": "stdout",
     "output_type": "stream",
     "text": [
      "Cosine Similarity: 0.71754134\n"
     ]
    }
   ],
   "source": [
    "def get_cosine_similarity(A, B):\n",
    "    return np.dot(A,B)/(norm(A)*norm(B))\n",
    "\n",
    "cosine_similarity_score = get_cosine_similarity(mean_vector_recommended, mean_vector_viewed)\n",
    "print(\"Cosine Similarity:\", cosine_similarity_score)"
   ]
  },
  {
   "cell_type": "markdown",
   "id": "da39fb3c-3608-4e6a-9014-84f17ac57af7",
   "metadata": {},
   "source": [
    "#### Similarité entre les articles lus dans le `train_set` et les articles lus dans le `valid_set`"
   ]
  },
  {
   "cell_type": "code",
   "execution_count": 27,
   "id": "aeca73cf-904d-488f-803a-61cb905d0718",
   "metadata": {},
   "outputs": [
    {
     "name": "stdout",
     "output_type": "stream",
     "text": [
      "Cosine Similarity: 0.7984939\n"
     ]
    }
   ],
   "source": [
    "cosine_similarity_score = get_cosine_similarity(mean_vector, mean_vector_viewed)\n",
    "print(\"Cosine Similarity:\", cosine_similarity_score)"
   ]
  },
  {
   "cell_type": "markdown",
   "id": "02f4e7fe-e62c-4f6f-84c1-50ea3c7414ea",
   "metadata": {},
   "source": [
    "#### Calculons la cosine similarity moyenne sur l'ensemble du jeu de validation *(⚠️ en fait une fraction car c'est beaucoup trop lent)*"
   ]
  },
  {
   "cell_type": "code",
   "execution_count": 28,
   "id": "6fe6a028-5f6e-440d-b430-26050069d4c0",
   "metadata": {},
   "outputs": [],
   "source": [
    "cosine_pred_viewed = []\n",
    "cosine_hist_viewed = []\n",
    "\n",
    "# --- for each user, get the ids of the articles he/she has read\n",
    "select = data_valid.groupby('user_id')['article_id'].apply(list).reset_index(name='article_ids')\n",
    "select = select[select.article_ids.map(len) > 1]\n",
    "\n",
    "# --- for each user, compute the mean embedding vectors of the articles he/she has read\n",
    "select['read_mean_embedding'] = select.apply(lambda x : article_embedding[np.array(x[1])].mean(axis=0), axis=1)\n",
    "\n",
    "for user_id in select.index[:1000]:\n",
    "    # print(user_id)\n",
    "    \n",
    "    # Compute viewed mean_embedding\n",
    "    viewed = data_valid[data_valid.user_id == user_id]['article_id']\n",
    "    if len(viewed) < 2: continue # \n",
    "    mean_vector_viewed = get_mean_vector(viewed)\n",
    "    \n",
    "    # Compute recommended mean_embedding\n",
    "    A = article_embedding.copy()\n",
    "    B = select['read_mean_embedding'].iloc[user_id]\n",
    "    A[select['article_ids'].iloc[user_id]] = -B # On supprime les articles déjà lus\n",
    "    cosine = cosine_similarity(A, B.reshape(1, -1))\n",
    "    \n",
    "    pred = recommend_articles(cosine, 5)\n",
    "    mean_vector_pred = get_mean_vector(pred.article_id)\n",
    "    \n",
    "    # Compute similarities\n",
    "    cosine_similarity_pred_viewed = cosine_similarity(mean_vector_pred.reshape(1, -1), mean_vector_viewed.reshape(1, -1)) # get_cosine_similarity(mean_vector_pred, mean_vector_viewed)\n",
    "    cosine_similarity_hist_viewed = cosine_similarity(B.reshape(1, -1), mean_vector_viewed.reshape(1, -1)) # get_cosine_similarity(mean_vector_hist, mean_vector_viewed)\n",
    "    \n",
    "    cosine_pred_viewed.append(cosine_similarity_pred_viewed)\n",
    "    cosine_hist_viewed.append(cosine_similarity_hist_viewed)"
   ]
  },
  {
   "cell_type": "code",
   "execution_count": 29,
   "id": "35e03ce0-aa90-4de9-9747-8f9cbb90b208",
   "metadata": {},
   "outputs": [
    {
     "name": "stdout",
     "output_type": "stream",
     "text": [
      "\n",
      "mean_cosine_similarity (de 1 à -1) entre 'recommended' & 'viewed_in_valid' = 0.48 (que l'on compare donc avec les 0.55 du Collaborative Filtering ALS)\n",
      "\n",
      "mean_cosine_similarity (de 1 à -1) entre 'viewed_in_train' & 'viewed_in_valid' = 0.54 (pour donner une idée de la variabilité des centres d'intérêts utilisateurs\n"
     ]
    }
   ],
   "source": [
    "print(f\"\\nmean_cosine_similarity (de 1 à -1) entre 'recommended' & 'viewed_in_valid' = {np.mean(cosine_pred_viewed):.2f} (que l'on compare donc avec les 0.55 du Collaborative Filtering ALS)\")\n",
    "print(f\"\\nmean_cosine_similarity (de 1 à -1) entre 'viewed_in_train' & 'viewed_in_valid' = {np.mean(cosine_hist_viewed):.2f} (pour donner une idée de la variabilité des centres d'intérêts utilisateurs\")\n",
    "\n",
    "model_name = \"Content Based Filtering\"\n",
    "scores_df.at[model_name,'mean_cosine_similarity'] = np.mean(cosine_pred_viewed)\n",
    "scores_df.at[model_name,'training_time'] = 0"
   ]
  },
  {
   "cell_type": "markdown",
   "id": "05d1e2ad-8730-4255-a4ee-f540e4b61962",
   "metadata": {},
   "source": [
    "#### Comparons"
   ]
  },
  {
   "cell_type": "code",
   "execution_count": 30,
   "id": "9c38c51d-ea14-4783-928e-ae49cace17f0",
   "metadata": {},
   "outputs": [
    {
     "data": {
      "text/html": [
       "<div>\n",
       "<style scoped>\n",
       "    .dataframe tbody tr th:only-of-type {\n",
       "        vertical-align: middle;\n",
       "    }\n",
       "\n",
       "    .dataframe tbody tr th {\n",
       "        vertical-align: top;\n",
       "    }\n",
       "\n",
       "    .dataframe thead th {\n",
       "        text-align: right;\n",
       "    }\n",
       "</style>\n",
       "<table border=\"1\" class=\"dataframe\">\n",
       "  <thead>\n",
       "    <tr style=\"text-align: right;\">\n",
       "      <th></th>\n",
       "      <th>mean_cosine_similarity</th>\n",
       "      <th>precision@k</th>\n",
       "      <th>map@k</th>\n",
       "      <th>ndcg@k</th>\n",
       "      <th>training_time</th>\n",
       "    </tr>\n",
       "    <tr>\n",
       "      <th>model_name</th>\n",
       "      <th></th>\n",
       "      <th></th>\n",
       "      <th></th>\n",
       "      <th></th>\n",
       "      <th></th>\n",
       "    </tr>\n",
       "  </thead>\n",
       "  <tbody>\n",
       "    <tr>\n",
       "      <th>AlternatingLeastSquares_with_BM25</th>\n",
       "      <td>0.546562</td>\n",
       "      <td>0.000158</td>\n",
       "      <td>0.000057</td>\n",
       "      <td>0.0001</td>\n",
       "      <td>218.431039</td>\n",
       "    </tr>\n",
       "    <tr>\n",
       "      <th>Content Based Filtering</th>\n",
       "      <td>0.479843</td>\n",
       "      <td>NaN</td>\n",
       "      <td>NaN</td>\n",
       "      <td>NaN</td>\n",
       "      <td>0</td>\n",
       "    </tr>\n",
       "  </tbody>\n",
       "</table>\n",
       "</div>"
      ],
      "text/plain": [
       "                                  mean_cosine_similarity precision@k  \\\n",
       "model_name                                                             \n",
       "AlternatingLeastSquares_with_BM25               0.546562    0.000158   \n",
       "Content Based Filtering                         0.479843         NaN   \n",
       "\n",
       "                                      map@k  ndcg@k training_time  \n",
       "model_name                                                         \n",
       "AlternatingLeastSquares_with_BM25  0.000057  0.0001    218.431039  \n",
       "Content Based Filtering                 NaN     NaN             0  "
      ]
     },
     "execution_count": 30,
     "metadata": {},
     "output_type": "execute_result"
    }
   ],
   "source": [
    "scores_df"
   ]
  },
  {
   "cell_type": "markdown",
   "id": "54e4f3cb-6598-4b85-9e1a-66c2c5bac4e3",
   "metadata": {},
   "source": [
    "> #### Si l'on se fie au score moyen de similarité entre les recommandations et ce qui a été effectivemet lu (dans le validation set), le `Collaborative filtering` semble plus précis.\n",
    "> Mais ce n'est pas le seul élément à prendre en compte *(d'autant que cette mesure n'est pas très significative)*.\n",
    "\n",
    "> `Collaborative Filtering`:\n",
    "> * plus en accord avec ce qui est dans le validation set par les utilisateurs,\n",
    "> * plus rapide,\n",
    "> * limité aux articles visités.<br>\n",
    "\n",
    "> `Content Based Filtering`:\n",
    "> * plus lent *(du moins je n'ai pas réussi à le rendre rapide)*,\n",
    "> * moins prévis *(mais je n'ai pu évaluer que les 100 premiers utlisateurs)*\n",
    "> * peut recommander n'importe quel article dont on a l'embedding, y compris ceux jamais visités par un utilisateur.\n",
    "\n",
    "> Dans les deux cas, les modèles employés ne permettent pas de prendre en compte des features supplémentaires comme par exemple la catégorie de l'article etc. *(Il faudrait un Collaborative Filtering en DNN)*\n",
    "\n",
    "> L'idéal est donc probablement d'utiliser une combinaison des deux approches; le Collaboravie filtering pour être le plus proche possible des intérêts de l'utilisateur, et le Content Based Filtering pour apporter de la diversité sans pour autant trop s'éloigner des sujets de prédilection de l'utilisateur."
   ]
  },
  {
   "cell_type": "code",
   "execution_count": null,
   "id": "414eb6a2-7e87-440a-9b1c-e5b75147a0b8",
   "metadata": {},
   "outputs": [],
   "source": []
  },
  {
   "cell_type": "markdown",
   "id": "f75fc06f-26d4-47b5-a82a-668d07a2e631",
   "metadata": {},
   "source": [
    "## 1.3 Essayons quelques variantes"
   ]
  },
  {
   "cell_type": "markdown",
   "id": "f4436b63-88d0-466f-8f52-93c0a04a615e",
   "metadata": {},
   "source": [
    "### AlternatingLeastSquares sans BM25"
   ]
  },
  {
   "cell_type": "markdown",
   "id": "05d9e733-106f-4eea-a982-c90338648e51",
   "metadata": {},
   "source": [
    "#### Entrainons un premier modèle pour calculer les embeddings utilisateurs et faire des recommandations"
   ]
  },
  {
   "cell_type": "code",
   "execution_count": 31,
   "id": "96009963-69c8-4a4e-89cd-50161ebfc389",
   "metadata": {},
   "outputs": [
    {
     "name": "stderr",
     "output_type": "stream",
     "text": [
      "100%|█████████████████████████████████████████████████████████████████████████████████████████████████████████████████████████████████████████████████████████████████████████████████████████████| 50/50 [04:10<00:00,  5.00s/it]\n"
     ]
    }
   ],
   "source": [
    "model_als = implicit.als.AlternatingLeastSquares(\n",
    "    factors=32, \n",
    "    regularization=0.05, \n",
    "    iterations=50,\n",
    "    alpha=40\n",
    ")\n",
    "\n",
    "model_name = model_als.__class__.__name__\n",
    "t0 = time.perf_counter()\n",
    "model_als.fit(train_sparse_user_item)\n",
    "scores_df.at[model_name,'training_time'] = time.perf_counter() - t0"
   ]
  },
  {
   "cell_type": "markdown",
   "id": "ca45a8de-b224-4d0e-8f41-f3c53eb53160",
   "metadata": {},
   "source": [
    "#### Calculons la cosine similarity moyenne sur le jeu de validation"
   ]
  },
  {
   "cell_type": "code",
   "execution_count": 32,
   "id": "145e7957-ce38-4518-9fce-201f4398c9aa",
   "metadata": {},
   "outputs": [],
   "source": [
    "def reco_collaborative_filtering_als(user_ids, mean_embeddings, reco_ref, reco_size):\n",
    "    \n",
    "    apply_numpy2 = lambda x : list(map(lookup_articles,x))\n",
    "    apply_numpy = lambda x : list(map(apply_numpy2,x))\n",
    "    \n",
    "    reco_codes, reco_score = model_als.recommend(user_ids, reco_ref[user_ids], N=reco_size, filter_already_liked_items=True) \n",
    "    return apply_numpy(reco_codes)"
   ]
  },
  {
   "cell_type": "markdown",
   "id": "be292da3-fc25-4db5-aadb-3b095aea0427",
   "metadata": {},
   "source": [
    "Pour tout le jeu de données"
   ]
  },
  {
   "cell_type": "code",
   "execution_count": 33,
   "id": "225af2aa-0bc9-4a96-b8b0-03d124a8ea59",
   "metadata": {},
   "outputs": [
    {
     "name": "stdout",
     "output_type": "stream",
     "text": [
      "\n",
      "mean_cosine_similarity: 0.51 (sachant que la cosine similarity va de 1 à -1)\n"
     ]
    }
   ],
   "source": [
    "MCS1als, MCS1als_df = get_mean_cosine_similarity(data_valid, valid_sparse_user_item, reco_collaborative_filtering_als, 5)\n",
    "print(f\"\\nmean_cosine_similarity: {MCS1als:.2f} (sachant que la cosine similarity va de 1 à -1)\")"
   ]
  },
  {
   "cell_type": "markdown",
   "id": "af23d3a3-7337-4925-9830-3b2e05591245",
   "metadata": {},
   "source": [
    "Pour les 1000 premiers utilisateurs *(car j'ai du mal à calculer le score sur l'ensemble du jeu de données avec le Content Based Filtering)*"
   ]
  },
  {
   "cell_type": "code",
   "execution_count": 34,
   "id": "9de1b1c6-ab92-4028-91c9-b8bcbc4cd781",
   "metadata": {},
   "outputs": [
    {
     "name": "stdout",
     "output_type": "stream",
     "text": [
      "\n",
      "mean_cosine_similarity: 0.55 (sachant que la cosine similarity va de 1 à -1)\n"
     ]
    }
   ],
   "source": [
    "MCS1als, MCS1als_df = get_mean_cosine_similarity(data_valid, valid_sparse_user_item, reco_collaborative_filtering_als, 5, 1000)\n",
    "print(f\"\\nmean_cosine_similarity: {MCS1als:.2f} (sachant que la cosine similarity va de 1 à -1)\")\n",
    "scores_df.at[model_name,'mean_cosine_similarity'] = MCS1als"
   ]
  },
  {
   "cell_type": "markdown",
   "id": "b731b449-e72f-4346-a4bd-2be898d8a315",
   "metadata": {},
   "source": [
    "#### Regardons la precision@k"
   ]
  },
  {
   "cell_type": "code",
   "execution_count": 35,
   "id": "327350d2-2111-4598-bb4c-ae7956aa89d0",
   "metadata": {},
   "outputs": [
    {
     "name": "stderr",
     "output_type": "stream",
     "text": [
      "100%|█████████████████████████████████████████████████████████████████████████████████████████████████████████████████████████████████████████████████████████████████████████████████████| 84041/84041 [00:23<00:00, 3506.93it/s]"
     ]
    },
    {
     "name": "stdout",
     "output_type": "stream",
     "text": [
      "0.00013656251148963438\n"
     ]
    },
    {
     "name": "stderr",
     "output_type": "stream",
     "text": [
      "\n"
     ]
    }
   ],
   "source": [
    "precision_k = evaluation.precision_at_k(model_als, train_sparse_user_item, valid_sparse_user_item, K=5, show_progress=True, num_threads=1)\n",
    "print(precision_k)\n",
    "scores_df.at[model_name,'precision@k'] = precision_k"
   ]
  },
  {
   "cell_type": "markdown",
   "id": "9b02506f-2a10-4f1f-aad8-7532aeb66d3b",
   "metadata": {},
   "source": [
    "#### Regardons le MAP@k"
   ]
  },
  {
   "cell_type": "code",
   "execution_count": 36,
   "id": "07f0dc35-212d-434a-b1ca-15e7b30c4030",
   "metadata": {},
   "outputs": [
    {
     "name": "stderr",
     "output_type": "stream",
     "text": [
      "100%|█████████████████████████████████████████████████████████████████████████████████████████████████████████████████████████████████████████████████████████████████████████████████████| 84041/84041 [00:24<00:00, 3370.93it/s]"
     ]
    },
    {
     "name": "stdout",
     "output_type": "stream",
     "text": [
      "5.931628609845195e-05\n"
     ]
    },
    {
     "name": "stderr",
     "output_type": "stream",
     "text": [
      "\n"
     ]
    }
   ],
   "source": [
    "map_k = evaluation.mean_average_precision_at_k(model_als, train_sparse_user_item, valid_sparse_user_item, K=5, show_progress=True, num_threads=1)\n",
    "print(map_k)\n",
    "scores_df.at[model_name,'map@k'] = map_k"
   ]
  },
  {
   "cell_type": "markdown",
   "id": "da89c57d-140e-492d-b5d2-35096f066dcf",
   "metadata": {},
   "source": [
    "#### Regardons le nDCG@k"
   ]
  },
  {
   "cell_type": "code",
   "execution_count": 37,
   "id": "dd199c53-579a-4360-b0aa-98e2a9aae5c2",
   "metadata": {},
   "outputs": [
    {
     "name": "stderr",
     "output_type": "stream",
     "text": [
      "100%|█████████████████████████████████████████████████████████████████████████████████████████████████████████████████████████████████████████████████████████████████████████████████████| 84041/84041 [00:24<00:00, 3368.34it/s]"
     ]
    },
    {
     "name": "stdout",
     "output_type": "stream",
     "text": [
      "9.426374434527173e-05\n"
     ]
    },
    {
     "name": "stderr",
     "output_type": "stream",
     "text": [
      "\n"
     ]
    }
   ],
   "source": [
    "ndcg_k = evaluation.ndcg_at_k(model_als, train_sparse_user_item, valid_sparse_user_item, K=5, show_progress=True, num_threads=1)\n",
    "print(ndcg_k)\n",
    "scores_df.at[model_name,'ndcg@k'] = ndcg_k"
   ]
  },
  {
   "cell_type": "markdown",
   "id": "1b13f776-cca1-4afc-8a3a-853395112ea2",
   "metadata": {},
   "source": [
    "#### Comparons"
   ]
  },
  {
   "cell_type": "code",
   "execution_count": 38,
   "id": "cb3d5eca-9be8-4225-9a05-96e99298d2c2",
   "metadata": {},
   "outputs": [
    {
     "data": {
      "text/html": [
       "<div>\n",
       "<style scoped>\n",
       "    .dataframe tbody tr th:only-of-type {\n",
       "        vertical-align: middle;\n",
       "    }\n",
       "\n",
       "    .dataframe tbody tr th {\n",
       "        vertical-align: top;\n",
       "    }\n",
       "\n",
       "    .dataframe thead th {\n",
       "        text-align: right;\n",
       "    }\n",
       "</style>\n",
       "<table border=\"1\" class=\"dataframe\">\n",
       "  <thead>\n",
       "    <tr style=\"text-align: right;\">\n",
       "      <th></th>\n",
       "      <th>mean_cosine_similarity</th>\n",
       "      <th>precision@k</th>\n",
       "      <th>map@k</th>\n",
       "      <th>ndcg@k</th>\n",
       "      <th>training_time</th>\n",
       "    </tr>\n",
       "    <tr>\n",
       "      <th>model_name</th>\n",
       "      <th></th>\n",
       "      <th></th>\n",
       "      <th></th>\n",
       "      <th></th>\n",
       "      <th></th>\n",
       "    </tr>\n",
       "  </thead>\n",
       "  <tbody>\n",
       "    <tr>\n",
       "      <th>AlternatingLeastSquares_with_BM25</th>\n",
       "      <td>0.546562</td>\n",
       "      <td>0.000158</td>\n",
       "      <td>0.000057</td>\n",
       "      <td>0.0001</td>\n",
       "      <td>218.431039</td>\n",
       "    </tr>\n",
       "    <tr>\n",
       "      <th>Content Based Filtering</th>\n",
       "      <td>0.479843</td>\n",
       "      <td>NaN</td>\n",
       "      <td>NaN</td>\n",
       "      <td>NaN</td>\n",
       "      <td>0</td>\n",
       "    </tr>\n",
       "    <tr>\n",
       "      <th>AlternatingLeastSquares</th>\n",
       "      <td>0.549646</td>\n",
       "      <td>0.000137</td>\n",
       "      <td>0.000059</td>\n",
       "      <td>0.000094</td>\n",
       "      <td>250.276323</td>\n",
       "    </tr>\n",
       "  </tbody>\n",
       "</table>\n",
       "</div>"
      ],
      "text/plain": [
       "                                  mean_cosine_similarity precision@k  \\\n",
       "model_name                                                             \n",
       "AlternatingLeastSquares_with_BM25               0.546562    0.000158   \n",
       "Content Based Filtering                         0.479843         NaN   \n",
       "AlternatingLeastSquares                         0.549646    0.000137   \n",
       "\n",
       "                                      map@k    ndcg@k training_time  \n",
       "model_name                                                           \n",
       "AlternatingLeastSquares_with_BM25  0.000057    0.0001    218.431039  \n",
       "Content Based Filtering                 NaN       NaN             0  \n",
       "AlternatingLeastSquares            0.000059  0.000094    250.276323  "
      ]
     },
     "execution_count": 38,
     "metadata": {},
     "output_type": "execute_result"
    }
   ],
   "source": [
    "scores_df"
   ]
  },
  {
   "cell_type": "markdown",
   "id": "c67c40d1-5059-484e-a059-2542cd7259eb",
   "metadata": {},
   "source": [
    "### Logistic Matrix Factorization"
   ]
  },
  {
   "cell_type": "markdown",
   "id": "45bda053-afb7-4c41-bad6-9eb761792ea9",
   "metadata": {},
   "source": [
    "#### Entrainons un premier modèle pour calculer les embeddings utilisateurs et faire des recommandations"
   ]
  },
  {
   "cell_type": "code",
   "execution_count": 39,
   "id": "321cde86-e795-4836-8fb1-df2a52396f7f",
   "metadata": {},
   "outputs": [
    {
     "name": "stderr",
     "output_type": "stream",
     "text": [
      "100%|█████████████████████████████████████████████████████████████████████████████████████████████████████████████████████████████████████████████████████████████████████████████████████████████| 50/50 [00:26<00:00,  1.91it/s]\n"
     ]
    }
   ],
   "source": [
    "model_lmf = implicit.cpu.lmf.LogisticMatrixFactorization(\n",
    "    factors=32,\n",
    "    learning_rate=0.05,\n",
    "    regularization=0.05, \n",
    "    iterations=50,\n",
    ")\n",
    "\n",
    "model_name = model_lmf.__class__.__name__\n",
    "t0 = time.perf_counter()\n",
    "model_lmf.fit(train_sparse_user_item)\n",
    "scores_df.at[model_name,'training_time'] = time.perf_counter() - t0"
   ]
  },
  {
   "cell_type": "markdown",
   "id": "56328f76-e081-4e14-807a-ce8f82b62e81",
   "metadata": {},
   "source": [
    "#### Calculons la cosine similarity moyenne sur le jeu de validation"
   ]
  },
  {
   "cell_type": "code",
   "execution_count": 40,
   "id": "73e4e560-b351-4ac3-8422-7dc833353049",
   "metadata": {},
   "outputs": [],
   "source": [
    "def reco_collaborative_filtering_lmf(user_ids, mean_embeddings, reco_ref, reco_size):\n",
    "    \n",
    "    apply_numpy2 = lambda x : list(map(lookup_articles,x))\n",
    "    apply_numpy = lambda x : list(map(apply_numpy2,x))\n",
    "    \n",
    "    reco_codes, reco_score = model_lmf.recommend(user_ids, reco_ref[user_ids], N=reco_size, filter_already_liked_items=True) \n",
    "    return apply_numpy(reco_codes)"
   ]
  },
  {
   "cell_type": "markdown",
   "id": "80318bd3-e09b-4e95-b0d4-91ad995333ac",
   "metadata": {},
   "source": [
    "Pour tout le jeu de données"
   ]
  },
  {
   "cell_type": "code",
   "execution_count": 41,
   "id": "55deca8f-3524-4d26-961a-4e858bd9c165",
   "metadata": {},
   "outputs": [
    {
     "name": "stdout",
     "output_type": "stream",
     "text": [
      "\n",
      "mean_cosine_similarity: 0.49 (sachant que la cosine similarity va de 1 à -1)\n"
     ]
    }
   ],
   "source": [
    "MCS1lmf, MCS1lmf_df = get_mean_cosine_similarity(data_valid, valid_sparse_user_item, reco_collaborative_filtering_lmf, 5)\n",
    "print(f\"\\nmean_cosine_similarity: {MCS1lmf:.2f} (sachant que la cosine similarity va de 1 à -1)\")"
   ]
  },
  {
   "cell_type": "markdown",
   "id": "1145d305-6934-4395-8828-d80fd5b10929",
   "metadata": {},
   "source": [
    "Pour les 1000 premiers utilisateurs *(car j'ai du mal à calculer le score sur l'ensemble du jeu de données avec le Content Based Filtering)*"
   ]
  },
  {
   "cell_type": "code",
   "execution_count": 42,
   "id": "ce532e21-4091-4261-b270-15439e9571c0",
   "metadata": {},
   "outputs": [
    {
     "name": "stdout",
     "output_type": "stream",
     "text": [
      "\n",
      "mean_cosine_similarity: 0.52 (sachant que la cosine similarity va de 1 à -1)\n"
     ]
    }
   ],
   "source": [
    "MCS1lmf, MCS1lmf_df = get_mean_cosine_similarity(data_valid, valid_sparse_user_item, reco_collaborative_filtering_lmf, 5, 1000)\n",
    "print(f\"\\nmean_cosine_similarity: {MCS1lmf:.2f} (sachant que la cosine similarity va de 1 à -1)\")\n",
    "scores_df.at[model_name,'mean_cosine_similarity'] = MCS1lmf"
   ]
  },
  {
   "cell_type": "markdown",
   "id": "c219e902-f0f1-4bff-9551-1ea05931e2f6",
   "metadata": {},
   "source": [
    "#### Regardons la precision@k"
   ]
  },
  {
   "cell_type": "code",
   "execution_count": 43,
   "id": "4646fcbc-7ecd-4548-8f09-83e87d6a327b",
   "metadata": {},
   "outputs": [
    {
     "name": "stderr",
     "output_type": "stream",
     "text": [
      "100%|█████████████████████████████████████████████████████████████████████████████████████████████████████████████████████████████████████████████████████████████████████████████████████| 84041/84041 [00:25<00:00, 3340.76it/s]"
     ]
    },
    {
     "name": "stdout",
     "output_type": "stream",
     "text": [
      "0.0003309014701479602\n"
     ]
    },
    {
     "name": "stderr",
     "output_type": "stream",
     "text": [
      "\n"
     ]
    }
   ],
   "source": [
    "precision_k = evaluation.precision_at_k(model_lmf, train_sparse_user_item, valid_sparse_user_item, K=5, show_progress=True, num_threads=1)\n",
    "print(precision_k)\n",
    "scores_df.at[model_name,'precision@k'] = precision_k"
   ]
  },
  {
   "cell_type": "markdown",
   "id": "06cf28a9-e719-48cf-8a08-5a64974715f4",
   "metadata": {},
   "source": [
    "#### Regardons le MAP@k"
   ]
  },
  {
   "cell_type": "code",
   "execution_count": 44,
   "id": "fadc42b3-d947-42e5-9f97-561810ece91a",
   "metadata": {},
   "outputs": [
    {
     "name": "stderr",
     "output_type": "stream",
     "text": [
      "100%|█████████████████████████████████████████████████████████████████████████████████████████████████████████████████████████████████████████████████████████████████████████████████████| 84041/84041 [00:25<00:00, 3332.78it/s]"
     ]
    },
    {
     "name": "stdout",
     "output_type": "stream",
     "text": [
      "0.00012547116552899442\n"
     ]
    },
    {
     "name": "stderr",
     "output_type": "stream",
     "text": [
      "\n"
     ]
    }
   ],
   "source": [
    "map_k = evaluation.mean_average_precision_at_k(model_lmf, train_sparse_user_item, valid_sparse_user_item, K=5, show_progress=True, num_threads=1)\n",
    "print(map_k)\n",
    "scores_df.at[model_name,'map@k'] = map_k"
   ]
  },
  {
   "cell_type": "markdown",
   "id": "a4a742b0-0ffc-4ad0-95bf-6d28e987ac18",
   "metadata": {},
   "source": [
    "#### Regardons le nDCG@k"
   ]
  },
  {
   "cell_type": "code",
   "execution_count": 45,
   "id": "a6fc4d15-d68a-4a8b-a4ed-1e18bf9d7c78",
   "metadata": {},
   "outputs": [
    {
     "name": "stderr",
     "output_type": "stream",
     "text": [
      "100%|█████████████████████████████████████████████████████████████████████████████████████████████████████████████████████████████████████████████████████████████████████████████████████| 84041/84041 [00:25<00:00, 3312.53it/s]"
     ]
    },
    {
     "name": "stdout",
     "output_type": "stream",
     "text": [
      "0.00021629735503866384\n"
     ]
    },
    {
     "name": "stderr",
     "output_type": "stream",
     "text": [
      "\n"
     ]
    }
   ],
   "source": [
    "ndcg_k = evaluation.ndcg_at_k(model_lmf, train_sparse_user_item, valid_sparse_user_item, K=5, show_progress=True, num_threads=1)\n",
    "print(ndcg_k)\n",
    "scores_df.at[model_name,'ndcg@k'] = ndcg_k"
   ]
  },
  {
   "cell_type": "markdown",
   "id": "5df914eb-1de2-462a-90d3-0d82edd85d2f",
   "metadata": {},
   "source": [
    "#### Comparons"
   ]
  },
  {
   "cell_type": "code",
   "execution_count": 46,
   "id": "f897693e-7b35-402b-a82e-d0e507cba42e",
   "metadata": {},
   "outputs": [
    {
     "data": {
      "text/html": [
       "<div>\n",
       "<style scoped>\n",
       "    .dataframe tbody tr th:only-of-type {\n",
       "        vertical-align: middle;\n",
       "    }\n",
       "\n",
       "    .dataframe tbody tr th {\n",
       "        vertical-align: top;\n",
       "    }\n",
       "\n",
       "    .dataframe thead th {\n",
       "        text-align: right;\n",
       "    }\n",
       "</style>\n",
       "<table border=\"1\" class=\"dataframe\">\n",
       "  <thead>\n",
       "    <tr style=\"text-align: right;\">\n",
       "      <th></th>\n",
       "      <th>mean_cosine_similarity</th>\n",
       "      <th>precision@k</th>\n",
       "      <th>map@k</th>\n",
       "      <th>ndcg@k</th>\n",
       "      <th>training_time</th>\n",
       "    </tr>\n",
       "    <tr>\n",
       "      <th>model_name</th>\n",
       "      <th></th>\n",
       "      <th></th>\n",
       "      <th></th>\n",
       "      <th></th>\n",
       "      <th></th>\n",
       "    </tr>\n",
       "  </thead>\n",
       "  <tbody>\n",
       "    <tr>\n",
       "      <th>AlternatingLeastSquares_with_BM25</th>\n",
       "      <td>0.546562</td>\n",
       "      <td>0.000158</td>\n",
       "      <td>0.000057</td>\n",
       "      <td>0.0001</td>\n",
       "      <td>218.431039</td>\n",
       "    </tr>\n",
       "    <tr>\n",
       "      <th>Content Based Filtering</th>\n",
       "      <td>0.479843</td>\n",
       "      <td>NaN</td>\n",
       "      <td>NaN</td>\n",
       "      <td>NaN</td>\n",
       "      <td>0</td>\n",
       "    </tr>\n",
       "    <tr>\n",
       "      <th>AlternatingLeastSquares</th>\n",
       "      <td>0.549646</td>\n",
       "      <td>0.000137</td>\n",
       "      <td>0.000059</td>\n",
       "      <td>0.000094</td>\n",
       "      <td>250.276323</td>\n",
       "    </tr>\n",
       "    <tr>\n",
       "      <th>LogisticMatrixFactorization</th>\n",
       "      <td>0.515754</td>\n",
       "      <td>0.000331</td>\n",
       "      <td>0.000125</td>\n",
       "      <td>0.000216</td>\n",
       "      <td>26.603471</td>\n",
       "    </tr>\n",
       "  </tbody>\n",
       "</table>\n",
       "</div>"
      ],
      "text/plain": [
       "                                  mean_cosine_similarity precision@k  \\\n",
       "model_name                                                             \n",
       "AlternatingLeastSquares_with_BM25               0.546562    0.000158   \n",
       "Content Based Filtering                         0.479843         NaN   \n",
       "AlternatingLeastSquares                         0.549646    0.000137   \n",
       "LogisticMatrixFactorization                     0.515754    0.000331   \n",
       "\n",
       "                                      map@k    ndcg@k training_time  \n",
       "model_name                                                           \n",
       "AlternatingLeastSquares_with_BM25  0.000057    0.0001    218.431039  \n",
       "Content Based Filtering                 NaN       NaN             0  \n",
       "AlternatingLeastSquares            0.000059  0.000094    250.276323  \n",
       "LogisticMatrixFactorization        0.000125  0.000216     26.603471  "
      ]
     },
     "execution_count": 46,
     "metadata": {},
     "output_type": "execute_result"
    }
   ],
   "source": [
    "scores_df"
   ]
  },
  {
   "cell_type": "markdown",
   "id": "d127dc70-45bc-46a2-91b8-7fb328a7a094",
   "metadata": {},
   "source": [
    "### Bayesian Personalized Ranking"
   ]
  },
  {
   "cell_type": "markdown",
   "id": "e7c45cb5-208b-452c-8393-4ff3b8c2aa78",
   "metadata": {},
   "source": [
    "#### Entrainons un premier modèle pour calculer les embeddings utilisateurs et faire des recommandations"
   ]
  },
  {
   "cell_type": "code",
   "execution_count": 47,
   "id": "a7e140ce-903f-4ca5-bac6-d326b90796cf",
   "metadata": {},
   "outputs": [
    {
     "name": "stderr",
     "output_type": "stream",
     "text": [
      "100%|████████████████████████████████████████████████████████████████████████████████████████████████████████████████████████████████████████████████████████████| 50/50 [00:07<00:00,  6.56it/s, train_auc=88.18%, skipped=4.26%]\n"
     ]
    }
   ],
   "source": [
    "model_bpr = implicit.cpu.bpr.BayesianPersonalizedRanking(\n",
    "    factors=32,\n",
    "    learning_rate=0.05,\n",
    "    regularization=0.05, \n",
    "    iterations=50,\n",
    ")\n",
    "\n",
    "model_name = model_bpr.__class__.__name__\n",
    "t0 = time.perf_counter()\n",
    "model_bpr.fit(train_sparse_user_item)\n",
    "scores_df.at[model_name,'training_time'] = time.perf_counter() - t0"
   ]
  },
  {
   "cell_type": "markdown",
   "id": "76bed91f-b765-449c-91d4-b570d7a90a91",
   "metadata": {},
   "source": [
    "#### Calculons la cosine similarity moyenne sur le jeu de validation"
   ]
  },
  {
   "cell_type": "code",
   "execution_count": 48,
   "id": "410eac79-e97f-4eb3-b979-e33d818d43ed",
   "metadata": {},
   "outputs": [],
   "source": [
    "def reco_collaborative_filtering_bpr(user_ids, mean_embeddings, reco_ref, reco_size):\n",
    "    \n",
    "    apply_numpy2 = lambda x : list(map(lookup_articles,x))\n",
    "    apply_numpy = lambda x : list(map(apply_numpy2,x))\n",
    "    \n",
    "    reco_codes, reco_score = model_bpr.recommend(user_ids, reco_ref[user_ids], N=reco_size, filter_already_liked_items=True) \n",
    "    return apply_numpy(reco_codes)"
   ]
  },
  {
   "cell_type": "markdown",
   "id": "607f7872-0706-48be-8eba-b4c915fecc96",
   "metadata": {},
   "source": [
    "Pour tout le jeu de données"
   ]
  },
  {
   "cell_type": "code",
   "execution_count": 49,
   "id": "2d013f5a-f08e-4433-b2b1-083674bf34a6",
   "metadata": {},
   "outputs": [
    {
     "name": "stdout",
     "output_type": "stream",
     "text": [
      "\n",
      "mean_cosine_similarity: 0.49 (sachant que la cosine similarity va de 1 à -1)\n"
     ]
    }
   ],
   "source": [
    "MCS1bpr, MCS1bpr_df = get_mean_cosine_similarity(data_valid, valid_sparse_user_item, reco_collaborative_filtering_bpr, 5)\n",
    "print(f\"\\nmean_cosine_similarity: {MCS1bpr:.2f} (sachant que la cosine similarity va de 1 à -1)\")"
   ]
  },
  {
   "cell_type": "markdown",
   "id": "91514693-ed37-4cd5-bd96-dea29205de64",
   "metadata": {},
   "source": [
    "Pour les 1000 premiers utilisateurs *(car j'ai du mal à calculer le score sur l'ensemble du jeu de données avec le Content Based Filtering)*"
   ]
  },
  {
   "cell_type": "code",
   "execution_count": 50,
   "id": "69739914-5a80-40d8-b875-faf584309d7d",
   "metadata": {},
   "outputs": [
    {
     "name": "stdout",
     "output_type": "stream",
     "text": [
      "\n",
      "mean_cosine_similarity: 0.53 (sachant que la cosine similarity va de 1 à -1)\n"
     ]
    }
   ],
   "source": [
    "MCS1bpr, MCS1bpr_df = get_mean_cosine_similarity(data_valid, valid_sparse_user_item, reco_collaborative_filtering_bpr, 5, 1000)\n",
    "print(f\"\\nmean_cosine_similarity: {MCS1bpr:.2f} (sachant que la cosine similarity va de 1 à -1)\")\n",
    "scores_df.at[model_name,'mean_cosine_similarity'] = MCS1bpr"
   ]
  },
  {
   "cell_type": "markdown",
   "id": "9ae48562-da24-4acf-8f30-84869f9ed5df",
   "metadata": {},
   "source": [
    "#### Regardons la precision@k"
   ]
  },
  {
   "cell_type": "code",
   "execution_count": 51,
   "id": "aa1c25aa-57ad-42b6-8687-b0fbc8189393",
   "metadata": {},
   "outputs": [
    {
     "name": "stderr",
     "output_type": "stream",
     "text": [
      "100%|█████████████████████████████████████████████████████████████████████████████████████████████████████████████████████████████████████████████████████████████████████████████████████| 84041/84041 [00:25<00:00, 3316.40it/s]"
     ]
    },
    {
     "name": "stdout",
     "output_type": "stream",
     "text": [
      "9.454327718513149e-05\n"
     ]
    },
    {
     "name": "stderr",
     "output_type": "stream",
     "text": [
      "\n"
     ]
    }
   ],
   "source": [
    "precision_k = evaluation.precision_at_k(model_bpr, train_sparse_user_item, valid_sparse_user_item, K=5, show_progress=True, num_threads=1)\n",
    "print(precision_k)\n",
    "scores_df.at[model_name,'precision@k'] = precision_k"
   ]
  },
  {
   "cell_type": "markdown",
   "id": "67f79f31-12e2-4cac-b6ce-92d04e187dfe",
   "metadata": {},
   "source": [
    "#### Regardons le MAP@k"
   ]
  },
  {
   "cell_type": "code",
   "execution_count": 52,
   "id": "ceaa93e3-6678-426f-b1c6-32b9a6c79132",
   "metadata": {},
   "outputs": [
    {
     "name": "stderr",
     "output_type": "stream",
     "text": [
      "100%|█████████████████████████████████████████████████████████████████████████████████████████████████████████████████████████████████████████████████████████████████████████████████████| 84041/84041 [00:25<00:00, 3287.23it/s]"
     ]
    },
    {
     "name": "stdout",
     "output_type": "stream",
     "text": [
      "2.3563234347256432e-05\n"
     ]
    },
    {
     "name": "stderr",
     "output_type": "stream",
     "text": [
      "\n"
     ]
    }
   ],
   "source": [
    "map_k = evaluation.mean_average_precision_at_k(model_bpr, train_sparse_user_item, valid_sparse_user_item, K=5, show_progress=True, num_threads=1)\n",
    "print(map_k)\n",
    "scores_df.at[model_name,'map@k'] = map_k"
   ]
  },
  {
   "cell_type": "markdown",
   "id": "0671c3d1-9d82-416e-bc2d-c9afabe74f07",
   "metadata": {},
   "source": [
    "#### Regardons le nDCG@k"
   ]
  },
  {
   "cell_type": "code",
   "execution_count": 53,
   "id": "efdc53f0-055d-4afc-a87e-9f3c72ce1840",
   "metadata": {},
   "outputs": [
    {
     "name": "stderr",
     "output_type": "stream",
     "text": [
      "100%|█████████████████████████████████████████████████████████████████████████████████████████████████████████████████████████████████████████████████████████████████████████████████████| 84041/84041 [00:25<00:00, 3343.85it/s]"
     ]
    },
    {
     "name": "stdout",
     "output_type": "stream",
     "text": [
      "4.9678635050222066e-05\n"
     ]
    },
    {
     "name": "stderr",
     "output_type": "stream",
     "text": [
      "\n"
     ]
    }
   ],
   "source": [
    "ndcg_k = evaluation.ndcg_at_k(model_bpr, train_sparse_user_item, valid_sparse_user_item, K=5, show_progress=True, num_threads=1)\n",
    "print(ndcg_k)\n",
    "scores_df.at[model_name,'ndcg@k'] = ndcg_k"
   ]
  },
  {
   "cell_type": "markdown",
   "id": "62c27fdd-5731-43dd-9fcf-8ccbd9f7bc7f",
   "metadata": {},
   "source": [
    "#### Comparons"
   ]
  },
  {
   "cell_type": "code",
   "execution_count": 54,
   "id": "ef8f013d-c96f-4096-ac91-84b9aef24ab6",
   "metadata": {},
   "outputs": [
    {
     "data": {
      "text/html": [
       "<div>\n",
       "<style scoped>\n",
       "    .dataframe tbody tr th:only-of-type {\n",
       "        vertical-align: middle;\n",
       "    }\n",
       "\n",
       "    .dataframe tbody tr th {\n",
       "        vertical-align: top;\n",
       "    }\n",
       "\n",
       "    .dataframe thead th {\n",
       "        text-align: right;\n",
       "    }\n",
       "</style>\n",
       "<table border=\"1\" class=\"dataframe\">\n",
       "  <thead>\n",
       "    <tr style=\"text-align: right;\">\n",
       "      <th></th>\n",
       "      <th>mean_cosine_similarity</th>\n",
       "      <th>precision@k</th>\n",
       "      <th>map@k</th>\n",
       "      <th>ndcg@k</th>\n",
       "      <th>training_time</th>\n",
       "    </tr>\n",
       "    <tr>\n",
       "      <th>model_name</th>\n",
       "      <th></th>\n",
       "      <th></th>\n",
       "      <th></th>\n",
       "      <th></th>\n",
       "      <th></th>\n",
       "    </tr>\n",
       "  </thead>\n",
       "  <tbody>\n",
       "    <tr>\n",
       "      <th>AlternatingLeastSquares_with_BM25</th>\n",
       "      <td>0.546562</td>\n",
       "      <td>0.000158</td>\n",
       "      <td>0.000057</td>\n",
       "      <td>0.0001</td>\n",
       "      <td>218.431039</td>\n",
       "    </tr>\n",
       "    <tr>\n",
       "      <th>Content Based Filtering</th>\n",
       "      <td>0.479843</td>\n",
       "      <td>NaN</td>\n",
       "      <td>NaN</td>\n",
       "      <td>NaN</td>\n",
       "      <td>0</td>\n",
       "    </tr>\n",
       "    <tr>\n",
       "      <th>AlternatingLeastSquares</th>\n",
       "      <td>0.549646</td>\n",
       "      <td>0.000137</td>\n",
       "      <td>0.000059</td>\n",
       "      <td>0.000094</td>\n",
       "      <td>250.276323</td>\n",
       "    </tr>\n",
       "    <tr>\n",
       "      <th>LogisticMatrixFactorization</th>\n",
       "      <td>0.515754</td>\n",
       "      <td>0.000331</td>\n",
       "      <td>0.000125</td>\n",
       "      <td>0.000216</td>\n",
       "      <td>26.603471</td>\n",
       "    </tr>\n",
       "    <tr>\n",
       "      <th>BayesianPersonalizedRanking</th>\n",
       "      <td>0.525987</td>\n",
       "      <td>0.000095</td>\n",
       "      <td>0.000024</td>\n",
       "      <td>0.00005</td>\n",
       "      <td>7.832134</td>\n",
       "    </tr>\n",
       "  </tbody>\n",
       "</table>\n",
       "</div>"
      ],
      "text/plain": [
       "                                  mean_cosine_similarity precision@k  \\\n",
       "model_name                                                             \n",
       "AlternatingLeastSquares_with_BM25               0.546562    0.000158   \n",
       "Content Based Filtering                         0.479843         NaN   \n",
       "AlternatingLeastSquares                         0.549646    0.000137   \n",
       "LogisticMatrixFactorization                     0.515754    0.000331   \n",
       "BayesianPersonalizedRanking                     0.525987    0.000095   \n",
       "\n",
       "                                      map@k    ndcg@k training_time  \n",
       "model_name                                                           \n",
       "AlternatingLeastSquares_with_BM25  0.000057    0.0001    218.431039  \n",
       "Content Based Filtering                 NaN       NaN             0  \n",
       "AlternatingLeastSquares            0.000059  0.000094    250.276323  \n",
       "LogisticMatrixFactorization        0.000125  0.000216     26.603471  \n",
       "BayesianPersonalizedRanking        0.000024   0.00005      7.832134  "
      ]
     },
     "execution_count": 54,
     "metadata": {},
     "output_type": "execute_result"
    }
   ],
   "source": [
    "scores_df"
   ]
  },
  {
   "cell_type": "markdown",
   "id": "028d380f-1015-470f-9279-8d9f868cd2c7",
   "metadata": {},
   "source": [
    "### Item Item Recommender"
   ]
  },
  {
   "cell_type": "code",
   "execution_count": 55,
   "id": "c425b8d2-8986-432e-88c8-7827fb503470",
   "metadata": {},
   "outputs": [],
   "source": [
    "model_name = \"ItemItemRecommender\""
   ]
  },
  {
   "cell_type": "markdown",
   "id": "0b180bcc-1a52-4f3e-b900-a4c19c516973",
   "metadata": {},
   "source": [
    "#### Entrainons un premier modèle pour calculer les embeddings utilisateurs et faire des recommandations"
   ]
  },
  {
   "cell_type": "code",
   "execution_count": 56,
   "id": "39f4d645-4307-49a0-b788-755c33cc48f0",
   "metadata": {},
   "outputs": [
    {
     "name": "stderr",
     "output_type": "stream",
     "text": [
      "100%|███████████████████████████████████████████████████████████████████████████████████████████████████████████████████████████████████████████████████████████████████████████████████| 28002/28002 [00:00<00:00, 115543.13it/s]\n"
     ]
    }
   ],
   "source": [
    "model_iir = implicit.nearest_neighbours.ItemItemRecommender()\n",
    "\n",
    "model_name = model_iir.__class__.__name__\n",
    "t0 = time.perf_counter()\n",
    "model_iir.fit(train_sparse_user_item)\n",
    "scores_df.at[model_name,'training_time'] = time.perf_counter() - t0"
   ]
  },
  {
   "cell_type": "markdown",
   "id": "c2d44cd6-8f58-4a43-944c-d912957316a7",
   "metadata": {},
   "source": [
    "#### Calculons la cosine similarity moyenne sur le jeu de validation"
   ]
  },
  {
   "cell_type": "code",
   "execution_count": 57,
   "id": "473472a7-4d5a-4465-a44d-cf02b96fd030",
   "metadata": {},
   "outputs": [],
   "source": [
    "def reco_collaborative_filtering_iir(user_ids, mean_embeddings, reco_ref, reco_size):\n",
    "    \n",
    "    apply_numpy2 = lambda x : list(map(lookup_articles,x))\n",
    "    apply_numpy = lambda x : list(map(apply_numpy2,x))\n",
    "    \n",
    "    reco_codes, reco_score = model_iir.recommend(user_ids, reco_ref[user_ids], N=reco_size, filter_already_liked_items=True) \n",
    "    return apply_numpy(reco_codes)"
   ]
  },
  {
   "cell_type": "markdown",
   "id": "21b4b35b-6fb9-4ce5-b1b7-18034d7be721",
   "metadata": {},
   "source": [
    "Pour tout le jeu de données"
   ]
  },
  {
   "cell_type": "code",
   "execution_count": 58,
   "id": "2ae861ba-ba0c-4e6b-b1f8-259904c4d1d9",
   "metadata": {
    "tags": []
   },
   "outputs": [
    {
     "name": "stdout",
     "output_type": "stream",
     "text": [
      "\n",
      "mean_cosine_similarity: 0.49 (sachant que la cosine similarity va de 1 à -1)\n"
     ]
    }
   ],
   "source": [
    "MCS1iir, MCS1iir_df = get_mean_cosine_similarity(data_valid, valid_sparse_user_item, reco_collaborative_filtering_iir, 5)\n",
    "print(f\"\\nmean_cosine_similarity: {MCS1iir:.2f} (sachant que la cosine similarity va de 1 à -1)\")"
   ]
  },
  {
   "cell_type": "markdown",
   "id": "b1a8974c-559c-4c02-9fb6-d072246a5d3a",
   "metadata": {},
   "source": [
    "Pour les 1000 premiers utilisateurs *(car j'ai du mal à calculer le score sur l'ensemble du jeu de données avec le Content Based Filtering)*"
   ]
  },
  {
   "cell_type": "code",
   "execution_count": 59,
   "id": "d45a6f0e-37b2-4123-b713-8d987e843396",
   "metadata": {},
   "outputs": [
    {
     "name": "stdout",
     "output_type": "stream",
     "text": [
      "\n",
      "mean_cosine_similarity: 0.51 (sachant que la cosine similarity va de 1 à -1)\n"
     ]
    }
   ],
   "source": [
    "MCS1iir, MCS1iir_df = get_mean_cosine_similarity(data_valid, valid_sparse_user_item, reco_collaborative_filtering_iir, 5, 1000)\n",
    "print(f\"\\nmean_cosine_similarity: {MCS1iir:.2f} (sachant que la cosine similarity va de 1 à -1)\")\n",
    "scores_df.at[model_name,'mean_cosine_similarity'] = MCS1iir"
   ]
  },
  {
   "cell_type": "markdown",
   "id": "cbcf5f5d-86f3-428f-b13e-2d45ed2fa6e6",
   "metadata": {},
   "source": [
    "#### Regardons la precision@k"
   ]
  },
  {
   "cell_type": "code",
   "execution_count": 60,
   "id": "04d1b72c-e4b0-41bd-b7d5-0197b88fb665",
   "metadata": {},
   "outputs": [
    {
     "name": "stderr",
     "output_type": "stream",
     "text": [
      "100%|█████████████████████████████████████████████████████████████████████████████████████████████████████████████████████████████████████████████████████████████████████████████████████| 84041/84041 [00:09<00:00, 8909.93it/s]"
     ]
    },
    {
     "name": "stdout",
     "output_type": "stream",
     "text": [
      "0.0005567548545346632\n"
     ]
    },
    {
     "name": "stderr",
     "output_type": "stream",
     "text": [
      "\n"
     ]
    }
   ],
   "source": [
    "precision_k = evaluation.precision_at_k(model_iir, train_sparse_user_item, valid_sparse_user_item, K=5, show_progress=True, num_threads=1)\n",
    "print(precision_k)\n",
    "scores_df.at[model_name,'precision@k'] = precision_k"
   ]
  },
  {
   "cell_type": "markdown",
   "id": "0b600577-d623-4d4e-82b9-a7ad4810d68a",
   "metadata": {},
   "source": [
    "#### Regardons le MAP@k"
   ]
  },
  {
   "cell_type": "code",
   "execution_count": 61,
   "id": "f34edf89-3457-4b06-9898-2c125a2f5c35",
   "metadata": {},
   "outputs": [
    {
     "name": "stderr",
     "output_type": "stream",
     "text": [
      "100%|█████████████████████████████████████████████████████████████████████████████████████████████████████████████████████████████████████████████████████████████████████████████████████| 84041/84041 [00:08<00:00, 9699.66it/s]"
     ]
    },
    {
     "name": "stdout",
     "output_type": "stream",
     "text": [
      "0.0002331963631507901\n"
     ]
    },
    {
     "name": "stderr",
     "output_type": "stream",
     "text": [
      "\n"
     ]
    }
   ],
   "source": [
    "map_k = evaluation.mean_average_precision_at_k(model_iir, train_sparse_user_item, valid_sparse_user_item, K=5, show_progress=True, num_threads=1)\n",
    "print(map_k)\n",
    "scores_df.at[model_name,'map@k'] = map_k"
   ]
  },
  {
   "cell_type": "markdown",
   "id": "f65ee16c-21e3-4705-a971-671f9a93fd75",
   "metadata": {},
   "source": [
    "#### Regardons le nDCG@k"
   ]
  },
  {
   "cell_type": "code",
   "execution_count": 62,
   "id": "2027d7b8-233f-4227-8da5-3c83787e6530",
   "metadata": {},
   "outputs": [
    {
     "name": "stderr",
     "output_type": "stream",
     "text": [
      "100%|█████████████████████████████████████████████████████████████████████████████████████████████████████████████████████████████████████████████████████████████████████████████████████| 84041/84041 [00:09<00:00, 8868.24it/s]"
     ]
    },
    {
     "name": "stdout",
     "output_type": "stream",
     "text": [
      "0.000389925374540457\n"
     ]
    },
    {
     "name": "stderr",
     "output_type": "stream",
     "text": [
      "\n"
     ]
    }
   ],
   "source": [
    "ndcg_k = evaluation.ndcg_at_k(model_iir, train_sparse_user_item, valid_sparse_user_item, K=5, show_progress=True, num_threads=1)\n",
    "print(ndcg_k)\n",
    "scores_df.at[model_name,'ndcg@k'] = ndcg_k"
   ]
  },
  {
   "cell_type": "markdown",
   "id": "d62becde-2837-400a-870a-0bdb40c1a369",
   "metadata": {},
   "source": [
    "#### Comparons"
   ]
  },
  {
   "cell_type": "code",
   "execution_count": 63,
   "id": "668d3513-a032-4dc0-8d8d-017958519885",
   "metadata": {},
   "outputs": [
    {
     "data": {
      "text/html": [
       "<div>\n",
       "<style scoped>\n",
       "    .dataframe tbody tr th:only-of-type {\n",
       "        vertical-align: middle;\n",
       "    }\n",
       "\n",
       "    .dataframe tbody tr th {\n",
       "        vertical-align: top;\n",
       "    }\n",
       "\n",
       "    .dataframe thead th {\n",
       "        text-align: right;\n",
       "    }\n",
       "</style>\n",
       "<table border=\"1\" class=\"dataframe\">\n",
       "  <thead>\n",
       "    <tr style=\"text-align: right;\">\n",
       "      <th></th>\n",
       "      <th>mean_cosine_similarity</th>\n",
       "      <th>precision@k</th>\n",
       "      <th>map@k</th>\n",
       "      <th>ndcg@k</th>\n",
       "      <th>training_time</th>\n",
       "    </tr>\n",
       "    <tr>\n",
       "      <th>model_name</th>\n",
       "      <th></th>\n",
       "      <th></th>\n",
       "      <th></th>\n",
       "      <th></th>\n",
       "      <th></th>\n",
       "    </tr>\n",
       "  </thead>\n",
       "  <tbody>\n",
       "    <tr>\n",
       "      <th>AlternatingLeastSquares_with_BM25</th>\n",
       "      <td>0.546562</td>\n",
       "      <td>0.000158</td>\n",
       "      <td>0.000057</td>\n",
       "      <td>0.0001</td>\n",
       "      <td>218.431039</td>\n",
       "    </tr>\n",
       "    <tr>\n",
       "      <th>Content Based Filtering</th>\n",
       "      <td>0.479843</td>\n",
       "      <td>NaN</td>\n",
       "      <td>NaN</td>\n",
       "      <td>NaN</td>\n",
       "      <td>0</td>\n",
       "    </tr>\n",
       "    <tr>\n",
       "      <th>AlternatingLeastSquares</th>\n",
       "      <td>0.549646</td>\n",
       "      <td>0.000137</td>\n",
       "      <td>0.000059</td>\n",
       "      <td>0.000094</td>\n",
       "      <td>250.276323</td>\n",
       "    </tr>\n",
       "    <tr>\n",
       "      <th>LogisticMatrixFactorization</th>\n",
       "      <td>0.515754</td>\n",
       "      <td>0.000331</td>\n",
       "      <td>0.000125</td>\n",
       "      <td>0.000216</td>\n",
       "      <td>26.603471</td>\n",
       "    </tr>\n",
       "    <tr>\n",
       "      <th>BayesianPersonalizedRanking</th>\n",
       "      <td>0.525987</td>\n",
       "      <td>0.000095</td>\n",
       "      <td>0.000024</td>\n",
       "      <td>0.00005</td>\n",
       "      <td>7.832134</td>\n",
       "    </tr>\n",
       "    <tr>\n",
       "      <th>ItemItemRecommender</th>\n",
       "      <td>0.509033</td>\n",
       "      <td>0.000557</td>\n",
       "      <td>0.000233</td>\n",
       "      <td>0.00039</td>\n",
       "      <td>0.311624</td>\n",
       "    </tr>\n",
       "  </tbody>\n",
       "</table>\n",
       "</div>"
      ],
      "text/plain": [
       "                                  mean_cosine_similarity precision@k  \\\n",
       "model_name                                                             \n",
       "AlternatingLeastSquares_with_BM25               0.546562    0.000158   \n",
       "Content Based Filtering                         0.479843         NaN   \n",
       "AlternatingLeastSquares                         0.549646    0.000137   \n",
       "LogisticMatrixFactorization                     0.515754    0.000331   \n",
       "BayesianPersonalizedRanking                     0.525987    0.000095   \n",
       "ItemItemRecommender                             0.509033    0.000557   \n",
       "\n",
       "                                      map@k    ndcg@k training_time  \n",
       "model_name                                                           \n",
       "AlternatingLeastSquares_with_BM25  0.000057    0.0001    218.431039  \n",
       "Content Based Filtering                 NaN       NaN             0  \n",
       "AlternatingLeastSquares            0.000059  0.000094    250.276323  \n",
       "LogisticMatrixFactorization        0.000125  0.000216     26.603471  \n",
       "BayesianPersonalizedRanking        0.000024   0.00005      7.832134  \n",
       "ItemItemRecommender                0.000233   0.00039      0.311624  "
      ]
     },
     "execution_count": 63,
     "metadata": {},
     "output_type": "execute_result"
    }
   ],
   "source": [
    "scores_df"
   ]
  },
  {
   "cell_type": "code",
   "execution_count": null,
   "id": "01a098b4-9641-49cb-8fb3-7946d34dc2c0",
   "metadata": {},
   "outputs": [],
   "source": []
  },
  {
   "cell_type": "markdown",
   "id": "367b8c16-610d-489b-a4bf-bfd3a33ead61",
   "metadata": {},
   "source": [
    "## 1.4 Modèle baseline <a class=\"anchor\" id=\"models_baseline\"></a> [⇪](#menu)\n",
    "\n",
    "Qu'obtenons-nous en donnant des ID d'articles au hasard plutôt qu'en cherchant les plus proches ?"
   ]
  },
  {
   "cell_type": "code",
   "execution_count": 64,
   "id": "a544eeb4-7812-4a6e-9ee9-1363e93afd7b",
   "metadata": {},
   "outputs": [],
   "source": [
    "def reco_random(user_ids, mean_embeddings, reco_ref, reco_size):\n",
    "    np.random.seed(random_seed)\n",
    "    return list(np.random.randint(len(article_embedding), size=(len(user_ids), rec_size)))"
   ]
  },
  {
   "cell_type": "markdown",
   "id": "bda2cd06-05ac-4763-b42c-edefe911e790",
   "metadata": {},
   "source": [
    "#### Pour tout le jeu de données"
   ]
  },
  {
   "cell_type": "code",
   "execution_count": 65,
   "id": "fdedf432-54e2-4cc4-a18b-b221a521e775",
   "metadata": {},
   "outputs": [
    {
     "data": {
      "text/html": [
       "<div>\n",
       "<style scoped>\n",
       "    .dataframe tbody tr th:only-of-type {\n",
       "        vertical-align: middle;\n",
       "    }\n",
       "\n",
       "    .dataframe tbody tr th {\n",
       "        vertical-align: top;\n",
       "    }\n",
       "\n",
       "    .dataframe thead th {\n",
       "        text-align: right;\n",
       "    }\n",
       "</style>\n",
       "<table border=\"1\" class=\"dataframe\">\n",
       "  <thead>\n",
       "    <tr style=\"text-align: right;\">\n",
       "      <th></th>\n",
       "      <th>article_ids</th>\n",
       "      <th>read_mean_embedding</th>\n",
       "      <th>reco_article_ids</th>\n",
       "      <th>reco_mean_embedding</th>\n",
       "      <th>cosine</th>\n",
       "    </tr>\n",
       "    <tr>\n",
       "      <th>user_id</th>\n",
       "      <th></th>\n",
       "      <th></th>\n",
       "      <th></th>\n",
       "      <th></th>\n",
       "      <th></th>\n",
       "    </tr>\n",
       "  </thead>\n",
       "  <tbody>\n",
       "    <tr>\n",
       "      <th>5</th>\n",
       "      <td>[225010, 69353, 161872, 205845, 57748, 157815,...</td>\n",
       "      <td>[-0.024590481, -0.9645934, -0.06022447, -0.023...</td>\n",
       "      <td>[305711, 117952, 152315, 358083, 359783]</td>\n",
       "      <td>[-0.15132096, -0.956843, 0.125719, -0.27082413...</td>\n",
       "      <td>0.557499</td>\n",
       "    </tr>\n",
       "    <tr>\n",
       "      <th>7</th>\n",
       "      <td>[199474, 87223, 352979, 284470, 36162, 156279]</td>\n",
       "      <td>[-0.11400774, -0.96468645, -0.32728586, -0.201...</td>\n",
       "      <td>[304137, 122579, 86293, 211543, 212038]</td>\n",
       "      <td>[-0.4073767, -0.959381, -0.1800201, -0.0457417...</td>\n",
       "      <td>0.672065</td>\n",
       "    </tr>\n",
       "    <tr>\n",
       "      <th>8</th>\n",
       "      <td>[331116, 96141, 234481]</td>\n",
       "      <td>[-0.32962552, -0.97033435, 0.20547153, -0.0870...</td>\n",
       "      <td>[310744, 170584, 314764, 80186, 17089]</td>\n",
       "      <td>[-0.4528594, -0.96688926, 0.4099636, -0.472056...</td>\n",
       "      <td>0.585191</td>\n",
       "    </tr>\n",
       "    <tr>\n",
       "      <th>10</th>\n",
       "      <td>[196588, 193449, 195689, 65991, 100931, 58556,...</td>\n",
       "      <td>[-0.23681411, -0.96241695, -0.08872973, -0.346...</td>\n",
       "      <td>[150055, 220760, 363345, 255653, 82457]</td>\n",
       "      <td>[-0.3074916, -0.96819973, 0.09544015, -0.04938...</td>\n",
       "      <td>0.642696</td>\n",
       "    </tr>\n",
       "    <tr>\n",
       "      <th>11</th>\n",
       "      <td>[208582, 96877, 195177, 205824]</td>\n",
       "      <td>[-0.15431535, -0.9709704, 0.069619074, 0.13036...</td>\n",
       "      <td>[329843, 332752, 7877, 346110, 73135]</td>\n",
       "      <td>[0.16090424, -0.96745205, -0.013877422, -0.109...</td>\n",
       "      <td>0.418073</td>\n",
       "    </tr>\n",
       "  </tbody>\n",
       "</table>\n",
       "</div>"
      ],
      "text/plain": [
       "                                               article_ids  \\\n",
       "user_id                                                      \n",
       "5        [225010, 69353, 161872, 205845, 57748, 157815,...   \n",
       "7           [199474, 87223, 352979, 284470, 36162, 156279]   \n",
       "8                                  [331116, 96141, 234481]   \n",
       "10       [196588, 193449, 195689, 65991, 100931, 58556,...   \n",
       "11                         [208582, 96877, 195177, 205824]   \n",
       "\n",
       "                                       read_mean_embedding  \\\n",
       "user_id                                                      \n",
       "5        [-0.024590481, -0.9645934, -0.06022447, -0.023...   \n",
       "7        [-0.11400774, -0.96468645, -0.32728586, -0.201...   \n",
       "8        [-0.32962552, -0.97033435, 0.20547153, -0.0870...   \n",
       "10       [-0.23681411, -0.96241695, -0.08872973, -0.346...   \n",
       "11       [-0.15431535, -0.9709704, 0.069619074, 0.13036...   \n",
       "\n",
       "                                 reco_article_ids  \\\n",
       "user_id                                             \n",
       "5        [305711, 117952, 152315, 358083, 359783]   \n",
       "7         [304137, 122579, 86293, 211543, 212038]   \n",
       "8          [310744, 170584, 314764, 80186, 17089]   \n",
       "10        [150055, 220760, 363345, 255653, 82457]   \n",
       "11          [329843, 332752, 7877, 346110, 73135]   \n",
       "\n",
       "                                       reco_mean_embedding    cosine  \n",
       "user_id                                                               \n",
       "5        [-0.15132096, -0.956843, 0.125719, -0.27082413...  0.557499  \n",
       "7        [-0.4073767, -0.959381, -0.1800201, -0.0457417...  0.672065  \n",
       "8        [-0.4528594, -0.96688926, 0.4099636, -0.472056...  0.585191  \n",
       "10       [-0.3074916, -0.96819973, 0.09544015, -0.04938...  0.642696  \n",
       "11       [0.16090424, -0.96745205, -0.013877422, -0.109...  0.418073  "
      ]
     },
     "metadata": {},
     "output_type": "display_data"
    },
    {
     "data": {
      "text/plain": [
       "(46638, 5)"
      ]
     },
     "metadata": {},
     "output_type": "display_data"
    },
    {
     "name": "stdout",
     "output_type": "stream",
     "text": [
      "\n",
      "mean_cosine_similarity: 0.46 (sachant que la cosine similarity va de 1 à -1)\n"
     ]
    }
   ],
   "source": [
    "MCSbl, MCSbl_df = get_mean_cosine_similarity(data_valid, valid_sparse_user_item, reco_random, 5)\n",
    "\n",
    "display(MCSbl_df.head(), MCSbl_df.shape)\n",
    "print(f\"\\nmean_cosine_similarity: {MCSbl:.2f} (sachant que la cosine similarity va de 1 à -1)\")"
   ]
  },
  {
   "cell_type": "markdown",
   "id": "b21a194a-a38c-4c3a-86b8-b0560cad8f0a",
   "metadata": {},
   "source": [
    "#### Pour les 1000 premiers utilisateurs *(car j'ai du mal à calculer le score sur l'ensemble du jeu de données avec le Content Based Filtering)*"
   ]
  },
  {
   "cell_type": "code",
   "execution_count": 66,
   "id": "720e9d6d-a702-45b4-a3d7-6084896ee5d3",
   "metadata": {},
   "outputs": [
    {
     "name": "stdout",
     "output_type": "stream",
     "text": [
      "\n",
      "mean_cosine_similarity: 0.48 (sachant que la cosine similarity va de 1 à -1)\n"
     ]
    }
   ],
   "source": [
    "MCSbl, MCSbl_df = get_mean_cosine_similarity(data_valid, valid_sparse_user_item, reco_random, 5, 1000)\n",
    "print(f\"\\nmean_cosine_similarity: {MCSbl:.2f} (sachant que la cosine similarity va de 1 à -1)\")\n",
    "\n",
    "model_name = \"Content Based Filtering - Random\"\n",
    "scores_df.at[model_name,'mean_cosine_similarity'] = MCSbl\n",
    "scores_df.at[model_name,'training_time'] = 0"
   ]
  },
  {
   "cell_type": "markdown",
   "id": "199552b4-21b6-4591-bdeb-a71cfbee029d",
   "metadata": {},
   "source": [
    "#### Vérifions la distribution des conine_similarity calculés"
   ]
  },
  {
   "cell_type": "code",
   "execution_count": 67,
   "id": "3c4b9181-2ac0-4ff8-a679-c734921580f1",
   "metadata": {},
   "outputs": [
    {
     "data": {
      "text/html": [
       "<div>\n",
       "<style scoped>\n",
       "    .dataframe tbody tr th:only-of-type {\n",
       "        vertical-align: middle;\n",
       "    }\n",
       "\n",
       "    .dataframe tbody tr th {\n",
       "        vertical-align: top;\n",
       "    }\n",
       "\n",
       "    .dataframe thead th {\n",
       "        text-align: right;\n",
       "    }\n",
       "</style>\n",
       "<table border=\"1\" class=\"dataframe\">\n",
       "  <thead>\n",
       "    <tr style=\"text-align: right;\">\n",
       "      <th></th>\n",
       "      <th>count</th>\n",
       "      <th>mean</th>\n",
       "      <th>std</th>\n",
       "      <th>min</th>\n",
       "      <th>25%</th>\n",
       "      <th>50%</th>\n",
       "      <th>75%</th>\n",
       "      <th>max</th>\n",
       "    </tr>\n",
       "  </thead>\n",
       "  <tbody>\n",
       "    <tr>\n",
       "      <th>cosine</th>\n",
       "      <td>1000.0</td>\n",
       "      <td>0.482212</td>\n",
       "      <td>0.13109</td>\n",
       "      <td>0.04751</td>\n",
       "      <td>0.394346</td>\n",
       "      <td>0.495873</td>\n",
       "      <td>0.57634</td>\n",
       "      <td>0.826292</td>\n",
       "    </tr>\n",
       "  </tbody>\n",
       "</table>\n",
       "</div>"
      ],
      "text/plain": [
       "         count      mean      std      min       25%       50%      75%  \\\n",
       "cosine  1000.0  0.482212  0.13109  0.04751  0.394346  0.495873  0.57634   \n",
       "\n",
       "             max  \n",
       "cosine  0.826292  "
      ]
     },
     "execution_count": 67,
     "metadata": {},
     "output_type": "execute_result"
    }
   ],
   "source": [
    "MCSbl_df.describe().T"
   ]
  },
  {
   "cell_type": "code",
   "execution_count": null,
   "id": "5aacc9ad-4698-43da-999e-5f9c15e49de5",
   "metadata": {},
   "outputs": [],
   "source": []
  },
  {
   "cell_type": "markdown",
   "id": "89e64da9-169e-4d3b-8a91-12399f987e95",
   "metadata": {},
   "source": [
    "## 1.4 Revue des scores <a class=\"anchor\" id=\"models_scores\"></a> [⇪](#menu)"
   ]
  },
  {
   "cell_type": "code",
   "execution_count": 68,
   "id": "c57e79d2-7c18-49df-8632-ee8618a21f71",
   "metadata": {},
   "outputs": [
    {
     "data": {
      "text/html": [
       "<div>\n",
       "<style scoped>\n",
       "    .dataframe tbody tr th:only-of-type {\n",
       "        vertical-align: middle;\n",
       "    }\n",
       "\n",
       "    .dataframe tbody tr th {\n",
       "        vertical-align: top;\n",
       "    }\n",
       "\n",
       "    .dataframe thead th {\n",
       "        text-align: right;\n",
       "    }\n",
       "</style>\n",
       "<table border=\"1\" class=\"dataframe\">\n",
       "  <thead>\n",
       "    <tr style=\"text-align: right;\">\n",
       "      <th></th>\n",
       "      <th>mean_cosine_similarity</th>\n",
       "      <th>precision@k</th>\n",
       "      <th>map@k</th>\n",
       "      <th>ndcg@k</th>\n",
       "      <th>training_time</th>\n",
       "    </tr>\n",
       "    <tr>\n",
       "      <th>model_name</th>\n",
       "      <th></th>\n",
       "      <th></th>\n",
       "      <th></th>\n",
       "      <th></th>\n",
       "      <th></th>\n",
       "    </tr>\n",
       "  </thead>\n",
       "  <tbody>\n",
       "    <tr>\n",
       "      <th>AlternatingLeastSquares_with_BM25</th>\n",
       "      <td>0.546562</td>\n",
       "      <td>0.000158</td>\n",
       "      <td>0.000057</td>\n",
       "      <td>0.0001</td>\n",
       "      <td>218.431039</td>\n",
       "    </tr>\n",
       "    <tr>\n",
       "      <th>Content Based Filtering</th>\n",
       "      <td>0.479843</td>\n",
       "      <td>NaN</td>\n",
       "      <td>NaN</td>\n",
       "      <td>NaN</td>\n",
       "      <td>0</td>\n",
       "    </tr>\n",
       "    <tr>\n",
       "      <th>AlternatingLeastSquares</th>\n",
       "      <td>0.549646</td>\n",
       "      <td>0.000137</td>\n",
       "      <td>0.000059</td>\n",
       "      <td>0.000094</td>\n",
       "      <td>250.276323</td>\n",
       "    </tr>\n",
       "    <tr>\n",
       "      <th>LogisticMatrixFactorization</th>\n",
       "      <td>0.515754</td>\n",
       "      <td>0.000331</td>\n",
       "      <td>0.000125</td>\n",
       "      <td>0.000216</td>\n",
       "      <td>26.603471</td>\n",
       "    </tr>\n",
       "    <tr>\n",
       "      <th>BayesianPersonalizedRanking</th>\n",
       "      <td>0.525987</td>\n",
       "      <td>0.000095</td>\n",
       "      <td>0.000024</td>\n",
       "      <td>0.00005</td>\n",
       "      <td>7.832134</td>\n",
       "    </tr>\n",
       "    <tr>\n",
       "      <th>ItemItemRecommender</th>\n",
       "      <td>0.509033</td>\n",
       "      <td>0.000557</td>\n",
       "      <td>0.000233</td>\n",
       "      <td>0.00039</td>\n",
       "      <td>0.311624</td>\n",
       "    </tr>\n",
       "    <tr>\n",
       "      <th>Content Based Filtering - Random</th>\n",
       "      <td>0.482212</td>\n",
       "      <td>NaN</td>\n",
       "      <td>NaN</td>\n",
       "      <td>NaN</td>\n",
       "      <td>0</td>\n",
       "    </tr>\n",
       "  </tbody>\n",
       "</table>\n",
       "</div>"
      ],
      "text/plain": [
       "                                  mean_cosine_similarity precision@k  \\\n",
       "model_name                                                             \n",
       "AlternatingLeastSquares_with_BM25               0.546562    0.000158   \n",
       "Content Based Filtering                         0.479843         NaN   \n",
       "AlternatingLeastSquares                         0.549646    0.000137   \n",
       "LogisticMatrixFactorization                     0.515754    0.000331   \n",
       "BayesianPersonalizedRanking                     0.525987    0.000095   \n",
       "ItemItemRecommender                             0.509033    0.000557   \n",
       "Content Based Filtering - Random                0.482212         NaN   \n",
       "\n",
       "                                      map@k    ndcg@k training_time  \n",
       "model_name                                                           \n",
       "AlternatingLeastSquares_with_BM25  0.000057    0.0001    218.431039  \n",
       "Content Based Filtering                 NaN       NaN             0  \n",
       "AlternatingLeastSquares            0.000059  0.000094    250.276323  \n",
       "LogisticMatrixFactorization        0.000125  0.000216     26.603471  \n",
       "BayesianPersonalizedRanking        0.000024   0.00005      7.832134  \n",
       "ItemItemRecommender                0.000233   0.00039      0.311624  \n",
       "Content Based Filtering - Random        NaN       NaN             0  "
      ]
     },
     "execution_count": 68,
     "metadata": {},
     "output_type": "execute_result"
    }
   ],
   "source": [
    "scores_df"
   ]
  },
  {
   "cell_type": "code",
   "execution_count": null,
   "id": "78c899d0-12b3-493f-8890-9c4141c85352",
   "metadata": {},
   "outputs": [],
   "source": []
  },
  {
   "cell_type": "code",
   "execution_count": null,
   "id": "7f9d300c-7927-4c77-aa53-9678abdf1230",
   "metadata": {},
   "outputs": [],
   "source": []
  }
 ],
 "metadata": {
  "kernelspec": {
   "display_name": "venvP9",
   "language": "python",
   "name": "venvp9"
  },
  "language_info": {
   "codemirror_mode": {
    "name": "ipython",
    "version": 3
   },
   "file_extension": ".py",
   "mimetype": "text/x-python",
   "name": "python",
   "nbconvert_exporter": "python",
   "pygments_lexer": "ipython3",
   "version": "3.8.10"
  }
 },
 "nbformat": 4,
 "nbformat_minor": 5
}
