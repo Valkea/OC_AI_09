{
 "cells": [
  {
   "cell_type": "code",
   "execution_count": 1,
   "id": "93abafbe-0ac7-40b0-ade8-96c53aab4356",
   "metadata": {},
   "outputs": [
    {
     "name": "stderr",
     "output_type": "stream",
     "text": [
      "/home/valkea/Dev/OpenClassrooms/Projets_AI/P9/venvP9/lib/python3.8/site-packages/tqdm/auto.py:22: TqdmWarning: IProgress not found. Please update jupyter and ipywidgets. See https://ipywidgets.readthedocs.io/en/stable/user_install.html\n",
      "  from .autonotebook import tqdm as notebook_tqdm\n"
     ]
    }
   ],
   "source": [
    "import pickle \n",
    "\n",
    "import pandas as pd\n",
    "import numpy as np\n",
    "from numpy.linalg import norm\n",
    "\n",
    "import scipy.sparse as sparse\n",
    "from sklearn.metrics.pairwise import cosine_similarity\n",
    "\n",
    "import implicit\n",
    "from implicit.nearest_neighbours import bm25_weight\n",
    "from implicit import evaluation\n",
    "\n",
    "import ml_metrics\n",
    "\n",
    "random_seed = 0\n",
    "np.random.seed(random_seed)"
   ]
  },
  {
   "cell_type": "markdown",
   "id": "cad39195-a13c-4fef-b6db-357ba86c628d",
   "metadata": {},
   "source": [
    "### Chargeons les jeux de données `training` et `validation`"
   ]
  },
  {
   "cell_type": "code",
   "execution_count": 2,
   "id": "da144555-b437-4d9f-b42d-60de186a8588",
   "metadata": {},
   "outputs": [
    {
     "data": {
      "text/html": [
       "<div>\n",
       "<style scoped>\n",
       "    .dataframe tbody tr th:only-of-type {\n",
       "        vertical-align: middle;\n",
       "    }\n",
       "\n",
       "    .dataframe tbody tr th {\n",
       "        vertical-align: top;\n",
       "    }\n",
       "\n",
       "    .dataframe thead th {\n",
       "        text-align: right;\n",
       "    }\n",
       "</style>\n",
       "<table border=\"1\" class=\"dataframe\">\n",
       "  <thead>\n",
       "    <tr style=\"text-align: right;\">\n",
       "      <th></th>\n",
       "      <th>user_id</th>\n",
       "      <th>article_id</th>\n",
       "      <th>score</th>\n",
       "    </tr>\n",
       "  </thead>\n",
       "  <tbody>\n",
       "    <tr>\n",
       "      <th>0</th>\n",
       "      <td>59</td>\n",
       "      <td>234853</td>\n",
       "      <td>0.214286</td>\n",
       "    </tr>\n",
       "    <tr>\n",
       "      <th>1</th>\n",
       "      <td>79</td>\n",
       "      <td>159359</td>\n",
       "      <td>0.215827</td>\n",
       "    </tr>\n",
       "    <tr>\n",
       "      <th>2</th>\n",
       "      <td>154</td>\n",
       "      <td>96663</td>\n",
       "      <td>0.145631</td>\n",
       "    </tr>\n",
       "  </tbody>\n",
       "</table>\n",
       "</div>"
      ],
      "text/plain": [
       "   user_id  article_id     score\n",
       "0       59      234853  0.214286\n",
       "1       79      159359  0.215827\n",
       "2      154       96663  0.145631"
      ]
     },
     "metadata": {},
     "output_type": "display_data"
    },
    {
     "data": {
      "text/plain": [
       "(1577295, 3)"
      ]
     },
     "metadata": {},
     "output_type": "display_data"
    }
   ],
   "source": [
    "data_train = pd.read_csv('data/data_train.csv')\n",
    "display(data_train.head(3), data_train.shape)"
   ]
  },
  {
   "cell_type": "code",
   "execution_count": 3,
   "id": "44a3e34b-21f9-4a36-b5fb-e5542943278f",
   "metadata": {},
   "outputs": [
    {
     "data": {
      "text/html": [
       "<div>\n",
       "<style scoped>\n",
       "    .dataframe tbody tr th:only-of-type {\n",
       "        vertical-align: middle;\n",
       "    }\n",
       "\n",
       "    .dataframe tbody tr th {\n",
       "        vertical-align: top;\n",
       "    }\n",
       "\n",
       "    .dataframe thead th {\n",
       "        text-align: right;\n",
       "    }\n",
       "</style>\n",
       "<table border=\"1\" class=\"dataframe\">\n",
       "  <thead>\n",
       "    <tr style=\"text-align: right;\">\n",
       "      <th></th>\n",
       "      <th>user_id</th>\n",
       "      <th>article_id</th>\n",
       "      <th>score</th>\n",
       "    </tr>\n",
       "  </thead>\n",
       "  <tbody>\n",
       "    <tr>\n",
       "      <th>0</th>\n",
       "      <td>279777</td>\n",
       "      <td>96210</td>\n",
       "      <td>0.109489</td>\n",
       "    </tr>\n",
       "    <tr>\n",
       "      <th>1</th>\n",
       "      <td>29634</td>\n",
       "      <td>284773</td>\n",
       "      <td>0.469863</td>\n",
       "    </tr>\n",
       "    <tr>\n",
       "      <th>2</th>\n",
       "      <td>55</td>\n",
       "      <td>162605</td>\n",
       "      <td>1.324273</td>\n",
       "    </tr>\n",
       "  </tbody>\n",
       "</table>\n",
       "</div>"
      ],
      "text/plain": [
       "   user_id  article_id     score\n",
       "0   279777       96210  0.109489\n",
       "1    29634      284773  0.469863\n",
       "2       55      162605  1.324273"
      ]
     },
     "metadata": {},
     "output_type": "display_data"
    },
    {
     "data": {
      "text/plain": [
       "(241105, 3)"
      ]
     },
     "metadata": {},
     "output_type": "display_data"
    }
   ],
   "source": [
    "data_valid = pd.read_csv('data/data_valid.csv')\n",
    "display(data_valid.head(3), data_valid.shape)"
   ]
  },
  {
   "cell_type": "markdown",
   "id": "47cac9e4-95f4-47c1-a3b9-a5bdf0de5b7e",
   "metadata": {},
   "source": [
    "### Chargons les embeddings"
   ]
  },
  {
   "cell_type": "code",
   "execution_count": 4,
   "id": "ede8ce6e-3345-4a28-8d28-b0921f0bb3bb",
   "metadata": {},
   "outputs": [],
   "source": [
    "file = open('data/news-portal-user-interactions-by-globocom/articles_embeddings.pickle',\"rb\")\n",
    "article_embedding = pickle.load(file)"
   ]
  },
  {
   "cell_type": "code",
   "execution_count": 5,
   "id": "5a882fa2-99bc-4093-b048-f23687abf86f",
   "metadata": {},
   "outputs": [
    {
     "data": {
      "text/plain": [
       "array([[-0.16118301, -0.95723313, -0.13794445, ..., -0.231686  ,\n",
       "         0.5974159 ,  0.40962312],\n",
       "       [-0.52321565, -0.974058  ,  0.73860806, ...,  0.18282819,\n",
       "         0.39708954, -0.83436364],\n",
       "       [-0.61961854, -0.9729604 , -0.20736018, ..., -0.44758022,\n",
       "         0.8059317 , -0.28528407],\n",
       "       [-0.7408434 , -0.97574896,  0.39169782, ..., -0.5378381 ,\n",
       "         0.24354108, -0.8853287 ],\n",
       "       [-0.2790515 , -0.97231525,  0.68537366, ..., -0.42406067,\n",
       "         0.18548405, -0.5802922 ]], dtype=float32)"
      ]
     },
     "metadata": {},
     "output_type": "display_data"
    },
    {
     "data": {
      "text/plain": [
       "(364047, 250)"
      ]
     },
     "metadata": {},
     "output_type": "display_data"
    }
   ],
   "source": [
    "display(article_embedding[:5], article_embedding.shape)"
   ]
  },
  {
   "cell_type": "markdown",
   "id": "ac00460b-6aa7-4645-8bed-19740e6f9d21",
   "metadata": {},
   "source": [
    "# 1. Candidate generation"
   ]
  },
  {
   "cell_type": "markdown",
   "id": "4bf5b93a-6fe0-49ea-84a8-df68be85face",
   "metadata": {},
   "source": [
    "# 1.1 Collaborative Filtering"
   ]
  },
  {
   "cell_type": "markdown",
   "id": "f91970ea-b255-476b-baa8-a6848a5c9db2",
   "metadata": {},
   "source": [
    "### Préparons une sparse matrix pour entrainer nos algorithmes de collaborative filtering"
   ]
  },
  {
   "cell_type": "code",
   "execution_count": 6,
   "id": "308c5a47-bca5-446e-882c-dac681c6f40d",
   "metadata": {},
   "outputs": [
    {
     "data": {
      "text/plain": [
       "(297141, 28002)"
      ]
     },
     "metadata": {},
     "output_type": "display_data"
    },
    {
     "data": {
      "text/plain": [
       "(84041, 7576)"
      ]
     },
     "metadata": {},
     "output_type": "display_data"
    }
   ],
   "source": [
    "# --- Train ---\n",
    "data_train['user_cat_code'] = data_train['user_id'].astype('category').cat.codes\n",
    "data_train['article_cat_code'] = data_train['article_id'].astype('category').cat.codes\n",
    "\n",
    "# train_sparse_item_user = sparse.csr_matrix((data_train['score'].astype(float), (data_train['article_cat_code'], data_train['user_cat_code'])))\n",
    "train_sparse_user_item = sparse.csr_matrix((data_train['score'].astype(float), (data_train['user_cat_code'], data_train['article_cat_code'])))\n",
    "display(train_sparse_user_item.shape)\n",
    "\n",
    "# --- Validation ---\n",
    "data_valid['user_cat_code'] = data_valid['user_id'].astype('category').cat.codes\n",
    "data_valid['article_cat_code'] = data_valid['article_id'].astype('category').cat.codes\n",
    "\n",
    "# valid_sparse_item_user = sparse.csr_matrix((data_valid['score'].astype(float), (data_valid['article_cat_code'], data_valid['user_cat_code'])))\n",
    "valid_sparse_user_item = sparse.csr_matrix((data_valid['score'].astype(float), (data_valid['user_cat_code'], data_valid['article_cat_code'])))\n",
    "\n",
    "display(valid_sparse_user_item.shape)"
   ]
  },
  {
   "cell_type": "raw",
   "id": "77108fa9-5c0e-4999-a4d7-659c825c2db8",
   "metadata": {},
   "source": [
    "sparse_user_item.eliminate_zeros()\n",
    "sparse_user_item.data = np.ones(len(sparse_user_item.data))\n",
    "display(sparse_user_item.shape)"
   ]
  },
  {
   "cell_type": "markdown",
   "id": "a8cbd670-c24e-42b7-856a-1e77bcaf4d6c",
   "metadata": {},
   "source": [
    "### Utilisons un système permettant de rééquilibrer les notes implicites *(pour éviter de donner trop d'importance aux articles qui ont un très gros ratio `temps de lecture` / `nombre de mots`)*"
   ]
  },
  {
   "cell_type": "code",
   "execution_count": 7,
   "id": "79f89018-ccf8-4885-9bd4-c0bcc826e733",
   "metadata": {},
   "outputs": [
    {
     "data": {
      "text/plain": [
       "(297141, 28002)"
      ]
     },
     "metadata": {},
     "output_type": "display_data"
    },
    {
     "data": {
      "text/plain": [
       "(84041, 7576)"
      ]
     },
     "metadata": {},
     "output_type": "display_data"
    }
   ],
   "source": [
    "# train_sparse_item_user_bm25 = bm25_weight(sparse_item_user, K1=100, B=0.9).tocsr()\n",
    "train_sparse_user_item_bm25 = bm25_weight(train_sparse_user_item, K1=100, B=0.9).tocsr() # Implicit veut des matrices [user x item]\n",
    "valid_sparse_user_item_bm25 = bm25_weight(valid_sparse_user_item, K1=100, B=0.9).tocsr() # Implicit veut des matrices [user x item]\n",
    "\n",
    "display(train_sparse_user_item_bm25.shape)\n",
    "display(valid_sparse_user_item_bm25.shape)"
   ]
  },
  {
   "cell_type": "markdown",
   "id": "d023be47-84a1-434c-8352-b708c38bd2c8",
   "metadata": {},
   "source": [
    "### Entrainons un premier modèle pour calculer les embeddings utilisateurs et faire des recommandations"
   ]
  },
  {
   "cell_type": "code",
   "execution_count": 8,
   "id": "5954c15b-a174-4d0f-b992-6bb1b42c4869",
   "metadata": {},
   "outputs": [
    {
     "name": "stderr",
     "output_type": "stream",
     "text": [
      "100%|█████████████████████████████████████████████████████████████████████████████████████████████████████████████████████████████████████████████████████████████████████████████████████████████| 50/50 [03:51<00:00,  4.62s/it]\n"
     ]
    }
   ],
   "source": [
    "model_bm25 = implicit.als.AlternatingLeastSquares(\n",
    "    factors=32, \n",
    "    regularization=0.05, \n",
    "    iterations=50,\n",
    "    alpha=40\n",
    ")\n",
    "\n",
    "model_bm25.fit(train_sparse_user_item_bm25)"
   ]
  },
  {
   "cell_type": "markdown",
   "id": "6e16ab0b-60e6-4490-8394-04ef968b4767",
   "metadata": {},
   "source": [
    "### Testons une `recommandation sur la base d'un ou plusieurs utilisateurs`"
   ]
  },
  {
   "cell_type": "code",
   "execution_count": 9,
   "id": "787ff9cf-1733-403f-9651-73434567581c",
   "metadata": {},
   "outputs": [
    {
     "name": "stdout",
     "output_type": "stream",
     "text": [
      "\n",
      " --- Liste d'articles candidats pour l'utilisateur 59 --- \n",
      "\n",
      "catCode:      14884 \t article_id:     183176 \t score: 1.25\n",
      "catCode:      12661 \t article_id:     156381 \t score: 1.09\n",
      "catCode:       4986 \t article_id:      62434 \t score: 1.01\n",
      "catCode:       7293 \t article_id:      84914 \t score: 0.93\n",
      "catCode:       7526 \t article_id:      87207 \t score: 0.92\n",
      "\n",
      " --- Liste d'articles candidats pour l'utilisateur 1024 --- \n",
      "\n",
      "catCode:      14884 \t article_id:     183176 \t score: 1.29\n",
      "catCode:       8129 \t article_id:      96210 \t score: 1.12\n",
      "catCode:      26190 \t article_id:     336245 \t score: 1.05\n",
      "catCode:       1430 \t article_id:      20691 \t score: 0.99\n",
      "catCode:      21287 \t article_id:     271262 \t score: 0.95\n"
     ]
    }
   ],
   "source": [
    "# Make recommendations for the first 10 users in the dataset\n",
    "userids = [59, 1024] # liste d'ID utilisateurs\n",
    "rec_size = 5\n",
    "\n",
    "codes, scores = model_bm25.recommend(userids, valid_sparse_user_item_bm25[userids], N=rec_size, filter_already_liked_items=True) \n",
    "\n",
    "for i, user_id in enumerate(userids):\n",
    "    print(f\"\\n --- Liste d'articles candidats pour l'utilisateur {user_id} --- \\n\")\n",
    "    \n",
    "    for code, score in zip(codes[i], scores[i]):\n",
    "        idx = data_train[data_train.article_cat_code==code]['article_id'].iloc[0]\n",
    "        print(f\"catCode: {code:10} \\t article_id: {idx:10} \\t score: {score:.2f}\")"
   ]
  },
  {
   "cell_type": "markdown",
   "id": "97bb4f59-700b-4235-a1d4-8ebd761e2a64",
   "metadata": {},
   "source": [
    "### Testons une `recommandation sur la base d'un article` *(ce n'est pas le but d'un Collaborative Filtering, mais on peut le faire alors autant l'essayer)*"
   ]
  },
  {
   "cell_type": "code",
   "execution_count": 10,
   "id": "53bdf732-546e-45d7-8e1a-91125f59a3b2",
   "metadata": {},
   "outputs": [
    {
     "name": "stdout",
     "output_type": "stream",
     "text": [
      "\n",
      " --- Liste d'articles candidats sur la base de l'article 162605 --- \n",
      "\n",
      "catCode:       6359 \t article_id:      74112 \t score: 0.96\n",
      "catCode:      13314 \t article_id:     162107 \t score: 0.88\n",
      "catCode:      13278 \t article_id:     161873 \t score: 0.81\n",
      "catCode:      20425 \t article_id:     258007 \t score: 0.80\n",
      "catCode:       3766 \t article_id:      47888 \t score: 0.80\n"
     ]
    }
   ],
   "source": [
    "article_id = 162605\n",
    "article_code = data_train[data_train.article_id == article_id]['article_cat_code'].iloc[0]\n",
    "rec_size = 5\n",
    "\n",
    "# Get similar items.\n",
    "codes, scores = model_bm25.similar_items(article_code, N=rec_size , filter_items=[article_code])\n",
    "\n",
    "print(f\"\\n --- Liste d'articles candidats sur la base de l'article {article_id} --- \\n\")\n",
    "for code, score in zip(codes, scores):\n",
    "    idx = data_train[data_train.article_cat_code==code]['article_id'].iloc[0]\n",
    "    print(f\"catCode: {code:10} \\t article_id: {idx:10} \\t score: {score:.2f}\")"
   ]
  },
  {
   "cell_type": "markdown",
   "id": "7bc71569-2104-407d-b66e-dd085bb0ec66",
   "metadata": {},
   "source": [
    "### Evaluons le modèle\n",
    "\n",
    "> **Nous devons nous rappeler que la recommandation n'est pas une prédiction.**<br>\n",
    "> S'appuyer sur des métriques ML pour déterminer la performance d'un système de recommandation n'est pas suffisant.<br>\n",
    "> Seul **le retour des utilisateurs apporte des résultats valables et c'est pourquoi les tests A/B devraient toujours être priviligiés**."
   ]
  },
  {
   "cell_type": "markdown",
   "id": "8e1f9407-e2c0-41ff-b73d-08cd7fa61319",
   "metadata": {},
   "source": [
    "- Dans la mesure ou notre jeu de données **ne dispose pas de scores explicites**, il ne parrait pas souhaitable d'utiliser des métrique du type `MAE` ou `RMSE`.\n",
    "- Dans la mesure ou l'on **ne cherche pas particulièrement à obtenir un ordre précis**, il ne parrait pas souhaitable d'utiliser des métriques de ranking comme le `MAP@K` ou le `nDCCG`.\n",
    "- Nous pourrions donc nous tourner vers la `Precision@k`, le `Recall@K` et donc le `F1@k`, mais il est probable que ce ne soit pas très représentatif."
   ]
  },
  {
   "cell_type": "markdown",
   "id": "43965753-74c8-4e03-88de-8db2f812a76e",
   "metadata": {},
   "source": [
    "#### Regardons la precision@k"
   ]
  },
  {
   "cell_type": "code",
   "execution_count": 11,
   "id": "95e38e5a-794d-400f-a450-0c9755623c3a",
   "metadata": {},
   "outputs": [
    {
     "name": "stderr",
     "output_type": "stream",
     "text": [
      "100%|█████████████████████████████████████████████████████████████████████████████████████████████████████████████████████████████████████████████████████████████████████████████████████| 84041/84041 [00:25<00:00, 3247.77it/s]\n"
     ]
    },
    {
     "data": {
      "text/plain": [
       "0.0001208052986254458"
      ]
     },
     "execution_count": 11,
     "metadata": {},
     "output_type": "execute_result"
    }
   ],
   "source": [
    "evaluation.precision_at_k(model_bm25, train_sparse_user_item_bm25, valid_sparse_user_item_bm25, K=5, show_progress=True, num_threads=1)"
   ]
  },
  {
   "cell_type": "markdown",
   "id": "129e99bd-499e-423b-b1f2-2509df2a2397",
   "metadata": {},
   "source": [
    "> Le probleme c'est même si c'est l'une des métriques disponible les plus adaptée, elle reste peu adaptée à notre problème...<br>\n",
    "> Ici `Precision = (# of top k recommendations that are relevant)/(# of items that are recommended)`<br>\n",
    "> Mais malgré un nombre d'article assez large, on ne recommande que 5 articles et les utilisateurs ont un historique assez faible dans notre jeu de données. Donc les chances de recommander un article parmi 5 qui a effectivement été lu ensuite par l'utilisateur sont vraiment faible."
   ]
  },
  {
   "cell_type": "markdown",
   "id": "c01db85d-f7a2-4e7d-89bf-fd863cfb1786",
   "metadata": {},
   "source": [
    "### Construisons une métrique sur mesure\n",
    "\n",
    "Pour avoir une idée une métrique utilsable pour comparer nos différents modèles, nous pourrions comparer l'embedding moyen des articles lus APRÈS *(donc les actions contenues dans data_valid)* avec l'embedding moyen des article recommandés ET avec l'embedding moyen des articles recommandés."
   ]
  },
  {
   "cell_type": "markdown",
   "id": "bae77db9-80c7-453a-8cba-03bd64c6da41",
   "metadata": {},
   "source": [
    "#### Calculons la cosine similarity moyenne sur le jeu de validation"
   ]
  },
  {
   "cell_type": "raw",
   "id": "7556fc02-8b07-44e5-a2c5-431a0fb6b96d",
   "metadata": {},
   "source": [
    "select = data_valid.groupby('user_id')['article_id'].apply(list).reset_index(name='article_ids')\n",
    "select = select.set_index('user_id')\n",
    "select"
   ]
  },
  {
   "cell_type": "code",
   "execution_count": 12,
   "id": "f6a01343-bb8e-4428-b101-479ef563f55c",
   "metadata": {},
   "outputs": [],
   "source": [
    "article_lookup = pd.DataFrame(data_train.groupby('article_cat_code')['article_id'].apply(lambda x: list(x)[0])).to_dict()\n",
    "\n",
    "def lookup_articles(x):\n",
    "    return article_lookup['article_id'][x]"
   ]
  },
  {
   "cell_type": "code",
   "execution_count": 13,
   "id": "e52c4fcc-cb56-4cc1-a007-7ed2b1514d0c",
   "metadata": {},
   "outputs": [],
   "source": [
    "def get_mean_cosine_similarity(data_ref, reco_ref, reco_model, reco_size = 5, top_users=None):\n",
    "\n",
    "    # --- for each user, get the ids of the articles he/she has read\n",
    "    select = data_ref.groupby('user_id')['article_id'].apply(list).reset_index(name='article_ids')\n",
    "    select = select[select.article_ids.map(len) > 1]\n",
    "    if top_users is not None:\n",
    "        select = select[:top_users]\n",
    "\n",
    "    # --- for each user, compute the mean embedding vectors of the articles he/she has read\n",
    "    select['read_mean_embedding'] = select.apply(lambda x : article_embedding[np.array(x[1])].mean(axis=0), axis=1)\n",
    "\n",
    "    # --- for each user, make recommendations\n",
    "    select['reco_article_ids'] = reco_model(select.index, select.read_mean_embedding, reco_ref, reco_size)\n",
    "\n",
    "    # --- for each user, compute the mean embedding vectors of the recommended articles\n",
    "    select['reco_mean_embedding'] = select['reco_article_ids'].apply(lambda x : article_embedding[np.array(x)].mean(axis=0))\n",
    "\n",
    "    # --- for each user, compute the cosine similarity between the read_mean_embedding and the pred_mean_embedding\n",
    "    select['cosine'] = select.apply(lambda x: cosine_similarity(x['read_mean_embedding'].reshape(1, -1), x['reco_mean_embedding'].reshape(1, -1))[0][0], axis=1)\n",
    "\n",
    "    # --- reset the index column\n",
    "    select = select.set_index('user_id')\n",
    "\n",
    "    # --- Compute & return overall mean cosine similarity\n",
    "    return select.cosine.mean(), select"
   ]
  },
  {
   "cell_type": "code",
   "execution_count": 14,
   "id": "f45bd598-7093-443b-aef4-8ccfcdbddf89",
   "metadata": {},
   "outputs": [],
   "source": [
    "def reco_collaborative_filtering_bm25(user_ids, mean_embeddings, reco_ref, reco_size):\n",
    "    \n",
    "    apply_numpy2 = lambda x : list(map(lookup_articles,x))\n",
    "    apply_numpy = lambda x : list(map(apply_numpy2,x))\n",
    "    \n",
    "    reco_codes, reco_score = model_bm25.recommend(user_ids, reco_ref[user_ids], N=reco_size, filter_already_liked_items=True) \n",
    "    return apply_numpy(reco_codes)"
   ]
  },
  {
   "cell_type": "markdown",
   "id": "bd6d4d8e-8c7a-4c92-b0b9-39b7abec4271",
   "metadata": {},
   "source": [
    "#### Pour tout le jeu de données"
   ]
  },
  {
   "cell_type": "code",
   "execution_count": 15,
   "id": "6d83da4c-7368-4f8a-b504-16ccdbda3eb7",
   "metadata": {},
   "outputs": [
    {
     "data": {
      "text/html": [
       "<div>\n",
       "<style scoped>\n",
       "    .dataframe tbody tr th:only-of-type {\n",
       "        vertical-align: middle;\n",
       "    }\n",
       "\n",
       "    .dataframe tbody tr th {\n",
       "        vertical-align: top;\n",
       "    }\n",
       "\n",
       "    .dataframe thead th {\n",
       "        text-align: right;\n",
       "    }\n",
       "</style>\n",
       "<table border=\"1\" class=\"dataframe\">\n",
       "  <thead>\n",
       "    <tr style=\"text-align: right;\">\n",
       "      <th></th>\n",
       "      <th>article_ids</th>\n",
       "      <th>read_mean_embedding</th>\n",
       "      <th>reco_article_ids</th>\n",
       "      <th>reco_mean_embedding</th>\n",
       "      <th>cosine</th>\n",
       "    </tr>\n",
       "    <tr>\n",
       "      <th>user_id</th>\n",
       "      <th></th>\n",
       "      <th></th>\n",
       "      <th></th>\n",
       "      <th></th>\n",
       "      <th></th>\n",
       "    </tr>\n",
       "  </thead>\n",
       "  <tbody>\n",
       "    <tr>\n",
       "      <th>5</th>\n",
       "      <td>[225010, 69353, 161872, 205845, 57748, 157815,...</td>\n",
       "      <td>[-0.024590481, -0.9645934, -0.06022447, -0.023...</td>\n",
       "      <td>[119592, 96663, 160474, 284463, 108854]</td>\n",
       "      <td>[-0.43367648, -0.96880037, -0.12601939, -0.163...</td>\n",
       "      <td>0.718369</td>\n",
       "    </tr>\n",
       "    <tr>\n",
       "      <th>7</th>\n",
       "      <td>[199474, 87223, 352979, 284470, 36162, 156279]</td>\n",
       "      <td>[-0.11400774, -0.96468645, -0.32728586, -0.201...</td>\n",
       "      <td>[87224, 336499, 194645, 161801, 161506]</td>\n",
       "      <td>[-0.03665275, -0.9573599, -0.25766593, 0.00558...</td>\n",
       "      <td>0.828615</td>\n",
       "    </tr>\n",
       "    <tr>\n",
       "      <th>8</th>\n",
       "      <td>[331116, 96141, 234481]</td>\n",
       "      <td>[-0.32962552, -0.97033435, 0.20547153, -0.0870...</td>\n",
       "      <td>[284463, 59758, 156381, 160974, 285533]</td>\n",
       "      <td>[-0.2573771, -0.9678942, -0.5331488, -0.321265...</td>\n",
       "      <td>0.618256</td>\n",
       "    </tr>\n",
       "    <tr>\n",
       "      <th>10</th>\n",
       "      <td>[196588, 193449, 195689, 65991, 100931, 58556,...</td>\n",
       "      <td>[-0.23681411, -0.96241695, -0.08872973, -0.346...</td>\n",
       "      <td>[234698, 156964, 336221, 64409, 235870]</td>\n",
       "      <td>[-0.17372157, -0.9607512, -0.47276193, -0.2004...</td>\n",
       "      <td>0.715739</td>\n",
       "    </tr>\n",
       "    <tr>\n",
       "      <th>11</th>\n",
       "      <td>[208582, 96877, 195177, 205824]</td>\n",
       "      <td>[-0.15431535, -0.9709704, 0.069619074, 0.13036...</td>\n",
       "      <td>[129434, 272660, 336220, 289090, 336223]</td>\n",
       "      <td>[-0.36497644, -0.9699645, -0.24259472, -0.5835...</td>\n",
       "      <td>0.297459</td>\n",
       "    </tr>\n",
       "  </tbody>\n",
       "</table>\n",
       "</div>"
      ],
      "text/plain": [
       "                                               article_ids  \\\n",
       "user_id                                                      \n",
       "5        [225010, 69353, 161872, 205845, 57748, 157815,...   \n",
       "7           [199474, 87223, 352979, 284470, 36162, 156279]   \n",
       "8                                  [331116, 96141, 234481]   \n",
       "10       [196588, 193449, 195689, 65991, 100931, 58556,...   \n",
       "11                         [208582, 96877, 195177, 205824]   \n",
       "\n",
       "                                       read_mean_embedding  \\\n",
       "user_id                                                      \n",
       "5        [-0.024590481, -0.9645934, -0.06022447, -0.023...   \n",
       "7        [-0.11400774, -0.96468645, -0.32728586, -0.201...   \n",
       "8        [-0.32962552, -0.97033435, 0.20547153, -0.0870...   \n",
       "10       [-0.23681411, -0.96241695, -0.08872973, -0.346...   \n",
       "11       [-0.15431535, -0.9709704, 0.069619074, 0.13036...   \n",
       "\n",
       "                                 reco_article_ids  \\\n",
       "user_id                                             \n",
       "5         [119592, 96663, 160474, 284463, 108854]   \n",
       "7         [87224, 336499, 194645, 161801, 161506]   \n",
       "8         [284463, 59758, 156381, 160974, 285533]   \n",
       "10        [234698, 156964, 336221, 64409, 235870]   \n",
       "11       [129434, 272660, 336220, 289090, 336223]   \n",
       "\n",
       "                                       reco_mean_embedding    cosine  \n",
       "user_id                                                               \n",
       "5        [-0.43367648, -0.96880037, -0.12601939, -0.163...  0.718369  \n",
       "7        [-0.03665275, -0.9573599, -0.25766593, 0.00558...  0.828615  \n",
       "8        [-0.2573771, -0.9678942, -0.5331488, -0.321265...  0.618256  \n",
       "10       [-0.17372157, -0.9607512, -0.47276193, -0.2004...  0.715739  \n",
       "11       [-0.36497644, -0.9699645, -0.24259472, -0.5835...  0.297459  "
      ]
     },
     "metadata": {},
     "output_type": "display_data"
    },
    {
     "data": {
      "text/plain": [
       "(46638, 5)"
      ]
     },
     "metadata": {},
     "output_type": "display_data"
    },
    {
     "name": "stdout",
     "output_type": "stream",
     "text": [
      "\n",
      "mean_cosine_similarity: 0.51 (sachant que la cosine similarity va de 1 à -1)\n"
     ]
    }
   ],
   "source": [
    "MCS, MCS_df = get_mean_cosine_similarity(data_valid, valid_sparse_user_item_bm25, reco_collaborative_filtering_bm25, 5)\n",
    "\n",
    "display(MCS_df.head(), MCS_df.shape)\n",
    "print(f\"\\nmean_cosine_similarity: {MCS:.2f} (sachant que la cosine similarity va de 1 à -1)\")"
   ]
  },
  {
   "cell_type": "markdown",
   "id": "55b82b72-3972-4254-8fad-16ffaedcc210",
   "metadata": {},
   "source": [
    "#### Pour les 1000 premiers utilisateurs *(car j'ai du mal à calculer le score sur l'ensemble du jeu de données avec le Content Based Filtering)*"
   ]
  },
  {
   "cell_type": "code",
   "execution_count": 16,
   "id": "908cc4b8-3ef6-4797-b44d-638f25d3050a",
   "metadata": {},
   "outputs": [
    {
     "name": "stdout",
     "output_type": "stream",
     "text": [
      "\n",
      "mean_cosine_similarity: 0.54 (sachant que la cosine similarity va de 1 à -1)\n"
     ]
    }
   ],
   "source": [
    "MCS1, MCS1_df = get_mean_cosine_similarity(data_valid, valid_sparse_user_item_bm25, reco_collaborative_filtering_bm25, 5, 1000)\n",
    "print(f\"\\nmean_cosine_similarity: {MCS1:.2f} (sachant que la cosine similarity va de 1 à -1)\")"
   ]
  },
  {
   "cell_type": "code",
   "execution_count": null,
   "id": "6859f84b-e8a5-46c1-a456-e3c87129694c",
   "metadata": {},
   "outputs": [],
   "source": []
  },
  {
   "cell_type": "markdown",
   "id": "8465203b-0c05-4f60-9607-2b78f6ab942d",
   "metadata": {},
   "source": [
    "# 1.2 Content Based Filtering"
   ]
  },
  {
   "cell_type": "markdown",
   "id": "e756a876-7dab-46ae-93e3-31d2014d6715",
   "metadata": {},
   "source": [
    "articles_embeddings.pickle Pickle (Python 3) of a NumPy matrix containing the Article Content Embeddings (250-dimensional vectors), trained upon articles' text and metadata by the CHAMELEON's ACR module (see paper for details) for 364047 published articles.\n",
    "P.s. The full text of news articles could not be provided due to license restrictions, but those embeddings can be used by Neural Networks to represent their content. See this paper for a t-SNE visualization of these embeddings, colored by category."
   ]
  },
  {
   "cell_type": "markdown",
   "id": "24ee5380-5f3f-4d02-bf01-2f66ff4c669f",
   "metadata": {},
   "source": [
    "### Trouvons l'embedding moyen des articles lus par un utilisateur donnée"
   ]
  },
  {
   "cell_type": "code",
   "execution_count": 17,
   "id": "58772731-0d5a-4bc1-af62-aa6a52f7418c",
   "metadata": {},
   "outputs": [
    {
     "name": "stdout",
     "output_type": "stream",
     "text": [
      "Articles utilisés dans le mean embedding: [288440 337441 202476 250043 284583]\n"
     ]
    }
   ],
   "source": [
    "user_id = 20137\n",
    "history_size = 5\n",
    "\n",
    "def get_mean_vector(articles_idx):\n",
    "    apply_numpy = lambda x : article_embedding[x].mean(axis=0)\n",
    "    return apply_numpy(articles_idx)            \n",
    "\n",
    "user_articles_idx = data_train[data_train.user_id == user_id]['article_id']\n",
    "last_articles_idx = user_articles_idx.iloc[-history_size:].values #.sort_values('click_timestamp')\n",
    "mean_vector = get_mean_vector(last_articles_idx)\n",
    "\n",
    "print(f\"Articles utilisés dans le mean embedding: {last_articles_idx}\")"
   ]
  },
  {
   "cell_type": "markdown",
   "id": "121247b4-6ce3-4463-864d-c57f2a0acfeb",
   "metadata": {},
   "source": [
    "### Calculons la similarité de cet embedding avec les embeddings des articles présents dans note fichier"
   ]
  },
  {
   "cell_type": "code",
   "execution_count": 18,
   "id": "fd8ffb0d-d5a9-4821-a020-26d74530fabf",
   "metadata": {},
   "outputs": [
    {
     "name": "stdout",
     "output_type": "stream",
     "text": [
      "Cosine Similarity: [0.32582363 0.2783536  0.31348327 ... 0.38568467 0.2742523  0.42668363] (364047,)\n"
     ]
    }
   ],
   "source": [
    "def get_cosine(article_embedding, mean_vector, user_articles_idx=None):\n",
    "    \n",
    "    A = article_embedding.copy()\n",
    "    B = mean_vector\n",
    "\n",
    "    # --- Assurons nous de ne pas recommander les article déjà lus par cet utilisateur\n",
    "    if user_articles_idx is not None:\n",
    "        A[user_articles_idx] = -B # je donne aux articles lus un embedding inverse de celui que l'on cible\n",
    " \n",
    "    # --- Calculons la cosine similarity entre l'embedding moyen de l'utilisateur et les articles connus\n",
    "    return np.dot(A,B)/(norm(A, axis=1)*norm(B))\n",
    "\n",
    "# --- Calculons la cosine similarity entre l'embedding moyen de l'utilisateur et les articles connus\n",
    "cosine = get_cosine(article_embedding, mean_vector, user_articles_idx)\n",
    "print(\"Cosine Similarity:\", cosine, cosine.shape)"
   ]
  },
  {
   "cell_type": "markdown",
   "id": "4bc7c0e5-3dfd-4a49-b255-9e83484af804",
   "metadata": {},
   "source": [
    "### Recommandons 5 articles à l'utilisateur"
   ]
  },
  {
   "cell_type": "code",
   "execution_count": 19,
   "id": "c09a9825-0b89-45e3-ad6f-e3c3d562fc3e",
   "metadata": {},
   "outputs": [
    {
     "data": {
      "text/html": [
       "<div>\n",
       "<style scoped>\n",
       "    .dataframe tbody tr th:only-of-type {\n",
       "        vertical-align: middle;\n",
       "    }\n",
       "\n",
       "    .dataframe tbody tr th {\n",
       "        vertical-align: top;\n",
       "    }\n",
       "\n",
       "    .dataframe thead th {\n",
       "        text-align: right;\n",
       "    }\n",
       "</style>\n",
       "<table border=\"1\" class=\"dataframe\">\n",
       "  <thead>\n",
       "    <tr style=\"text-align: right;\">\n",
       "      <th></th>\n",
       "      <th>article_id</th>\n",
       "      <th>cosine_sim</th>\n",
       "    </tr>\n",
       "  </thead>\n",
       "  <tbody>\n",
       "    <tr>\n",
       "      <th>0</th>\n",
       "      <td>284768</td>\n",
       "      <td>0.830968</td>\n",
       "    </tr>\n",
       "    <tr>\n",
       "      <th>1</th>\n",
       "      <td>345593</td>\n",
       "      <td>0.821919</td>\n",
       "    </tr>\n",
       "    <tr>\n",
       "      <th>2</th>\n",
       "      <td>285424</td>\n",
       "      <td>0.821205</td>\n",
       "    </tr>\n",
       "    <tr>\n",
       "      <th>3</th>\n",
       "      <td>345566</td>\n",
       "      <td>0.818335</td>\n",
       "    </tr>\n",
       "    <tr>\n",
       "      <th>4</th>\n",
       "      <td>283576</td>\n",
       "      <td>0.816523</td>\n",
       "    </tr>\n",
       "  </tbody>\n",
       "</table>\n",
       "</div>"
      ],
      "text/plain": [
       "   article_id  cosine_sim\n",
       "0      284768    0.830968\n",
       "1      345593    0.821919\n",
       "2      285424    0.821205\n",
       "3      345566    0.818335\n",
       "4      283576    0.816523"
      ]
     },
     "execution_count": 19,
     "metadata": {},
     "output_type": "execute_result"
    }
   ],
   "source": [
    "def recommend_articles(cosine, pred_size=5):\n",
    "    cos = pd.DataFrame(cosine, columns=['cosine_sim'])\n",
    "    selection = cos.sort_values('cosine_sim', ascending=False)[:pred_size]\n",
    "    selection.reset_index(inplace=True)\n",
    "    selection.rename(columns={'index':'article_id'}, inplace=True)\n",
    "    return selection\n",
    "\n",
    "reco = recommend_articles(cosine, 5)\n",
    "reco"
   ]
  },
  {
   "cell_type": "markdown",
   "id": "b7e8c518-a529-4525-b41d-95d90eceda67",
   "metadata": {},
   "source": [
    "### Comparons avec les articles consultés par cet utilisateur dans le validation_set"
   ]
  },
  {
   "cell_type": "code",
   "execution_count": 20,
   "id": "f3a35220-61ce-49f0-b228-9a28a2dae237",
   "metadata": {},
   "outputs": [],
   "source": [
    "mean_vector_recommended = get_mean_vector(reco.article_id)"
   ]
  },
  {
   "cell_type": "code",
   "execution_count": 21,
   "id": "d6ed69f1-33bc-4eec-b289-59593d8a8642",
   "metadata": {},
   "outputs": [],
   "source": [
    "viewed = data_valid[data_valid.user_id == user_id]['article_id'].values\n",
    "mean_vector_viewed = get_mean_vector(viewed)"
   ]
  },
  {
   "cell_type": "markdown",
   "id": "02cda967-9481-43e3-bcaa-b8b1ee7fe043",
   "metadata": {},
   "source": [
    "#### Similarité entre les articles lus dans le `valid_set` et les articles prédis"
   ]
  },
  {
   "cell_type": "code",
   "execution_count": 22,
   "id": "7722f7d1-44aa-46cf-b481-e2ca4bbbd9b3",
   "metadata": {},
   "outputs": [
    {
     "name": "stdout",
     "output_type": "stream",
     "text": [
      "Cosine Similarity: 0.71754134\n"
     ]
    }
   ],
   "source": [
    "def get_cosine_similarity(A, B):\n",
    "    return np.dot(A,B)/(norm(A)*norm(B))\n",
    "\n",
    "cosine_similarity_score = get_cosine_similarity(mean_vector_recommended, mean_vector_viewed)\n",
    "print(\"Cosine Similarity:\", cosine_similarity_score)"
   ]
  },
  {
   "cell_type": "markdown",
   "id": "da39fb3c-3608-4e6a-9014-84f17ac57af7",
   "metadata": {},
   "source": [
    "#### Similarité entre les articles lus dans le `train_set` et les articles lus dans le `valid_set`"
   ]
  },
  {
   "cell_type": "code",
   "execution_count": 23,
   "id": "aeca73cf-904d-488f-803a-61cb905d0718",
   "metadata": {},
   "outputs": [
    {
     "name": "stdout",
     "output_type": "stream",
     "text": [
      "Cosine Similarity: 0.7984939\n"
     ]
    }
   ],
   "source": [
    "cosine_similarity_score = get_cosine_similarity(mean_vector, mean_vector_viewed)\n",
    "print(\"Cosine Similarity:\", cosine_similarity_score)"
   ]
  },
  {
   "cell_type": "markdown",
   "id": "02f4e7fe-e62c-4f6f-84c1-50ea3c7414ea",
   "metadata": {},
   "source": [
    "#### Calculons la cosine similarity moyenne sur l'ensemble du jeu de validation *(⚠️ en fait une fraction car c'est beaucoup trop lent)*"
   ]
  },
  {
   "cell_type": "code",
   "execution_count": 25,
   "id": "6fe6a028-5f6e-440d-b430-26050069d4c0",
   "metadata": {},
   "outputs": [],
   "source": [
    "cosine_pred_viewed = []\n",
    "cosine_hist_viewed = []\n",
    "\n",
    "# --- for each user, get the ids of the articles he/she has read\n",
    "select = data_valid.groupby('user_id')['article_id'].apply(list).reset_index(name='article_ids')\n",
    "select = select[select.article_ids.map(len) > 1]\n",
    "\n",
    "# --- for each user, compute the mean embedding vectors of the articles he/she has read\n",
    "select['read_mean_embedding'] = select.apply(lambda x : article_embedding[np.array(x[1])].mean(axis=0), axis=1)\n",
    "\n",
    "for user_id in select.index[:1000]:\n",
    "    # print(user_id)\n",
    "    \n",
    "    # Compute viewed mean_embedding\n",
    "    viewed = data_valid[data_valid.user_id == user_id]['article_id'].values\n",
    "    if len(viewed) < 2: continue # \n",
    "    mean_vector_viewed = get_mean_vector(viewed)\n",
    "    \n",
    "    # Compute recommended mean_embedding\n",
    "    A = article_embedding.copy()\n",
    "    B = select['read_mean_embedding'].iloc[user_id]\n",
    "    A[select['article_ids'].iloc[user_id]] = -B # On supprime les articles déjà lus\n",
    "    cosine = cosine_similarity(A, B.reshape(1, -1))\n",
    "    \n",
    "    pred = recommend_articles(cosine, 5)\n",
    "    mean_vector_pred = get_mean_vector(pred.article_id)\n",
    "    \n",
    "    # Compute similarities\n",
    "    cosine_similarity_pred_viewed = cosine_similarity(mean_vector_pred.reshape(1, -1), mean_vector_viewed.reshape(1, -1)) # get_cosine_similarity(mean_vector_pred, mean_vector_viewed)\n",
    "    cosine_similarity_hist_viewed = cosine_similarity(B.reshape(1, -1), mean_vector_viewed.reshape(1, -1)) # get_cosine_similarity(mean_vector_hist, mean_vector_viewed)\n",
    "    \n",
    "    cosine_pred_viewed.append(cosine_similarity_pred_viewed)\n",
    "    cosine_hist_viewed.append(cosine_similarity_hist_viewed)"
   ]
  },
  {
   "cell_type": "code",
   "execution_count": 26,
   "id": "35e03ce0-aa90-4de9-9747-8f9cbb90b208",
   "metadata": {},
   "outputs": [
    {
     "name": "stdout",
     "output_type": "stream",
     "text": [
      "\n",
      "mean_cosine_similarity (de 1 à -1) entre 'recommended' & 'viewed_in_valid' = 0.48 (que l'on compare donc avec les 0.55 du Collaborative Filtering ALS)\n",
      "\n",
      "mean_cosine_similarity (de 1 à -1) entre 'viewed_in_train' & 'viewed_in_valid' = 0.54 (pour donner une idée de la variabilité des centres d'intérêts utilisateurs\n"
     ]
    }
   ],
   "source": [
    "print(f\"\\nmean_cosine_similarity (de 1 à -1) entre 'recommended' & 'viewed_in_valid' = {np.mean(cosine_pred_viewed):.2f} (que l'on compare donc avec les 0.55 du Collaborative Filtering ALS)\")\n",
    "print(f\"\\nmean_cosine_similarity (de 1 à -1) entre 'viewed_in_train' & 'viewed_in_valid' = {np.mean(cosine_hist_viewed):.2f} (pour donner une idée de la variabilité des centres d'intérêts utilisateurs\")"
   ]
  },
  {
   "cell_type": "markdown",
   "id": "54e4f3cb-6598-4b85-9e1a-66c2c5bac4e3",
   "metadata": {},
   "source": [
    "> #### Si l'on se fie au score moyen de similarité entre les recommandations et ce qui a été effectivemet lu (dans le validation set), le `Collaborative filtering` semble plus précis.\n",
    "> Mais ce n'est pas le seul élément à prendre en compte *(d'autant que cette mesure n'est pas très significative)*.\n",
    "\n",
    "> `Collaborative Filtering`:\n",
    "> * plus en accord avec ce qui est dans le validation set par les utilisateurs,\n",
    "> * plus rapide,\n",
    "> * limité aux articles visités.<br>\n",
    "\n",
    "> `Content Based Filtering`:\n",
    "> * plus lent *(du moins je n'ai pas réussi à le rendre rapide)*,\n",
    "> * moins prévis *(mais je n'ai pu évaluer que les 100 premiers utlisateurs)*\n",
    "> * peut recommander n'importe quel article dont on a l'embedding, y compris ceux jamais visités par un utilisateur.\n",
    "\n",
    "> Dans les deux cas, les modèles employés ne permettent pas de prendre en compte des features supplémentaires comme par exemple la catégorie de l'article etc. *(Il faudrait un Collaborative Filtering en DNN)*\n",
    "\n",
    "> L'idéal est donc probablement d'utiliser une combinaison des deux approches; le Collaboravie filtering pour être le plus proche possible des intérêts de l'utilisateur, et le Content Based Filtering pour apporter de la diversité sans pour autant trop s'éloigner des sujets de prédilection de l'utilisateur."
   ]
  },
  {
   "cell_type": "code",
   "execution_count": null,
   "id": "c44e4bec-3972-436e-8274-71a85f73e286",
   "metadata": {},
   "outputs": [],
   "source": [
    "\n"
   ]
  }
 ],
 "metadata": {
  "kernelspec": {
   "display_name": "venvP9",
   "language": "python",
   "name": "venvp9"
  },
  "language_info": {
   "codemirror_mode": {
    "name": "ipython",
    "version": 3
   },
   "file_extension": ".py",
   "mimetype": "text/x-python",
   "name": "python",
   "nbconvert_exporter": "python",
   "pygments_lexer": "ipython3",
   "version": "3.8.10"
  }
 },
 "nbformat": 4,
 "nbformat_minor": 5
}
