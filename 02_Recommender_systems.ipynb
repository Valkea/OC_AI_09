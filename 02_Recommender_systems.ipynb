{
 "cells": [
  {
   "cell_type": "code",
   "execution_count": 260,
   "id": "93abafbe-0ac7-40b0-ade8-96c53aab4356",
   "metadata": {},
   "outputs": [],
   "source": [
    "import pickle \n",
    "\n",
    "import pandas as pd\n",
    "import numpy as np\n",
    "from numpy.linalg import norm\n",
    "\n",
    "import scipy.sparse as sparse\n",
    "\n",
    "import implicit\n",
    "from implicit.nearest_neighbours import bm25_weight\n",
    "from implicit import evaluation\n",
    "\n",
    "import ml_metrics"
   ]
  },
  {
   "cell_type": "markdown",
   "id": "4bf5b93a-6fe0-49ea-84a8-df68be85face",
   "metadata": {},
   "source": [
    "# 1. Collaborative Filtering"
   ]
  },
  {
   "cell_type": "code",
   "execution_count": 2,
   "id": "da144555-b437-4d9f-b42d-60de186a8588",
   "metadata": {},
   "outputs": [
    {
     "data": {
      "text/html": [
       "<div>\n",
       "<style scoped>\n",
       "    .dataframe tbody tr th:only-of-type {\n",
       "        vertical-align: middle;\n",
       "    }\n",
       "\n",
       "    .dataframe tbody tr th {\n",
       "        vertical-align: top;\n",
       "    }\n",
       "\n",
       "    .dataframe thead th {\n",
       "        text-align: right;\n",
       "    }\n",
       "</style>\n",
       "<table border=\"1\" class=\"dataframe\">\n",
       "  <thead>\n",
       "    <tr style=\"text-align: right;\">\n",
       "      <th></th>\n",
       "      <th>user_id</th>\n",
       "      <th>article_id</th>\n",
       "      <th>score</th>\n",
       "    </tr>\n",
       "  </thead>\n",
       "  <tbody>\n",
       "    <tr>\n",
       "      <th>0</th>\n",
       "      <td>59</td>\n",
       "      <td>234853</td>\n",
       "      <td>0.214286</td>\n",
       "    </tr>\n",
       "    <tr>\n",
       "      <th>1</th>\n",
       "      <td>79</td>\n",
       "      <td>159359</td>\n",
       "      <td>0.215827</td>\n",
       "    </tr>\n",
       "    <tr>\n",
       "      <th>2</th>\n",
       "      <td>154</td>\n",
       "      <td>96663</td>\n",
       "      <td>0.145631</td>\n",
       "    </tr>\n",
       "  </tbody>\n",
       "</table>\n",
       "</div>"
      ],
      "text/plain": [
       "   user_id  article_id     score\n",
       "0       59      234853  0.214286\n",
       "1       79      159359  0.215827\n",
       "2      154       96663  0.145631"
      ]
     },
     "metadata": {},
     "output_type": "display_data"
    },
    {
     "data": {
      "text/plain": [
       "(1577295, 3)"
      ]
     },
     "metadata": {},
     "output_type": "display_data"
    }
   ],
   "source": [
    "data_train = pd.read_csv('data/data_train.csv')\n",
    "display(data_train.head(3), data_train.shape)"
   ]
  },
  {
   "cell_type": "code",
   "execution_count": 3,
   "id": "44a3e34b-21f9-4a36-b5fb-e5542943278f",
   "metadata": {},
   "outputs": [
    {
     "data": {
      "text/html": [
       "<div>\n",
       "<style scoped>\n",
       "    .dataframe tbody tr th:only-of-type {\n",
       "        vertical-align: middle;\n",
       "    }\n",
       "\n",
       "    .dataframe tbody tr th {\n",
       "        vertical-align: top;\n",
       "    }\n",
       "\n",
       "    .dataframe thead th {\n",
       "        text-align: right;\n",
       "    }\n",
       "</style>\n",
       "<table border=\"1\" class=\"dataframe\">\n",
       "  <thead>\n",
       "    <tr style=\"text-align: right;\">\n",
       "      <th></th>\n",
       "      <th>user_id</th>\n",
       "      <th>article_id</th>\n",
       "      <th>score</th>\n",
       "    </tr>\n",
       "  </thead>\n",
       "  <tbody>\n",
       "    <tr>\n",
       "      <th>0</th>\n",
       "      <td>279777</td>\n",
       "      <td>96210</td>\n",
       "      <td>0.109489</td>\n",
       "    </tr>\n",
       "    <tr>\n",
       "      <th>1</th>\n",
       "      <td>29634</td>\n",
       "      <td>284773</td>\n",
       "      <td>0.469863</td>\n",
       "    </tr>\n",
       "    <tr>\n",
       "      <th>2</th>\n",
       "      <td>55</td>\n",
       "      <td>162605</td>\n",
       "      <td>1.324273</td>\n",
       "    </tr>\n",
       "  </tbody>\n",
       "</table>\n",
       "</div>"
      ],
      "text/plain": [
       "   user_id  article_id     score\n",
       "0   279777       96210  0.109489\n",
       "1    29634      284773  0.469863\n",
       "2       55      162605  1.324273"
      ]
     },
     "metadata": {},
     "output_type": "display_data"
    },
    {
     "data": {
      "text/plain": [
       "(241105, 3)"
      ]
     },
     "metadata": {},
     "output_type": "display_data"
    }
   ],
   "source": [
    "data_valid = pd.read_csv('data/data_valid.csv')\n",
    "display(data_valid.head(3), data_valid.shape)"
   ]
  },
  {
   "cell_type": "code",
   "execution_count": 4,
   "id": "308c5a47-bca5-446e-882c-dac681c6f40d",
   "metadata": {},
   "outputs": [
    {
     "data": {
      "text/plain": [
       "(297141, 28002)"
      ]
     },
     "metadata": {},
     "output_type": "display_data"
    }
   ],
   "source": [
    "data_train['user_cat_code'] = data_train['user_id'].astype('category').cat.codes\n",
    "data_train['article_cat_code'] = data_train['article_id'].astype('category').cat.codes\n",
    "\n",
    "# sparse_item_user = sparse.csr_matrix((data_train['score'].astype(float), (data_train['article_cat_code'], data_train['user_cat_code'])))\n",
    "sparse_user_item = sparse.csr_matrix((data_train['score'].astype(float), (data_train['user_cat_code'], data_train['article_cat_code'])))\n",
    "\n",
    "display(sparse_user_item.shape)"
   ]
  },
  {
   "cell_type": "code",
   "execution_count": 21,
   "id": "48b00178-f5fb-4bf8-a231-50c2b9ba39fa",
   "metadata": {},
   "outputs": [
    {
     "data": {
      "text/plain": [
       "(297141, 28002)"
      ]
     },
     "execution_count": 21,
     "metadata": {},
     "output_type": "execute_result"
    }
   ],
   "source": [
    "data_train.user_id.nunique(), data_train.article_id.nunique()"
   ]
  },
  {
   "cell_type": "code",
   "execution_count": 20,
   "id": "75ff8dc5-3c7e-4411-bafa-312f118b1065",
   "metadata": {},
   "outputs": [
    {
     "data": {
      "text/html": [
       "<div>\n",
       "<style scoped>\n",
       "    .dataframe tbody tr th:only-of-type {\n",
       "        vertical-align: middle;\n",
       "    }\n",
       "\n",
       "    .dataframe tbody tr th {\n",
       "        vertical-align: top;\n",
       "    }\n",
       "\n",
       "    .dataframe thead th {\n",
       "        text-align: right;\n",
       "    }\n",
       "</style>\n",
       "<table border=\"1\" class=\"dataframe\">\n",
       "  <thead>\n",
       "    <tr style=\"text-align: right;\">\n",
       "      <th></th>\n",
       "      <th>user_id</th>\n",
       "      <th>article_id</th>\n",
       "      <th>score</th>\n",
       "      <th>user_cat_code</th>\n",
       "      <th>article_cat_code</th>\n",
       "    </tr>\n",
       "  </thead>\n",
       "  <tbody>\n",
       "    <tr>\n",
       "      <th>0</th>\n",
       "      <td>59</td>\n",
       "      <td>234853</td>\n",
       "      <td>0.214286</td>\n",
       "      <td>58</td>\n",
       "      <td>18751</td>\n",
       "    </tr>\n",
       "    <tr>\n",
       "      <th>1</th>\n",
       "      <td>79</td>\n",
       "      <td>159359</td>\n",
       "      <td>0.215827</td>\n",
       "      <td>78</td>\n",
       "      <td>13017</td>\n",
       "    </tr>\n",
       "  </tbody>\n",
       "</table>\n",
       "</div>"
      ],
      "text/plain": [
       "   user_id  article_id     score  user_cat_code  article_cat_code\n",
       "0       59      234853  0.214286             58             18751\n",
       "1       79      159359  0.215827             78             13017"
      ]
     },
     "execution_count": 20,
     "metadata": {},
     "output_type": "execute_result"
    }
   ],
   "source": [
    "data_train.head(2)"
   ]
  },
  {
   "cell_type": "code",
   "execution_count": 24,
   "id": "afa41ef0-2f3e-4bab-8c0b-05a2a01be13c",
   "metadata": {},
   "outputs": [
    {
     "data": {
      "text/plain": [
       "(297141, 28002)"
      ]
     },
     "metadata": {},
     "output_type": "display_data"
    }
   ],
   "source": [
    "sparse_user_item.eliminate_zeros()\n",
    "sparse_user_item.data = np.ones(len(sparse_user_item.data))\n",
    "display(sparse_user_item.shape)"
   ]
  },
  {
   "cell_type": "code",
   "execution_count": 29,
   "id": "79f89018-ccf8-4885-9bd4-c0bcc826e733",
   "metadata": {},
   "outputs": [
    {
     "data": {
      "text/plain": [
       "(297141, 28002)"
      ]
     },
     "metadata": {},
     "output_type": "display_data"
    }
   ],
   "source": [
    "# sparse_item_user_bm25 = bm25_weight(sparse_item_user, K1=100, B=0.8)\n",
    "sparse_user_item_bm25 = bm25_weight(sparse_user_item, K1=100, B=0.9)\n",
    "\n",
    "# sparse_item_user_bm25 = sparse_item_user_bm25.tocsr() #.T.tocsr() \n",
    "sparse_user_item_bm25 = sparse_user_item_bm25.tocsr() #.T.tocsr() X\n",
    "#sparse_user_item_bm25 = sparse_user_item_bm25.T.tocsr()\n",
    "\n",
    "display(sparse_user_item_bm25.shape)"
   ]
  },
  {
   "cell_type": "code",
   "execution_count": 30,
   "id": "5954c15b-a174-4d0f-b992-6bb1b42c4869",
   "metadata": {},
   "outputs": [
    {
     "name": "stderr",
     "output_type": "stream",
     "text": [
      "100%|█████████████████████████████████████████████████████████████████████████████████████████████████████████████████████████████████████████████████████████████████████████████████████████████| 50/50 [05:57<00:00,  7.16s/it]\n"
     ]
    }
   ],
   "source": [
    "model_bm25 = implicit.als.AlternatingLeastSquares(\n",
    "    factors=64, \n",
    "    regularization=0.05, \n",
    "    iterations=50, \n",
    ")\n",
    "\n",
    "alpha = 40\n",
    "data_alpha_bm25 = (sparse_user_item_bm25 * alpha).astype('double')\n",
    "model_bm25.fit(data_alpha_bm25)\n",
    "\n",
    "#model_bm25.fit(sparse_user_item_bm25)"
   ]
  },
  {
   "cell_type": "raw",
   "id": "5734ebbc-2451-4982-bfb2-edf5305688ee",
   "metadata": {},
   "source": [
    "model = implicit.als.AlternatingLeastSquares(factors=20, regularization=0.1, iterations=50)\n",
    "\n",
    "alpha = 40\n",
    "data_alpha = (sparse_user_article * alpha).astype('double')\n",
    "model.fit(data_alpha)"
   ]
  },
  {
   "cell_type": "code",
   "execution_count": null,
   "id": "5f047eff-bb37-45de-8e7b-b9be2e5c3f0e",
   "metadata": {},
   "outputs": [],
   "source": []
  },
  {
   "cell_type": "raw",
   "id": "ae28c28d-787e-4dd4-82a3-6c75b1d5f587",
   "metadata": {
    "jupyter": {
     "source_hidden": true
    },
    "tags": []
   },
   "source": [
    "# Similar item - Method 1\n",
    "\n",
    "article_id = 96210\n",
    "item_id = data_train[data_train.article_id == article_id]['article_cat_code'].iloc[0]\n",
    "print(f\"article_id: {article_id} | article_cat_code: {item_id}<<<\")\n",
    "n_similar = 5\n",
    "\n",
    "user_vecs = model.user_factors\n",
    "item_vecs = model.item_factors\n",
    "\n",
    "item_norms = np.sqrt((item_vecs * item_vecs).sum(axis=1))\n",
    "\n",
    "scores = item_vecs.dot(item_vecs[item_id]) / item_norms\n",
    "top_idx = np.argpartition(scores, -(n_similar+1))[-(n_similar+1):]\n",
    "similar = sorted(zip(top_idx, scores[top_idx] / item_norms[item_id]), key=lambda x: -x[1])\n",
    "\n",
    "for item in similar:\n",
    "    code, score = item\n",
    "    idx = data_train[data_train.article_cat_code==code]['article_id'].iloc[0]\n",
    "    print(f\"catCode: {code:10} \\t article_id: {idx:10} \\t score: {score:.2f}\")"
   ]
  },
  {
   "cell_type": "code",
   "execution_count": null,
   "id": "8edf9b6a-7484-42ec-bc5e-125de3c72110",
   "metadata": {},
   "outputs": [],
   "source": []
  },
  {
   "cell_type": "code",
   "execution_count": 32,
   "id": "53bdf732-546e-45d7-8e1a-91125f59a3b2",
   "metadata": {},
   "outputs": [
    {
     "name": "stdout",
     "output_type": "stream",
     "text": [
      "article_id: 162605 | article_cat_code: 13358\n",
      "catCode:      13314 \t article_id:     162107 \t score: 0.73\n",
      "catCode:      12669 \t article_id:     156473 \t score: 0.66\n",
      "catCode:      12851 \t article_id:     157974 \t score: 0.65\n",
      "catCode:      23969 \t article_id:     300884 \t score: 0.64\n",
      "catCode:      22253 \t article_id:     283402 \t score: 0.64\n"
     ]
    }
   ],
   "source": [
    "# Similar item - Method 2\n",
    "\n",
    "article_id = 162605\n",
    "item_id = data_train[data_train.article_id == article_id]['article_cat_code'].iloc[0]\n",
    "print(f\"article_id: {article_id} | article_cat_code: {item_id}\")\n",
    "\n",
    "# Gget similar items.\n",
    "ids, scores = model_bm25.similar_items(item_id, N=5 , filter_items=[item_id]) # ⚠️ On pourrait filtrer les articles déjà lus par l'utilisateur\n",
    "\n",
    "for code, score in zip(ids, scores):\n",
    "    idx = data_train[data_train.article_cat_code==code]['article_id'].iloc[0]\n",
    "    print(f\"catCode: {code:10} \\t article_id: {idx:10} \\t score: {score:.2f}\")"
   ]
  },
  {
   "cell_type": "markdown",
   "id": "f5618436-bb55-426b-b648-7106400026aa",
   "metadata": {},
   "source": [
    "> ### ⚠️⚠️⚠️ Pour l'évaluation on pourrait utiliser la proximité des embeddings correspondant"
   ]
  },
  {
   "cell_type": "code",
   "execution_count": 171,
   "id": "787ff9cf-1733-403f-9651-73434567581c",
   "metadata": {},
   "outputs": [
    {
     "data": {
      "text/plain": [
       "array([[10381,  8217, 12240, 13017, 16531]], dtype=int32)"
      ]
     },
     "metadata": {},
     "output_type": "display_data"
    },
    {
     "data": {
      "text/plain": [
       "(1, 5)"
      ]
     },
     "metadata": {},
     "output_type": "display_data"
    },
    {
     "data": {
      "text/plain": [
       "array([[0.95670205, 0.8148098 , 0.8054829 , 0.7729543 , 0.76639163]],\n",
       "      dtype=float32)"
      ]
     },
     "metadata": {},
     "output_type": "display_data"
    },
    {
     "data": {
      "text/plain": [
       "(1, 5)"
      ]
     },
     "metadata": {},
     "output_type": "display_data"
    }
   ],
   "source": [
    "# Make recommendations for the first 10 users in the dataset\n",
    "userids = [59] # np.arange(10)\n",
    "codes, scores = model_bm25.recommend(userids, sparse_user_item_bm25[userids], N=5, filter_already_liked_items=True) \n",
    "display(codes, codes.shape, scores, scores.shape) ## les scores ne devraient ils pas être sous 1 ?"
   ]
  },
  {
   "cell_type": "code",
   "execution_count": null,
   "id": "4e342910-c5b3-430a-ac92-bf052ae1bbb7",
   "metadata": {},
   "outputs": [],
   "source": []
  },
  {
   "cell_type": "code",
   "execution_count": null,
   "id": "e409e910-7e7f-44dc-8b96-4bfc4b610299",
   "metadata": {},
   "outputs": [],
   "source": []
  },
  {
   "cell_type": "code",
   "execution_count": null,
   "id": "b5417ed5-9726-4ded-94e2-598a90fa2b37",
   "metadata": {},
   "outputs": [],
   "source": []
  },
  {
   "cell_type": "code",
   "execution_count": null,
   "id": "ef3f0d10-6e3e-46fd-90f3-01f3c504bb8e",
   "metadata": {},
   "outputs": [],
   "source": []
  },
  {
   "cell_type": "code",
   "execution_count": 9,
   "id": "fa1911e9-824f-435c-a0d4-924a6c7e72e4",
   "metadata": {},
   "outputs": [
    {
     "data": {
      "text/plain": [
       "(84041, 7576)"
      ]
     },
     "metadata": {},
     "output_type": "display_data"
    }
   ],
   "source": [
    "data_valid['user_cat_code'] = data_valid['user_id'].astype('category').cat.codes\n",
    "data_valid['article_cat_code'] = data_valid['article_id'].astype('category').cat.codes\n",
    "\n",
    "#valid_sparse_item_user = sparse.csr_matrix((data_valid['score'].astype(float), (data_valid['article_cat_code'], data_valid['user_cat_code'])))\n",
    "valid_sparse_user_item = sparse.csr_matrix((data_valid['score'].astype(float), (data_valid['user_cat_code'], data_valid['article_cat_code'])))\n",
    "\n",
    "display(valid_sparse_user_item.shape)"
   ]
  },
  {
   "cell_type": "code",
   "execution_count": 10,
   "id": "4762bb74-e89d-4cbf-8d0b-66fcf79ec6a7",
   "metadata": {},
   "outputs": [
    {
     "data": {
      "text/plain": [
       "(84041, 7576)"
      ]
     },
     "metadata": {},
     "output_type": "display_data"
    }
   ],
   "source": [
    "# valid_sparse_item_user_bm25 = bm25_weight(valid_sparse_item_user, K1=100, B=0.8)\n",
    "valid_sparse_user_item_bm25 = bm25_weight(valid_sparse_user_item, K1=100, B=0.8)\n",
    "\n",
    "# valid_sparse_item_user_bm25 = valid_sparse_item_user_bm25.tocsr()  #.T.tocsr()\n",
    "valid_sparse_user_item_bm25 = valid_sparse_user_item_bm25.tocsr()  #.T.tocsr() X\n",
    "\n",
    "display(valid_sparse_user_item_bm25.shape)"
   ]
  },
  {
   "cell_type": "code",
   "execution_count": null,
   "id": "31638ba3-e763-4cb5-88b4-42982eb81d3c",
   "metadata": {},
   "outputs": [],
   "source": []
  },
  {
   "cell_type": "code",
   "execution_count": 11,
   "id": "2f66ed6d-4839-4cf2-9214-a1bc4b45ff3f",
   "metadata": {},
   "outputs": [
    {
     "name": "stderr",
     "output_type": "stream",
     "text": [
      "100%|█████████████████████████████████████████████████████████████████████████████████████████████████████████████████████████████████████████████████████████████████████████████████████| 84041/84041 [00:26<00:00, 3148.30it/s]\n"
     ]
    },
    {
     "data": {
      "text/plain": [
       "3.6807431293455975e-05"
      ]
     },
     "execution_count": 11,
     "metadata": {},
     "output_type": "execute_result"
    }
   ],
   "source": [
    "evaluation.mean_average_precision_at_k(model_bm25, sparse_user_item_bm25, valid_sparse_user_item_bm25, K=5, show_progress=True, num_threads=1)"
   ]
  },
  {
   "cell_type": "code",
   "execution_count": null,
   "id": "6fe9c9a5-ff5a-483e-a837-b26ef263cd7a",
   "metadata": {},
   "outputs": [],
   "source": []
  },
  {
   "cell_type": "code",
   "execution_count": 12,
   "id": "729fcdf3-7d51-4073-8022-45c45e4400a6",
   "metadata": {},
   "outputs": [
    {
     "name": "stderr",
     "output_type": "stream",
     "text": [
      "100%|█████████████████████████████████████████████████████████████████████████████████████████████████████████████████████████████████████████████████████████████████████████████████████| 84041/84041 [00:25<00:00, 3273.48it/s]\n"
     ]
    },
    {
     "data": {
      "text/plain": [
       "7.206724289875208e-05"
      ]
     },
     "execution_count": 12,
     "metadata": {},
     "output_type": "execute_result"
    }
   ],
   "source": [
    "evaluation.ndcg_at_k(model_bm25, sparse_user_item_bm25, valid_sparse_user_item_bm25, K=5, show_progress=True, num_threads=1)"
   ]
  },
  {
   "cell_type": "code",
   "execution_count": null,
   "id": "32fb623e-237f-4dcb-965c-a0be392878fa",
   "metadata": {},
   "outputs": [],
   "source": []
  },
  {
   "cell_type": "code",
   "execution_count": 13,
   "id": "95e38e5a-794d-400f-a450-0c9755623c3a",
   "metadata": {},
   "outputs": [
    {
     "name": "stderr",
     "output_type": "stream",
     "text": [
      "100%|█████████████████████████████████████████████████████████████████████████████████████████████████████████████████████████████████████████████████████████████████████████████████████| 84041/84041 [00:26<00:00, 3183.82it/s]\n"
     ]
    },
    {
     "data": {
      "text/plain": [
       "0.00013131010720157153"
      ]
     },
     "execution_count": 13,
     "metadata": {},
     "output_type": "execute_result"
    }
   ],
   "source": [
    "evaluation.precision_at_k(model_bm25, sparse_user_item_bm25, valid_sparse_user_item_bm25, K=5, show_progress=True, num_threads=1)"
   ]
  },
  {
   "cell_type": "code",
   "execution_count": null,
   "id": "4304072a-8414-465e-b565-10079b2b14a4",
   "metadata": {},
   "outputs": [],
   "source": []
  },
  {
   "cell_type": "code",
   "execution_count": null,
   "id": "69cd9fe1-22a9-491e-8131-6e56f0070ace",
   "metadata": {},
   "outputs": [],
   "source": []
  },
  {
   "cell_type": "code",
   "execution_count": null,
   "id": "62e57339-97fe-427f-bc31-41dad586a540",
   "metadata": {},
   "outputs": [],
   "source": []
  },
  {
   "cell_type": "code",
   "execution_count": 14,
   "id": "e7df3c23-a6ed-4603-94f2-783fe21e4d8e",
   "metadata": {},
   "outputs": [
    {
     "data": {
      "text/plain": [
       "(297141, 84041)"
      ]
     },
     "execution_count": 14,
     "metadata": {},
     "output_type": "execute_result"
    }
   ],
   "source": [
    "data_train.user_id.nunique(), data_valid.user_id.nunique()"
   ]
  },
  {
   "cell_type": "code",
   "execution_count": 15,
   "id": "507b9016-68c6-47a1-b86b-ec7ffc2ec8e3",
   "metadata": {},
   "outputs": [
    {
     "data": {
      "text/plain": [
       "(28002, 7576)"
      ]
     },
     "execution_count": 15,
     "metadata": {},
     "output_type": "execute_result"
    }
   ],
   "source": [
    "data_train.article_id.nunique(), data_valid.article_id.nunique()"
   ]
  },
  {
   "cell_type": "code",
   "execution_count": null,
   "id": "9bf86901-0fc3-4360-8cce-94f7976093c0",
   "metadata": {},
   "outputs": [],
   "source": []
  },
  {
   "cell_type": "code",
   "execution_count": null,
   "id": "94033f4c-b728-41ef-8a5b-b623f8044a17",
   "metadata": {},
   "outputs": [],
   "source": []
  },
  {
   "cell_type": "code",
   "execution_count": null,
   "id": "bfd0cc7b-9406-4262-94e2-10781ca5ff0f",
   "metadata": {},
   "outputs": [
    {
     "data": {
      "text/plain": [
       "(1577295,)"
      ]
     },
     "execution_count": 17,
     "metadata": {},
     "output_type": "execute_result"
    }
   ],
   "source": [
    "data_train.user_id.shape"
   ]
  },
  {
   "cell_type": "markdown",
   "id": "8465203b-0c05-4f60-9607-2b78f6ab942d",
   "metadata": {},
   "source": [
    "# 2. Content Based Filtering"
   ]
  },
  {
   "cell_type": "markdown",
   "id": "e756a876-7dab-46ae-93e3-31d2014d6715",
   "metadata": {},
   "source": [
    "articles_embeddings.pickle Pickle (Python 3) of a NumPy matrix containing the Article Content Embeddings (250-dimensional vectors), trained upon articles' text and metadata by the CHAMELEON's ACR module (see paper for details) for 364047 published articles.\n",
    "P.s. The full text of news articles could not be provided due to license restrictions, but those embeddings can be used by Neural Networks to represent their content. See this paper for a t-SNE visualization of these embeddings, colored by category."
   ]
  },
  {
   "cell_type": "markdown",
   "id": "015381ee-ac66-4984-8ffd-3703954c7187",
   "metadata": {},
   "source": [
    "### Chargons les embeddings"
   ]
  },
  {
   "cell_type": "code",
   "execution_count": null,
   "id": "ede8ce6e-3345-4a28-8d28-b0921f0bb3bb",
   "metadata": {},
   "outputs": [],
   "source": [
    "file = open('data/news-portal-user-interactions-by-globocom/articles_embeddings.pickle',\"rb\")\n",
    "article_embedding = pickle.load(file)"
   ]
  },
  {
   "cell_type": "code",
   "execution_count": null,
   "id": "5a882fa2-99bc-4093-b048-f23687abf86f",
   "metadata": {},
   "outputs": [
    {
     "data": {
      "text/plain": [
       "array([[-0.16118301, -0.95723313, -0.13794445, ..., -0.231686  ,\n",
       "         0.5974159 ,  0.40962312],\n",
       "       [-0.52321565, -0.974058  ,  0.73860806, ...,  0.18282819,\n",
       "         0.39708954, -0.83436364],\n",
       "       [-0.61961854, -0.9729604 , -0.20736018, ..., -0.44758022,\n",
       "         0.8059317 , -0.28528407],\n",
       "       ...,\n",
       "       [-0.25139043, -0.9762427 ,  0.58609664, ..., -0.14372464,\n",
       "         0.06809307, -0.7050104 ],\n",
       "       [ 0.22434181, -0.92328775, -0.38174152, ...,  0.6871319 ,\n",
       "        -0.5315117 ,  0.01072566],\n",
       "       [-0.25713393, -0.9946313 ,  0.9837918 , ...,  0.98387307,\n",
       "        -0.8381829 , -0.1792827 ]], dtype=float32)"
      ]
     },
     "metadata": {},
     "output_type": "display_data"
    },
    {
     "data": {
      "text/plain": [
       "(364047, 250)"
      ]
     },
     "metadata": {},
     "output_type": "display_data"
    }
   ],
   "source": [
    "display(article_embedding, article_embedding.shape)"
   ]
  },
  {
   "cell_type": "markdown",
   "id": "3a9a55a8-3347-4847-b0da-e181838ab305",
   "metadata": {},
   "source": [
    "### Test: Calculons la cosine similarité entre deux vecteurs"
   ]
  },
  {
   "cell_type": "code",
   "execution_count": null,
   "id": "26a64e5b-5197-4a4b-8ac0-de89865d7304",
   "metadata": {},
   "outputs": [],
   "source": [
    "A = article_embedding[162605]\n",
    "B = article_embedding[300884]"
   ]
  },
  {
   "cell_type": "code",
   "execution_count": null,
   "id": "2613ed2b-27ec-4f57-b32d-0731fd64f90a",
   "metadata": {},
   "outputs": [
    {
     "name": "stdout",
     "output_type": "stream",
     "text": [
      "Cosine Similarity: 0.04703806\n"
     ]
    }
   ],
   "source": [
    "cosine_similarity = np.dot(A,B)/(norm(A)*norm(B))\n",
    "print(\"Cosine Similarity:\", cosine_similarity)"
   ]
  },
  {
   "cell_type": "markdown",
   "id": "24ee5380-5f3f-4d02-bf01-2f66ff4c669f",
   "metadata": {},
   "source": [
    "### Trouvons les articles lus par un utilisateur donnée"
   ]
  },
  {
   "cell_type": "code",
   "execution_count": 287,
   "id": "58772731-0d5a-4bc1-af62-aa6a52f7418c",
   "metadata": {},
   "outputs": [
    {
     "name": "stdout",
     "output_type": "stream",
     "text": [
      "288440\n",
      "337441\n",
      "202476\n",
      "250043\n",
      "284583\n"
     ]
    }
   ],
   "source": [
    "user_id = 20137\n",
    "history_size = 5\n",
    "\n",
    "def get_mean_vector(articles_idx, verbose=1):\n",
    "    \n",
    "    mean_vector = np.zeros(article_embedding[0].shape)\n",
    "    for article_id in articles_idx:\n",
    "        if verbose > 0:\n",
    "            print(article_id)\n",
    "        mean_vector += article_embedding[article_id]\n",
    "    mean_vector /= len(articles_idx)\n",
    "    return mean_vector\n",
    "\n",
    "last_articles_idx = data_train[data_train.user_id == user_id]['article_id'].iloc[-history_size:].values #.sort_values('click_timestamp')\n",
    "mean_vector = get_mean_vector(last_articles_idx)"
   ]
  },
  {
   "cell_type": "markdown",
   "id": "121247b4-6ce3-4463-864d-c57f2a0acfeb",
   "metadata": {},
   "source": [
    "### Calculons la similarité de ce vector avec les autres articles"
   ]
  },
  {
   "cell_type": "code",
   "execution_count": 288,
   "id": "fd8ffb0d-d5a9-4821-a020-26d74530fabf",
   "metadata": {},
   "outputs": [
    {
     "name": "stdout",
     "output_type": "stream",
     "text": [
      "A: (364047, 250) B: (250,) \n",
      "\n",
      "Cosine Similarity: [0.32582364 0.27835361 0.31348326 ... 0.38568463 0.27425226 0.42668363] (364047,)\n"
     ]
    }
   ],
   "source": [
    "A = article_embedding\n",
    "#### ICI on drop les articles déjà lus par l'utilisateur\n",
    "B = mean_vector\n",
    "print(\"A:\", A.shape, \"B:\", B.shape, '\\n')\n",
    " \n",
    "# compute cosine similarity\n",
    "cosine = np.dot(A,B)/(norm(A, axis=1)*norm(B))\n",
    "print(\"Cosine Similarity:\", cosine, cosine.shape)"
   ]
  },
  {
   "cell_type": "markdown",
   "id": "e7913df9-60a3-4721-bbfb-5ebe63d0b36b",
   "metadata": {},
   "source": [
    "### Recommandons 5 articles à l'utilisateur"
   ]
  },
  {
   "cell_type": "code",
   "execution_count": 289,
   "id": "c09a9825-0b89-45e3-ad6f-e3c3d562fc3e",
   "metadata": {},
   "outputs": [
    {
     "data": {
      "text/html": [
       "<div>\n",
       "<style scoped>\n",
       "    .dataframe tbody tr th:only-of-type {\n",
       "        vertical-align: middle;\n",
       "    }\n",
       "\n",
       "    .dataframe tbody tr th {\n",
       "        vertical-align: top;\n",
       "    }\n",
       "\n",
       "    .dataframe thead th {\n",
       "        text-align: right;\n",
       "    }\n",
       "</style>\n",
       "<table border=\"1\" class=\"dataframe\">\n",
       "  <thead>\n",
       "    <tr style=\"text-align: right;\">\n",
       "      <th></th>\n",
       "      <th>article_id</th>\n",
       "      <th>cosine_sim</th>\n",
       "    </tr>\n",
       "  </thead>\n",
       "  <tbody>\n",
       "    <tr>\n",
       "      <th>0</th>\n",
       "      <td>284768</td>\n",
       "      <td>0.830968</td>\n",
       "    </tr>\n",
       "    <tr>\n",
       "      <th>1</th>\n",
       "      <td>345593</td>\n",
       "      <td>0.821919</td>\n",
       "    </tr>\n",
       "    <tr>\n",
       "      <th>2</th>\n",
       "      <td>285424</td>\n",
       "      <td>0.821205</td>\n",
       "    </tr>\n",
       "    <tr>\n",
       "      <th>3</th>\n",
       "      <td>345566</td>\n",
       "      <td>0.818335</td>\n",
       "    </tr>\n",
       "    <tr>\n",
       "      <th>4</th>\n",
       "      <td>283576</td>\n",
       "      <td>0.816523</td>\n",
       "    </tr>\n",
       "  </tbody>\n",
       "</table>\n",
       "</div>"
      ],
      "text/plain": [
       "   article_id  cosine_sim\n",
       "0      284768    0.830968\n",
       "1      345593    0.821919\n",
       "2      285424    0.821205\n",
       "3      345566    0.818335\n",
       "4      283576    0.816523"
      ]
     },
     "execution_count": 289,
     "metadata": {},
     "output_type": "execute_result"
    }
   ],
   "source": [
    "def predict_articles(cosine, pred_size=5):\n",
    "    cos = pd.DataFrame(cosine, columns=['cosine_sim'])\n",
    "    selection = cos.sort_values('cosine_sim', ascending=False)[:pred_size]\n",
    "    selection.reset_index(inplace=True)\n",
    "    selection.rename(columns={'index':'article_id'}, inplace=True)\n",
    "    return selection\n",
    "\n",
    "pred = predict_articles(cosine, 5)\n",
    "pred"
   ]
  },
  {
   "cell_type": "markdown",
   "id": "b7e8c518-a529-4525-b41d-95d90eceda67",
   "metadata": {},
   "source": [
    "### Comparons avec les articles consultés par cet utilisateur dans le validation_set"
   ]
  },
  {
   "cell_type": "code",
   "execution_count": 290,
   "id": "f3a35220-61ce-49f0-b228-9a28a2dae237",
   "metadata": {},
   "outputs": [
    {
     "name": "stdout",
     "output_type": "stream",
     "text": [
      "284768\n",
      "345593\n",
      "285424\n",
      "345566\n",
      "283576\n"
     ]
    }
   ],
   "source": [
    "mean_vector_predicted = get_mean_vector(pred.article_id)"
   ]
  },
  {
   "cell_type": "code",
   "execution_count": 291,
   "id": "d6ed69f1-33bc-4eec-b289-59593d8a8642",
   "metadata": {},
   "outputs": [
    {
     "name": "stdout",
     "output_type": "stream",
     "text": [
      "225010\n",
      "313920\n",
      "236566\n",
      "285675\n",
      "271061\n",
      "199474\n",
      "162378\n",
      "87215\n",
      "87560\n",
      "87552\n",
      "87555\n",
      "87552\n",
      "87554\n",
      "87215\n",
      "87181\n",
      "87199\n",
      "206785\n",
      "285849\n",
      "289003\n",
      "336254\n",
      "157478\n",
      "206415\n",
      "209122\n",
      "205958\n",
      "205824\n",
      "50644\n",
      "224730\n",
      "30760\n"
     ]
    }
   ],
   "source": [
    "viewed = data_valid[data_valid.user_id == user_id]['article_id'].values\n",
    "mean_vector_viewed = get_mean_vector(viewed)"
   ]
  },
  {
   "cell_type": "markdown",
   "id": "02cda967-9481-43e3-bcaa-b8b1ee7fe043",
   "metadata": {},
   "source": [
    "#### Similarité entre les articles lus dans le `valid_set` et les articles prédis"
   ]
  },
  {
   "cell_type": "code",
   "execution_count": 292,
   "id": "7722f7d1-44aa-46cf-b481-e2ca4bbbd9b3",
   "metadata": {},
   "outputs": [
    {
     "name": "stdout",
     "output_type": "stream",
     "text": [
      "Cosine Similarity: 0.7175413733059302\n"
     ]
    }
   ],
   "source": [
    "def get_cosine_similarity(A, B):\n",
    "    return np.dot(A,B)/(norm(A)*norm(B))\n",
    "\n",
    "cosine_similarity = get_cosine_similarity(mean_vector_predicted, mean_vector_viewed)\n",
    "print(\"Cosine Similarity:\", cosine_similarity)"
   ]
  },
  {
   "cell_type": "markdown",
   "id": "da39fb3c-3608-4e6a-9014-84f17ac57af7",
   "metadata": {},
   "source": [
    "#### Similarité entre les articles lus dans le `train_set` et les articles lus dans le `valid_set`"
   ]
  },
  {
   "cell_type": "code",
   "execution_count": 293,
   "id": "aeca73cf-904d-488f-803a-61cb905d0718",
   "metadata": {},
   "outputs": [
    {
     "name": "stdout",
     "output_type": "stream",
     "text": [
      "Cosine Similarity: 0.798493936241232\n"
     ]
    }
   ],
   "source": [
    "cosine_similarity = get_cosine_similarity(mean_vector, mean_vector_viewed)\n",
    "print(\"Cosine Similarity:\", cosine_similarity)"
   ]
  },
  {
   "cell_type": "markdown",
   "id": "bf776be1-3841-45f8-b52f-5ca152b62a48",
   "metadata": {},
   "source": [
    "### RMSE entre la moyenne des embeddings des articles prédits et la moyenne des embeddings des articles lus"
   ]
  },
  {
   "cell_type": "code",
   "execution_count": 294,
   "id": "f404c005-79d9-4933-b207-ea9d75a8b811",
   "metadata": {},
   "outputs": [
    {
     "data": {
      "text/plain": [
       "0.315302836858221"
      ]
     },
     "execution_count": 294,
     "metadata": {},
     "output_type": "execute_result"
    }
   ],
   "source": [
    "ml_metrics.rmse(mean_vector_viewed, mean_vector_predicted)"
   ]
  },
  {
   "cell_type": "code",
   "execution_count": null,
   "id": "442a4477-3487-40cd-80af-7723ed846266",
   "metadata": {},
   "outputs": [],
   "source": []
  },
  {
   "cell_type": "code",
   "execution_count": 312,
   "id": "872f4bf4-084a-41e6-b0d7-acb46c26fcf9",
   "metadata": {},
   "outputs": [],
   "source": [
    "cosine_pred_viewed = []\n",
    "cosine_hist_viewed = []\n",
    "# rmse_pred_viewed = []\n",
    "mean_vectors_viewed = []\n",
    "mean_vectors_predicted = []\n",
    "\n",
    "for user_id in data_valid.user_id[:1000]:\n",
    "    # print(user_id)\n",
    "    last_articles_idx = data_train[data_train.user_id == user_id]['article_id'].iloc[-history_size:].values #.sort_values('click_timestamp')\n",
    "    mean_vector_hist = get_mean_vector(last_articles_idx, verbose=0)\n",
    "    \n",
    "    A = article_embedding\n",
    "    B = mean_vector_hist\n",
    "    cosine = np.dot(A,B)/(norm(A, axis=1)*norm(B))\n",
    "    \n",
    "    pred = predict_articles(cosine, 5)\n",
    "    mean_vector_pred = get_mean_vector(pred.article_id, verbose=0)\n",
    "    \n",
    "    viewed = data_valid[data_valid.user_id == user_id]['article_id'].values\n",
    "    mean_vector_viewed = get_mean_vector(viewed, verbose=0)\n",
    "    \n",
    "    cosine_similarity_pred_viewed = get_cosine_similarity(mean_vector_pred, mean_vector_viewed)\n",
    "    cosine_similarity_hist_viewed = get_cosine_similarity(mean_vector_hist, mean_vector_viewed)\n",
    "    # print(f\"Cosine Similarity :: pred/viewed={cosine_similarity_pred_viewed} | hist/viewed={cosine_similarity_hist_viewed}\")\n",
    "    #rmse = ml_metrics.rmse(mean_vector_viewed, mean_vector_predicted)\n",
    "    \n",
    "    cosine_pred_viewed.append(cosine_similarity_pred_viewed)\n",
    "    cosine_hist_viewed.append(cosine_similarity_hist_viewed)\n",
    "    #rmse_pred_viewed.append(rmse)\n",
    "    mean_vectors_viewed.append(mean_vector_viewed)\n",
    "    mean_vectors_predicted.append(mean_vector_predicted)"
   ]
  },
  {
   "cell_type": "code",
   "execution_count": 313,
   "id": "35e03ce0-aa90-4de9-9747-8f9cbb90b208",
   "metadata": {},
   "outputs": [
    {
     "name": "stdout",
     "output_type": "stream",
     "text": [
      "MEAN Cosine Similarity :: pred/viewed=0.526694617616008 | hist/viewed=0.5662065310553823\n",
      "RMSE :: pred/viewed=0.42283893207973633\n"
     ]
    }
   ],
   "source": [
    "print(f\"MEAN Cosine Similarity :: pred/viewed={np.mean(cosine_pred_viewed)} | hist/viewed={np.mean(cosine_hist_viewed)}\")\n",
    "#print(f\"RMSE :: pred/viewed={np.mean(rmse_pred_viewed)}\")\n",
    "print(f\"RMSE :: pred/viewed={ml_metrics.rmse(mean_vectors_viewed, mean_vectors_predicted)}\")"
   ]
  },
  {
   "cell_type": "code",
   "execution_count": null,
   "id": "0332eb5b-f44b-4b5f-b8f1-222d40ff5ffa",
   "metadata": {},
   "outputs": [],
   "source": []
  },
  {
   "cell_type": "code",
   "execution_count": null,
   "id": "6f688642-7cf9-4e81-95b4-81f31dc5444e",
   "metadata": {},
   "outputs": [],
   "source": []
  },
  {
   "cell_type": "code",
   "execution_count": null,
   "id": "91ebb33a-5823-42bd-94df-afed13c52244",
   "metadata": {},
   "outputs": [],
   "source": []
  },
  {
   "cell_type": "code",
   "execution_count": null,
   "id": "0bdda2c8-2b91-47a4-9a5a-880df5700b3d",
   "metadata": {},
   "outputs": [
    {
     "data": {
      "text/plain": [
       "0         279777\n",
       "1          29634\n",
       "2             55\n",
       "3          20137\n",
       "4         152940\n",
       "           ...  \n",
       "241100    243409\n",
       "241101    215206\n",
       "241102    201738\n",
       "241103    201738\n",
       "241104    252642\n",
       "Name: user_id, Length: 241105, dtype: int64"
      ]
     },
     "execution_count": 160,
     "metadata": {},
     "output_type": "execute_result"
    }
   ],
   "source": [
    "data_valid.user_id"
   ]
  },
  {
   "cell_type": "code",
   "execution_count": null,
   "id": "bd8ba360-88e2-43b0-bc7a-d1e901edf41e",
   "metadata": {},
   "outputs": [],
   "source": []
  }
 ],
 "metadata": {
  "kernelspec": {
   "display_name": "venvP9",
   "language": "python",
   "name": "venvp9"
  },
  "language_info": {
   "codemirror_mode": {
    "name": "ipython",
    "version": 3
   },
   "file_extension": ".py",
   "mimetype": "text/x-python",
   "name": "python",
   "nbconvert_exporter": "python",
   "pygments_lexer": "ipython3",
   "version": "3.8.10"
  }
 },
 "nbformat": 4,
 "nbformat_minor": 5
}
